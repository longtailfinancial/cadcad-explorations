{
 "cells": [
  {
   "cell_type": "markdown",
   "metadata": {},
   "source": [
    "# 11.7. Creating a sound synthesizer in the Notebook"
   ]
  },
  {
   "cell_type": "code",
   "execution_count": 34,
   "metadata": {},
   "outputs": [],
   "source": [
    "import numpy as np\n",
    "import matplotlib.pyplot as plt\n",
    "from IPython.display import (\n",
    "    Audio, display, clear_output)\n",
    "from ipywidgets import widgets\n",
    "from functools import partial\n",
    "%matplotlib inline"
   ]
  },
  {
   "cell_type": "code",
   "execution_count": 35,
   "metadata": {},
   "outputs": [],
   "source": [
    "rate = 16000.\n",
    "duration = .25\n",
    "t = np.linspace(\n",
    "    0., duration, int(rate * duration))"
   ]
  },
  {
   "cell_type": "code",
   "execution_count": 48,
   "metadata": {},
   "outputs": [],
   "source": [
    "def synth(f):\n",
    "    x = np.sin(f * 2. * np.pi * t)\n",
    "    display(Audio(x, rate=rate, autoplay=True))"
   ]
  },
  {
   "cell_type": "code",
   "execution_count": 49,
   "metadata": {
    "podoc": {
     "output_text": "Sound widget"
    }
   },
   "outputs": [
    {
     "data": {
      "text/html": [
       "\n",
       "                <audio  controls=\"controls\" autoplay=\"autoplay\">\n",
       "                    <source src=\"data:audio/wav;base64,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\" type=\"audio/wav\" />\n",
       "                    Your browser does not support the audio element.\n",
       "                </audio>\n",
       "              "
      ],
      "text/plain": [
       "<IPython.lib.display.Audio object>"
      ]
     },
     "metadata": {},
     "output_type": "display_data"
    }
   ],
   "source": [
    "synth(440)"
   ]
  },
  {
   "cell_type": "code",
   "execution_count": 50,
   "metadata": {},
   "outputs": [],
   "source": [
    "notes = 'C,C#,D,D#,E,F,F#,G,G#,A,A#,B,C'.split(',')\n",
    "freqs = 440. * 2**(np.arange(3, 3 + len(notes)) / 12.)\n",
    "notes = list(zip(notes, freqs))"
   ]
  },
  {
   "cell_type": "code",
   "execution_count": 54,
   "metadata": {
    "podoc": {
     "output_text": "Synthesizer in the notebook"
    }
   },
   "outputs": [
    {
     "data": {
      "application/vnd.jupyter.widget-view+json": {
       "model_id": "d308e00bbe764e04a42ce167eeeaa1c4",
       "version_major": 2,
       "version_minor": 0
      },
      "text/plain": [
       "Box(children=(Button(description='C', layout=Layout(border='1px solid black', height='60px', width='30px'), st…"
      ]
     },
     "metadata": {},
     "output_type": "display_data"
    }
   ],
   "source": [
    "layout = widgets.Layout(\n",
    "    width='30px', height='60px',\n",
    "    border='1px solid black')\n",
    "\n",
    "buttons = []\n",
    "for note, f in notes:\n",
    "    button = widgets.Button(\n",
    "        description=note, layout=layout)\n",
    "\n",
    "    def on_button_clicked(f, b):\n",
    "        # When a button is clicked, we play the sound\n",
    "        # in a dedicated Output widget.\n",
    "#         with widgets.Output():\n",
    "        synth(f)\n",
    "\n",
    "    button.on_click(partial(on_button_clicked, f))\n",
    "    buttons.append(button)\n",
    "\n",
    "# We place all buttons horizontally.\n",
    "widgets.Box(children=buttons)"
   ]
  },
  {
   "cell_type": "code",
   "execution_count": 55,
   "metadata": {},
   "outputs": [],
   "source": [
    "c = buttons[0]"
   ]
  },
  {
   "cell_type": "code",
   "execution_count": 56,
   "metadata": {},
   "outputs": [
    {
     "data": {
      "text/html": [
       "\n",
       "                <audio  controls=\"controls\" autoplay=\"autoplay\">\n",
       "                    <source src=\"data:audio/wav;base64,UklGRmQfAABXQVZFZm10IBAAAAABAAEAgD4AAAB9AAACABAAZGF0YUAfAAAAAB8aJTMDSsRdk23FeOF+pn8Me0NxtmIBUO45ayF/B0Tt0tM7vH+nfZbsiVOCBYAag3GLsJhIqny/Z9cI8UkLESVKPe9SFmX7cgl8339TfnV3kGskW+JGpC9kFjT8LOJmyeyysJ+DkAeGrYCwgA6Gj5DAn/+yfMlE4kz8fBa6L/ZGNVuda353V37efwN88HIHZd1SNT36JDEL8PBQ12e/NqqhmGeLFYMFgFiC9YmLlpGnULzo01ztlweCIQM6FFDFYk5xEnuof95+vXiHbbRd8EkPMwca6P/K5cXM6bUromGSM4ccgVyA+4TIjlmdErAoxq3emfjUEkUs2UOSWJBpHXaxfft/4XyFdEJnplVvQIIo4A6f9NjaoML/rNya+ozxgyCAsYGUiH2U7aQyuXPQtOnkA+sdsDYnTWBgiW8BelV/Tn/reWVvMGDuTG82pR2cA23pMND2uLqkVpR6iKWBI4AChBqNCJs2reDCHdvn9CgPxyiuQNxVbWejdPF8/H+jfQF2Z2leWJxDASyMElH4Z97nxdmvLJ2njueEVoAlgUuHhpJcoiS2B80Q5jAAThpRMytK5V2sbdV4536jf/56LXGXYttPwzk8IU8HFO2k0xK8XadiltqJSoIGgCSDhYvMmGyqpb+V1zjxeQs/JXU9FFMzZRBzFXzhf0t+ZHd2awJbukZ3LzUWBPz94TrJxbKRn2uQ+IWogLWAHYamkOCfJbOnyXPifPyrFucvHkdXW7drj3deftx/+HvbculkuFILPcwkAQvA8CPXPb8SqoWYU4sKgwSAYYIIiqaWtKd5vBXUi+3HB7AhLjo5UORiZXEfe6t/2H6teG5tk13ISeIy2Bm4/5rlmczCtQqiSJIjhxWBX4AIhd+OeJ03sFPG297J+AQTciwCRLVYrGkwdrp9+n/WfHF0JmeDVUZAVCiwDm/0qdp2wtqsvprljOWDHoC5gaWIl5QPpVq5n9Dj6RQEGh7bNk5Nf2Chbw96Wn9Jf9x5Tm8QYMdMQzZ2HWsDPekD0M64mKQ8lGiInoElgA6EL40mm1utCsNL2xf1WA/0KNdAAFaJZ7d0+3z8f5p973VMaTtYc0PUK10SIfg43rzFtK8NnZCO2oRTgCyBW4efkn2iS7Y0zT/mYAB9Gn0zUkoGXsVt5Xjufp9/8XoWcXhitk+YOQ4hHwfl7HfT6rs6p0eWx4lBggeAL4OZi+mYj6rPv8LXZ/GpC24lnz04U1FlJXMhfON/Q35Sd1xr4FqSRkovBRbU+8/hD8mfsnGfVJDqhaOAuoArhr6QAKBMs9PJoeKt/NsWEzBGR3hb0Wugd2Z+2n/se8ZyzGSTUuE8niTRCpDw9dYUv++paZg/iwCDBIBrghuKwpbXp6K8Q9S77fcH3yFZOl9QAmN7cSx7r3/Rfp14VW1yXaFJtjKpGYj/a+VtzJu16qEvkhSHD4FjgBaF9Y6XnV2wfsYK3/n4MxOfLCtE11jHaUJ2w335f8x8XXQJZ19VHEAnKIEOP/R72kzCtqyhmtCM2YMcgMGBtoixlDGlg7nM0BLqRARJHgc3dE2fYLhvHnpff0R/zXk2b/BfoUwXNkcdOwMO6dbPprh3pCKUV4iWgSiAG4RFjUObf601w3nbR/WIDyIpAUEjVqVny3QFff1/kX3cdTFpGFhKQ6crLRLx9wrekcWOr+6ceo7NhFCAMoFrh7iSnqJztmDNb+aQAKwaqTN5Side3W30ePR+m3/jev9wWmKQT2053yDvBrXsStPBuxenLJa1iTiCCIA6g62LBZmzqvm/8NeX8dkLnCXJPV1TbmU6cy185X87fkF3Qmu+WmlGHS/WFaT7oOHjyHmyUZ88kNuFn4C/gDqG1pAgoHOz/snQ4t38ChdAMG5Hmlvra7F3bn7Xf997sXKuZG5StjxwJKEKYPDH1uq+y6lMmCuL9YIDgHSCLordlvqny7xw1OvtJwgNIoQ6hFAhY5FxOnuyf8p+jXg8bVFdekmKMnoZWP885UHMc7XJoRaSBIcJgWeAI4UMj7adg7CpxjjfKfljE80sU0T6WOJpVXbMffh/wXxJdO1mO1XyP/knUQ4P9E3aIsKRrIOau4zNgxqAyYHIiMyUU6WrufnQQup0BHgeMjebTb5g0G8semR/P3++eR5v0F96TOw1GB0LA97oqs9+uFWkCJRGiI+BKoAnhFqNYZukrV/Dp9t39bcPTykqQUdWwmfedBB9/X+Hfcl1FWn1VyFDeSv9EcH33N1nxWmv0JxkjsCETIA5gXyH0ZK/opq2jM2e5sAA2xrVM6BKR172bQR5+n6Xf9Z66XA7YmpPQjmwIL8Ghewd05i79aYRlqKJMIIJgEWDwYsimdeqIsAe2MfxCQzKJfM9gVOLZU9zOHznfzN+L3cna5xaQUbxLqYVdPtx4bjIUrIynyWQzYWagMSASYbukECgmbMqyv/iDf05F20wlke8WwVswnd1ftV/03ubcpBkSVKMPEIkcQox8JrWwb6nqTCYGIvrggOAfYJAivmWHKj0vJ3UGu5XCDwirzqqUD9jp3FHe7V/xH58eCJtMF1SSV4ySxko/w3lFcxMtamh/pH0hgOBaoAxhSOP1Z2psNTGZ99Z+ZIT+ix8RB1Z/WlndtV993+2fDV00GYXVck/yychDt/zH9r4wW2sZpqmjMKDGIDRgdmI5pR1pdO5JtFx6qQEph5eN8FN3mDnbzp6aH85f695Bm+wX1NMwDXpHNsCr+h9z1a4M6TukzWIh4EsgDOEcI1/m8mticPV26f15w99KVRBalbeZ/J0Gn3+f359tnX6aNJX+EJMK84Rkfet3TzFRK+ynE6Os4RJgD+BjIfqkuCiwra4zc3m8AAKGwE0x0poXg9uFHkAf5R/yHrScBxiRE8XOYIgjwZW7PDScLvSpvaVkIknggqAT4PViz6Z+6pMwEzY9/E5DPglHT6mU6llZHNEfOl/K34edw1reloZRsQudxVE+0LhjMgsshKfDZC/hZWAyYBYhgaRYKDAs1bKLuM9/WkXmTC+R91bH2zTd3x+0n/He4ZycmQkUmE8FCRBCgHwbNaYvoSpFJgEi+GCAoCHglOKFJdAqB29y9RK7ogIaiLaOs9QXmO9cVN7uX+9fmx4CW0PXStJMTIbGfj+3uTpyyW1iKHlkeSG/YBugD6FOY/0nc6w/8aV34n5whMnLaVEP1kYanl23n32f6t8IXSzZvNUnz+dJ/ENr/Px2c7BSKxJmpKMtoMWgNmB64gAlZel+7lT0aHq1QTVHok35039YP5vSXptfzR/oHnubpBfLUyUNbocqwKA6FHPLrgSpNSTJIiAgS+AP4SFjZ2b7q20wwTc1/UXEKspfUGOVvpnBnUkff5/dX2jdd5or1fPQh8rnhFg93/dEcUer5OcOI6mhEaARoGchwOTAaPptuXN/OYgATkbLTTuSoheJ24jeQZ/kH+7ertw/WEfT+w4UyBfBibsw9JHu7Cm25V+iR6CC4Bag+mLW5kfq3bAedgn8mkMJiZHPspTxmV5c0986n8jfgx38mpYWvBFly5HFRP7FOFhyAay8572j7CFkYDPgGeGHpGAoOezgspd4239mBfGMOZH/1s5bOR3hH7Qf7t7cHJUZP9RNzzlIxEK0e8/1m6+YKn4l/GK14ICgJCCZoowl2OoRr341HruuAiYIgQ79FB8Y9NxYHu8f7Z+XHjwbO5cA0kFMuwYx/6v5L3L/rRoocyR1Yb3gHKATIVQjxOe9LAqx8TfufnyE1QtzURiWTNqi3bmffV/oHwNdJZmz1R1P3AnwQ1/88PZpMEkrCyafYyrgxWA4YH9iBuVuaUkun/R0OoFBQQftTcNTh1hFnBXenF/L3+RedZucF8GTGk1ixx7AlDoJM8GuPCju5MTiHmBMYBLhJuNu5sTrt7DMtwH9kcQ2CmnQbFWFmgZdS59/n9rfZB1wmiMV6ZC8SpuETD3UN3mxPmudZwijpmEQ4BNgayHHZMioxG3Ec4s51EBaRtZNBVLqV5AbjN5DH+Mf616pHDeYflOwTglIC4G9+uW0h67jabAlWyJFYIMgGWD/ot4mUOroMCn2FfymQxUJnI+71PjZY5zW3zsfxt++nbYajZayEVqLhgV4/rl4DbI4LHUnt+PooWMgNSAdoY2kaCgDbStyozjnf3HF/IwDUggXFJs9XeLfs1/rntbcjdk2lEMPLcj4Qmh7xHWRb49qdyX3YrNggKAmoJ5ikuXhqhvvSXVqe7oCMciLzsaUZpj6XFte79/sH5LeNdszVzcSNkxvRiX/oDkkcvXtEehtJHFhvGAdoBahWePMp4asVXH89/q+SEUgS32RIRZTmqddu999H+VfPhzemarVEs/QieRDU/zldl5wf+rDppojJ+DE4DpgQ6JNZXbpUy6rNEA6zUFMh/gNzNOPGEtcGV6dn8pf4J5vm5QX99LPTVcHEsCIej4zt+3z6OhkwOIcYE0gFiEsI3YmziuCcRg3Df2dxAGKtBB1VYyaCx1OH3+f2F9fXWnaGlXfULEKj8RAPci3bzE1K5XnAyOjYRAgFSBvYc2k0OjOLc9zlvngQGYG4U0PEvJXlhuQnkSf4h/n3qOcL9h006VOPYf/gXH62nS9rprpqWVWokNgg2AcIMSjJWZZ6vKwNXYh/LIDIEmnD4TVABmonNmfO5/En7pdr1qFFqgRT0u6BSz+rbgCsi6sbSeyI+UhYiA2oCFhk6RwKA0tNnKu+PN/fcXHzE1SEJcbGwGeJJ+y3+ie0VyGWS1UeI7iSOxCXLv5NUcvhqpwJfKisOCAoCkgoyKZ5epqJi9U9XZ7hgJ9SJaOz9RuGP/cXp7wn+pfjt4vWysXLRIrDGOGGf+UeRly7C0J6GckbaG7IB6gGiFfo9RnkCxgMch4Br6URSuLR9Fp1loaq92+H3yf4p85HNdZoZUIT8UJ2ENIPNo2U/B26vxmVOMlIMSgPKBIIlQlf2ldLrZ0S/rZQVhHws4Wk5bYURwc3p6fyR/c3mmbjBfuEsRNS4cGgLy58vOt7euo4eT8odqgTeAZITGjfebXa40xI7cZ/amEDMq+UH4Vk5oQHVCff5/WH1qdYtoRVdTQpcqDxHQ9vTckcSurjic9o2AhD2AW4HNh0+TZaNgt2rOiuexAccbsTRjS+lecW5SeRd/g3+RendwoGGtTmo4xx/OBZjrPNLNukimipVIiQSCDoB7gyaMspmMq/TAA9m38vgMrybGPjdUHWa3c3J8738Kftd2o2ryWXdFEC65FIP6h+Dfx5OxlZ6wj4aFhIDfgJSGZpHgoFu0Bcvq4/79JhhLMV1IY1yFbBZ4mX7If5V7L3L6Y5BRtztbI4EJQu+21fK99qikl7eKuYICgK2CoIqDl8yowb2A1QnvSAkjI4Q7ZFHXYxVyhnvFf6J+KnikbItcjEiAMV4YN/4i5DnLibQGoYORp4bmgH+AdoWVj3CeZrGsx1DgSvqAFNstR0XJWYNqwXYAfvF/f3zPc0BmYlT3PuYmMQ3w8jrZJcG3q9SZP4yJgxCA+oEyiWqVH6adugbSX+uVBZAfNziATnthW3CBen5/Hn9keY5uEF+SS+U0/xvqAcLnn86Pt4yjbpPhh2OBOoBxhNyNFZyCrl7EvdyX9tYQYSoiQhtXamhTdUx9/39OfVd1b2giVypCaSrfEKD2xdxmxImuGpzgjXOEOoBigd6HaZOGo4i3ls655+EB9hvdNIpLCl+JbmF5HX9/f4R6YHCBYYdOPziZH54FaOsP0qW6JqZwlTaJ/IEQgIeDO4zPmbCrHsEx2efyKA3dJu8+W1Q6ZstzfXzxfwJ+xXaIas9ZT0XjLYkUU/pZ4LTHbbF2npmPeIV/gOWApIZ/kQChgrQxyxnkLv5VGHgxhUiEXJ9sJ3igfsV/iXsZctxja1GNOywjUQkS74nVyb3TqIiXo4qvggKAt4Kzip+X76jqva3VOe94CVIjrzuJUfVjK3KTe8d/m34aeIpsaVxlSFQxLxgH/vPjDctitOaga5GXhuCAg4CDhayPj56MsdfHf+B6+rAUCC5wRetZnmrTdgl+7390fLtzI2Y+VM4+uCYCDcDyDNn8wJKrt5kqjH6DD4ADgkSJhZVCpsW6M9KO68UFvx9iOKZOmmFycI96g38Yf1V5dW7wXmtLuTTQG7oBk+dyzme3a6NUk9GHXIE8gH2E8o0znKeuicTr3Mf2BhGOKkxCP1eGaGZ1Vn3+f0R9Q3VTaP9WAUI8Kq8QcPaX3DzEZK78m8qNZ4Q3gGmB74eCk6ejr7fDzunnEQIlHAk1sUsqX6FucHkjf3t/dnpIcGFhYU4UOGofbgU46+LRfLoEplWVJInzgRGAkoNPjOyZ1KtHwV/ZFvNYDQsnGT+AVFdm4HOIfPJ/+X2zdm1qrVkmRbYtWhQj+irgicdHsVeego9qhXuA6oCzhpeRIaGptF3LSORe/oUYpDGsSKZcuGw4eKd+wn98ewRyvmNGUWI7/iIhCeLuW9WgvbCobJeQiqWCAoDBgsaKu5cTqRS+29Vo76gJgCPaO65RE2RBcqB7yn+Ufgl4cWxIXD1IJzEAGNf9xOPhyju0xqBTkYiG24CHgJGFw4+unrKxAsit4Kr63xQ1LphFDVq4auV2EX7uf2h8pnMGZhpUpD6KJtIMkPLe2NLAbquamRaMcoMNgAuCVomglWSm7rpg0r7r9QXtH404zE65YYlwnXqHfxN/RXldbs9eREuNNKEbigFk50bOQLdKozuTwIdVgT+AioQHjlGcza6zxBnd9/Y2EbsqdUJiV6FoeXVfff5/On0wdTdo3FbYQQ4qgBBA9mncEcQ/rt6btI1ahDWAcIH/h5yTyaPXt+/OGOhBAlQcNDXYS0pfuW5/eSh/d39oejFwQmE7Tug3Ox8+BQnrtdFUuuGlOpUSieuBE4Cdg2SMCZr4q3HBjdlG84gNOSdDP6RUdGb0c5N883/xfaF2U2qLWf5EiS0qFPP5+99dxyGxOJ5rj1yFd4DwgMKGr5FBodC0ict35I7+tBjQMdRIx1zSbEh4rn6/f3B77nGgYyFRNzvQIvEIs+4u1Xe9jKhRl32KnIICgMuC2orXlzapPb4I1pjv2AmuIwQ801ExZFZyrHvNf4x++HdXbCdcFUj7MNAXp/2V47bKFbSmoDuReYbVgIyAoIXaj86e2LEtyNzg2voPFWIuwEUwWtNq93YZfux/XXySc+ll9VN6Plwmogxg8rDYqMBKq32ZAYxngwyAFIJoibuVh6YXu43S7uslBhwguDjyTthhoHCqeot/DX82eURur14dS2E0cRtaATXnGs4YtymjIpOwh06BQoCXhB2Ob5zyrt7ESN0n92UR6SqeQoVXvWiNdWl9/n8wfR11G2i4Vq5B4SlQEBD2O9znwxquwJufjU6EMoB3gRCItpPqo/+3HM9H6HICgxxgNf9Lal/Rbo95Ln9yf1l6GnAjYRVOvTcNHw4F2eqI0Su6v6UglQCJ44EUgKmDeYwmmh2snMG72XbzuA1nJ20/yFSRZgl0nnz1f+h9j3Y4amhZ1URcLfsTw/nN3zLH/LAYnlWPT4VzgPaA0obIkWGh97S1y6bkvv7jGP0x/EjoXOtsWXi1frx/Y3vYcYJj+1ANO6EiwQiD7gHVTr1pqDWXaoqSggKA1YLtivOXWqlmvjbWyO8ICt0jLzz4UU9kbHK4e89/hX7ndz5sBVztR84woRd2/Wbjisrus4agIpFqhtCAkICuhfKP7Z7/sVnIC+EK+z4Vji7pRVJa7WoJdyF+639SfH1zy2XRU08+LiZyDDDygth+wCarYZnti1yDC4AcgnqJ1pWppj+7utId7FUGSiDjOBdP92G3cLh6j38HfyZ5LG6OXvZKNTRCGyoBBeftzfG2B6MIk5+HR4FFgKSEM46NnBevCcV23Vf3lREWK8dCqFfZaKB1c33+fyZ9CXX/Z5VWhUGzKSAQ4PUM3LzD9a2im4mNQYQvgH+BIYjPkwykJ7hIz3foogKxHIw1JUyKX+punnkzf25/S3oDcANh7k2SN94e3gSq6lvRA7qdpQWV7ojagRaAtIOOjEOaQazGwenZpvPoDZUnlz/sVK5mHXSpfPZ/3319dh1qRlmtRC8tyxOT+Z7fB8fWsPqdPo9BhW+A/IDhhuCRgqEeteHL1eTu/hIZKTIjSQldBG1peLx+uX9We8JxY2PWUOI6cyKRCFPu09QkvUaoGZdXiomCAoDfggGLD5h9qZC+Y9b47zgKCyRZPB1SbWSCcsV70n9+ftZ3JGzkW8VHojByF0b9N+NeysezZqAKkVuGyoCVgLyFCZAMnyWyhMg54Tr7bhW7LhFGdFoIaxp3Kn7pf0Z8aHOuZa1TJT4AJkIMAPJU2FTAAqtEmdmLUYMKgCWCjYnxlcumaLvn0k3shgZ5IA85PU8WYs5wxnqTfwF/F3kTbm5ez0oJNBMb+QDW5sHNybbmou+Sj4dBgUiAsYRJjqycPa80xaTdh/fFEUQr8ELLV/Ros3V8ff5/HH32dONncVZcQYYp8A+w9d7bksPQrYSbdI01hC2AhoEyiOmTLaRPuHXPpujSAuAcuDVMTKpfAm+teTh/aX89eutv5GDITWY3rx6uBHrqLtHbuXul65TdiNKBGIDAg6KMYJpmrPDBF9rW8xgOwifBPxBVymYxdLR893/XfWp2AmojWYREAi2bE2L5cN/cxrCw250njzOFa4ACgfGG+ZGioUW1DcwE5R//QhlVMktJKl0ebXl4w362f0l7rHFFY7FQtzpEImEII+6m1Pu8I6j+lkSKf4IDgOmCFIsrmKGpub6R1ijwaAo5JIQ8QlKKZJdy0XvUf3Z+xncKbMJbnUd1MEIXFv0I4zLKobNGoPKQTIbFgJmAyoUgkCyfS7KwyGjha/udFeguOUaWWiJrLHcyfud/O3xTc5FliFP7PdIlEgzQ8SfYKsDeqieZxYtHgwmALoKfiQyW7qaQuxTTfOy2BqggOjljTzVi5HDTepd/+34HefttTV6oSt0z5BrJAKfmlc2itsWi1pJ/hzqBTIC9hGCOypxir17F09239/QRcSsZQ+5XEGnFdYZ9/X8SfeJ0x2dOVjJBWCnBD4D1sNtnw6utZ5tejSmEKoCNgUOIA5RPpHe4oc/V6AIDDx3jNXNMyl8ab7t5Pn9lfy961G/EYKJNOzeAHn0ES+oC0bK5WaXRlMuIyoEagMuDt4x+moqsGsJF2gb0SA7wJ+o/NFXnZkV0v3z4f859WHbnaQFZW0TVLGwTMvlB37HGirC8nRCPJoVngAiBAYcSksOhbLU5zDPlT/9xGYIycklLXTdtiXjJfrN/PHuVcSdji1CMOhYiMQj07XnU0rwAqOKWMYp2ggOA9IIoi0eYxKnjvr/WV/CYCmckrjxnUqhkrXLde9d/b361d/BroVt2R0gwExfm/NniB8p6syag25A9hsCAnoDZhTiQS59xstvIl+Gb+80VFS9iRrhaPWs+dzp+5X8vfD5zdGVkU9E9pCXiC6Dx+dcBwLqqC5mwizyDCIA3grGJJ5YRp7m7QdOs7OYG1iBlOYlPVGL7cOF6mn/1fvd44m0tXoFKsTO1GpkAeOZozXq2pKK9km6HM4FPgMqEdo7pnIevicUB3uf3JBKeK0JDEVgradh1j339fwd9znSrZypWCUErKZEPUPWC2z3Dhq1Jm0mNHYQogJWBVIgdlHCknrjOzwXpMgM+HQ82mUzqXzFvynlDf2B/IHq9b6VgfE0PN1IeTQQc6tXQirk3pbaUuojCgRuA14PMjJuar6xEwnPaNvR3Dh4oFEBYVQRnWnTKfPl/xX1Gdsxp3lgyRKgsPBMC+RPfhsZksJ2d+o4YhWSADoERhyqS5KGTtWXMYuV//6AZrjKZSWxdUG2aeNB+r38ve39xCGNmUGE66CEACMTtS9SpvN2nx5YeimyCA4D+gjuLY5joqQy/7NaH8MgKlSTYPIxSxmTCcul72X9nfqN31mt/W05HHDDkFrb8quLbyVOzBqDDkC6Gu4CjgOeFT5Brn5iyBsnG4cv7/BVCL4pG2lpXa093Qn7kfyN8KXNWZT9Tpz12JbILcfHL19e/lqrumJyLMYMHgECCxIlCljOn4rtv09zsFgcFIZA5r09zYhJx7nqef+9+6HjJbQxeWUqFM4YaaQBI5jzNU7aDoqSSXoctgVKA2ISMjgedra+0xTDeGPhUEssra0M0WEdp63WYffx//Xy7dI9nBlbfQP0oYQ8g9VTbEsNirSubM40RhCaAnIFliDeUkqTGuPvPNOliA20dOzbATApgSW/ZeUh/W38SeqVvhWBVTeQ2Ix4dBOzpqNBiuRWlnJSoiLqBHYDjg+GMuJrTrG7Codpm9KcOTCg+QHxVIGdudNR8+n+8fTN2sWm7WApEeywNE9L45N5bxj+wfp3jjguFYIAUgSCHQ5IEorq1kcyR5a//zxnaMsFJjV1pbap41n6sfyJ7aXHqYkBQNjq5IdAHlO0e1IC8uqerlgyKY4IEgAiDT4uAmAuqNr8a17fw+ArDJAM9sVLkZNdy9Xvbf2B+kne8a11bJkfvL7QWhvx74q/JLbPmn6uQIIa2gKeA9YVnkIufvrIyyfXh+/ssFm4vskb8WnFrYXdJfuJ/GHwUczllG1N9PUglggtB8Z3Xrb9yqtGYiIsmgwaASYLWiQ==\" type=\"audio/wav\" />\n",
       "                    Your browser does not support the audio element.\n",
       "                </audio>\n",
       "              "
      ],
      "text/plain": [
       "<IPython.lib.display.Audio object>"
      ]
     },
     "metadata": {},
     "output_type": "display_data"
    }
   ],
   "source": [
    "c.click()"
   ]
  },
  {
   "cell_type": "code",
   "execution_count": 12,
   "metadata": {},
   "outputs": [],
   "source": [
    "with widgets.Output():\n",
    "    synth(440)"
   ]
  },
  {
   "cell_type": "code",
   "execution_count": 13,
   "metadata": {},
   "outputs": [
    {
     "data": {
      "text/html": [
       "\n",
       "                <audio  controls=\"controls\" autoplay=\"autoplay\">\n",
       "                    <source src=\"data:audio/wav;base64,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\" type=\"audio/wav\" />\n",
       "                    Your browser does not support the audio element.\n",
       "                </audio>\n",
       "              "
      ],
      "text/plain": [
       "<IPython.lib.display.Audio object>"
      ]
     },
     "metadata": {},
     "output_type": "display_data"
    }
   ],
   "source": [
    "synth(440)"
   ]
  },
  {
   "cell_type": "code",
   "execution_count": null,
   "metadata": {},
   "outputs": [],
   "source": []
  }
 ],
 "metadata": {
  "kernelspec": {
   "display_name": "Python 3",
   "language": "python",
   "name": "python3"
  },
  "language_info": {
   "codemirror_mode": {
    "name": "ipython",
    "version": 3
   },
   "file_extension": ".py",
   "mimetype": "text/x-python",
   "name": "python",
   "nbconvert_exporter": "python",
   "pygments_lexer": "ipython3",
   "version": "3.8.8"
  }
 },
 "nbformat": 4,
 "nbformat_minor": 4
}
