{
 "cells": [
  {
   "cell_type": "code",
   "execution_count": 1,
   "id": "d446c554-f0b1-45dc-8704-ffa85deb5828",
   "metadata": {},
   "outputs": [],
   "source": [
    "import sympy\n",
    "from sympy import symbols\n",
    "\n",
    "a_1, a_1prime1 = symbols('a_1'), symbols('a_1prime1')\n",
    "\n",
    "p1,p2,p3,p4 = [symbols(x) for x in [\"p1\", \"p2\", \"q1\", \"q2\"]]\n",
    "\n",
    "v_prime1 = symbols(\"vprime_1\")"
   ]
  },
  {
   "cell_type": "code",
   "execution_count": 2,
   "id": "2a0ff7ca-7805-4462-b424-3754e91ccfa9",
   "metadata": {},
   "outputs": [],
   "source": [
    "\n",
    "\n",
    "f = sympy.Function('f')"
   ]
  },
  {
   "cell_type": "code",
   "execution_count": null,
   "id": "51eb5549-50e2-4276-991d-e4cc8ee4ba6a",
   "metadata": {},
   "outputs": [],
   "source": [
    "\n"
   ]
  }
 ],
 "metadata": {
  "kernelspec": {
   "display_name": "Python 3",
   "language": "python",
   "name": "python3"
  },
  "language_info": {
   "codemirror_mode": {
    "name": "ipython",
    "version": 3
   },
   "file_extension": ".py",
   "mimetype": "text/x-python",
   "name": "python",
   "nbconvert_exporter": "python",
   "pygments_lexer": "ipython3",
   "version": "3.8.8"
  }
 },
 "nbformat": 4,
 "nbformat_minor": 5
}
