{
 "cells": [
  {
   "cell_type": "markdown",
   "id": "0940065b-8106-49fb-ba13-a4ad3648d0d6",
   "metadata": {},
   "source": [
    "https://medium.com/amberdata/how-do-i-get-a-list-of-my-ethereum-erc20-tokens-tutorial-part-2-df1aafef3eed"
   ]
  },
  {
   "cell_type": "code",
   "execution_count": 1,
   "id": "22f8a9ad-cf0a-49b8-818c-7aeb905f04a8",
   "metadata": {},
   "outputs": [],
   "source": [
    "import requests"
   ]
  },
  {
   "cell_type": "code",
   "execution_count": 2,
   "id": "addc88ad-08c9-46e2-9060-c90ca95ce352",
   "metadata": {},
   "outputs": [],
   "source": [
    "url = 'https://web3api.io/api/v1/addresses/ETHEREUM_ADDRESS_HERE/tokens'"
   ]
  },
  {
   "cell_type": "code",
   "execution_count": null,
   "id": "57bde161-6704-4a2d-8400-50dc7c7398f0",
   "metadata": {},
   "outputs": [],
   "source": []
  }
 ],
 "metadata": {
  "kernelspec": {
   "display_name": "Python 3 (ipykernel)",
   "language": "python",
   "name": "python3"
  },
  "language_info": {
   "codemirror_mode": {
    "name": "ipython",
    "version": 3
   },
   "file_extension": ".py",
   "mimetype": "text/x-python",
   "name": "python",
   "nbconvert_exporter": "python",
   "pygments_lexer": "ipython3",
   "version": "3.9.7"
  }
 },
 "nbformat": 4,
 "nbformat_minor": 5
}
