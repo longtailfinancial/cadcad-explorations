{
 "cells": [
  {
   "cell_type": "code",
   "execution_count": 14,
   "id": "8e06cfe7-326e-4c15-ae49-39181817f31c",
   "metadata": {},
   "outputs": [],
   "source": [
    "import param as pm\n",
    "import panel as pn\n",
    "import pandas as pd\n",
    "import hvplot.pandas\n",
    "import holoviews as hv"
   ]
  },
  {
   "cell_type": "code",
   "execution_count": 15,
   "id": "4de5c241-f4d9-4c8d-bdac-e03d262870ff",
   "metadata": {},
   "outputs": [],
   "source": [
    "class TokenEngineering(pm.Parameterized):\n",
    "    monthly_salary = pm.Integer(5000, bounds=(1500,5000), step=500)\n",
    "    number_employees = pm.Integer(7, bounds=(3, 12), step=1)\n",
    "    number_months = pm.Integer(24, bounds=(3, 24), step=1)\n",
    "    monthly_contract_size = pm.Integer(7500, bounds=(6000, 10000), step=50)\n",
    "    number_of_initial_contracts = pm.Integer(2, bounds=(1, 10), step=1)\n",
    "    new_contracts_per_month = pm.Number(0.33, bounds=(0, 3), step=0.33)\n",
    "    office_expense = pm.Integer(7000, bounds=(3000,7000), step=50)\n",
    "    \n",
    "    def salary_costs(self):\n",
    "        cummulative = [i*self.number_employees*self.monthly_salary for i in range(self.number_months)]\n",
    "        return cummulative\n",
    "    \n",
    "    def office_expenses(self):\n",
    "        cummulative = [i*self.office_expense for i in range(self.number_months)]\n",
    "        return cummulative\n",
    "    \n",
    "    def costs(self):\n",
    "        return [a+b for a,b in zip(self.salary_costs(), self.office_expenses())]\n",
    "    \n",
    "    def number_of_contracts(self):\n",
    "        cummulative = [i*self.new_contracts_per_month + self.number_of_initial_contracts for i in range(self.number_months)]\n",
    "        return cummulative\n",
    "    \n",
    "    def contract_revenue(self):\n",
    "        number_of_contracts = self.number_of_contracts()\n",
    "        cummulative = [i*self.monthly_contract_size*number_of_contracts[i] for i in range(self.number_months)]\n",
    "        return cummulative\n",
    "    \n",
    "    def ltf_treasury(self):\n",
    "        return [a-b for a,b in zip(self.contract_revenue(),self.costs())]\n",
    "    \n",
    "    def cummulative_data(self):\n",
    "        data = pd.DataFrame({\n",
    "            'Contract Revenue': self.contract_revenue(), \n",
    "            'Number of Contracts': self.number_of_contracts(),\n",
    "            'Salary Costs': self.salary_costs(), \n",
    "            'Net Profit': self.ltf_treasury(),\n",
    "            'Office Expenses': self.office_expenses()})\n",
    "        data.index.name = 'Month'\n",
    "        return data\n",
    "    \n",
    "    def results(self):\n",
    "        return self.cummulative_data().iloc[[-1]]\n",
    "    \n",
    "    def results_view(self):\n",
    "        return self.results().reset_index().hvplot.table(title=\"Results\")\n",
    "    \n",
    "    def chart_view(self):\n",
    "        return self.cummulative_data().hvplot.line(title='Cumulative Revenue, Costs, and Profit') * hv.HLine(0).opts(color='black', line_width=1.2)\n",
    "    \n",
    "    def view_te(self):\n",
    "        return lambda te: pn.Row(te, pn.Column(te.chart_view, te.results_view))"
   ]
  },
  {
   "cell_type": "code",
   "execution_count": 16,
   "id": "34fe5f10-fc5d-4aef-bb71-95be2787bc07",
   "metadata": {},
   "outputs": [
    {
     "data": {},
     "metadata": {},
     "output_type": "display_data"
    },
    {
     "data": {},
     "metadata": {},
     "output_type": "display_data"
    },
    {
     "data": {
      "application/vnd.holoviews_exec.v0+json": "",
      "text/html": [
       "<div id='1002'>\n",
       "  <div class=\"bk-root\" id=\"c1a21fc9-1c2f-4f41-930b-4e3e3e3436fb\" data-root-id=\"1002\"></div>\n",
       "</div>\n",
       "<script type=\"application/javascript\">(function(root) {\n",
       "  function embed_document(root) {\n",
       "    var docs_json = {\"bdeaf419-773e-45d4-b14c-99f61f78b348\":{\"defs\":[{\"extends\":null,\"module\":null,\"name\":\"ReactiveHTML1\",\"overrides\":[],\"properties\":[]},{\"extends\":null,\"module\":null,\"name\":\"FlexBox1\",\"overrides\":[],\"properties\":[{\"default\":\"flex-start\",\"kind\":null,\"name\":\"align_content\"},{\"default\":\"flex-start\",\"kind\":null,\"name\":\"align_items\"},{\"default\":\"row\",\"kind\":null,\"name\":\"flex_direction\"},{\"default\":\"wrap\",\"kind\":null,\"name\":\"flex_wrap\"},{\"default\":\"flex-start\",\"kind\":null,\"name\":\"justify_content\"}]},{\"extends\":null,\"module\":null,\"name\":\"GridStack1\",\"overrides\":[],\"properties\":[{\"default\":\"warn\",\"kind\":null,\"name\":\"mode\"},{\"default\":null,\"kind\":null,\"name\":\"ncols\"},{\"default\":null,\"kind\":null,\"name\":\"nrows\"},{\"default\":true,\"kind\":null,\"name\":\"allow_resize\"},{\"default\":true,\"kind\":null,\"name\":\"allow_drag\"},{\"default\":[],\"kind\":null,\"name\":\"state\"}]},{\"extends\":null,\"module\":null,\"name\":\"click1\",\"overrides\":[],\"properties\":[{\"default\":\"\",\"kind\":null,\"name\":\"terminal_output\"},{\"default\":\"\",\"kind\":null,\"name\":\"debug_name\"},{\"default\":0,\"kind\":null,\"name\":\"clears\"}]},{\"extends\":null,\"module\":null,\"name\":\"NotificationAreaBase1\",\"overrides\":[],\"properties\":[{\"default\":\"bottom-right\",\"kind\":null,\"name\":\"position\"},{\"default\":0,\"kind\":null,\"name\":\"_clear\"}]},{\"extends\":null,\"module\":null,\"name\":\"NotificationArea1\",\"overrides\":[],\"properties\":[{\"default\":[],\"kind\":null,\"name\":\"notifications\"},{\"default\":\"bottom-right\",\"kind\":null,\"name\":\"position\"},{\"default\":0,\"kind\":null,\"name\":\"_clear\"},{\"default\":[{\"background\":\"#ffc107\",\"icon\":{\"className\":\"fas fa-exclamation-triangle\",\"color\":\"white\",\"tagName\":\"i\"},\"type\":\"warning\"},{\"background\":\"#007bff\",\"icon\":{\"className\":\"fas fa-info-circle\",\"color\":\"white\",\"tagName\":\"i\"},\"type\":\"info\"}],\"kind\":null,\"name\":\"types\"}]},{\"extends\":null,\"module\":null,\"name\":\"Notification\",\"overrides\":[],\"properties\":[{\"default\":null,\"kind\":null,\"name\":\"background\"},{\"default\":3000,\"kind\":null,\"name\":\"duration\"},{\"default\":null,\"kind\":null,\"name\":\"icon\"},{\"default\":\"\",\"kind\":null,\"name\":\"message\"},{\"default\":null,\"kind\":null,\"name\":\"notification_type\"},{\"default\":false,\"kind\":null,\"name\":\"_destroyed\"}]},{\"extends\":null,\"module\":null,\"name\":\"TemplateActions1\",\"overrides\":[],\"properties\":[{\"default\":0,\"kind\":null,\"name\":\"open_modal\"},{\"default\":0,\"kind\":null,\"name\":\"close_modal\"}]},{\"extends\":null,\"module\":null,\"name\":\"MaterialTemplateActions1\",\"overrides\":[],\"properties\":[{\"default\":0,\"kind\":null,\"name\":\"open_modal\"},{\"default\":0,\"kind\":null,\"name\":\"close_modal\"}]}],\"roots\":{\"references\":[{\"attributes\":{\"children\":[{\"id\":\"1235\"},{\"id\":\"1232\"}]},\"id\":\"1236\",\"type\":\"Column\"},{\"attributes\":{\"data\":{\"Month\":[0,1,2,3,4,5,6,7,8,9,10,11,12,13,14,15,16,17,18,19,20,21,22,23],\"Variable\":[\"Salary Costs\",\"Salary Costs\",\"Salary Costs\",\"Salary Costs\",\"Salary Costs\",\"Salary Costs\",\"Salary Costs\",\"Salary Costs\",\"Salary Costs\",\"Salary Costs\",\"Salary Costs\",\"Salary Costs\",\"Salary Costs\",\"Salary Costs\",\"Salary Costs\",\"Salary Costs\",\"Salary Costs\",\"Salary Costs\",\"Salary Costs\",\"Salary Costs\",\"Salary Costs\",\"Salary Costs\",\"Salary Costs\",\"Salary Costs\"],\"value\":[0,35000,70000,105000,140000,175000,210000,245000,280000,315000,350000,385000,420000,455000,490000,525000,560000,595000,630000,665000,700000,735000,770000,805000]},\"selected\":{\"id\":\"1101\"},\"selection_policy\":{\"id\":\"1119\"}},\"id\":\"1100\",\"type\":\"ColumnDataSource\"},{\"attributes\":{},\"id\":\"1227\",\"type\":\"NumberFormatter\"},{\"attributes\":{\"end\":10000,\"margin\":[5,10,5,10],\"start\":6000,\"step\":50,\"title\":\"Monthly contract size\",\"value\":7500},\"id\":\"1008\",\"type\":\"Slider\"},{\"attributes\":{\"editor\":{\"id\":\"1228\"},\"field\":\"Office_Expenses\",\"formatter\":{\"id\":\"1227\"},\"title\":\"Office Expenses\"},\"id\":\"1229\",\"type\":\"TableColumn\"},{\"attributes\":{},\"id\":\"1201\",\"type\":\"Selection\"},{\"attributes\":{\"line_alpha\":0.1,\"line_color\":\"#8b8b8b\",\"line_width\":2,\"x\":{\"field\":\"Month\"},\"y\":{\"field\":\"value\"}},\"id\":\"1154\",\"type\":\"Line\"},{\"attributes\":{\"source\":{\"id\":\"1100\"}},\"id\":\"1107\",\"type\":\"CDSView\"},{\"attributes\":{\"bottom_units\":\"screen\",\"coordinates\":null,\"fill_alpha\":0.5,\"fill_color\":\"lightgrey\",\"group\":null,\"left_units\":\"screen\",\"level\":\"overlay\",\"line_alpha\":1.0,\"line_color\":\"black\",\"line_dash\":[4,4],\"line_width\":2,\"right_units\":\"screen\",\"syncable\":false,\"top_units\":\"screen\"},\"id\":\"1043\",\"type\":\"BoxAnnotation\"},{\"attributes\":{},\"id\":\"1058\",\"type\":\"Selection\"},{\"attributes\":{\"line_color\":\"#6d904f\",\"line_width\":2,\"x\":{\"field\":\"Month\"},\"y\":{\"field\":\"value\"}},\"id\":\"1149\",\"type\":\"Line\"},{\"attributes\":{},\"id\":\"1101\",\"type\":\"Selection\"},{\"attributes\":{\"style\":{\"white-space\":\"nowrap\"},\"text\":\"<span style=\\\"color:black;font-family:Arial;font-style:bold;font-weight:bold;font-size:12pt\\\">Results</span>\",\"width\":450},\"id\":\"1235\",\"type\":\"Div\"},{\"attributes\":{\"line_color\":\"#6d904f\",\"line_width\":2,\"x\":{\"field\":\"Month\"},\"y\":{\"field\":\"value\"}},\"id\":\"1127\",\"type\":\"Line\"},{\"attributes\":{},\"id\":\"1052\",\"type\":\"BasicTickFormatter\"},{\"attributes\":{\"data\":{\"Month\":[0,1,2,3,4,5,6,7,8,9,10,11,12,13,14,15,16,17,18,19,20,21,22,23],\"Variable\":[\"Office Expenses\",\"Office Expenses\",\"Office Expenses\",\"Office Expenses\",\"Office Expenses\",\"Office Expenses\",\"Office Expenses\",\"Office Expenses\",\"Office Expenses\",\"Office Expenses\",\"Office Expenses\",\"Office Expenses\",\"Office Expenses\",\"Office Expenses\",\"Office Expenses\",\"Office Expenses\",\"Office Expenses\",\"Office Expenses\",\"Office Expenses\",\"Office Expenses\",\"Office Expenses\",\"Office Expenses\",\"Office Expenses\",\"Office Expenses\"],\"value\":[0,7000,14000,21000,28000,35000,42000,49000,56000,63000,70000,77000,84000,91000,98000,105000,112000,119000,126000,133000,140000,147000,154000,161000]},\"selected\":{\"id\":\"1151\"},\"selection_policy\":{\"id\":\"1173\"}},\"id\":\"1150\",\"type\":\"ColumnDataSource\"},{\"attributes\":{\"coordinates\":null,\"data_source\":{\"id\":\"1100\"},\"glyph\":{\"id\":\"1103\"},\"group\":null,\"hover_glyph\":null,\"muted_glyph\":{\"id\":\"1105\"},\"nonselection_glyph\":{\"id\":\"1104\"},\"selection_glyph\":{\"id\":\"1123\"},\"view\":{\"id\":\"1107\"}},\"id\":\"1106\",\"type\":\"GlyphRenderer\"},{\"attributes\":{},\"id\":\"1055\",\"type\":\"BasicTickFormatter\"},{\"attributes\":{},\"id\":\"1056\",\"type\":\"AllLabels\"},{\"attributes\":{\"label\":{\"value\":\"Salary Costs\"},\"renderers\":[{\"id\":\"1106\"}]},\"id\":\"1122\",\"type\":\"LegendItem\"},{\"attributes\":{\"client_comm_id\":\"d12697d764b24005b175fef3305f50f9\",\"comm_id\":\"97392463e4f44c4ebae2705555ba9d72\",\"plot_id\":\"1002\"},\"id\":\"1299\",\"type\":\"panel.models.comm_manager.CommManager\"},{\"attributes\":{\"line_alpha\":0.2,\"line_color\":\"#6d904f\",\"line_width\":2,\"x\":{\"field\":\"Month\"},\"y\":{\"field\":\"value\"}},\"id\":\"1129\",\"type\":\"Line\"},{\"attributes\":{\"margin\":[5,10,5,10],\"name\":\"\",\"text\":\"<b>TokenEngineering</b>\"},\"id\":\"1004\",\"type\":\"Div\"},{\"attributes\":{},\"id\":\"1119\",\"type\":\"UnionRenderers\"},{\"attributes\":{\"source\":{\"id\":\"1150\"}},\"id\":\"1157\",\"type\":\"CDSView\"},{\"attributes\":{},\"id\":\"1202\",\"type\":\"NumberFormatter\"},{\"attributes\":{\"children\":[{\"id\":\"1236\"}],\"margin\":[0,0,0,0],\"name\":\"Row01235\"},\"id\":\"1199\",\"type\":\"Row\"},{\"attributes\":{\"line_alpha\":0.1,\"line_color\":\"#30a2da\",\"line_width\":2,\"x\":{\"field\":\"Month\"},\"y\":{\"field\":\"value\"}},\"id\":\"1061\",\"type\":\"Line\"},{\"attributes\":{},\"id\":\"1151\",\"type\":\"Selection\"},{\"attributes\":{\"line_alpha\":0.2,\"line_color\":\"#fc4f30\",\"line_width\":2,\"x\":{\"field\":\"Month\"},\"y\":{\"field\":\"value\"}},\"id\":\"1083\",\"type\":\"Line\"},{\"attributes\":{\"line_alpha\":0.1,\"line_color\":\"#fc4f30\",\"line_width\":2,\"x\":{\"field\":\"Month\"},\"y\":{\"field\":\"value\"}},\"id\":\"1082\",\"type\":\"Line\"},{\"attributes\":{\"line_color\":\"#30a2da\",\"line_width\":2,\"x\":{\"field\":\"Month\"},\"y\":{\"field\":\"value\"}},\"id\":\"1077\",\"type\":\"Line\"},{\"attributes\":{\"coordinates\":null,\"data_source\":{\"id\":\"1150\"},\"glyph\":{\"id\":\"1153\"},\"group\":null,\"hover_glyph\":null,\"muted_glyph\":{\"id\":\"1155\"},\"nonselection_glyph\":{\"id\":\"1154\"},\"selection_glyph\":{\"id\":\"1177\"},\"view\":{\"id\":\"1157\"}},\"id\":\"1156\",\"type\":\"GlyphRenderer\"},{\"attributes\":{\"label\":{\"value\":\"Contract Revenue\"},\"renderers\":[{\"id\":\"1063\"}]},\"id\":\"1076\",\"type\":\"LegendItem\"},{\"attributes\":{\"overlay\":{\"id\":\"1043\"}},\"id\":\"1041\",\"type\":\"BoxZoomTool\"},{\"attributes\":{\"label\":{\"value\":\"Office Expenses\"},\"renderers\":[{\"id\":\"1156\"}]},\"id\":\"1176\",\"type\":\"LegendItem\"},{\"attributes\":{\"reload\":false},\"id\":\"1360\",\"type\":\"panel.models.location.Location\"},{\"attributes\":{},\"id\":\"1173\",\"type\":\"UnionRenderers\"},{\"attributes\":{},\"id\":\"1039\",\"type\":\"PanTool\"},{\"attributes\":{\"line_color\":\"#fc4f30\",\"line_width\":2,\"x\":{\"field\":\"Month\"},\"y\":{\"field\":\"value\"}},\"id\":\"1081\",\"type\":\"Line\"},{\"attributes\":{},\"id\":\"1040\",\"type\":\"WheelZoomTool\"},{\"attributes\":{\"data\":{\"Contract_Revenue\":{\"__ndarray__\":\"AAAAAAM+OUE=\",\"dtype\":\"float64\",\"order\":\"little\",\"shape\":[1]},\"Month\":[23],\"Net_Profit\":{\"__ndarray__\":\"AAAAACYBJUE=\",\"dtype\":\"float64\",\"order\":\"little\",\"shape\":[1]},\"Number_of_Contracts\":{\"__ndarray__\":\"rkfhehQuI0A=\",\"dtype\":\"float64\",\"order\":\"little\",\"shape\":[1]},\"Office_Expenses\":[161000],\"Salary_Costs\":[805000]},\"selected\":{\"id\":\"1201\"},\"selection_policy\":{\"id\":\"1237\"}},\"id\":\"1200\",\"type\":\"ColumnDataSource\"},{\"attributes\":{\"end\":24,\"margin\":[5,10,5,10],\"start\":3,\"title\":\"Number months\",\"value\":24},\"id\":\"1007\",\"type\":\"Slider\"},{\"attributes\":{},\"id\":\"1072\",\"type\":\"UnionRenderers\"},{\"attributes\":{\"line_alpha\":0.1,\"line_color\":\"#6d904f\",\"line_width\":2,\"x\":{\"field\":\"Month\"},\"y\":{\"field\":\"value\"}},\"id\":\"1128\",\"type\":\"Line\"},{\"attributes\":{},\"id\":\"1028\",\"type\":\"LinearScale\"},{\"attributes\":{},\"id\":\"1237\",\"type\":\"UnionRenderers\"},{\"attributes\":{\"end\":1827015.0,\"reset_end\":1827015.0,\"reset_start\":-245865.0,\"start\":-245865.0,\"tags\":[[[\"value\",\"value\",null]]]},\"id\":\"1015\",\"type\":\"Range1d\"},{\"attributes\":{},\"id\":\"1079\",\"type\":\"Selection\"},{\"attributes\":{\"callback\":null,\"renderers\":[{\"id\":\"1063\"},{\"id\":\"1084\"},{\"id\":\"1106\"},{\"id\":\"1130\"},{\"id\":\"1156\"}],\"tags\":[\"hv_created\"],\"tooltips\":[[\"Variable\",\"@{Variable}\"],[\"Month\",\"@{Month}\"],[\"value\",\"@{value}\"]]},\"id\":\"1016\",\"type\":\"HoverTool\"},{\"attributes\":{\"end\":5000,\"margin\":[5,10,5,10],\"start\":1500,\"step\":500,\"title\":\"Monthly salary\",\"value\":5000},\"id\":\"1005\",\"type\":\"Slider\"},{\"attributes\":{\"source\":{\"id\":\"1078\"}},\"id\":\"1085\",\"type\":\"CDSView\"},{\"attributes\":{\"line_color\":\"#e5ae38\",\"line_width\":2,\"x\":{\"field\":\"Month\"},\"y\":{\"field\":\"value\"}},\"id\":\"1123\",\"type\":\"Line\"},{\"attributes\":{\"line_color\":\"#e5ae38\",\"line_width\":2,\"x\":{\"field\":\"Month\"},\"y\":{\"field\":\"value\"}},\"id\":\"1103\",\"type\":\"Line\"},{\"attributes\":{\"coordinates\":null,\"data_source\":{\"id\":\"1078\"},\"glyph\":{\"id\":\"1081\"},\"group\":null,\"hover_glyph\":null,\"muted_glyph\":{\"id\":\"1083\"},\"nonselection_glyph\":{\"id\":\"1082\"},\"selection_glyph\":{\"id\":\"1099\"},\"view\":{\"id\":\"1085\"}},\"id\":\"1084\",\"type\":\"GlyphRenderer\"},{\"attributes\":{\"label\":{\"value\":\"Number of Contracts\"},\"renderers\":[{\"id\":\"1084\"}]},\"id\":\"1098\",\"type\":\"LegendItem\"},{\"attributes\":{\"line_alpha\":0.2,\"line_color\":\"#e5ae38\",\"line_width\":2,\"x\":{\"field\":\"Month\"},\"y\":{\"field\":\"value\"}},\"id\":\"1105\",\"type\":\"Line\"},{\"attributes\":{\"children\":[{\"id\":\"1003\"},{\"id\":\"1012\"}],\"margin\":[0,0,0,0],\"name\":\"Row01308\"},\"id\":\"1002\",\"type\":\"Row\"},{\"attributes\":{\"click_policy\":\"mute\",\"coordinates\":null,\"group\":null,\"items\":[{\"id\":\"1076\"},{\"id\":\"1098\"},{\"id\":\"1122\"},{\"id\":\"1148\"},{\"id\":\"1176\"}],\"location\":[0,0]},\"id\":\"1075\",\"type\":\"Legend\"},{\"attributes\":{\"children\":[{\"id\":\"1004\"},{\"id\":\"1005\"},{\"id\":\"1006\"},{\"id\":\"1007\"},{\"id\":\"1008\"},{\"id\":\"1009\"},{\"id\":\"1010\"},{\"id\":\"1011\"}],\"margin\":[5,5,5,5],\"min_width\":300,\"name\":\"TokenEngineering\",\"width\":300},\"id\":\"1003\",\"type\":\"Column\"},{\"attributes\":{\"data\":{\"Month\":[0,1,2,3,4,5,6,7,8,9,10,11,12,13,14,15,16,17,18,19,20,21,22,23],\"Variable\":[\"Net Profit\",\"Net Profit\",\"Net Profit\",\"Net Profit\",\"Net Profit\",\"Net Profit\",\"Net Profit\",\"Net Profit\",\"Net Profit\",\"Net Profit\",\"Net Profit\",\"Net Profit\",\"Net Profit\",\"Net Profit\",\"Net Profit\",\"Net Profit\",\"Net Profit\",\"Net Profit\",\"Net Profit\",\"Net Profit\",\"Net Profit\",\"Net Profit\",\"Net Profit\",\"Net Profit\"],\"value\":{\"__ndarray__\":\"AAAAAAAAAAAAAAAAQPPXwAAAAACAiOXAAAAAAKCs7MD//////7LwwAAAAABQ2vHAAAAAAEDM8cD+////z4jwwPj/////H+zA+P///5/D5MDw//////jVwIAAAAAAVqNAAAAAAACk30AAAAAAsGzwQAAAAADAJfpAAAAAABiKAkEAAAAAAJwIQQAAAACYSA9BAAAAAPBHE0EAAAAA7DgXQQQAAABAdxtBAAAAAHYBIEECAAAA+G0iQQAAAAAmASVB\",\"dtype\":\"float64\",\"order\":\"little\",\"shape\":[24]}},\"selected\":{\"id\":\"1125\"},\"selection_policy\":{\"id\":\"1145\"}},\"id\":\"1124\",\"type\":\"ColumnDataSource\"},{\"attributes\":{\"end\":23.0,\"reset_end\":23.0,\"reset_start\":0.0,\"tags\":[[[\"Month\",\"Month\",null]]]},\"id\":\"1014\",\"type\":\"Range1d\"},{\"attributes\":{},\"id\":\"1026\",\"type\":\"LinearScale\"},{\"attributes\":{},\"id\":\"1095\",\"type\":\"UnionRenderers\"},{\"attributes\":{\"source\":{\"id\":\"1124\"}},\"id\":\"1131\",\"type\":\"CDSView\"},{\"attributes\":{\"data\":{\"Month\":[0,1,2,3,4,5,6,7,8,9,10,11,12,13,14,15,16,17,18,19,20,21,22,23],\"Variable\":[\"Number of Contracts\",\"Number of Contracts\",\"Number of Contracts\",\"Number of Contracts\",\"Number of Contracts\",\"Number of Contracts\",\"Number of Contracts\",\"Number of Contracts\",\"Number of Contracts\",\"Number of Contracts\",\"Number of Contracts\",\"Number of Contracts\",\"Number of Contracts\",\"Number of Contracts\",\"Number of Contracts\",\"Number of Contracts\",\"Number of Contracts\",\"Number of Contracts\",\"Number of Contracts\",\"Number of Contracts\",\"Number of Contracts\",\"Number of Contracts\",\"Number of Contracts\",\"Number of Contracts\"],\"value\":{\"__ndarray__\":\"AAAAAAAAAECkcD0K16MCQEjhehSuRwVA7FG4HoXrB0CQwvUoXI8KQDQzMzMzMw1A16NwPQrXD0A+CtejcD0RQJDC9ShcjxJA4noUrkfhE0A0MzMzMzMVQIbrUbgehRZA16NwPQrXF0ApXI/C9SgZQHsUrkfhehpAzczMzMzMG0AfhetRuB4dQHE9CtejcB5Aw/UoXI/CH0AK16NwPYogQDQzMzMzMyFAXI/C9SjcIUCG61G4HoUiQK5H4XoULiNA\",\"dtype\":\"float64\",\"order\":\"little\",\"shape\":[24]}},\"selected\":{\"id\":\"1079\"},\"selection_policy\":{\"id\":\"1095\"}},\"id\":\"1078\",\"type\":\"ColumnDataSource\"},{\"attributes\":{\"end\":7000,\"margin\":[5,10,5,10],\"start\":3000,\"step\":50,\"title\":\"Office expense\",\"value\":7000},\"id\":\"1011\",\"type\":\"Slider\"},{\"attributes\":{\"line_color\":\"#30a2da\",\"line_width\":2,\"x\":{\"field\":\"Month\"},\"y\":{\"field\":\"value\"}},\"id\":\"1060\",\"type\":\"Line\"},{\"attributes\":{},\"id\":\"1125\",\"type\":\"Selection\"},{\"attributes\":{\"end\":10,\"margin\":[5,10,5,10],\"start\":1,\"title\":\"Number of initial contracts\",\"value\":2},\"id\":\"1009\",\"type\":\"Slider\"},{\"attributes\":{\"line_color\":\"#8b8b8b\",\"line_width\":2,\"x\":{\"field\":\"Month\"},\"y\":{\"field\":\"value\"}},\"id\":\"1177\",\"type\":\"Line\"},{\"attributes\":{\"line_color\":\"#8b8b8b\",\"line_width\":2,\"x\":{\"field\":\"Month\"},\"y\":{\"field\":\"value\"}},\"id\":\"1153\",\"type\":\"Line\"},{\"attributes\":{\"coordinates\":null,\"data_source\":{\"id\":\"1124\"},\"glyph\":{\"id\":\"1127\"},\"group\":null,\"hover_glyph\":null,\"muted_glyph\":{\"id\":\"1129\"},\"nonselection_glyph\":{\"id\":\"1128\"},\"selection_glyph\":{\"id\":\"1149\"},\"view\":{\"id\":\"1131\"}},\"id\":\"1130\",\"type\":\"GlyphRenderer\"},{\"attributes\":{\"label\":{\"value\":\"Net Profit\"},\"renderers\":[{\"id\":\"1130\"}]},\"id\":\"1148\",\"type\":\"LegendItem\"},{\"attributes\":{\"end\":3,\"margin\":[5,10,5,10],\"start\":0,\"step\":0.33,\"title\":\"New contracts per month\",\"value\":0.33},\"id\":\"1010\",\"type\":\"Slider\"},{\"attributes\":{\"source\":{\"id\":\"1057\"}},\"id\":\"1064\",\"type\":\"CDSView\"},{\"attributes\":{\"line_alpha\":0.2,\"line_color\":\"#8b8b8b\",\"line_width\":2,\"x\":{\"field\":\"Month\"},\"y\":{\"field\":\"value\"}},\"id\":\"1155\",\"type\":\"Line\"},{\"attributes\":{},\"id\":\"1053\",\"type\":\"AllLabels\"},{\"attributes\":{},\"id\":\"1145\",\"type\":\"UnionRenderers\"},{\"attributes\":{\"coordinates\":null,\"group\":null,\"text\":\"Cumulative Revenue, Costs, and Profit\",\"text_color\":\"black\",\"text_font_size\":\"12pt\"},\"id\":\"1022\",\"type\":\"Title\"},{\"attributes\":{\"editor\":{\"id\":\"1218\"},\"field\":\"Salary_Costs\",\"formatter\":{\"id\":\"1217\"},\"title\":\"Salary Costs\"},\"id\":\"1219\",\"type\":\"TableColumn\"},{\"attributes\":{},\"id\":\"1208\",\"type\":\"NumberEditor\"},{\"attributes\":{},\"id\":\"1042\",\"type\":\"ResetTool\"},{\"attributes\":{\"format\":\"0,0.0[00000]\"},\"id\":\"1207\",\"type\":\"NumberFormatter\"},{\"attributes\":{\"axis_label\":\"Month\",\"coordinates\":null,\"formatter\":{\"id\":\"1052\"},\"group\":null,\"major_label_policy\":{\"id\":\"1053\"},\"ticker\":{\"id\":\"1031\"}},\"id\":\"1030\",\"type\":\"LinearAxis\"},{\"attributes\":{\"children\":[{\"id\":\"1021\"}],\"margin\":[0,0,0,0],\"name\":\"Row01008\"},\"id\":\"1013\",\"type\":\"Row\"},{\"attributes\":{},\"id\":\"1203\",\"type\":\"IntEditor\"},{\"attributes\":{},\"id\":\"1213\",\"type\":\"NumberEditor\"},{\"attributes\":{\"columns\":[{\"id\":\"1204\"},{\"id\":\"1209\"},{\"id\":\"1214\"},{\"id\":\"1219\"},{\"id\":\"1224\"},{\"id\":\"1229\"}],\"height\":300,\"reorderable\":false,\"source\":{\"id\":\"1200\"},\"view\":{\"id\":\"1234\"},\"width\":700},\"id\":\"1232\",\"type\":\"DataTable\"},{\"attributes\":{\"below\":[{\"id\":\"1030\"}],\"center\":[{\"id\":\"1033\"},{\"id\":\"1037\"}],\"height\":300,\"left\":[{\"id\":\"1034\"}],\"margin\":[5,5,5,5],\"min_border_bottom\":10,\"min_border_left\":10,\"min_border_right\":10,\"min_border_top\":10,\"renderers\":[{\"id\":\"1063\"},{\"id\":\"1084\"},{\"id\":\"1106\"},{\"id\":\"1130\"},{\"id\":\"1156\"},{\"id\":\"1180\"}],\"right\":[{\"id\":\"1075\"}],\"sizing_mode\":\"fixed\",\"title\":{\"id\":\"1022\"},\"toolbar\":{\"id\":\"1044\"},\"width\":700,\"x_range\":{\"id\":\"1014\"},\"x_scale\":{\"id\":\"1026\"},\"y_range\":{\"id\":\"1015\"},\"y_scale\":{\"id\":\"1028\"}},\"id\":\"1021\",\"subtype\":\"Figure\",\"type\":\"Plot\"},{\"attributes\":{\"coordinates\":null,\"group\":null,\"level\":\"glyph\",\"line_width\":1.2,\"location\":0},\"id\":\"1180\",\"type\":\"Span\"},{\"attributes\":{\"editor\":{\"id\":\"1203\"},\"field\":\"Month\",\"formatter\":{\"id\":\"1202\"},\"title\":\"Month\"},\"id\":\"1204\",\"type\":\"TableColumn\"},{\"attributes\":{\"tools\":[{\"id\":\"1016\"},{\"id\":\"1038\"},{\"id\":\"1039\"},{\"id\":\"1040\"},{\"id\":\"1041\"},{\"id\":\"1042\"}]},\"id\":\"1044\",\"type\":\"Toolbar\"},{\"attributes\":{\"format\":\"0,0.0[00000]\"},\"id\":\"1222\",\"type\":\"NumberFormatter\"},{\"attributes\":{},\"id\":\"1031\",\"type\":\"BasicTicker\"},{\"attributes\":{\"editor\":{\"id\":\"1208\"},\"field\":\"Contract_Revenue\",\"formatter\":{\"id\":\"1207\"},\"title\":\"Contract Revenue\"},\"id\":\"1209\",\"type\":\"TableColumn\"},{\"attributes\":{\"coordinates\":null,\"data_source\":{\"id\":\"1057\"},\"glyph\":{\"id\":\"1060\"},\"group\":null,\"hover_glyph\":null,\"muted_glyph\":{\"id\":\"1062\"},\"nonselection_glyph\":{\"id\":\"1061\"},\"selection_glyph\":{\"id\":\"1077\"},\"view\":{\"id\":\"1064\"}},\"id\":\"1063\",\"type\":\"GlyphRenderer\"},{\"attributes\":{\"axis\":{\"id\":\"1030\"},\"coordinates\":null,\"grid_line_color\":null,\"group\":null,\"ticker\":null},\"id\":\"1033\",\"type\":\"Grid\"},{\"attributes\":{\"editor\":{\"id\":\"1213\"},\"field\":\"Number_of_Contracts\",\"formatter\":{\"id\":\"1212\"},\"title\":\"Number of Contracts\"},\"id\":\"1214\",\"type\":\"TableColumn\"},{\"attributes\":{\"children\":[{\"id\":\"1013\"},{\"id\":\"1199\"}],\"margin\":[0,0,0,0],\"name\":\"Column01289\"},\"id\":\"1012\",\"type\":\"Column\"},{\"attributes\":{\"axis_label\":\"\",\"coordinates\":null,\"formatter\":{\"id\":\"1055\"},\"group\":null,\"major_label_policy\":{\"id\":\"1056\"},\"ticker\":{\"id\":\"1035\"}},\"id\":\"1034\",\"type\":\"LinearAxis\"},{\"attributes\":{},\"id\":\"1218\",\"type\":\"IntEditor\"},{\"attributes\":{\"end\":12,\"margin\":[5,10,5,10],\"start\":3,\"title\":\"Number employees\",\"value\":7},\"id\":\"1006\",\"type\":\"Slider\"},{\"attributes\":{\"axis\":{\"id\":\"1034\"},\"coordinates\":null,\"dimension\":1,\"grid_line_color\":null,\"group\":null,\"ticker\":null},\"id\":\"1037\",\"type\":\"Grid\"},{\"attributes\":{\"format\":\"0,0.0[00000]\"},\"id\":\"1212\",\"type\":\"NumberFormatter\"},{\"attributes\":{\"line_alpha\":0.1,\"line_color\":\"#e5ae38\",\"line_width\":2,\"x\":{\"field\":\"Month\"},\"y\":{\"field\":\"value\"}},\"id\":\"1104\",\"type\":\"Line\"},{\"attributes\":{},\"id\":\"1035\",\"type\":\"BasicTicker\"},{\"attributes\":{},\"id\":\"1228\",\"type\":\"IntEditor\"},{\"attributes\":{\"data\":{\"Month\":[0,1,2,3,4,5,6,7,8,9,10,11,12,13,14,15,16,17,18,19,20,21,22,23],\"Variable\":[\"Contract Revenue\",\"Contract Revenue\",\"Contract Revenue\",\"Contract Revenue\",\"Contract Revenue\",\"Contract Revenue\",\"Contract Revenue\",\"Contract Revenue\",\"Contract Revenue\",\"Contract Revenue\",\"Contract Revenue\",\"Contract Revenue\",\"Contract Revenue\",\"Contract Revenue\",\"Contract Revenue\",\"Contract Revenue\",\"Contract Revenue\",\"Contract Revenue\",\"Contract Revenue\",\"Contract Revenue\",\"Contract Revenue\",\"Contract Revenue\",\"Contract Revenue\",\"Contract Revenue\"],\"value\":{\"__ndarray__\":\"AAAAAAAAAAAAAAAAwBDRQAAAAACAe+NAAAAAALBs8EABAAAAAFH4QAAAAABYtQBBAAAAAODcBUEBAAAAGJ8LQQEAAAAA/hBBAQAAAMx5FEEBAAAA8EIYQQEAAABsWRxBAAAAAKBeIEEAAAAANrciQQAAAAB4NiVBAAAAAGbcJ0EAAAAAAKkqQQAAAABGnC1BAAAAABxbMEEAAAAAa/sxQQEAAAAQrzNBAAAAAAt2NUEBAAAAXFA3QQAAAAADPjlB\",\"dtype\":\"float64\",\"order\":\"little\",\"shape\":[24]}},\"selected\":{\"id\":\"1058\"},\"selection_policy\":{\"id\":\"1072\"}},\"id\":\"1057\",\"type\":\"ColumnDataSource\"},{\"attributes\":{\"source\":{\"id\":\"1200\"}},\"id\":\"1234\",\"type\":\"CDSView\"},{\"attributes\":{},\"id\":\"1217\",\"type\":\"NumberFormatter\"},{\"attributes\":{},\"id\":\"1038\",\"type\":\"SaveTool\"},{\"attributes\":{\"line_color\":\"#fc4f30\",\"line_width\":2,\"x\":{\"field\":\"Month\"},\"y\":{\"field\":\"value\"}},\"id\":\"1099\",\"type\":\"Line\"},{\"attributes\":{\"editor\":{\"id\":\"1223\"},\"field\":\"Net_Profit\",\"formatter\":{\"id\":\"1222\"},\"title\":\"Net Profit\"},\"id\":\"1224\",\"type\":\"TableColumn\"},{\"attributes\":{\"line_alpha\":0.2,\"line_color\":\"#30a2da\",\"line_width\":2,\"x\":{\"field\":\"Month\"},\"y\":{\"field\":\"value\"}},\"id\":\"1062\",\"type\":\"Line\"},{\"attributes\":{},\"id\":\"1223\",\"type\":\"NumberEditor\"}],\"root_ids\":[\"1002\",\"1299\",\"1360\"]},\"title\":\"Bokeh Application\",\"version\":\"2.4.3\"}};\n",
       "    var render_items = [{\"docid\":\"bdeaf419-773e-45d4-b14c-99f61f78b348\",\"root_ids\":[\"1002\"],\"roots\":{\"1002\":\"c1a21fc9-1c2f-4f41-930b-4e3e3e3436fb\"}}];\n",
       "    root.Bokeh.embed.embed_items_notebook(docs_json, render_items);\n",
       "    for (const render_item of render_items) {\n",
       "      for (const root_id of render_item.root_ids) {\n",
       "\tconst id_el = document.getElementById(root_id)\n",
       "\tif (id_el.children.length && (id_el.children[0].className === 'bk-root')) {\n",
       "\t  const root_el = id_el.children[0]\n",
       "\t  root_el.id = root_el.id + '-rendered'\n",
       "\t}\n",
       "      }\n",
       "    }\n",
       "  }\n",
       "  if (root.Bokeh !== undefined && root.Bokeh.Panel !== undefined) {\n",
       "    embed_document(root);\n",
       "  } else {\n",
       "    var attempts = 0;\n",
       "    var timer = setInterval(function(root) {\n",
       "      if (root.Bokeh !== undefined && root.Bokeh.Panel !== undefined) {\n",
       "        clearInterval(timer);\n",
       "        embed_document(root);\n",
       "      } else if (document.readyState == \"complete\") {\n",
       "        attempts++;\n",
       "        if (attempts > 200) {\n",
       "          clearInterval(timer);\n",
       "          console.log(\"Bokeh: ERROR: Unable to run BokehJS code because BokehJS library is missing\");\n",
       "        }\n",
       "      }\n",
       "    }, 25, root)\n",
       "  }\n",
       "})(window);</script>"
      ],
      "text/plain": [
       "Row\n",
       "    [0] Column(margin=5, name='TokenEngineering', width=300)\n",
       "        [0] StaticText(value='<b>TokenEngineering</b>')\n",
       "        [1] IntSlider(end=5000, name='Monthly salary', start=1500, step=500, value=5000)\n",
       "        [2] IntSlider(end=12, name='Number employees', start=3, value=7)\n",
       "        [3] IntSlider(end=24, name='Number months', start=3, value=24)\n",
       "        [4] IntSlider(end=10000, name='Monthly contract size', start=6000, step=50, value=7500)\n",
       "        [5] IntSlider(end=10, name='Number of initial c..., start=1, value=2)\n",
       "        [6] FloatSlider(end=3, name='New contracts per month', step=0.33, value=0.33)\n",
       "        [7] IntSlider(end=7000, name='Office expense', start=3000, step=50, value=7000)\n",
       "    [1] Column\n",
       "        [0] ParamMethod(method)\n",
       "        [1] ParamMethod(method)"
      ]
     },
     "execution_count": 16,
     "metadata": {
      "application/vnd.holoviews_exec.v0+json": {
       "id": "1002"
      }
     },
     "output_type": "execute_result"
    }
   ],
   "source": [
    "t = TokenEngineering()\n",
    "t.view_te()(t)"
   ]
  },
  {
   "cell_type": "code",
   "execution_count": null,
   "id": "d59b8d0f-890d-499c-8849-ba8238e17438",
   "metadata": {},
   "outputs": [],
   "source": []
  }
 ],
 "metadata": {
  "kernelspec": {
   "display_name": "Python 3 (ipykernel)",
   "language": "python",
   "name": "python3"
  },
  "language_info": {
   "codemirror_mode": {
    "name": "ipython",
    "version": 3
   },
   "file_extension": ".py",
   "mimetype": "text/x-python",
   "name": "python",
   "nbconvert_exporter": "python",
   "pygments_lexer": "ipython3",
   "version": "3.10.6"
  }
 },
 "nbformat": 4,
 "nbformat_minor": 5
}
