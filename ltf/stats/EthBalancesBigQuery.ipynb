{
 "cells": [
  {
   "cell_type": "code",
   "execution_count": 7,
   "id": "8fd70b07-c7bf-495a-9915-790dbcbe988a",
   "metadata": {
    "tags": []
   },
   "outputs": [],
   "source": [
    "from web3 import Web3\n",
    "web3 = Web3()\n",
    "\n",
    "from google.cloud import bigquery\n",
    "from decimal import Decimal\n",
    "\n",
    "ether_threshold = 0.1\n",
    "limit = 5e6\n",
    "wei_threshold = web3.to_wei(Decimal(ether_threshold), 'ether')\n",
    "\n",
    "sql = f\"\"\"\n",
    "select *\n",
    "from `bigquery-public-data.crypto_ethereum.balances`\n",
    "where eth_balance > {wei_threshold}.0\n",
    "order by eth_balance desc\n",
    "limit {limit}\n",
    "\"\"\"\n",
    "\n",
    "client = bigquery.Client(project='active-thunder-339322')\n",
    "df = client.query(sql).to_dataframe()"
   ]
  },
  {
   "cell_type": "code",
   "execution_count": 40,
   "id": "b0beee1e-bd8a-4bf3-880b-d43952dbf6e4",
   "metadata": {
    "tags": []
   },
   "outputs": [],
   "source": [
    "from web3 import Web3\n",
    "web3 = Web3()\n",
    "\n",
    "df = df.rename({'eth_balance': 'wei_balance'},axis=1)\n",
    "df['eth_balance'] = df['wei_balance'].apply(lambda wei: web3.from_wei(int(wei), 'ether'))"
   ]
  },
  {
   "cell_type": "code",
   "execution_count": 43,
   "id": "379580eb-1acb-484c-a511-8c379ef638f6",
   "metadata": {
    "tags": []
   },
   "outputs": [
    {
     "data": {
      "text/html": [
       "<div>\n",
       "<style scoped>\n",
       "    .dataframe tbody tr th:only-of-type {\n",
       "        vertical-align: middle;\n",
       "    }\n",
       "\n",
       "    .dataframe tbody tr th {\n",
       "        vertical-align: top;\n",
       "    }\n",
       "\n",
       "    .dataframe thead th {\n",
       "        text-align: right;\n",
       "    }\n",
       "</style>\n",
       "<table border=\"1\" class=\"dataframe\">\n",
       "  <thead>\n",
       "    <tr style=\"text-align: right;\">\n",
       "      <th></th>\n",
       "      <th>address</th>\n",
       "      <th>wei_balance</th>\n",
       "      <th>eth_balance</th>\n",
       "    </tr>\n",
       "  </thead>\n",
       "  <tbody>\n",
       "    <tr>\n",
       "      <th>0</th>\n",
       "      <td>0x00000000219ab540356cbb839cbe05303d7705fa</td>\n",
       "      <td>17955959168232416675747075.000000000</td>\n",
       "      <td>17955959.168232416675747075</td>\n",
       "    </tr>\n",
       "    <tr>\n",
       "      <th>1</th>\n",
       "      <td>0xc02aaa39b223fe8d0a0e5c4f27ead9083c756cc2</td>\n",
       "      <td>3777742758878138858852957.000000000</td>\n",
       "      <td>3777742.758878138858852957</td>\n",
       "    </tr>\n",
       "    <tr>\n",
       "      <th>2</th>\n",
       "      <td>0xbe0eb53f46cd790cd13851d5eff43d12404d33e8</td>\n",
       "      <td>1996008283764188532048987.000000000</td>\n",
       "      <td>1996008.283764188532048987</td>\n",
       "    </tr>\n",
       "    <tr>\n",
       "      <th>3</th>\n",
       "      <td>0xda9dfa130df4de4673b89022ee50ff26f6ea73cf</td>\n",
       "      <td>1780839974384348762870467.000000000</td>\n",
       "      <td>1780839.974384348762870467</td>\n",
       "    </tr>\n",
       "    <tr>\n",
       "      <th>4</th>\n",
       "      <td>0x0716a17fbaee714f1e6ab0f9d59edbc5f09815c0</td>\n",
       "      <td>1636037377135017987539780.000000000</td>\n",
       "      <td>1636037.37713501798753978</td>\n",
       "    </tr>\n",
       "    <tr>\n",
       "      <th>...</th>\n",
       "      <td>...</td>\n",
       "      <td>...</td>\n",
       "      <td>...</td>\n",
       "    </tr>\n",
       "    <tr>\n",
       "      <th>4985566</th>\n",
       "      <td>0x247dfd47e92faad8015bc84025fb1fc2fa0d3da0</td>\n",
       "      <td>100000000000000006.000000000</td>\n",
       "      <td>0.100000000000000006</td>\n",
       "    </tr>\n",
       "    <tr>\n",
       "      <th>4985567</th>\n",
       "      <td>0x9bdca0e3e6652df45d78ee9dbb9d1ee8a1766468</td>\n",
       "      <td>100000000000000006.000000000</td>\n",
       "      <td>0.100000000000000006</td>\n",
       "    </tr>\n",
       "    <tr>\n",
       "      <th>4985568</th>\n",
       "      <td>0xa4e304eebea33533815e3745c60d2813b6139bd8</td>\n",
       "      <td>100000000000000006.000000000</td>\n",
       "      <td>0.100000000000000006</td>\n",
       "    </tr>\n",
       "    <tr>\n",
       "      <th>4985569</th>\n",
       "      <td>0xca14f65c8f650916ec1e6e34ac624d686ffa9399</td>\n",
       "      <td>100000000000000006.000000000</td>\n",
       "      <td>0.100000000000000006</td>\n",
       "    </tr>\n",
       "    <tr>\n",
       "      <th>4985570</th>\n",
       "      <td>0xb5cc15d4a4350db8ad8f13486bde6c0cbed9a61d</td>\n",
       "      <td>100000000000000006.000000000</td>\n",
       "      <td>0.100000000000000006</td>\n",
       "    </tr>\n",
       "  </tbody>\n",
       "</table>\n",
       "<p>4985571 rows × 3 columns</p>\n",
       "</div>"
      ],
      "text/plain": [
       "                                            address  \\\n",
       "0        0x00000000219ab540356cbb839cbe05303d7705fa   \n",
       "1        0xc02aaa39b223fe8d0a0e5c4f27ead9083c756cc2   \n",
       "2        0xbe0eb53f46cd790cd13851d5eff43d12404d33e8   \n",
       "3        0xda9dfa130df4de4673b89022ee50ff26f6ea73cf   \n",
       "4        0x0716a17fbaee714f1e6ab0f9d59edbc5f09815c0   \n",
       "...                                             ...   \n",
       "4985566  0x247dfd47e92faad8015bc84025fb1fc2fa0d3da0   \n",
       "4985567  0x9bdca0e3e6652df45d78ee9dbb9d1ee8a1766468   \n",
       "4985568  0xa4e304eebea33533815e3745c60d2813b6139bd8   \n",
       "4985569  0xca14f65c8f650916ec1e6e34ac624d686ffa9399   \n",
       "4985570  0xb5cc15d4a4350db8ad8f13486bde6c0cbed9a61d   \n",
       "\n",
       "                                  wei_balance                  eth_balance  \n",
       "0        17955959168232416675747075.000000000  17955959.168232416675747075  \n",
       "1         3777742758878138858852957.000000000   3777742.758878138858852957  \n",
       "2         1996008283764188532048987.000000000   1996008.283764188532048987  \n",
       "3         1780839974384348762870467.000000000   1780839.974384348762870467  \n",
       "4         1636037377135017987539780.000000000    1636037.37713501798753978  \n",
       "...                                       ...                          ...  \n",
       "4985566          100000000000000006.000000000         0.100000000000000006  \n",
       "4985567          100000000000000006.000000000         0.100000000000000006  \n",
       "4985568          100000000000000006.000000000         0.100000000000000006  \n",
       "4985569          100000000000000006.000000000         0.100000000000000006  \n",
       "4985570          100000000000000006.000000000         0.100000000000000006  \n",
       "\n",
       "[4985571 rows x 3 columns]"
      ]
     },
     "execution_count": 43,
     "metadata": {},
     "output_type": "execute_result"
    }
   ],
   "source": [
    "df"
   ]
  },
  {
   "cell_type": "code",
   "execution_count": 44,
   "id": "c7e25ea2-8286-4bc5-8d15-401a10454bbc",
   "metadata": {
    "tags": []
   },
   "outputs": [],
   "source": [
    "df.to_csv('eth_balances_large.csv',index=False)"
   ]
  }
 ],
 "metadata": {
  "kernelspec": {
   "display_name": "Python 3 (ipykernel)",
   "language": "python",
   "name": "python3"
  },
  "language_info": {
   "codemirror_mode": {
    "name": "ipython",
    "version": 3
   },
   "file_extension": ".py",
   "mimetype": "text/x-python",
   "name": "python",
   "nbconvert_exporter": "python",
   "pygments_lexer": "ipython3",
   "version": "3.10.6"
  }
 },
 "nbformat": 4,
 "nbformat_minor": 5
}
