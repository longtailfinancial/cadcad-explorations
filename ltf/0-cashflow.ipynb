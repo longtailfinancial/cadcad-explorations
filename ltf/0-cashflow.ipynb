{
 "cells": [
  {
   "cell_type": "code",
   "execution_count": 17,
   "id": "524596bc-ead5-4c09-a8c7-2529e808ff99",
   "metadata": {},
   "outputs": [],
   "source": [
    "import panel as pn\n",
    "import param as pm\n",
    "from ltfqia import ContinuousCompoundingCashFlow as CashFlow, InterestRate"
   ]
  },
  {
   "cell_type": "code",
   "execution_count": 18,
   "id": "d7560884-1975-411f-afed-8c5dc192d59f",
   "metadata": {},
   "outputs": [
    {
     "data": {},
     "metadata": {},
     "output_type": "display_data"
    },
    {
     "data": {
      "application/vnd.holoviews_exec.v0+json": "",
      "text/html": [
       "<div id='8035'>\n",
       "  <div class=\"bk-root\" id=\"da406cd5-13fc-45fe-887d-9e3fc285cf4b\" data-root-id=\"8035\"></div>\n",
       "</div>\n",
       "<script type=\"application/javascript\">(function(root) {\n",
       "  function embed_document(root) {\n",
       "    var docs_json = {\"bec79119-b163-4b05-b1eb-728c01e9925e\":{\"defs\":[{\"extends\":null,\"module\":null,\"name\":\"ReactiveHTML1\",\"overrides\":[],\"properties\":[]},{\"extends\":null,\"module\":null,\"name\":\"FlexBox1\",\"overrides\":[],\"properties\":[{\"default\":\"flex-start\",\"kind\":null,\"name\":\"align_content\"},{\"default\":\"flex-start\",\"kind\":null,\"name\":\"align_items\"},{\"default\":\"row\",\"kind\":null,\"name\":\"flex_direction\"},{\"default\":\"wrap\",\"kind\":null,\"name\":\"flex_wrap\"},{\"default\":\"flex-start\",\"kind\":null,\"name\":\"justify_content\"}]},{\"extends\":null,\"module\":null,\"name\":\"GridStack1\",\"overrides\":[],\"properties\":[{\"default\":\"warn\",\"kind\":null,\"name\":\"mode\"},{\"default\":null,\"kind\":null,\"name\":\"ncols\"},{\"default\":null,\"kind\":null,\"name\":\"nrows\"},{\"default\":true,\"kind\":null,\"name\":\"allow_resize\"},{\"default\":true,\"kind\":null,\"name\":\"allow_drag\"},{\"default\":[],\"kind\":null,\"name\":\"state\"}]},{\"extends\":null,\"module\":null,\"name\":\"click1\",\"overrides\":[],\"properties\":[{\"default\":\"\",\"kind\":null,\"name\":\"terminal_output\"},{\"default\":\"\",\"kind\":null,\"name\":\"debug_name\"},{\"default\":0,\"kind\":null,\"name\":\"clears\"}]},{\"extends\":null,\"module\":null,\"name\":\"NotificationAreaBase1\",\"overrides\":[],\"properties\":[{\"default\":\"bottom-right\",\"kind\":null,\"name\":\"position\"},{\"default\":0,\"kind\":null,\"name\":\"_clear\"}]},{\"extends\":null,\"module\":null,\"name\":\"NotificationArea1\",\"overrides\":[],\"properties\":[{\"default\":[],\"kind\":null,\"name\":\"notifications\"},{\"default\":\"bottom-right\",\"kind\":null,\"name\":\"position\"},{\"default\":0,\"kind\":null,\"name\":\"_clear\"},{\"default\":[{\"background\":\"#ffc107\",\"icon\":{\"className\":\"fas fa-exclamation-triangle\",\"color\":\"white\",\"tagName\":\"i\"},\"type\":\"warning\"},{\"background\":\"#007bff\",\"icon\":{\"className\":\"fas fa-info-circle\",\"color\":\"white\",\"tagName\":\"i\"},\"type\":\"info\"}],\"kind\":null,\"name\":\"types\"}]},{\"extends\":null,\"module\":null,\"name\":\"Notification\",\"overrides\":[],\"properties\":[{\"default\":null,\"kind\":null,\"name\":\"background\"},{\"default\":3000,\"kind\":null,\"name\":\"duration\"},{\"default\":null,\"kind\":null,\"name\":\"icon\"},{\"default\":\"\",\"kind\":null,\"name\":\"message\"},{\"default\":null,\"kind\":null,\"name\":\"notification_type\"},{\"default\":false,\"kind\":null,\"name\":\"_destroyed\"}]},{\"extends\":null,\"module\":null,\"name\":\"TemplateActions1\",\"overrides\":[],\"properties\":[{\"default\":0,\"kind\":null,\"name\":\"open_modal\"},{\"default\":0,\"kind\":null,\"name\":\"close_modal\"}]},{\"extends\":null,\"module\":null,\"name\":\"MaterialTemplateActions1\",\"overrides\":[],\"properties\":[{\"default\":0,\"kind\":null,\"name\":\"open_modal\"},{\"default\":0,\"kind\":null,\"name\":\"close_modal\"}]}],\"roots\":{\"references\":[{\"attributes\":{\"end\":1,\"margin\":[5,10,5,10],\"start\":0,\"step\":0.01,\"title\":\"Real risk free interest rate\",\"value\":0.014321},\"id\":\"8037\",\"type\":\"Slider\"},{\"attributes\":{\"margin\":[5,10,5,10],\"placeholder\":\"0\",\"step\":0.01,\"title\":\"Inflation premium\",\"value\":0,\"value_throttled\":0},\"id\":\"8038\",\"type\":\"Spinner\"},{\"attributes\":{\"margin\":[5,10,5,10],\"name\":\"\",\"text\":\"<b>InterestRate</b>\"},\"id\":\"8036\",\"type\":\"Div\"},{\"attributes\":{\"children\":[{\"id\":\"8036\"},{\"id\":\"8037\"},{\"id\":\"8038\"},{\"id\":\"8039\"},{\"id\":\"8040\"},{\"id\":\"8041\"}],\"margin\":[5,5,5,5],\"min_width\":300,\"name\":\"InterestRate\",\"width\":300},\"id\":\"8035\",\"type\":\"Column\"},{\"attributes\":{\"client_comm_id\":\"513dfa1279154a5a8ac6eafea24bca8e\",\"comm_id\":\"eecdecdcd1c34078ab32ff60e8798a7d\",\"plot_id\":\"8035\"},\"id\":\"8042\",\"type\":\"panel.models.comm_manager.CommManager\"},{\"attributes\":{\"end\":1,\"margin\":[5,10,5,10],\"start\":0,\"step\":0.01,\"title\":\"Default risk premium\",\"value\":0},\"id\":\"8039\",\"type\":\"Slider\"},{\"attributes\":{\"end\":1,\"margin\":[5,10,5,10],\"start\":0,\"step\":0.01,\"title\":\"Maturity premium\",\"value\":0},\"id\":\"8041\",\"type\":\"Slider\"},{\"attributes\":{\"end\":1,\"margin\":[5,10,5,10],\"start\":0,\"step\":0.01,\"title\":\"Liquidity premium\",\"value\":0},\"id\":\"8040\",\"type\":\"Slider\"}],\"root_ids\":[\"8035\",\"8042\"]},\"title\":\"Bokeh Application\",\"version\":\"2.4.3\"}};\n",
       "    var render_items = [{\"docid\":\"bec79119-b163-4b05-b1eb-728c01e9925e\",\"root_ids\":[\"8035\"],\"roots\":{\"8035\":\"da406cd5-13fc-45fe-887d-9e3fc285cf4b\"}}];\n",
       "    root.Bokeh.embed.embed_items_notebook(docs_json, render_items);\n",
       "    for (const render_item of render_items) {\n",
       "      for (const root_id of render_item.root_ids) {\n",
       "\tconst id_el = document.getElementById(root_id)\n",
       "\tif (id_el.children.length && (id_el.children[0].className === 'bk-root')) {\n",
       "\t  const root_el = id_el.children[0]\n",
       "\t  root_el.id = root_el.id + '-rendered'\n",
       "\t}\n",
       "      }\n",
       "    }\n",
       "  }\n",
       "  if (root.Bokeh !== undefined && root.Bokeh.Panel !== undefined) {\n",
       "    embed_document(root);\n",
       "  } else {\n",
       "    var attempts = 0;\n",
       "    var timer = setInterval(function(root) {\n",
       "      if (root.Bokeh !== undefined && root.Bokeh.Panel !== undefined) {\n",
       "        clearInterval(timer);\n",
       "        embed_document(root);\n",
       "      } else if (document.readyState == \"complete\") {\n",
       "        attempts++;\n",
       "        if (attempts > 200) {\n",
       "          clearInterval(timer);\n",
       "          console.log(\"Bokeh: ERROR: Unable to run BokehJS code because BokehJS library is missing\");\n",
       "        }\n",
       "      }\n",
       "    }, 25, root)\n",
       "  }\n",
       "})(window);</script>"
      ],
      "text/plain": [
       "Column(margin=5, name='InterestRate', width=300)\n",
       "    [0] StaticText(value='<b>InterestRate</b>')\n",
       "    [1] FloatSlider(name='Real risk free i..., step=0.01, value=0.014321)\n",
       "    [2] FloatInput(name='Inflation premium', step=0.01)\n",
       "    [3] FloatSlider(name='Default risk premium', step=0.01)\n",
       "    [4] FloatSlider(name='Liquidity premium', step=0.01)\n",
       "    [5] FloatSlider(name='Maturity premium', step=0.01)"
      ]
     },
     "execution_count": 18,
     "metadata": {
      "application/vnd.holoviews_exec.v0+json": {
       "id": "8035"
      }
     },
     "output_type": "execute_result"
    }
   ],
   "source": [
    "i = InterestRate(real_risk_free_interest_rate=0.014321)\n",
    "pn.panel(i)"
   ]
  },
  {
   "cell_type": "code",
   "execution_count": 19,
   "id": "46bfe70b-23b0-4365-8288-7bc908dd766a",
   "metadata": {},
   "outputs": [
    {
     "data": {},
     "metadata": {},
     "output_type": "display_data"
    },
    {
     "data": {},
     "metadata": {},
     "output_type": "display_data"
    },
    {
     "data": {
      "application/vnd.holoviews_exec.v0+json": "",
      "text/html": [
       "<div id='8043'>\n",
       "  <div class=\"bk-root\" id=\"e53516d8-bc8b-46ac-a75e-d287bb814e6d\" data-root-id=\"8043\"></div>\n",
       "</div>\n",
       "<script type=\"application/javascript\">(function(root) {\n",
       "  function embed_document(root) {\n",
       "    var docs_json = {\"73afb52e-8bd6-4eef-b785-9a6fcf376cbc\":{\"defs\":[{\"extends\":null,\"module\":null,\"name\":\"ReactiveHTML1\",\"overrides\":[],\"properties\":[]},{\"extends\":null,\"module\":null,\"name\":\"FlexBox1\",\"overrides\":[],\"properties\":[{\"default\":\"flex-start\",\"kind\":null,\"name\":\"align_content\"},{\"default\":\"flex-start\",\"kind\":null,\"name\":\"align_items\"},{\"default\":\"row\",\"kind\":null,\"name\":\"flex_direction\"},{\"default\":\"wrap\",\"kind\":null,\"name\":\"flex_wrap\"},{\"default\":\"flex-start\",\"kind\":null,\"name\":\"justify_content\"}]},{\"extends\":null,\"module\":null,\"name\":\"GridStack1\",\"overrides\":[],\"properties\":[{\"default\":\"warn\",\"kind\":null,\"name\":\"mode\"},{\"default\":null,\"kind\":null,\"name\":\"ncols\"},{\"default\":null,\"kind\":null,\"name\":\"nrows\"},{\"default\":true,\"kind\":null,\"name\":\"allow_resize\"},{\"default\":true,\"kind\":null,\"name\":\"allow_drag\"},{\"default\":[],\"kind\":null,\"name\":\"state\"}]},{\"extends\":null,\"module\":null,\"name\":\"click1\",\"overrides\":[],\"properties\":[{\"default\":\"\",\"kind\":null,\"name\":\"terminal_output\"},{\"default\":\"\",\"kind\":null,\"name\":\"debug_name\"},{\"default\":0,\"kind\":null,\"name\":\"clears\"}]},{\"extends\":null,\"module\":null,\"name\":\"NotificationAreaBase1\",\"overrides\":[],\"properties\":[{\"default\":\"bottom-right\",\"kind\":null,\"name\":\"position\"},{\"default\":0,\"kind\":null,\"name\":\"_clear\"}]},{\"extends\":null,\"module\":null,\"name\":\"NotificationArea1\",\"overrides\":[],\"properties\":[{\"default\":[],\"kind\":null,\"name\":\"notifications\"},{\"default\":\"bottom-right\",\"kind\":null,\"name\":\"position\"},{\"default\":0,\"kind\":null,\"name\":\"_clear\"},{\"default\":[{\"background\":\"#ffc107\",\"icon\":{\"className\":\"fas fa-exclamation-triangle\",\"color\":\"white\",\"tagName\":\"i\"},\"type\":\"warning\"},{\"background\":\"#007bff\",\"icon\":{\"className\":\"fas fa-info-circle\",\"color\":\"white\",\"tagName\":\"i\"},\"type\":\"info\"}],\"kind\":null,\"name\":\"types\"}]},{\"extends\":null,\"module\":null,\"name\":\"Notification\",\"overrides\":[],\"properties\":[{\"default\":null,\"kind\":null,\"name\":\"background\"},{\"default\":3000,\"kind\":null,\"name\":\"duration\"},{\"default\":null,\"kind\":null,\"name\":\"icon\"},{\"default\":\"\",\"kind\":null,\"name\":\"message\"},{\"default\":null,\"kind\":null,\"name\":\"notification_type\"},{\"default\":false,\"kind\":null,\"name\":\"_destroyed\"}]},{\"extends\":null,\"module\":null,\"name\":\"TemplateActions1\",\"overrides\":[],\"properties\":[{\"default\":0,\"kind\":null,\"name\":\"open_modal\"},{\"default\":0,\"kind\":null,\"name\":\"close_modal\"}]},{\"extends\":null,\"module\":null,\"name\":\"MaterialTemplateActions1\",\"overrides\":[],\"properties\":[{\"default\":0,\"kind\":null,\"name\":\"open_modal\"},{\"default\":0,\"kind\":null,\"name\":\"close_modal\"}]}],\"roots\":{\"references\":[{\"attributes\":{},\"id\":\"8088\",\"type\":\"NumberEditor\"},{\"attributes\":{\"line_color\":\"#e5ae38\",\"line_width\":2,\"x\":{\"field\":\"Time Period\"},\"y\":{\"field\":\"value\"}},\"id\":\"8216\",\"type\":\"Line\"},{\"attributes\":{\"callback\":null,\"renderers\":[{\"id\":\"8156\"},{\"id\":\"8177\"},{\"id\":\"8199\"},{\"id\":\"8223\"}],\"tags\":[\"hv_created\"],\"tooltips\":[[\"Variable\",\"@{Variable}\"],[\"Time Period\",\"@{Time_Period}\"],[\"value\",\"@{value}\"]]},\"id\":\"8110\",\"type\":\"HoverTool\"},{\"attributes\":{\"label\":{\"value\":\"Lump Value\"},\"renderers\":[{\"id\":\"8156\"}]},\"id\":\"8169\",\"type\":\"LegendItem\"},{\"attributes\":{\"margin\":[5,5,5,5],\"name\":\"Str09962\",\"text\":\"&lt;pre&gt;15157064.135285556&lt;/pre&gt;\"},\"id\":\"8072\",\"type\":\"panel.models.markup.HTML\"},{\"attributes\":{\"data\":{\"Time Period\":[0,1,2,3,4,5,6,7,8,9,10,11,12,13,14,15,16,17,18,19,20,21,22,23,24,25,26,27,28,29,30,31,32,33,34,35,36],\"Time_Period\":[0,1,2,3,4,5,6,7,8,9,10,11,12,13,14,15,16,17,18,19,20,21,22,23,24,25,26,27,28,29,30,31,32,33,34,35,36],\"Variable\":[\"Lump Value\",\"Lump Value\",\"Lump Value\",\"Lump Value\",\"Lump Value\",\"Lump Value\",\"Lump Value\",\"Lump Value\",\"Lump Value\",\"Lump Value\",\"Lump Value\",\"Lump Value\",\"Lump Value\",\"Lump Value\",\"Lump Value\",\"Lump Value\",\"Lump Value\",\"Lump Value\",\"Lump Value\",\"Lump Value\",\"Lump Value\",\"Lump Value\",\"Lump Value\",\"Lump Value\",\"Lump Value\",\"Lump Value\",\"Lump Value\",\"Lump Value\",\"Lump Value\",\"Lump Value\",\"Lump Value\",\"Lump Value\",\"Lump Value\",\"Lump Value\",\"Lump Value\",\"Lump Value\",\"Lump Value\"],\"value\":{\"__ndarray__\":\"AAAAAGDjRkEAAACASTdHQcmx9aJmjEdBb6C60LviR0FbPE+BTTpIQYkSFj0gk0hB4NwPnTjtSEHJbhhLm0hJQQ+BJAJNpUlBXGCAjlIDSkGDgQ/OsGJKQdP+jLBsw0pB8QHNN4slS0FlHf93EYlLQYWZ8ZcE7ktBBrhV0WlUTEHc8QRxRrxMQfEyR9efJU1BXxcaeHuQTUHGLXnb3vxNQaNCp53Pak5BULh4b1PaTkGM754WcEtPQYfE9G0rvk9BKxLmskUZUEFnXx4CS1RQQXXsubIokFBB6qEC3uHMUEFgvp6oeQpRQe58ukLzSFFBU1Qy6FGIUUEG0b3gmMhRQVsMG4DLCVJBCMM6Ju1LUkFDDW0/AY9SQeO6jkQL01JBuFU3uw4YU0E=\",\"dtype\":\"float64\",\"order\":\"little\",\"shape\":[37]}},\"selected\":{\"id\":\"8151\"},\"selection_policy\":{\"id\":\"8165\"}},\"id\":\"8150\",\"type\":\"ColumnDataSource\"},{\"attributes\":{\"editor\":{\"id\":\"8093\"},\"field\":\"Total_Value\",\"formatter\":{\"id\":\"8092\"},\"title\":\"Total Value\"},\"id\":\"8094\",\"type\":\"TableColumn\"},{\"attributes\":{\"format\":\"0,0.0[00000]\"},\"id\":\"8082\",\"type\":\"NumberFormatter\"},{\"attributes\":{\"format\":\"0,0.0[00000]\"},\"id\":\"8092\",\"type\":\"NumberFormatter\"},{\"attributes\":{\"line_color\":\"#fc4f30\",\"line_width\":2,\"x\":{\"field\":\"Time Period\"},\"y\":{\"field\":\"value\"}},\"id\":\"8174\",\"type\":\"Line\"},{\"attributes\":{},\"id\":\"8149\",\"type\":\"AllLabels\"},{\"attributes\":{\"css_classes\":[\"markdown\"],\"margin\":[5,5,5,5],\"name\":\"Markdown09937\",\"text\":\"&lt;p&gt;Future Annuity Value:&lt;/p&gt;\"},\"id\":\"8061\",\"type\":\"panel.models.markup.HTML\"},{\"attributes\":{\"children\":[{\"id\":\"8074\"},{\"id\":\"8107\"}],\"margin\":[0,0,0,0],\"name\":\"Column10213\"},\"id\":\"8073\",\"type\":\"Column\"},{\"attributes\":{\"editor\":{\"id\":\"8078\"},\"field\":\"Time_Period\",\"formatter\":{\"id\":\"8077\"},\"title\":\"Time Period\"},\"id\":\"8079\",\"type\":\"TableColumn\"},{\"attributes\":{\"children\":[{\"id\":\"8051\"}],\"margin\":[0,0,0,0],\"name\":\"Row09918\"},\"id\":\"8050\",\"type\":\"Row\"},{\"attributes\":{\"end\":36.0,\"reset_end\":36.0,\"reset_start\":0.0,\"tags\":[[[\"Time Period\",\"Time Period\",null]]]},\"id\":\"8108\",\"type\":\"Range1d\"},{\"attributes\":{\"coordinates\":null,\"data_source\":{\"id\":\"8193\"},\"glyph\":{\"id\":\"8196\"},\"group\":null,\"hover_glyph\":null,\"muted_glyph\":{\"id\":\"8198\"},\"nonselection_glyph\":{\"id\":\"8197\"},\"selection_glyph\":{\"id\":\"8216\"},\"view\":{\"id\":\"8200\"}},\"id\":\"8199\",\"type\":\"GlyphRenderer\"},{\"attributes\":{\"source\":{\"id\":\"8217\"}},\"id\":\"8224\",\"type\":\"CDSView\"},{\"attributes\":{\"children\":[{\"id\":\"8045\"},{\"id\":\"8046\"},{\"id\":\"8047\"},{\"id\":\"8048\"},{\"id\":\"8049\"}],\"margin\":[5,5,5,5],\"min_width\":300,\"name\":\"ContinuousCompoundingCashFlow\",\"width\":300},\"id\":\"8044\",\"type\":\"Column\"},{\"attributes\":{},\"id\":\"8238\",\"type\":\"UnionRenderers\"},{\"attributes\":{\"data\":{\"Time Period\":[0,1,2,3,4,5,6,7,8,9,10,11,12,13,14,15,16,17,18,19,20,21,22,23,24,25,26,27,28,29,30,31,32,33,34,35,36],\"Time_Period\":[0,1,2,3,4,5,6,7,8,9,10,11,12,13,14,15,16,17,18,19,20,21,22,23,24,25,26,27,28,29,30,31,32,33,34,35,36],\"Variable\":[\"Annuity Value\",\"Annuity Value\",\"Annuity Value\",\"Annuity Value\",\"Annuity Value\",\"Annuity Value\",\"Annuity Value\",\"Annuity Value\",\"Annuity Value\",\"Annuity Value\",\"Annuity Value\",\"Annuity Value\",\"Annuity Value\",\"Annuity Value\",\"Annuity Value\",\"Annuity Value\",\"Annuity Value\",\"Annuity Value\",\"Annuity Value\",\"Annuity Value\",\"Annuity Value\",\"Annuity Value\",\"Annuity Value\",\"Annuity Value\",\"Annuity Value\",\"Annuity Value\",\"Annuity Value\",\"Annuity Value\",\"Annuity Value\",\"Annuity Value\",\"Annuity Value\",\"Annuity Value\",\"Annuity Value\",\"Annuity Value\",\"Annuity Value\",\"Annuity Value\",\"Annuity Value\"],\"value\":{\"__ndarray__\":\"XYCxPX2HYEFdgLE9hsRgQUgu151wAmFBKKVYnj9BYUEk/GyL9oBhQa+ZeL2YwWFBWSo6mSkDYkGwPfiPrEViQYeLrx8liWJBIORB05bNYkGgzaVCBRNjQWHRFhN0WWNBkntG9+agY0HND46vYeljQTj1IAroMmRB0tw/4319ZEGhpGwlJ8lkQXf6nsnnFWVBGsF518NjZUGOOoFlv7JlQWP6UZneAmZB7KLYpyVUZkFEcIrVmKZmQRqUnnY8+mZBVWVI7xRPZ0GBZvKzJqVnQUImekl2/GdB1/xsRQhVaEHkqUVO4a5oQcjVqhsGCmlBwnmudntmaUEoMg46RsRpQTp+dFJrI2pB1PC6vu+DakGFVS2Q2OVqQaTNzeoqSWtB4OiZBeyta0E=\",\"dtype\":\"float64\",\"order\":\"little\",\"shape\":[37]}},\"selected\":{\"id\":\"8172\"},\"selection_policy\":{\"id\":\"8188\"}},\"id\":\"8171\",\"type\":\"ColumnDataSource\"},{\"attributes\":{\"low\":0,\"margin\":[5,10,5,10],\"placeholder\":\"0\",\"title\":\"Present value\",\"value\":3000000,\"value_throttled\":3000000},\"id\":\"8046\",\"type\":\"Spinner\"},{\"attributes\":{\"end\":100,\"margin\":[5,10,5,10],\"start\":0,\"title\":\"N\",\"value\":36},\"id\":\"8049\",\"type\":\"Slider\"},{\"attributes\":{\"css_classes\":[\"markdown\"],\"margin\":[5,5,5,5],\"name\":\"Markdown09944\",\"text\":\"&lt;p&gt;Present Annuity Value:&lt;/p&gt;\"},\"id\":\"8064\",\"type\":\"panel.models.markup.HTML\"},{\"attributes\":{\"data\":{\"Time Period\":[0,1,2,3,4,5,6,7,8,9,10,11,12,13,14,15,16,17,18,19,20,21,22,23,24,25,26,27,28,29,30,31,32,33,34,35,36],\"Time_Period\":[0,1,2,3,4,5,6,7,8,9,10,11,12,13,14,15,16,17,18,19,20,21,22,23,24,25,26,27,28,29,30,31,32,33,34,35,36],\"Variable\":[\"Cash Flow\",\"Cash Flow\",\"Cash Flow\",\"Cash Flow\",\"Cash Flow\",\"Cash Flow\",\"Cash Flow\",\"Cash Flow\",\"Cash Flow\",\"Cash Flow\",\"Cash Flow\",\"Cash Flow\",\"Cash Flow\",\"Cash Flow\",\"Cash Flow\",\"Cash Flow\",\"Cash Flow\",\"Cash Flow\",\"Cash Flow\",\"Cash Flow\",\"Cash Flow\",\"Cash Flow\",\"Cash Flow\",\"Cash Flow\",\"Cash Flow\",\"Cash Flow\",\"Cash Flow\",\"Cash Flow\",\"Cash Flow\",\"Cash Flow\",\"Cash Flow\",\"Cash Flow\",\"Cash Flow\",\"Cash Flow\",\"Cash Flow\",\"Cash Flow\",\"Cash Flow\"],\"value\":{\"__ndarray__\":\"AAAAAAAAAAAAAAAA2IAEQUCXxjhqzARBgKKs/BIZBUHAfV9O1mYFQYDFVD+4tQVBANAA8LwFBkFA9A2Q6FYGQUCalF4/qQZBABtUqsX8BkGAcuzRf1EHQUDFGERypwdBAL7qf6H+B0EAxgYVElcIQcAc4aPIsAhBwM773ckLCUEAkSWGGmgJQcCGuXC/xQlBwO/fg70kCkGAw8+3GYUKQQBDERfZ5gpBAH3BvgBKC0HAydbela4LQUBFZrqdFAxBgEvqpx18DEGA8okRG+UMQQCSYXWbTw1BAFTMZaS7DUEA0q6JOykOQQDLwpxmmA5BAOvjbysJD0EAsF3pj3sPQQBvOgWa7w9BAL7J6qcyEEHAOXHBW24QQQDeKabrqhBBwBQNxFroEEE=\",\"dtype\":\"float64\",\"order\":\"little\",\"shape\":[37]}},\"selected\":{\"id\":\"8218\"},\"selection_policy\":{\"id\":\"8238\"}},\"id\":\"8217\",\"type\":\"ColumnDataSource\"},{\"attributes\":{\"children\":[{\"id\":\"8069\"}],\"margin\":[0,0,0,0],\"name\":\"Row09957\"},\"id\":\"8068\",\"type\":\"Row\"},{\"attributes\":{\"active\":[0],\"labels\":[\"Perpetuity\"],\"margin\":[5,10,5,10]},\"id\":\"8048\",\"type\":\"CheckboxGroup\"},{\"attributes\":{\"css_classes\":[\"markdown\"],\"margin\":[5,5,5,5],\"name\":\"Markdown09919\",\"text\":\"&lt;p&gt;Effective Rate&lt;/p&gt;\"},\"id\":\"8053\",\"type\":\"panel.models.markup.HTML\"},{\"attributes\":{},\"id\":\"8165\",\"type\":\"UnionRenderers\"},{\"attributes\":{\"margin\":[5,5,5,5],\"name\":\"Str09955\",\"text\":\"&lt;pre&gt;19517339.10029017&lt;/pre&gt;\"},\"id\":\"8069\",\"type\":\"panel.models.markup.HTML\"},{\"attributes\":{\"axis_label\":\"\",\"coordinates\":null,\"formatter\":{\"id\":\"8148\"},\"group\":null,\"major_label_policy\":{\"id\":\"8149\"},\"ticker\":{\"id\":\"8128\"}},\"id\":\"8127\",\"type\":\"LinearAxis\"},{\"attributes\":{},\"id\":\"8188\",\"type\":\"UnionRenderers\"},{\"attributes\":{\"children\":[{\"id\":\"8063\"}],\"margin\":[0,0,0,0],\"name\":\"Row09943\"},\"id\":\"8062\",\"type\":\"Row\"},{\"attributes\":{},\"id\":\"8078\",\"type\":\"IntEditor\"},{\"attributes\":{\"children\":[{\"id\":\"8060\"}],\"margin\":[0,0,0,0],\"name\":\"Row09936\"},\"id\":\"8059\",\"type\":\"Row\"},{\"attributes\":{},\"id\":\"8133\",\"type\":\"WheelZoomTool\"},{\"attributes\":{},\"id\":\"8194\",\"type\":\"Selection\"},{\"attributes\":{},\"id\":\"8151\",\"type\":\"Selection\"},{\"attributes\":{\"coordinates\":null,\"data_source\":{\"id\":\"8217\"},\"glyph\":{\"id\":\"8220\"},\"group\":null,\"hover_glyph\":null,\"muted_glyph\":{\"id\":\"8222\"},\"nonselection_glyph\":{\"id\":\"8221\"},\"selection_glyph\":{\"id\":\"8242\"},\"view\":{\"id\":\"8224\"}},\"id\":\"8223\",\"type\":\"GlyphRenderer\"},{\"attributes\":{},\"id\":\"8077\",\"type\":\"NumberFormatter\"},{\"attributes\":{\"source\":{\"id\":\"8150\"}},\"id\":\"8157\",\"type\":\"CDSView\"},{\"attributes\":{\"css_classes\":[\"markdown\"],\"margin\":[5,5,5,5],\"name\":\"Markdown09923\",\"text\":\"&lt;p&gt;Present Value Factor:&lt;/p&gt;\"},\"id\":\"8055\",\"type\":\"panel.models.markup.HTML\"},{\"attributes\":{\"bottom_units\":\"screen\",\"coordinates\":null,\"fill_alpha\":0.5,\"fill_color\":\"lightgrey\",\"group\":null,\"left_units\":\"screen\",\"level\":\"overlay\",\"line_alpha\":1.0,\"line_color\":\"black\",\"line_dash\":[4,4],\"line_width\":2,\"right_units\":\"screen\",\"syncable\":false,\"top_units\":\"screen\"},\"id\":\"8136\",\"type\":\"BoxAnnotation\"},{\"attributes\":{\"format\":\"0,0.0[00000]\"},\"id\":\"8097\",\"type\":\"NumberFormatter\"},{\"attributes\":{\"columns\":[{\"id\":\"8079\"},{\"id\":\"8084\"},{\"id\":\"8089\"},{\"id\":\"8094\"},{\"id\":\"8099\"}],\"height\":300,\"name\":\"ParamMethod09966\",\"reorderable\":false,\"source\":{\"id\":\"8075\"},\"view\":{\"id\":\"8104\"},\"width\":700},\"id\":\"8102\",\"type\":\"DataTable\"},{\"attributes\":{\"end\":21469073.01031919,\"reset_end\":21469073.01031919,\"reset_start\":-1951733.9100290174,\"start\":-1951733.9100290174,\"tags\":[[[\"value\",\"value\",null]]]},\"id\":\"8109\",\"type\":\"Range1d\"},{\"attributes\":{\"line_color\":\"#6d904f\",\"line_width\":2,\"x\":{\"field\":\"Time Period\"},\"y\":{\"field\":\"value\"}},\"id\":\"8220\",\"type\":\"Line\"},{\"attributes\":{\"below\":[{\"id\":\"8123\"}],\"center\":[{\"id\":\"8126\"},{\"id\":\"8130\"}],\"height\":300,\"left\":[{\"id\":\"8127\"}],\"margin\":[5,5,5,5],\"min_border_bottom\":10,\"min_border_left\":10,\"min_border_right\":10,\"min_border_top\":10,\"name\":\"ParamMethod10025\",\"renderers\":[{\"id\":\"8156\"},{\"id\":\"8177\"},{\"id\":\"8199\"},{\"id\":\"8223\"}],\"right\":[{\"id\":\"8168\"}],\"sizing_mode\":\"fixed\",\"title\":{\"id\":\"8115\"},\"toolbar\":{\"id\":\"8137\"},\"width\":700,\"x_range\":{\"id\":\"8108\"},\"x_scale\":{\"id\":\"8119\"},\"y_range\":{\"id\":\"8109\"},\"y_scale\":{\"id\":\"8121\"}},\"id\":\"8114\",\"subtype\":\"Figure\",\"type\":\"Plot\"},{\"attributes\":{},\"id\":\"8146\",\"type\":\"AllLabels\"},{\"attributes\":{},\"id\":\"8145\",\"type\":\"BasicTickFormatter\"},{\"attributes\":{},\"id\":\"8218\",\"type\":\"Selection\"},{\"attributes\":{},\"id\":\"8083\",\"type\":\"NumberEditor\"},{\"attributes\":{\"label\":{\"value\":\"Cash Flow\"},\"renderers\":[{\"id\":\"8223\"}]},\"id\":\"8241\",\"type\":\"LegendItem\"},{\"attributes\":{\"margin\":[5,5,5,5],\"name\":\"Str09934\",\"text\":\"&lt;pre&gt;5023707.910630306&lt;/pre&gt;\"},\"id\":\"8060\",\"type\":\"panel.models.markup.HTML\"},{\"attributes\":{\"margin\":[5,10,5,10],\"name\":\"\",\"text\":\"<b>ContinuousCompoundingCashFlow</b>\"},\"id\":\"8045\",\"type\":\"Div\"},{\"attributes\":{\"children\":[{\"id\":\"8102\"}],\"margin\":[0,0,0,0],\"name\":\"Row09970\"},\"id\":\"8074\",\"type\":\"Row\"},{\"attributes\":{\"overlay\":{\"id\":\"8136\"}},\"id\":\"8134\",\"type\":\"BoxZoomTool\"},{\"attributes\":{\"children\":[{\"id\":\"8114\"}],\"margin\":[0,0,0,0],\"name\":\"Row10029\",\"sizing_mode\":\"fixed\"},\"id\":\"8107\",\"type\":\"Row\"},{\"attributes\":{\"coordinates\":null,\"data_source\":{\"id\":\"8150\"},\"glyph\":{\"id\":\"8153\"},\"group\":null,\"hover_glyph\":null,\"muted_glyph\":{\"id\":\"8155\"},\"nonselection_glyph\":{\"id\":\"8154\"},\"selection_glyph\":{\"id\":\"8170\"},\"view\":{\"id\":\"8157\"}},\"id\":\"8156\",\"type\":\"GlyphRenderer\"},{\"attributes\":{\"line_alpha\":0.1,\"line_color\":\"#30a2da\",\"line_width\":2,\"x\":{\"field\":\"Time Period\"},\"y\":{\"field\":\"value\"}},\"id\":\"8154\",\"type\":\"Line\"},{\"attributes\":{\"source\":{\"id\":\"8171\"}},\"id\":\"8178\",\"type\":\"CDSView\"},{\"attributes\":{\"children\":[{\"id\":\"8053\"},{\"id\":\"8054\"},{\"id\":\"8055\"},{\"id\":\"8056\"},{\"id\":\"8058\"},{\"id\":\"8059\"},{\"id\":\"8061\"},{\"id\":\"8062\"},{\"id\":\"8064\"},{\"id\":\"8065\"},{\"id\":\"8067\"},{\"id\":\"8068\"},{\"id\":\"8070\"},{\"id\":\"8071\"}],\"margin\":[0,0,0,0],\"name\":\"Column09965\"},\"id\":\"8052\",\"type\":\"Column\"},{\"attributes\":{\"line_color\":\"#30a2da\",\"line_width\":2,\"x\":{\"field\":\"Time Period\"},\"y\":{\"field\":\"value\"}},\"id\":\"8153\",\"type\":\"Line\"},{\"attributes\":{\"children\":[{\"id\":\"8057\"}],\"margin\":[0,0,0,0],\"name\":\"Row09929\"},\"id\":\"8056\",\"type\":\"Row\"},{\"attributes\":{\"line_alpha\":0.1,\"line_color\":\"#fc4f30\",\"line_width\":2,\"x\":{\"field\":\"Time Period\"},\"y\":{\"field\":\"value\"}},\"id\":\"8175\",\"type\":\"Line\"},{\"attributes\":{\"children\":[{\"id\":\"8044\"},{\"id\":\"8050\"}],\"margin\":[0,0,0,0],\"name\":\"Row10216\"},\"id\":\"8043\",\"type\":\"Row\"},{\"attributes\":{\"data\":{\"Time Period\":[0,1,2,3,4,5,6,7,8,9,10,11,12,13,14,15,16,17,18,19,20,21,22,23,24,25,26,27,28,29,30,31,32,33,34,35,36],\"Time_Period\":[0,1,2,3,4,5,6,7,8,9,10,11,12,13,14,15,16,17,18,19,20,21,22,23,24,25,26,27,28,29,30,31,32,33,34,35,36],\"Variable\":[\"Total Value\",\"Total Value\",\"Total Value\",\"Total Value\",\"Total Value\",\"Total Value\",\"Total Value\",\"Total Value\",\"Total Value\",\"Total Value\",\"Total Value\",\"Total Value\",\"Total Value\",\"Total Value\",\"Total Value\",\"Total Value\",\"Total Value\",\"Total Value\",\"Total Value\",\"Total Value\",\"Total Value\",\"Total Value\",\"Total Value\",\"Total Value\",\"Total Value\",\"Total Value\",\"Total Value\",\"Total Value\",\"Total Value\",\"Total Value\",\"Total Value\",\"Total Value\",\"Total Value\",\"Total Value\",\"Total Value\",\"Total Value\",\"Total Value\"],\"value\":{\"__ndarray__\":\"XYCxPVVAZkFdgLGdWJJmQbqalEaK5WZBRE2Hku45Z0E7y8DriY9nQVEevsxg5mdBkSF+wHc+aEFiWb5i05doQcurOGB48mhBN/zhdmtOaUEBril2satpQRYROj9PCmpBDrw5xUlqakEm140NpstqQZlbHTBpLmtB1EqVV5iSa0EY4a3BOPhrQTPHcL9PX2xB8kaAteLHbEEAhl8c9zFtQQzLu4CSnW1BANG2g7oKbkEnLDLbdHluQTzFG1LH6W5Bam67yLdbb0E0lgE1TM9vQT6Oa1FFInBB5iY3mrxdcEGKhEoRD5pwQSAKhN4/13BB9tFjNVIVcUFWjTZVSVRxQTQCQYkolHFBLCnsKPPUcUET7vGXrBZyQYuVikZYWXJB3smasfmcckE=\",\"dtype\":\"float64\",\"order\":\"little\",\"shape\":[37]}},\"selected\":{\"id\":\"8194\"},\"selection_policy\":{\"id\":\"8212\"}},\"id\":\"8193\",\"type\":\"ColumnDataSource\"},{\"attributes\":{\"line_color\":\"#fc4f30\",\"line_width\":2,\"x\":{\"field\":\"Time Period\"},\"y\":{\"field\":\"value\"}},\"id\":\"8192\",\"type\":\"Line\"},{\"attributes\":{},\"id\":\"8124\",\"type\":\"BasicTicker\"},{\"attributes\":{\"line_color\":\"#6d904f\",\"line_width\":2,\"x\":{\"field\":\"Time Period\"},\"y\":{\"field\":\"value\"}},\"id\":\"8242\",\"type\":\"Line\"},{\"attributes\":{\"active_drag\":{\"id\":\"8132\"},\"active_scroll\":{\"id\":\"8133\"},\"tools\":[{\"id\":\"8110\"},{\"id\":\"8131\"},{\"id\":\"8132\"},{\"id\":\"8133\"},{\"id\":\"8134\"},{\"id\":\"8135\"}]},\"id\":\"8137\",\"type\":\"Toolbar\"},{\"attributes\":{\"label\":{\"value\":\"Annuity Value\"},\"renderers\":[{\"id\":\"8177\"}]},\"id\":\"8191\",\"type\":\"LegendItem\"},{\"attributes\":{\"css_classes\":[\"markdown\"],\"margin\":[5,5,5,5],\"name\":\"Markdown09958\",\"text\":\"&lt;p&gt;Total Present Value:&lt;/p&gt;\"},\"id\":\"8070\",\"type\":\"panel.models.markup.HTML\"},{\"attributes\":{\"line_color\":\"#30a2da\",\"line_width\":2,\"x\":{\"field\":\"Time Period\"},\"y\":{\"field\":\"value\"}},\"id\":\"8170\",\"type\":\"Line\"},{\"attributes\":{\"axis\":{\"id\":\"8127\"},\"coordinates\":null,\"dimension\":1,\"grid_line_color\":null,\"group\":null,\"ticker\":null},\"id\":\"8130\",\"type\":\"Grid\"},{\"attributes\":{\"source\":{\"id\":\"8193\"}},\"id\":\"8200\",\"type\":\"CDSView\"},{\"attributes\":{\"coordinates\":null,\"data_source\":{\"id\":\"8171\"},\"glyph\":{\"id\":\"8174\"},\"group\":null,\"hover_glyph\":null,\"muted_glyph\":{\"id\":\"8176\"},\"nonselection_glyph\":{\"id\":\"8175\"},\"selection_glyph\":{\"id\":\"8192\"},\"view\":{\"id\":\"8178\"}},\"id\":\"8177\",\"type\":\"GlyphRenderer\"},{\"attributes\":{},\"id\":\"8172\",\"type\":\"Selection\"},{\"attributes\":{},\"id\":\"8098\",\"type\":\"NumberEditor\"},{\"attributes\":{\"editor\":{\"id\":\"8098\"},\"field\":\"Cash_Flow\",\"formatter\":{\"id\":\"8097\"},\"title\":\"Cash Flow\"},\"id\":\"8099\",\"type\":\"TableColumn\"},{\"attributes\":{\"editor\":{\"id\":\"8083\"},\"field\":\"Lump_Value\",\"formatter\":{\"id\":\"8082\"},\"title\":\"Lump Value\"},\"id\":\"8084\",\"type\":\"TableColumn\"},{\"attributes\":{\"editor\":{\"id\":\"8088\"},\"field\":\"Annuity_Value\",\"formatter\":{\"id\":\"8087\"},\"title\":\"Annuity Value\"},\"id\":\"8089\",\"type\":\"TableColumn\"},{\"attributes\":{\"client_comm_id\":\"5c7ac74d8974497481b9b9731e3b4f00\",\"comm_id\":\"7be393cb60de4c689652f073ad90930b\",\"plot_id\":\"8043\"},\"id\":\"8317\",\"type\":\"panel.models.comm_manager.CommManager\"},{\"attributes\":{\"margin\":[5,5,5,5],\"name\":\"Str09948\",\"text\":\"&lt;pre&gt;12157064.135285556&lt;/pre&gt;\"},\"id\":\"8066\",\"type\":\"panel.models.markup.HTML\"},{\"attributes\":{\"margin\":[5,5,5,5],\"name\":\"Str09927\",\"text\":\"&lt;pre&gt;0.5971684766249895&lt;/pre&gt;\"},\"id\":\"8057\",\"type\":\"panel.models.markup.HTML\"},{\"attributes\":{\"line_color\":\"#e5ae38\",\"line_width\":2,\"x\":{\"field\":\"Time Period\"},\"y\":{\"field\":\"value\"}},\"id\":\"8196\",\"type\":\"Line\"},{\"attributes\":{\"margin\":[5,5,5,5],\"name\":\"Str09921\",\"text\":\"&lt;pre&gt;0.01442403679626203&lt;/pre&gt;\"},\"id\":\"8054\",\"type\":\"panel.models.markup.HTML\"},{\"attributes\":{},\"id\":\"8128\",\"type\":\"BasicTicker\"},{\"attributes\":{},\"id\":\"8132\",\"type\":\"PanTool\"},{\"attributes\":{},\"id\":\"8148\",\"type\":\"BasicTickFormatter\"},{\"attributes\":{\"data\":{\"Annuity_Value\":{\"__ndarray__\":\"XYCxPX2HYEFdgLE9hsRgQUgu151wAmFBKKVYnj9BYUEk/GyL9oBhQa+ZeL2YwWFBWSo6mSkDYkGwPfiPrEViQYeLrx8liWJBIORB05bNYkGgzaVCBRNjQWHRFhN0WWNBkntG9+agY0HND46vYeljQTj1IAroMmRB0tw/4319ZEGhpGwlJ8lkQXf6nsnnFWVBGsF518NjZUGOOoFlv7JlQWP6UZneAmZB7KLYpyVUZkFEcIrVmKZmQRqUnnY8+mZBVWVI7xRPZ0GBZvKzJqVnQUImekl2/GdB1/xsRQhVaEHkqUVO4a5oQcjVqhsGCmlBwnmudntmaUEoMg46RsRpQTp+dFJrI2pB1PC6vu+DakGFVS2Q2OVqQaTNzeoqSWtB4OiZBeyta0E=\",\"dtype\":\"float64\",\"order\":\"little\",\"shape\":[37]},\"Cash_Flow\":{\"__ndarray__\":\"AAAAAAAAAAAAAAAA2IAEQUCXxjhqzARBgKKs/BIZBUHAfV9O1mYFQYDFVD+4tQVBANAA8LwFBkFA9A2Q6FYGQUCalF4/qQZBABtUqsX8BkGAcuzRf1EHQUDFGERypwdBAL7qf6H+B0EAxgYVElcIQcAc4aPIsAhBwM773ckLCUEAkSWGGmgJQcCGuXC/xQlBwO/fg70kCkGAw8+3GYUKQQBDERfZ5gpBAH3BvgBKC0HAydbela4LQUBFZrqdFAxBgEvqpx18DEGA8okRG+UMQQCSYXWbTw1BAFTMZaS7DUEA0q6JOykOQQDLwpxmmA5BAOvjbysJD0EAsF3pj3sPQQBvOgWa7w9BAL7J6qcyEEHAOXHBW24QQQDeKabrqhBBwBQNxFroEEE=\",\"dtype\":\"float64\",\"order\":\"little\",\"shape\":[37]},\"Lump_Value\":{\"__ndarray__\":\"AAAAAGDjRkEAAACASTdHQcmx9aJmjEdBb6C60LviR0FbPE+BTTpIQYkSFj0gk0hB4NwPnTjtSEHJbhhLm0hJQQ+BJAJNpUlBXGCAjlIDSkGDgQ/OsGJKQdP+jLBsw0pB8QHNN4slS0FlHf93EYlLQYWZ8ZcE7ktBBrhV0WlUTEHc8QRxRrxMQfEyR9efJU1BXxcaeHuQTUHGLXnb3vxNQaNCp53Pak5BULh4b1PaTkGM754WcEtPQYfE9G0rvk9BKxLmskUZUEFnXx4CS1RQQXXsubIokFBB6qEC3uHMUEFgvp6oeQpRQe58ukLzSFFBU1Qy6FGIUUEG0b3gmMhRQVsMG4DLCVJBCMM6Ju1LUkFDDW0/AY9SQeO6jkQL01JBuFU3uw4YU0E=\",\"dtype\":\"float64\",\"order\":\"little\",\"shape\":[37]},\"Time_Period\":[0,1,2,3,4,5,6,7,8,9,10,11,12,13,14,15,16,17,18,19,20,21,22,23,24,25,26,27,28,29,30,31,32,33,34,35,36],\"Total_Value\":{\"__ndarray__\":\"XYCxPVVAZkFdgLGdWJJmQbqalEaK5WZBRE2Hku45Z0E7y8DriY9nQVEevsxg5mdBkSF+wHc+aEFiWb5i05doQcurOGB48mhBN/zhdmtOaUEBril2satpQRYROj9PCmpBDrw5xUlqakEm140NpstqQZlbHTBpLmtB1EqVV5iSa0EY4a3BOPhrQTPHcL9PX2xB8kaAteLHbEEAhl8c9zFtQQzLu4CSnW1BANG2g7oKbkEnLDLbdHluQTzFG1LH6W5Bam67yLdbb0E0lgE1TM9vQT6Oa1FFInBB5iY3mrxdcEGKhEoRD5pwQSAKhN4/13BB9tFjNVIVcUFWjTZVSVRxQTQCQYkolHFBLCnsKPPUcUET7vGXrBZyQYuVikZYWXJB3smasfmcckE=\",\"dtype\":\"float64\",\"order\":\"little\",\"shape\":[37]}},\"selected\":{\"id\":\"8076\"},\"selection_policy\":{\"id\":\"8105\"}},\"id\":\"8075\",\"type\":\"ColumnDataSource\"},{\"attributes\":{},\"id\":\"8121\",\"type\":\"LinearScale\"},{\"attributes\":{\"line_alpha\":0.1,\"line_color\":\"#e5ae38\",\"line_width\":2,\"x\":{\"field\":\"Time Period\"},\"y\":{\"field\":\"value\"}},\"id\":\"8197\",\"type\":\"Line\"},{\"attributes\":{\"children\":[{\"id\":\"8052\"},{\"id\":\"8073\"}],\"margin\":[0,0,0,0],\"name\":\"Row10214\"},\"id\":\"8051\",\"type\":\"Row\"},{\"attributes\":{\"coordinates\":null,\"group\":null,\"text\":\"Cash Flow\",\"text_color\":\"black\",\"text_font_size\":\"12pt\"},\"id\":\"8115\",\"type\":\"Title\"},{\"attributes\":{},\"id\":\"8093\",\"type\":\"NumberEditor\"},{\"attributes\":{\"css_classes\":[\"markdown\"],\"margin\":[5,5,5,5],\"name\":\"Markdown09930\",\"text\":\"&lt;p&gt;Future Lump Value:&lt;/p&gt;\"},\"id\":\"8058\",\"type\":\"panel.models.markup.HTML\"},{\"attributes\":{\"line_alpha\":0.2,\"line_color\":\"#30a2da\",\"line_width\":2,\"x\":{\"field\":\"Time Period\"},\"y\":{\"field\":\"value\"}},\"id\":\"8155\",\"type\":\"Line\"},{\"attributes\":{},\"id\":\"8131\",\"type\":\"SaveTool\"},{\"attributes\":{\"format\":\"0,0.0[00000]\"},\"id\":\"8087\",\"type\":\"NumberFormatter\"},{\"attributes\":{\"label\":{\"value\":\"Total Value\"},\"renderers\":[{\"id\":\"8199\"}]},\"id\":\"8215\",\"type\":\"LegendItem\"},{\"attributes\":{\"line_alpha\":0.2,\"line_color\":\"#6d904f\",\"line_width\":2,\"x\":{\"field\":\"Time Period\"},\"y\":{\"field\":\"value\"}},\"id\":\"8222\",\"type\":\"Line\"},{\"attributes\":{\"source\":{\"id\":\"8075\"}},\"id\":\"8104\",\"type\":\"CDSView\"},{\"attributes\":{\"margin\":[5,10,5,10],\"placeholder\":\"0\",\"title\":\"Annuity\",\"value\":125000.0,\"value_throttled\":125000.0},\"id\":\"8047\",\"type\":\"Spinner\"},{\"attributes\":{},\"id\":\"8105\",\"type\":\"UnionRenderers\"},{\"attributes\":{\"line_alpha\":0.1,\"line_color\":\"#6d904f\",\"line_width\":2,\"x\":{\"field\":\"Time Period\"},\"y\":{\"field\":\"value\"}},\"id\":\"8221\",\"type\":\"Line\"},{\"attributes\":{\"children\":[{\"id\":\"8072\"}],\"margin\":[0,0,0,0],\"name\":\"Row09964\"},\"id\":\"8071\",\"type\":\"Row\"},{\"attributes\":{\"axis_label\":\"Time Period\",\"coordinates\":null,\"formatter\":{\"id\":\"8145\"},\"group\":null,\"major_label_policy\":{\"id\":\"8146\"},\"ticker\":{\"id\":\"8124\"}},\"id\":\"8123\",\"type\":\"LinearAxis\"},{\"attributes\":{},\"id\":\"8212\",\"type\":\"UnionRenderers\"},{\"attributes\":{\"axis\":{\"id\":\"8123\"},\"coordinates\":null,\"grid_line_color\":null,\"group\":null,\"ticker\":null},\"id\":\"8126\",\"type\":\"Grid\"},{\"attributes\":{\"margin\":[5,5,5,5],\"name\":\"Str09941\",\"text\":\"&lt;pre&gt;14511968.175037801&lt;/pre&gt;\"},\"id\":\"8063\",\"type\":\"panel.models.markup.HTML\"},{\"attributes\":{\"line_alpha\":0.2,\"line_color\":\"#fc4f30\",\"line_width\":2,\"x\":{\"field\":\"Time Period\"},\"y\":{\"field\":\"value\"}},\"id\":\"8176\",\"type\":\"Line\"},{\"attributes\":{\"click_policy\":\"mute\",\"coordinates\":null,\"group\":null,\"items\":[{\"id\":\"8169\"},{\"id\":\"8191\"},{\"id\":\"8215\"},{\"id\":\"8241\"}],\"location\":[0,0],\"title\":\"Variable\"},\"id\":\"8168\",\"type\":\"Legend\"},{\"attributes\":{\"css_classes\":[\"markdown\"],\"margin\":[5,5,5,5],\"name\":\"Markdown09951\",\"text\":\"&lt;p&gt;Total Future Value:&lt;/p&gt;\"},\"id\":\"8067\",\"type\":\"panel.models.markup.HTML\"},{\"attributes\":{},\"id\":\"8076\",\"type\":\"Selection\"},{\"attributes\":{\"children\":[{\"id\":\"8066\"}],\"margin\":[0,0,0,0],\"name\":\"Row09950\"},\"id\":\"8065\",\"type\":\"Row\"},{\"attributes\":{},\"id\":\"8135\",\"type\":\"ResetTool\"},{\"attributes\":{},\"id\":\"8119\",\"type\":\"LinearScale\"},{\"attributes\":{\"line_alpha\":0.2,\"line_color\":\"#e5ae38\",\"line_width\":2,\"x\":{\"field\":\"Time Period\"},\"y\":{\"field\":\"value\"}},\"id\":\"8198\",\"type\":\"Line\"}],\"root_ids\":[\"8043\",\"8317\"]},\"title\":\"Bokeh Application\",\"version\":\"2.4.3\"}};\n",
       "    var render_items = [{\"docid\":\"73afb52e-8bd6-4eef-b785-9a6fcf376cbc\",\"root_ids\":[\"8043\"],\"roots\":{\"8043\":\"e53516d8-bc8b-46ac-a75e-d287bb814e6d\"}}];\n",
       "    root.Bokeh.embed.embed_items_notebook(docs_json, render_items);\n",
       "    for (const render_item of render_items) {\n",
       "      for (const root_id of render_item.root_ids) {\n",
       "\tconst id_el = document.getElementById(root_id)\n",
       "\tif (id_el.children.length && (id_el.children[0].className === 'bk-root')) {\n",
       "\t  const root_el = id_el.children[0]\n",
       "\t  root_el.id = root_el.id + '-rendered'\n",
       "\t}\n",
       "      }\n",
       "    }\n",
       "  }\n",
       "  if (root.Bokeh !== undefined && root.Bokeh.Panel !== undefined) {\n",
       "    embed_document(root);\n",
       "  } else {\n",
       "    var attempts = 0;\n",
       "    var timer = setInterval(function(root) {\n",
       "      if (root.Bokeh !== undefined && root.Bokeh.Panel !== undefined) {\n",
       "        clearInterval(timer);\n",
       "        embed_document(root);\n",
       "      } else if (document.readyState == \"complete\") {\n",
       "        attempts++;\n",
       "        if (attempts > 200) {\n",
       "          clearInterval(timer);\n",
       "          console.log(\"Bokeh: ERROR: Unable to run BokehJS code because BokehJS library is missing\");\n",
       "        }\n",
       "      }\n",
       "    }, 25, root)\n",
       "  }\n",
       "})(window);</script>"
      ],
      "text/plain": [
       "Row\n",
       "    [0] Column(margin=5, name='ContinuousCompoundingCash..., width=300)\n",
       "        [0] StaticText(value='<b>ContinuousCompoundingC...)\n",
       "        [1] FloatInput(name='Present value', start=0, step=1, value=3000000)\n",
       "        [2] FloatInput(name='Annuity', step=1, value=125000.0)\n",
       "        [3] Checkbox(name='Perpetuity', value=True)\n",
       "        [4] IntSlider(end=100, name='N', value=36)\n",
       "    [1] ParamMethod(method, _pane=Row)"
      ]
     },
     "execution_count": 19,
     "metadata": {
      "application/vnd.holoviews_exec.v0+json": {
       "id": "8043"
      }
     },
     "output_type": "execute_result"
    }
   ],
   "source": [
    "cash_flow = CashFlow(interest_rate=i, present_value=3000000, annuity=1.5e6 / 12, perpetuity=True, N=36)\n",
    "pn.Row(cash_flow, cash_flow.view)"
   ]
  },
  {
   "cell_type": "markdown",
   "id": "24805731-1fa6-48a0-b2ad-ba98abf554c7",
   "metadata": {},
   "source": [
    "I have a question. If you have 1.4321 return rate over three years, what is the APY?"
   ]
  },
  {
   "cell_type": "code",
   "execution_count": 37,
   "id": "0f0026d0-3fc9-4b6a-90f2-4f66c6708cd7",
   "metadata": {
    "tags": []
   },
   "outputs": [],
   "source": [
    "class _InterestRate(InterestRate):\n",
    "        real_risk_free_interest_rate = pm.Number(\n",
    "            0.014321,\n",
    "            bounds=(0, None),\n",
    "            step=0.000001,\n",
    "            precedence=1)"
   ]
  },
  {
   "cell_type": "code",
   "execution_count": 38,
   "id": "c348bfa1-1666-42f0-bf73-82b9703a45af",
   "metadata": {
    "tags": []
   },
   "outputs": [
    {
     "data": {},
     "metadata": {},
     "output_type": "display_data"
    },
    {
     "data": {
      "application/vnd.holoviews_exec.v0+json": "",
      "text/html": [
       "<div id='8440'>\n",
       "  <div class=\"bk-root\" id=\"8a90101a-6158-4905-9d6c-9b974777636e\" data-root-id=\"8440\"></div>\n",
       "</div>\n",
       "<script type=\"application/javascript\">(function(root) {\n",
       "  function embed_document(root) {\n",
       "    var docs_json = {\"e055c336-6200-425c-8fbc-91f0f0673b1d\":{\"defs\":[{\"extends\":null,\"module\":null,\"name\":\"ReactiveHTML1\",\"overrides\":[],\"properties\":[]},{\"extends\":null,\"module\":null,\"name\":\"FlexBox1\",\"overrides\":[],\"properties\":[{\"default\":\"flex-start\",\"kind\":null,\"name\":\"align_content\"},{\"default\":\"flex-start\",\"kind\":null,\"name\":\"align_items\"},{\"default\":\"row\",\"kind\":null,\"name\":\"flex_direction\"},{\"default\":\"wrap\",\"kind\":null,\"name\":\"flex_wrap\"},{\"default\":\"flex-start\",\"kind\":null,\"name\":\"justify_content\"}]},{\"extends\":null,\"module\":null,\"name\":\"GridStack1\",\"overrides\":[],\"properties\":[{\"default\":\"warn\",\"kind\":null,\"name\":\"mode\"},{\"default\":null,\"kind\":null,\"name\":\"ncols\"},{\"default\":null,\"kind\":null,\"name\":\"nrows\"},{\"default\":true,\"kind\":null,\"name\":\"allow_resize\"},{\"default\":true,\"kind\":null,\"name\":\"allow_drag\"},{\"default\":[],\"kind\":null,\"name\":\"state\"}]},{\"extends\":null,\"module\":null,\"name\":\"click1\",\"overrides\":[],\"properties\":[{\"default\":\"\",\"kind\":null,\"name\":\"terminal_output\"},{\"default\":\"\",\"kind\":null,\"name\":\"debug_name\"},{\"default\":0,\"kind\":null,\"name\":\"clears\"}]},{\"extends\":null,\"module\":null,\"name\":\"NotificationAreaBase1\",\"overrides\":[],\"properties\":[{\"default\":\"bottom-right\",\"kind\":null,\"name\":\"position\"},{\"default\":0,\"kind\":null,\"name\":\"_clear\"}]},{\"extends\":null,\"module\":null,\"name\":\"NotificationArea1\",\"overrides\":[],\"properties\":[{\"default\":[],\"kind\":null,\"name\":\"notifications\"},{\"default\":\"bottom-right\",\"kind\":null,\"name\":\"position\"},{\"default\":0,\"kind\":null,\"name\":\"_clear\"},{\"default\":[{\"background\":\"#ffc107\",\"icon\":{\"className\":\"fas fa-exclamation-triangle\",\"color\":\"white\",\"tagName\":\"i\"},\"type\":\"warning\"},{\"background\":\"#007bff\",\"icon\":{\"className\":\"fas fa-info-circle\",\"color\":\"white\",\"tagName\":\"i\"},\"type\":\"info\"}],\"kind\":null,\"name\":\"types\"}]},{\"extends\":null,\"module\":null,\"name\":\"Notification\",\"overrides\":[],\"properties\":[{\"default\":null,\"kind\":null,\"name\":\"background\"},{\"default\":3000,\"kind\":null,\"name\":\"duration\"},{\"default\":null,\"kind\":null,\"name\":\"icon\"},{\"default\":\"\",\"kind\":null,\"name\":\"message\"},{\"default\":null,\"kind\":null,\"name\":\"notification_type\"},{\"default\":false,\"kind\":null,\"name\":\"_destroyed\"}]},{\"extends\":null,\"module\":null,\"name\":\"TemplateActions1\",\"overrides\":[],\"properties\":[{\"default\":0,\"kind\":null,\"name\":\"open_modal\"},{\"default\":0,\"kind\":null,\"name\":\"close_modal\"}]},{\"extends\":null,\"module\":null,\"name\":\"MaterialTemplateActions1\",\"overrides\":[],\"properties\":[{\"default\":0,\"kind\":null,\"name\":\"open_modal\"},{\"default\":0,\"kind\":null,\"name\":\"close_modal\"}]}],\"roots\":{\"references\":[{\"attributes\":{\"margin\":[5,10,5,10],\"placeholder\":\"0\",\"step\":0.01,\"title\":\"Inflation premium\",\"value\":0,\"value_throttled\":0},\"id\":\"8443\",\"type\":\"Spinner\"},{\"attributes\":{\"client_comm_id\":\"15acfc43f1a64a2bb15fc972422e9c1d\",\"comm_id\":\"f65d1b1b7e1c4f5992cf68a1f9d2f06b\",\"plot_id\":\"8440\"},\"id\":\"8447\",\"type\":\"panel.models.comm_manager.CommManager\"},{\"attributes\":{\"end\":1,\"margin\":[5,10,5,10],\"start\":0,\"step\":0.01,\"title\":\"Default risk premium\",\"value\":0},\"id\":\"8444\",\"type\":\"Slider\"},{\"attributes\":{\"margin\":[5,10,5,10],\"name\":\"\",\"text\":\"<b>_InterestRate</b>\"},\"id\":\"8441\",\"type\":\"Div\"},{\"attributes\":{\"low\":0,\"margin\":[5,10,5,10],\"placeholder\":\"0\",\"step\":1e-06,\"title\":\"Real risk free interest rate\",\"value\":0.014321,\"value_throttled\":0.014321},\"id\":\"8442\",\"type\":\"Spinner\"},{\"attributes\":{\"end\":1,\"margin\":[5,10,5,10],\"start\":0,\"step\":0.01,\"title\":\"Maturity premium\",\"value\":0},\"id\":\"8446\",\"type\":\"Slider\"},{\"attributes\":{\"end\":1,\"margin\":[5,10,5,10],\"start\":0,\"step\":0.01,\"title\":\"Liquidity premium\",\"value\":0},\"id\":\"8445\",\"type\":\"Slider\"},{\"attributes\":{\"children\":[{\"id\":\"8441\"},{\"id\":\"8442\"},{\"id\":\"8443\"},{\"id\":\"8444\"},{\"id\":\"8445\"},{\"id\":\"8446\"}],\"margin\":[5,5,5,5],\"min_width\":300,\"name\":\"_InterestRate\",\"width\":300},\"id\":\"8440\",\"type\":\"Column\"}],\"root_ids\":[\"8440\",\"8447\"]},\"title\":\"Bokeh Application\",\"version\":\"2.4.3\"}};\n",
       "    var render_items = [{\"docid\":\"e055c336-6200-425c-8fbc-91f0f0673b1d\",\"root_ids\":[\"8440\"],\"roots\":{\"8440\":\"8a90101a-6158-4905-9d6c-9b974777636e\"}}];\n",
       "    root.Bokeh.embed.embed_items_notebook(docs_json, render_items);\n",
       "    for (const render_item of render_items) {\n",
       "      for (const root_id of render_item.root_ids) {\n",
       "\tconst id_el = document.getElementById(root_id)\n",
       "\tif (id_el.children.length && (id_el.children[0].className === 'bk-root')) {\n",
       "\t  const root_el = id_el.children[0]\n",
       "\t  root_el.id = root_el.id + '-rendered'\n",
       "\t}\n",
       "      }\n",
       "    }\n",
       "  }\n",
       "  if (root.Bokeh !== undefined && root.Bokeh.Panel !== undefined) {\n",
       "    embed_document(root);\n",
       "  } else {\n",
       "    var attempts = 0;\n",
       "    var timer = setInterval(function(root) {\n",
       "      if (root.Bokeh !== undefined && root.Bokeh.Panel !== undefined) {\n",
       "        clearInterval(timer);\n",
       "        embed_document(root);\n",
       "      } else if (document.readyState == \"complete\") {\n",
       "        attempts++;\n",
       "        if (attempts > 200) {\n",
       "          clearInterval(timer);\n",
       "          console.log(\"Bokeh: ERROR: Unable to run BokehJS code because BokehJS library is missing\");\n",
       "        }\n",
       "      }\n",
       "    }, 25, root)\n",
       "  }\n",
       "})(window);</script>"
      ],
      "text/plain": [
       "Column(margin=5, name='_InterestRate', width=300)\n",
       "    [0] StaticText(value='<b>_InterestRate</b>')\n",
       "    [1] FloatInput(name='Real risk free i..., start=0, step=1e-06, value=0.014321)\n",
       "    [2] FloatInput(name='Inflation premium', step=0.01)\n",
       "    [3] FloatSlider(name='Default risk premium', step=0.01)\n",
       "    [4] FloatSlider(name='Liquidity premium', step=0.01)\n",
       "    [5] FloatSlider(name='Maturity premium', step=0.01)"
      ]
     },
     "execution_count": 38,
     "metadata": {
      "application/vnd.holoviews_exec.v0+json": {
       "id": "8440"
      }
     },
     "output_type": "execute_result"
    }
   ],
   "source": [
    "i = _InterestRate()\n",
    "pn.panel(i)"
   ]
  },
  {
   "cell_type": "code",
   "execution_count": 55,
   "id": "7493d0eb-8d2d-4cd0-aa35-11e424d11db5",
   "metadata": {
    "tags": []
   },
   "outputs": [
    {
     "data": {},
     "metadata": {},
     "output_type": "display_data"
    },
    {
     "data": {
      "application/vnd.holoviews_exec.v0+json": "",
      "text/html": [
       "<div id='8527'>\n",
       "  <div class=\"bk-root\" id=\"8cd7328e-a7e5-45d4-bdae-d3c2f2c41142\" data-root-id=\"8527\"></div>\n",
       "</div>\n",
       "<script type=\"application/javascript\">(function(root) {\n",
       "  function embed_document(root) {\n",
       "    var docs_json = {\"c44ec13d-542a-45ee-9f45-eed5db554d73\":{\"defs\":[{\"extends\":null,\"module\":null,\"name\":\"ReactiveHTML1\",\"overrides\":[],\"properties\":[]},{\"extends\":null,\"module\":null,\"name\":\"FlexBox1\",\"overrides\":[],\"properties\":[{\"default\":\"flex-start\",\"kind\":null,\"name\":\"align_content\"},{\"default\":\"flex-start\",\"kind\":null,\"name\":\"align_items\"},{\"default\":\"row\",\"kind\":null,\"name\":\"flex_direction\"},{\"default\":\"wrap\",\"kind\":null,\"name\":\"flex_wrap\"},{\"default\":\"flex-start\",\"kind\":null,\"name\":\"justify_content\"}]},{\"extends\":null,\"module\":null,\"name\":\"GridStack1\",\"overrides\":[],\"properties\":[{\"default\":\"warn\",\"kind\":null,\"name\":\"mode\"},{\"default\":null,\"kind\":null,\"name\":\"ncols\"},{\"default\":null,\"kind\":null,\"name\":\"nrows\"},{\"default\":true,\"kind\":null,\"name\":\"allow_resize\"},{\"default\":true,\"kind\":null,\"name\":\"allow_drag\"},{\"default\":[],\"kind\":null,\"name\":\"state\"}]},{\"extends\":null,\"module\":null,\"name\":\"click1\",\"overrides\":[],\"properties\":[{\"default\":\"\",\"kind\":null,\"name\":\"terminal_output\"},{\"default\":\"\",\"kind\":null,\"name\":\"debug_name\"},{\"default\":0,\"kind\":null,\"name\":\"clears\"}]},{\"extends\":null,\"module\":null,\"name\":\"NotificationAreaBase1\",\"overrides\":[],\"properties\":[{\"default\":\"bottom-right\",\"kind\":null,\"name\":\"position\"},{\"default\":0,\"kind\":null,\"name\":\"_clear\"}]},{\"extends\":null,\"module\":null,\"name\":\"NotificationArea1\",\"overrides\":[],\"properties\":[{\"default\":[],\"kind\":null,\"name\":\"notifications\"},{\"default\":\"bottom-right\",\"kind\":null,\"name\":\"position\"},{\"default\":0,\"kind\":null,\"name\":\"_clear\"},{\"default\":[{\"background\":\"#ffc107\",\"icon\":{\"className\":\"fas fa-exclamation-triangle\",\"color\":\"white\",\"tagName\":\"i\"},\"type\":\"warning\"},{\"background\":\"#007bff\",\"icon\":{\"className\":\"fas fa-info-circle\",\"color\":\"white\",\"tagName\":\"i\"},\"type\":\"info\"}],\"kind\":null,\"name\":\"types\"}]},{\"extends\":null,\"module\":null,\"name\":\"Notification\",\"overrides\":[],\"properties\":[{\"default\":null,\"kind\":null,\"name\":\"background\"},{\"default\":3000,\"kind\":null,\"name\":\"duration\"},{\"default\":null,\"kind\":null,\"name\":\"icon\"},{\"default\":\"\",\"kind\":null,\"name\":\"message\"},{\"default\":null,\"kind\":null,\"name\":\"notification_type\"},{\"default\":false,\"kind\":null,\"name\":\"_destroyed\"}]},{\"extends\":null,\"module\":null,\"name\":\"TemplateActions1\",\"overrides\":[],\"properties\":[{\"default\":0,\"kind\":null,\"name\":\"open_modal\"},{\"default\":0,\"kind\":null,\"name\":\"close_modal\"}]},{\"extends\":null,\"module\":null,\"name\":\"MaterialTemplateActions1\",\"overrides\":[],\"properties\":[{\"default\":0,\"kind\":null,\"name\":\"open_modal\"},{\"default\":0,\"kind\":null,\"name\":\"close_modal\"}]}],\"roots\":{\"references\":[{\"attributes\":{\"client_comm_id\":\"b13679837fe44e3d805b054ac1e5eca3\",\"comm_id\":\"d0e34637df4c428f8aad5d6f6bbed2eb\",\"plot_id\":\"8527\"},\"id\":\"8544\",\"type\":\"panel.models.comm_manager.CommManager\"},{\"attributes\":{\"children\":[{\"id\":\"8530\"},{\"id\":\"8531\"},{\"id\":\"8532\"},{\"id\":\"8533\"},{\"id\":\"8534\"}],\"margin\":[5,5,5,5],\"min_width\":300,\"name\":\"CashFlow\",\"width\":300},\"id\":\"8529\",\"type\":\"Column\"},{\"attributes\":{\"end\":1,\"margin\":[5,10,5,10],\"start\":0,\"step\":0.01,\"title\":\"Liquidity premium\",\"value\":0},\"id\":\"8542\",\"type\":\"Slider\"},{\"attributes\":{\"labels\":[\"Perpetuity\"],\"margin\":[5,10,5,10]},\"id\":\"8533\",\"type\":\"CheckboxGroup\"},{\"attributes\":{\"end\":1,\"margin\":[5,10,5,10],\"start\":0,\"step\":0.01,\"title\":\"Default risk premium\",\"value\":0},\"id\":\"8541\",\"type\":\"Slider\"},{\"attributes\":{\"margin\":[5,10,5,10],\"name\":\"\",\"text\":\"<b>CashFlow</b>\"},\"id\":\"8530\",\"type\":\"Div\"},{\"attributes\":{\"end\":1,\"margin\":[5,10,5,10],\"start\":0,\"step\":0.01,\"title\":\"Maturity premium\",\"value\":0},\"id\":\"8543\",\"type\":\"Slider\"},{\"attributes\":{\"children\":[{\"id\":\"8538\"},{\"id\":\"8539\"},{\"id\":\"8540\"},{\"id\":\"8541\"},{\"id\":\"8542\"},{\"id\":\"8543\"}],\"margin\":[5,5,5,5],\"min_width\":300,\"name\":\"_InterestRate\",\"width\":300},\"id\":\"8537\",\"type\":\"Column\"},{\"attributes\":{\"children\":[{\"id\":\"8529\"},{\"id\":\"8535\"}],\"margin\":[0,0,0,0],\"name\":\"Column10526\"},\"id\":\"8528\",\"type\":\"Column\"},{\"attributes\":{\"low\":0,\"margin\":[5,10,5,10],\"placeholder\":\"0\",\"title\":\"Present value\",\"value\":1,\"value_throttled\":1},\"id\":\"8531\",\"type\":\"Spinner\"},{\"attributes\":{\"margin\":[5,10,5,10],\"placeholder\":\"0\",\"step\":0.01,\"title\":\"Inflation premium\",\"value\":0,\"value_throttled\":0},\"id\":\"8540\",\"type\":\"Spinner\"},{\"attributes\":{\"children\":[{\"id\":\"8536\"}],\"margin\":[0,0,0,0],\"name\":\"Row10525\"},\"id\":\"8535\",\"type\":\"Row\"},{\"attributes\":{\"low\":0,\"margin\":[5,10,5,10],\"placeholder\":\"0\",\"step\":1e-06,\"title\":\"Real risk free interest rate\",\"value\":0.01433,\"value_throttled\":0.01433},\"id\":\"8539\",\"type\":\"Spinner\"},{\"attributes\":{\"margin\":[5,10,5,10],\"placeholder\":\"0\",\"title\":\"Annuity\",\"value\":0,\"value_throttled\":0},\"id\":\"8532\",\"type\":\"Spinner\"},{\"attributes\":{\"margin\":[5,5,5,5],\"name\":\"Str10523\",\"text\":\"&lt;pre&gt;1.043927455523861&lt;/pre&gt;\"},\"id\":\"8536\",\"type\":\"panel.models.markup.HTML\"},{\"attributes\":{\"margin\":[5,10,5,10],\"name\":\"\",\"text\":\"<b>_InterestRate</b>\"},\"id\":\"8538\",\"type\":\"Div\"},{\"attributes\":{\"children\":[{\"id\":\"8528\"},{\"id\":\"8537\"}],\"margin\":[0,0,0,0],\"name\":\"Row10541\"},\"id\":\"8527\",\"type\":\"Row\"},{\"attributes\":{\"end\":100,\"margin\":[5,10,5,10],\"start\":0,\"title\":\"N\",\"value\":3},\"id\":\"8534\",\"type\":\"Slider\"}],\"root_ids\":[\"8527\",\"8544\"]},\"title\":\"Bokeh Application\",\"version\":\"2.4.3\"}};\n",
       "    var render_items = [{\"docid\":\"c44ec13d-542a-45ee-9f45-eed5db554d73\",\"root_ids\":[\"8527\"],\"roots\":{\"8527\":\"8cd7328e-a7e5-45d4-bdae-d3c2f2c41142\"}}];\n",
       "    root.Bokeh.embed.embed_items_notebook(docs_json, render_items);\n",
       "    for (const render_item of render_items) {\n",
       "      for (const root_id of render_item.root_ids) {\n",
       "\tconst id_el = document.getElementById(root_id)\n",
       "\tif (id_el.children.length && (id_el.children[0].className === 'bk-root')) {\n",
       "\t  const root_el = id_el.children[0]\n",
       "\t  root_el.id = root_el.id + '-rendered'\n",
       "\t}\n",
       "      }\n",
       "    }\n",
       "  }\n",
       "  if (root.Bokeh !== undefined && root.Bokeh.Panel !== undefined) {\n",
       "    embed_document(root);\n",
       "  } else {\n",
       "    var attempts = 0;\n",
       "    var timer = setInterval(function(root) {\n",
       "      if (root.Bokeh !== undefined && root.Bokeh.Panel !== undefined) {\n",
       "        clearInterval(timer);\n",
       "        embed_document(root);\n",
       "      } else if (document.readyState == \"complete\") {\n",
       "        attempts++;\n",
       "        if (attempts > 200) {\n",
       "          clearInterval(timer);\n",
       "          console.log(\"Bokeh: ERROR: Unable to run BokehJS code because BokehJS library is missing\");\n",
       "        }\n",
       "      }\n",
       "    }, 25, root)\n",
       "  }\n",
       "})(window);</script>"
      ],
      "text/plain": [
       "Row\n",
       "    [0] Column\n",
       "        [0] Column(margin=5, name='CashFlow', width=300)\n",
       "            [0] StaticText(value='<b>CashFlow</b>')\n",
       "            [1] FloatInput(name='Present value', start=0, step=1, value=1)\n",
       "            [2] FloatInput(name='Annuity', step=1)\n",
       "            [3] Checkbox(name='Perpetuity')\n",
       "            [4] IntSlider(end=100, name='N', value=3)\n",
       "        [1] ParamMethod(method, _pane=Str)\n",
       "    [1] Column(margin=5, name='_InterestRate', width=300)\n",
       "        [0] StaticText(value='<b>_InterestRate</b>')\n",
       "        [1] FloatInput(name='Real risk free i..., start=0, step=1e-06, value=0.01433)\n",
       "        [2] FloatInput(name='Inflation premium', step=0.01)\n",
       "        [3] FloatSlider(name='Default risk premium', step=0.01)\n",
       "        [4] FloatSlider(name='Liquidity premium', step=0.01)\n",
       "        [5] FloatSlider(name='Maturity premium', step=0.01)"
      ]
     },
     "execution_count": 55,
     "metadata": {
      "application/vnd.holoviews_exec.v0+json": {
       "id": "8527"
      }
     },
     "output_type": "execute_result"
    }
   ],
   "source": [
    "c = CashFlow(i, present_value=1, annuity=0, N=3)\n",
    "pn.Row(pn.Column(c, c.future_lump_value), i)"
   ]
  },
  {
   "cell_type": "code",
   "execution_count": 69,
   "id": "a0abb078-4471-48dc-b765-a219c67f21c0",
   "metadata": {
    "tags": []
   },
   "outputs": [
    {
     "data": {
      "text/plain": [
       "'4.39274555238609%'"
      ]
     },
     "execution_count": 69,
     "metadata": {},
     "output_type": "execute_result"
    }
   ],
   "source": [
    "f\"{(c.future_lump_value() - 1) * 100}%\""
   ]
  },
  {
   "cell_type": "code",
   "execution_count": 74,
   "id": "e134671b-6440-4849-b11f-d2162dc51ae4",
   "metadata": {
    "tags": []
   },
   "outputs": [
    {
     "data": {},
     "metadata": {},
     "output_type": "display_data"
    },
    {
     "data": {},
     "metadata": {},
     "output_type": "display_data"
    },
    {
     "data": {
      "application/vnd.holoviews_exec.v0+json": "",
      "text/html": [
       "<div id='8547'>\n",
       "  <div class=\"bk-root\" id=\"6ef2dad7-d12f-4b70-8512-4f5dcdda3a02\" data-root-id=\"8547\"></div>\n",
       "</div>\n",
       "<script type=\"application/javascript\">(function(root) {\n",
       "  function embed_document(root) {\n",
       "    var docs_json = {\"bd31b1d0-c2b1-4b77-8d60-365513c5e789\":{\"defs\":[{\"extends\":null,\"module\":null,\"name\":\"ReactiveHTML1\",\"overrides\":[],\"properties\":[]},{\"extends\":null,\"module\":null,\"name\":\"FlexBox1\",\"overrides\":[],\"properties\":[{\"default\":\"flex-start\",\"kind\":null,\"name\":\"align_content\"},{\"default\":\"flex-start\",\"kind\":null,\"name\":\"align_items\"},{\"default\":\"row\",\"kind\":null,\"name\":\"flex_direction\"},{\"default\":\"wrap\",\"kind\":null,\"name\":\"flex_wrap\"},{\"default\":\"flex-start\",\"kind\":null,\"name\":\"justify_content\"}]},{\"extends\":null,\"module\":null,\"name\":\"GridStack1\",\"overrides\":[],\"properties\":[{\"default\":\"warn\",\"kind\":null,\"name\":\"mode\"},{\"default\":null,\"kind\":null,\"name\":\"ncols\"},{\"default\":null,\"kind\":null,\"name\":\"nrows\"},{\"default\":true,\"kind\":null,\"name\":\"allow_resize\"},{\"default\":true,\"kind\":null,\"name\":\"allow_drag\"},{\"default\":[],\"kind\":null,\"name\":\"state\"}]},{\"extends\":null,\"module\":null,\"name\":\"click1\",\"overrides\":[],\"properties\":[{\"default\":\"\",\"kind\":null,\"name\":\"terminal_output\"},{\"default\":\"\",\"kind\":null,\"name\":\"debug_name\"},{\"default\":0,\"kind\":null,\"name\":\"clears\"}]},{\"extends\":null,\"module\":null,\"name\":\"NotificationAreaBase1\",\"overrides\":[],\"properties\":[{\"default\":\"bottom-right\",\"kind\":null,\"name\":\"position\"},{\"default\":0,\"kind\":null,\"name\":\"_clear\"}]},{\"extends\":null,\"module\":null,\"name\":\"NotificationArea1\",\"overrides\":[],\"properties\":[{\"default\":[],\"kind\":null,\"name\":\"notifications\"},{\"default\":\"bottom-right\",\"kind\":null,\"name\":\"position\"},{\"default\":0,\"kind\":null,\"name\":\"_clear\"},{\"default\":[{\"background\":\"#ffc107\",\"icon\":{\"className\":\"fas fa-exclamation-triangle\",\"color\":\"white\",\"tagName\":\"i\"},\"type\":\"warning\"},{\"background\":\"#007bff\",\"icon\":{\"className\":\"fas fa-info-circle\",\"color\":\"white\",\"tagName\":\"i\"},\"type\":\"info\"}],\"kind\":null,\"name\":\"types\"}]},{\"extends\":null,\"module\":null,\"name\":\"Notification\",\"overrides\":[],\"properties\":[{\"default\":null,\"kind\":null,\"name\":\"background\"},{\"default\":3000,\"kind\":null,\"name\":\"duration\"},{\"default\":null,\"kind\":null,\"name\":\"icon\"},{\"default\":\"\",\"kind\":null,\"name\":\"message\"},{\"default\":null,\"kind\":null,\"name\":\"notification_type\"},{\"default\":false,\"kind\":null,\"name\":\"_destroyed\"}]},{\"extends\":null,\"module\":null,\"name\":\"TemplateActions1\",\"overrides\":[],\"properties\":[{\"default\":0,\"kind\":null,\"name\":\"open_modal\"},{\"default\":0,\"kind\":null,\"name\":\"close_modal\"}]},{\"extends\":null,\"module\":null,\"name\":\"MaterialTemplateActions1\",\"overrides\":[],\"properties\":[{\"default\":0,\"kind\":null,\"name\":\"open_modal\"},{\"default\":0,\"kind\":null,\"name\":\"close_modal\"}]}],\"roots\":{\"references\":[{\"attributes\":{},\"id\":\"8700\",\"type\":\"UnionRenderers\"},{\"attributes\":{\"coordinates\":null,\"group\":null,\"text\":\"Cash Flow\",\"text_color\":\"black\",\"text_font_size\":\"12pt\"},\"id\":\"8627\",\"type\":\"Title\"},{\"attributes\":{\"children\":[{\"id\":\"8578\"}],\"margin\":[0,0,0,0],\"name\":\"Row10634\"},\"id\":\"8577\",\"type\":\"Row\"},{\"attributes\":{\"line_color\":\"#6d904f\",\"line_width\":2,\"x\":{\"field\":\"Time Period\"},\"y\":{\"field\":\"value\"}},\"id\":\"8732\",\"type\":\"Line\"},{\"attributes\":{\"line_alpha\":0.1,\"line_color\":\"#fc4f30\",\"line_width\":2,\"x\":{\"field\":\"Time Period\"},\"y\":{\"field\":\"value\"}},\"id\":\"8687\",\"type\":\"Line\"},{\"attributes\":{\"data\":{\"Time Period\":[0,1,2,3],\"Time_Period\":[0,1,2,3],\"Variable\":[\"Cash Flow\",\"Cash Flow\",\"Cash Flow\",\"Cash Flow\"],\"value\":{\"__ndarray__\":\"AAAAAAAAAACACisVVFSNPwCzre/av40/gI96AOwsjj8=\",\"dtype\":\"float64\",\"order\":\"little\",\"shape\":[4]}},\"selected\":{\"id\":\"8730\"},\"selection_policy\":{\"id\":\"8750\"}},\"id\":\"8729\",\"type\":\"ColumnDataSource\"},{\"attributes\":{\"css_classes\":[\"markdown\"],\"margin\":[5,5,5,5],\"name\":\"Markdown10603\",\"text\":\"&lt;p&gt;Effective Rate&lt;/p&gt;\"},\"id\":\"8565\",\"type\":\"panel.models.markup.HTML\"},{\"attributes\":{\"line_alpha\":0.2,\"line_color\":\"#fc4f30\",\"line_width\":2,\"x\":{\"field\":\"Time Period\"},\"y\":{\"field\":\"value\"}},\"id\":\"8688\",\"type\":\"Line\"},{\"attributes\":{\"axis\":{\"id\":\"8635\"},\"coordinates\":null,\"grid_line_color\":null,\"group\":null,\"ticker\":null},\"id\":\"8638\",\"type\":\"Grid\"},{\"attributes\":{\"children\":[{\"id\":\"8563\"}],\"margin\":[0,0,0,0],\"name\":\"Row10602\"},\"id\":\"8562\",\"type\":\"Row\"},{\"attributes\":{\"margin\":[5,5,5,5],\"name\":\"Str10646\",\"text\":\"&lt;pre&gt;1.0&lt;/pre&gt;\"},\"id\":\"8584\",\"type\":\"panel.models.markup.HTML\"},{\"attributes\":{\"axis_label\":\"Time Period\",\"coordinates\":null,\"formatter\":{\"id\":\"8657\"},\"group\":null,\"major_label_policy\":{\"id\":\"8658\"},\"ticker\":{\"id\":\"8636\"}},\"id\":\"8635\",\"type\":\"LinearAxis\"},{\"attributes\":{},\"id\":\"8588\",\"type\":\"Selection\"},{\"attributes\":{},\"id\":\"8589\",\"type\":\"NumberFormatter\"},{\"attributes\":{},\"id\":\"8633\",\"type\":\"LinearScale\"},{\"attributes\":{\"line_color\":\"#fc4f30\",\"line_width\":2,\"x\":{\"field\":\"Time Period\"},\"y\":{\"field\":\"value\"}},\"id\":\"8686\",\"type\":\"Line\"},{\"attributes\":{\"coordinates\":null,\"data_source\":{\"id\":\"8683\"},\"glyph\":{\"id\":\"8686\"},\"group\":null,\"hover_glyph\":null,\"muted_glyph\":{\"id\":\"8688\"},\"nonselection_glyph\":{\"id\":\"8687\"},\"selection_glyph\":{\"id\":\"8704\"},\"view\":{\"id\":\"8690\"}},\"id\":\"8689\",\"type\":\"GlyphRenderer\"},{\"attributes\":{\"css_classes\":[\"markdown\"],\"margin\":[5,5,5,5],\"name\":\"Markdown10607\",\"text\":\"&lt;p&gt;Present Value Factor:&lt;/p&gt;\"},\"id\":\"8567\",\"type\":\"panel.models.markup.HTML\"},{\"attributes\":{\"css_classes\":[\"markdown\"],\"margin\":[5,5,5,5],\"name\":\"Markdown10642\",\"text\":\"&lt;p&gt;Total Present Value:&lt;/p&gt;\"},\"id\":\"8582\",\"type\":\"panel.models.markup.HTML\"},{\"attributes\":{\"label\":{\"value\":\"Annuity Value\"},\"renderers\":[{\"id\":\"8689\"}]},\"id\":\"8703\",\"type\":\"LegendItem\"},{\"attributes\":{\"label\":{\"value\":\"Total Value\"},\"renderers\":[{\"id\":\"8711\"}]},\"id\":\"8727\",\"type\":\"LegendItem\"},{\"attributes\":{},\"id\":\"8636\",\"type\":\"BasicTicker\"},{\"attributes\":{\"line_alpha\":0.1,\"line_color\":\"#6d904f\",\"line_width\":2,\"x\":{\"field\":\"Time Period\"},\"y\":{\"field\":\"value\"}},\"id\":\"8733\",\"type\":\"Line\"},{\"attributes\":{\"axis_label\":\"\",\"coordinates\":null,\"formatter\":{\"id\":\"8660\"},\"group\":null,\"major_label_policy\":{\"id\":\"8661\"},\"ticker\":{\"id\":\"8640\"}},\"id\":\"8639\",\"type\":\"LinearAxis\"},{\"attributes\":{\"line_alpha\":0.2,\"line_color\":\"#6d904f\",\"line_width\":2,\"x\":{\"field\":\"Time Period\"},\"y\":{\"field\":\"value\"}},\"id\":\"8734\",\"type\":\"Line\"},{\"attributes\":{},\"id\":\"8595\",\"type\":\"NumberEditor\"},{\"attributes\":{\"axis\":{\"id\":\"8639\"},\"coordinates\":null,\"dimension\":1,\"grid_line_color\":null,\"group\":null,\"ticker\":null},\"id\":\"8642\",\"type\":\"Grid\"},{\"attributes\":{\"source\":{\"id\":\"8729\"}},\"id\":\"8736\",\"type\":\"CDSView\"},{\"attributes\":{\"format\":\"0,0.0[00000]\"},\"id\":\"8594\",\"type\":\"NumberFormatter\"},{\"attributes\":{\"margin\":[5,5,5,5],\"name\":\"Str10632\",\"text\":\"&lt;pre&gt;0.0&lt;/pre&gt;\"},\"id\":\"8578\",\"type\":\"panel.models.markup.HTML\"},{\"attributes\":{},\"id\":\"8640\",\"type\":\"BasicTicker\"},{\"attributes\":{},\"id\":\"8590\",\"type\":\"IntEditor\"},{\"attributes\":{},\"id\":\"8658\",\"type\":\"AllLabels\"},{\"attributes\":{\"coordinates\":null,\"data_source\":{\"id\":\"8729\"},\"glyph\":{\"id\":\"8732\"},\"group\":null,\"hover_glyph\":null,\"muted_glyph\":{\"id\":\"8734\"},\"nonselection_glyph\":{\"id\":\"8733\"},\"selection_glyph\":{\"id\":\"8754\"},\"view\":{\"id\":\"8736\"}},\"id\":\"8735\",\"type\":\"GlyphRenderer\"},{\"attributes\":{\"label\":{\"value\":\"Cash Flow\"},\"renderers\":[{\"id\":\"8735\"}]},\"id\":\"8753\",\"type\":\"LegendItem\"},{\"attributes\":{\"editor\":{\"id\":\"8590\"},\"field\":\"Time_Period\",\"formatter\":{\"id\":\"8589\"},\"title\":\"Time Period\"},\"id\":\"8591\",\"type\":\"TableColumn\"},{\"attributes\":{\"children\":[{\"id\":\"8569\"}],\"margin\":[0,0,0,0],\"name\":\"Row10613\"},\"id\":\"8568\",\"type\":\"Row\"},{\"attributes\":{},\"id\":\"8643\",\"type\":\"SaveTool\"},{\"attributes\":{},\"id\":\"8644\",\"type\":\"PanTool\"},{\"attributes\":{},\"id\":\"8750\",\"type\":\"UnionRenderers\"},{\"attributes\":{\"css_classes\":[\"markdown\"],\"margin\":[5,5,5,5],\"name\":\"Markdown10628\",\"text\":\"&lt;p&gt;Present Annuity Value:&lt;/p&gt;\"},\"id\":\"8576\",\"type\":\"panel.models.markup.HTML\"},{\"attributes\":{\"children\":[{\"id\":\"8581\"}],\"margin\":[0,0,0,0],\"name\":\"Row10641\"},\"id\":\"8580\",\"type\":\"Row\"},{\"attributes\":{\"editor\":{\"id\":\"8595\"},\"field\":\"Lump_Value\",\"formatter\":{\"id\":\"8594\"},\"title\":\"Lump Value\"},\"id\":\"8596\",\"type\":\"TableColumn\"},{\"attributes\":{},\"id\":\"8645\",\"type\":\"WheelZoomTool\"},{\"attributes\":{\"overlay\":{\"id\":\"8648\"}},\"id\":\"8646\",\"type\":\"BoxZoomTool\"},{\"attributes\":{},\"id\":\"8647\",\"type\":\"ResetTool\"},{\"attributes\":{\"css_classes\":[\"markdown\"],\"margin\":[5,5,5,5],\"name\":\"Markdown10614\",\"text\":\"&lt;p&gt;Future Lump Value:&lt;/p&gt;\"},\"id\":\"8570\",\"type\":\"panel.models.markup.HTML\"},{\"attributes\":{},\"id\":\"8677\",\"type\":\"UnionRenderers\"},{\"attributes\":{\"children\":[{\"id\":\"8550\"},{\"id\":\"8551\"},{\"id\":\"8552\"},{\"id\":\"8553\"},{\"id\":\"8554\"}],\"margin\":[5,5,5,5],\"min_width\":300,\"name\":\"CashFlow\",\"width\":300},\"id\":\"8549\",\"type\":\"Column\"},{\"attributes\":{\"low\":0,\"margin\":[5,10,5,10],\"placeholder\":\"0\",\"step\":1e-06,\"title\":\"Real risk free interest rate\",\"value\":0.014321,\"value_throttled\":0.014321},\"id\":\"8557\",\"type\":\"Spinner\"},{\"attributes\":{\"bottom_units\":\"screen\",\"coordinates\":null,\"fill_alpha\":0.5,\"fill_color\":\"lightgrey\",\"group\":null,\"left_units\":\"screen\",\"level\":\"overlay\",\"line_alpha\":1.0,\"line_color\":\"black\",\"line_dash\":[4,4],\"line_width\":2,\"right_units\":\"screen\",\"syncable\":false,\"top_units\":\"screen\"},\"id\":\"8648\",\"type\":\"BoxAnnotation\"},{\"attributes\":{\"margin\":[5,5,5,5],\"name\":\"Str10618\",\"text\":\"&lt;pre&gt;1.0438992698630698&lt;/pre&gt;\"},\"id\":\"8572\",\"type\":\"panel.models.markup.HTML\"},{\"attributes\":{\"editor\":{\"id\":\"8610\"},\"field\":\"Cash_Flow\",\"formatter\":{\"id\":\"8609\"},\"title\":\"Cash Flow\"},\"id\":\"8611\",\"type\":\"TableColumn\"},{\"attributes\":{\"data\":{\"Time Period\":[0,1,2,3],\"Time_Period\":[0,1,2,3],\"Variable\":[\"Lump Value\",\"Lump Value\",\"Lump Value\",\"Lump Value\"],\"value\":{\"__ndarray__\":\"AAAAAAAA8D8VViqoqDrwP3uxCV4odvA/mqYKNoKy8D8=\",\"dtype\":\"float64\",\"order\":\"little\",\"shape\":[4]}},\"selected\":{\"id\":\"8663\"},\"selection_policy\":{\"id\":\"8677\"}},\"id\":\"8662\",\"type\":\"ColumnDataSource\"},{\"attributes\":{\"css_classes\":[\"markdown\"],\"margin\":[5,5,5,5],\"name\":\"Markdown10635\",\"text\":\"&lt;p&gt;Total Future Value:&lt;/p&gt;\"},\"id\":\"8579\",\"type\":\"panel.models.markup.HTML\"},{\"attributes\":{\"line_color\":\"#e5ae38\",\"line_width\":2,\"x\":{\"field\":\"Time Period\"},\"y\":{\"field\":\"value\"}},\"id\":\"8708\",\"type\":\"Line\"},{\"attributes\":{\"css_classes\":[\"markdown\"],\"margin\":[5,5,5,5],\"name\":\"Markdown10621\",\"text\":\"&lt;p&gt;Future Annuity Value:&lt;/p&gt;\"},\"id\":\"8573\",\"type\":\"panel.models.markup.HTML\"},{\"attributes\":{\"coordinates\":null,\"data_source\":{\"id\":\"8662\"},\"glyph\":{\"id\":\"8665\"},\"group\":null,\"hover_glyph\":null,\"muted_glyph\":{\"id\":\"8667\"},\"nonselection_glyph\":{\"id\":\"8666\"},\"selection_glyph\":{\"id\":\"8682\"},\"view\":{\"id\":\"8669\"}},\"id\":\"8668\",\"type\":\"GlyphRenderer\"},{\"attributes\":{\"click_policy\":\"mute\",\"coordinates\":null,\"group\":null,\"items\":[{\"id\":\"8681\"},{\"id\":\"8703\"},{\"id\":\"8727\"},{\"id\":\"8753\"}],\"location\":[0,0],\"title\":\"Variable\"},\"id\":\"8680\",\"type\":\"Legend\"},{\"attributes\":{\"children\":[{\"id\":\"8548\"},{\"id\":\"8562\"}],\"margin\":[0,0,0,0],\"name\":\"Row10900\"},\"id\":\"8547\",\"type\":\"Row\"},{\"attributes\":{\"margin\":[5,10,5,10],\"name\":\"\",\"text\":\"<b>CashFlow</b>\"},\"id\":\"8550\",\"type\":\"Div\"},{\"attributes\":{\"line_alpha\":0.2,\"line_color\":\"#30a2da\",\"line_width\":2,\"x\":{\"field\":\"Time Period\"},\"y\":{\"field\":\"value\"}},\"id\":\"8667\",\"type\":\"Line\"},{\"attributes\":{\"source\":{\"id\":\"8705\"}},\"id\":\"8712\",\"type\":\"CDSView\"},{\"attributes\":{},\"id\":\"8657\",\"type\":\"BasicTickFormatter\"},{\"attributes\":{\"margin\":[5,5,5,5],\"name\":\"Str10605\",\"text\":\"&lt;pre&gt;0.01442403679626203&lt;/pre&gt;\"},\"id\":\"8566\",\"type\":\"panel.models.markup.HTML\"},{\"attributes\":{\"line_color\":\"#fc4f30\",\"line_width\":2,\"x\":{\"field\":\"Time Period\"},\"y\":{\"field\":\"value\"}},\"id\":\"8704\",\"type\":\"Line\"},{\"attributes\":{\"margin\":[5,5,5,5],\"name\":\"Str10611\",\"text\":\"&lt;pre&gt;0.9579468334441619&lt;/pre&gt;\"},\"id\":\"8569\",\"type\":\"panel.models.markup.HTML\"},{\"attributes\":{\"data\":{\"Time Period\":[0,1,2,3],\"Time_Period\":[0,1,2,3],\"Variable\":[\"Annuity Value\",\"Annuity Value\",\"Annuity Value\",\"Annuity Value\"],\"value\":{\"__ndarray__\":\"AAAAAAAAAAAAAAAAAAAAAAAAAAAAAAAAAAAAAAAAAAA=\",\"dtype\":\"float64\",\"order\":\"little\",\"shape\":[4]}},\"selected\":{\"id\":\"8684\"},\"selection_policy\":{\"id\":\"8700\"}},\"id\":\"8683\",\"type\":\"ColumnDataSource\"},{\"attributes\":{\"format\":\"0,0.0[00000]\"},\"id\":\"8599\",\"type\":\"NumberFormatter\"},{\"attributes\":{\"source\":{\"id\":\"8587\"}},\"id\":\"8616\",\"type\":\"CDSView\"},{\"attributes\":{\"format\":\"0,0.0[00000]\"},\"id\":\"8609\",\"type\":\"NumberFormatter\"},{\"attributes\":{\"low\":0,\"margin\":[5,10,5,10],\"placeholder\":\"0\",\"title\":\"Present value\",\"value\":1,\"value_throttled\":1},\"id\":\"8551\",\"type\":\"Spinner\"},{\"attributes\":{\"end\":100,\"margin\":[5,10,5,10],\"start\":0,\"title\":\"N\",\"value\":3},\"id\":\"8554\",\"type\":\"Slider\"},{\"attributes\":{\"line_color\":\"#6d904f\",\"line_width\":2,\"x\":{\"field\":\"Time Period\"},\"y\":{\"field\":\"value\"}},\"id\":\"8754\",\"type\":\"Line\"},{\"attributes\":{\"children\":[{\"id\":\"8572\"}],\"margin\":[0,0,0,0],\"name\":\"Row10620\"},\"id\":\"8571\",\"type\":\"Row\"},{\"attributes\":{},\"id\":\"8610\",\"type\":\"NumberEditor\"},{\"attributes\":{\"client_comm_id\":\"2981cbc66fb546e9948b8afd2975c874\",\"comm_id\":\"37f6a4f097044d7889e2a242279d69e2\",\"plot_id\":\"8547\"},\"id\":\"8829\",\"type\":\"panel.models.comm_manager.CommManager\"},{\"attributes\":{},\"id\":\"8600\",\"type\":\"NumberEditor\"},{\"attributes\":{},\"id\":\"8706\",\"type\":\"Selection\"},{\"attributes\":{\"line_alpha\":0.2,\"line_color\":\"#e5ae38\",\"line_width\":2,\"x\":{\"field\":\"Time Period\"},\"y\":{\"field\":\"value\"}},\"id\":\"8710\",\"type\":\"Line\"},{\"attributes\":{\"data\":{\"Annuity_Value\":{\"__ndarray__\":\"AAAAAAAAAAAAAAAAAAAAAAAAAAAAAAAAAAAAAAAAAAA=\",\"dtype\":\"float64\",\"order\":\"little\",\"shape\":[4]},\"Cash_Flow\":{\"__ndarray__\":\"AAAAAAAAAACACisVVFSNPwCzre/av40/gI96AOwsjj8=\",\"dtype\":\"float64\",\"order\":\"little\",\"shape\":[4]},\"Lump_Value\":{\"__ndarray__\":\"AAAAAAAA8D8VViqoqDrwP3uxCV4odvA/mqYKNoKy8D8=\",\"dtype\":\"float64\",\"order\":\"little\",\"shape\":[4]},\"Time_Period\":[0,1,2,3],\"Total_Value\":{\"__ndarray__\":\"AAAAAAAA8D8VViqoqDrwP3uxCV4odvA/mqYKNoKy8D8=\",\"dtype\":\"float64\",\"order\":\"little\",\"shape\":[4]}},\"selected\":{\"id\":\"8588\"},\"selection_policy\":{\"id\":\"8617\"}},\"id\":\"8587\",\"type\":\"ColumnDataSource\"},{\"attributes\":{\"format\":\"0,0.0[00000]\"},\"id\":\"8604\",\"type\":\"NumberFormatter\"},{\"attributes\":{\"source\":{\"id\":\"8662\"}},\"id\":\"8669\",\"type\":\"CDSView\"},{\"attributes\":{\"children\":[{\"id\":\"8565\"},{\"id\":\"8566\"},{\"id\":\"8567\"},{\"id\":\"8568\"},{\"id\":\"8570\"},{\"id\":\"8571\"},{\"id\":\"8573\"},{\"id\":\"8574\"},{\"id\":\"8576\"},{\"id\":\"8577\"},{\"id\":\"8579\"},{\"id\":\"8580\"},{\"id\":\"8582\"},{\"id\":\"8583\"}],\"margin\":[0,0,0,0],\"name\":\"Column10649\"},\"id\":\"8564\",\"type\":\"Column\"},{\"attributes\":{\"line_alpha\":0.1,\"line_color\":\"#30a2da\",\"line_width\":2,\"x\":{\"field\":\"Time Period\"},\"y\":{\"field\":\"value\"}},\"id\":\"8666\",\"type\":\"Line\"},{\"attributes\":{\"label\":{\"value\":\"Lump Value\"},\"renderers\":[{\"id\":\"8668\"}]},\"id\":\"8681\",\"type\":\"LegendItem\"},{\"attributes\":{\"coordinates\":null,\"data_source\":{\"id\":\"8705\"},\"glyph\":{\"id\":\"8708\"},\"group\":null,\"hover_glyph\":null,\"muted_glyph\":{\"id\":\"8710\"},\"nonselection_glyph\":{\"id\":\"8709\"},\"selection_glyph\":{\"id\":\"8728\"},\"view\":{\"id\":\"8712\"}},\"id\":\"8711\",\"type\":\"GlyphRenderer\"},{\"attributes\":{\"margin\":[5,10,5,10],\"name\":\"\",\"text\":\"<b>_InterestRate</b>\"},\"id\":\"8556\",\"type\":\"Div\"},{\"attributes\":{},\"id\":\"8724\",\"type\":\"UnionRenderers\"},{\"attributes\":{\"children\":[{\"id\":\"8614\"}],\"margin\":[0,0,0,0],\"name\":\"Row10654\"},\"id\":\"8586\",\"type\":\"Row\"},{\"attributes\":{\"line_alpha\":0.1,\"line_color\":\"#e5ae38\",\"line_width\":2,\"x\":{\"field\":\"Time Period\"},\"y\":{\"field\":\"value\"}},\"id\":\"8709\",\"type\":\"Line\"},{\"attributes\":{\"margin\":[5,10,5,10],\"placeholder\":\"0\",\"title\":\"Annuity\",\"value\":0,\"value_throttled\":0},\"id\":\"8552\",\"type\":\"Spinner\"},{\"attributes\":{\"line_color\":\"#30a2da\",\"line_width\":2,\"x\":{\"field\":\"Time Period\"},\"y\":{\"field\":\"value\"}},\"id\":\"8665\",\"type\":\"Line\"},{\"attributes\":{\"editor\":{\"id\":\"8600\"},\"field\":\"Annuity_Value\",\"formatter\":{\"id\":\"8599\"},\"title\":\"Annuity Value\"},\"id\":\"8601\",\"type\":\"TableColumn\"},{\"attributes\":{\"children\":[{\"id\":\"8586\"},{\"id\":\"8619\"}],\"margin\":[0,0,0,0],\"name\":\"Column10897\"},\"id\":\"8585\",\"type\":\"Column\"},{\"attributes\":{\"children\":[{\"id\":\"8626\"}],\"margin\":[0,0,0,0],\"name\":\"Row10713\",\"sizing_mode\":\"fixed\"},\"id\":\"8619\",\"type\":\"Row\"},{\"attributes\":{\"labels\":[\"Perpetuity\"],\"margin\":[5,10,5,10]},\"id\":\"8553\",\"type\":\"CheckboxGroup\"},{\"attributes\":{\"children\":[{\"id\":\"8584\"}],\"margin\":[0,0,0,0],\"name\":\"Row10648\"},\"id\":\"8583\",\"type\":\"Row\"},{\"attributes\":{},\"id\":\"8663\",\"type\":\"Selection\"},{\"attributes\":{\"end\":1.1479393312549782,\"reset_end\":1.1479393312549782,\"reset_start\":-0.10435812102317983,\"start\":-0.10435812102317983,\"tags\":[[[\"value\",\"value\",null]]]},\"id\":\"8621\",\"type\":\"Range1d\"},{\"attributes\":{\"callback\":null,\"renderers\":[{\"id\":\"8668\"},{\"id\":\"8689\"},{\"id\":\"8711\"},{\"id\":\"8735\"}],\"tags\":[\"hv_created\"],\"tooltips\":[[\"Variable\",\"@{Variable}\"],[\"Time Period\",\"@{Time_Period}\"],[\"value\",\"@{value}\"]]},\"id\":\"8622\",\"type\":\"HoverTool\"},{\"attributes\":{\"children\":[{\"id\":\"8575\"}],\"margin\":[0,0,0,0],\"name\":\"Row10627\"},\"id\":\"8574\",\"type\":\"Row\"},{\"attributes\":{\"below\":[{\"id\":\"8635\"}],\"center\":[{\"id\":\"8638\"},{\"id\":\"8642\"}],\"height\":300,\"left\":[{\"id\":\"8639\"}],\"margin\":[5,5,5,5],\"min_border_bottom\":10,\"min_border_left\":10,\"min_border_right\":10,\"min_border_top\":10,\"name\":\"ParamMethod10709\",\"renderers\":[{\"id\":\"8668\"},{\"id\":\"8689\"},{\"id\":\"8711\"},{\"id\":\"8735\"}],\"right\":[{\"id\":\"8680\"}],\"sizing_mode\":\"fixed\",\"title\":{\"id\":\"8627\"},\"toolbar\":{\"id\":\"8649\"},\"width\":700,\"x_range\":{\"id\":\"8620\"},\"x_scale\":{\"id\":\"8631\"},\"y_range\":{\"id\":\"8621\"},\"y_scale\":{\"id\":\"8633\"}},\"id\":\"8626\",\"subtype\":\"Figure\",\"type\":\"Plot\"},{\"attributes\":{\"end\":1,\"margin\":[5,10,5,10],\"start\":0,\"step\":0.01,\"title\":\"Default risk premium\",\"value\":0},\"id\":\"8559\",\"type\":\"Slider\"},{\"attributes\":{\"editor\":{\"id\":\"8605\"},\"field\":\"Total_Value\",\"formatter\":{\"id\":\"8604\"},\"title\":\"Total Value\"},\"id\":\"8606\",\"type\":\"TableColumn\"},{\"attributes\":{},\"id\":\"8605\",\"type\":\"NumberEditor\"},{\"attributes\":{\"end\":1,\"margin\":[5,10,5,10],\"start\":0,\"step\":0.01,\"title\":\"Maturity premium\",\"value\":0},\"id\":\"8561\",\"type\":\"Slider\"},{\"attributes\":{\"active_drag\":{\"id\":\"8644\"},\"active_scroll\":{\"id\":\"8645\"},\"tools\":[{\"id\":\"8622\"},{\"id\":\"8643\"},{\"id\":\"8644\"},{\"id\":\"8645\"},{\"id\":\"8646\"},{\"id\":\"8647\"}]},\"id\":\"8649\",\"type\":\"Toolbar\"},{\"attributes\":{\"end\":1,\"margin\":[5,10,5,10],\"start\":0,\"step\":0.01,\"title\":\"Liquidity premium\",\"value\":0},\"id\":\"8560\",\"type\":\"Slider\"},{\"attributes\":{\"end\":3.0,\"reset_end\":3.0,\"reset_start\":0.0,\"tags\":[[[\"Time Period\",\"Time Period\",null]]]},\"id\":\"8620\",\"type\":\"Range1d\"},{\"attributes\":{\"columns\":[{\"id\":\"8591\"},{\"id\":\"8596\"},{\"id\":\"8601\"},{\"id\":\"8606\"},{\"id\":\"8611\"}],\"height\":300,\"name\":\"ParamMethod10650\",\"reorderable\":false,\"source\":{\"id\":\"8587\"},\"view\":{\"id\":\"8616\"},\"width\":700},\"id\":\"8614\",\"type\":\"DataTable\"},{\"attributes\":{},\"id\":\"8660\",\"type\":\"BasicTickFormatter\"},{\"attributes\":{},\"id\":\"8684\",\"type\":\"Selection\"},{\"attributes\":{\"line_color\":\"#30a2da\",\"line_width\":2,\"x\":{\"field\":\"Time Period\"},\"y\":{\"field\":\"value\"}},\"id\":\"8682\",\"type\":\"Line\"},{\"attributes\":{\"children\":[{\"id\":\"8564\"},{\"id\":\"8585\"}],\"margin\":[0,0,0,0],\"name\":\"Row10898\"},\"id\":\"8563\",\"type\":\"Row\"},{\"attributes\":{},\"id\":\"8631\",\"type\":\"LinearScale\"},{\"attributes\":{\"margin\":[5,10,5,10],\"placeholder\":\"0\",\"step\":0.01,\"title\":\"Inflation premium\",\"value\":0,\"value_throttled\":0},\"id\":\"8558\",\"type\":\"Spinner\"},{\"attributes\":{},\"id\":\"8730\",\"type\":\"Selection\"},{\"attributes\":{\"margin\":[5,5,5,5],\"name\":\"Str10625\",\"text\":\"&lt;pre&gt;0.0&lt;/pre&gt;\"},\"id\":\"8575\",\"type\":\"panel.models.markup.HTML\"},{\"attributes\":{\"children\":[{\"id\":\"8556\"},{\"id\":\"8557\"},{\"id\":\"8558\"},{\"id\":\"8559\"},{\"id\":\"8560\"},{\"id\":\"8561\"}],\"margin\":[5,5,5,5],\"min_width\":300,\"name\":\"_InterestRate\",\"width\":300},\"id\":\"8555\",\"type\":\"Column\"},{\"attributes\":{\"data\":{\"Time Period\":[0,1,2,3],\"Time_Period\":[0,1,2,3],\"Variable\":[\"Total Value\",\"Total Value\",\"Total Value\",\"Total Value\"],\"value\":{\"__ndarray__\":\"AAAAAAAA8D8VViqoqDrwP3uxCV4odvA/mqYKNoKy8D8=\",\"dtype\":\"float64\",\"order\":\"little\",\"shape\":[4]}},\"selected\":{\"id\":\"8706\"},\"selection_policy\":{\"id\":\"8724\"}},\"id\":\"8705\",\"type\":\"ColumnDataSource\"},{\"attributes\":{\"margin\":[5,5,5,5],\"name\":\"Str10639\",\"text\":\"&lt;pre&gt;1.0435812102317983&lt;/pre&gt;\"},\"id\":\"8581\",\"type\":\"panel.models.markup.HTML\"},{\"attributes\":{},\"id\":\"8617\",\"type\":\"UnionRenderers\"},{\"attributes\":{\"source\":{\"id\":\"8683\"}},\"id\":\"8690\",\"type\":\"CDSView\"},{\"attributes\":{\"children\":[{\"id\":\"8549\"},{\"id\":\"8555\"}],\"margin\":[0,0,0,0],\"name\":\"Column10597\"},\"id\":\"8548\",\"type\":\"Column\"},{\"attributes\":{\"line_color\":\"#e5ae38\",\"line_width\":2,\"x\":{\"field\":\"Time Period\"},\"y\":{\"field\":\"value\"}},\"id\":\"8728\",\"type\":\"Line\"},{\"attributes\":{},\"id\":\"8661\",\"type\":\"AllLabels\"}],\"root_ids\":[\"8547\",\"8829\"]},\"title\":\"Bokeh Application\",\"version\":\"2.4.3\"}};\n",
       "    var render_items = [{\"docid\":\"bd31b1d0-c2b1-4b77-8d60-365513c5e789\",\"root_ids\":[\"8547\"],\"roots\":{\"8547\":\"6ef2dad7-d12f-4b70-8512-4f5dcdda3a02\"}}];\n",
       "    root.Bokeh.embed.embed_items_notebook(docs_json, render_items);\n",
       "    for (const render_item of render_items) {\n",
       "      for (const root_id of render_item.root_ids) {\n",
       "\tconst id_el = document.getElementById(root_id)\n",
       "\tif (id_el.children.length && (id_el.children[0].className === 'bk-root')) {\n",
       "\t  const root_el = id_el.children[0]\n",
       "\t  root_el.id = root_el.id + '-rendered'\n",
       "\t}\n",
       "      }\n",
       "    }\n",
       "  }\n",
       "  if (root.Bokeh !== undefined && root.Bokeh.Panel !== undefined) {\n",
       "    embed_document(root);\n",
       "  } else {\n",
       "    var attempts = 0;\n",
       "    var timer = setInterval(function(root) {\n",
       "      if (root.Bokeh !== undefined && root.Bokeh.Panel !== undefined) {\n",
       "        clearInterval(timer);\n",
       "        embed_document(root);\n",
       "      } else if (document.readyState == \"complete\") {\n",
       "        attempts++;\n",
       "        if (attempts > 200) {\n",
       "          clearInterval(timer);\n",
       "          console.log(\"Bokeh: ERROR: Unable to run BokehJS code because BokehJS library is missing\");\n",
       "        }\n",
       "      }\n",
       "    }, 25, root)\n",
       "  }\n",
       "})(window);</script>"
      ],
      "text/plain": [
       "Row\n",
       "    [0] Column\n",
       "        [0] Column(margin=5, name='CashFlow', width=300)\n",
       "            [0] StaticText(value='<b>CashFlow</b>')\n",
       "            [1] FloatInput(name='Present value', start=0, step=1, value=1)\n",
       "            [2] FloatInput(name='Annuity', step=1)\n",
       "            [3] Checkbox(name='Perpetuity')\n",
       "            [4] IntSlider(end=100, name='N', value=3)\n",
       "        [1] Column(margin=5, name='_InterestRate', width=300)\n",
       "            [0] StaticText(value='<b>_InterestRate</b>')\n",
       "            [1] FloatInput(name='Real risk free i..., start=0, step=1e-06, value=0.014321)\n",
       "            [2] FloatInput(name='Inflation premium', step=0.01)\n",
       "            [3] FloatSlider(name='Default risk premium', step=0.01)\n",
       "            [4] FloatSlider(name='Liquidity premium', step=0.01)\n",
       "            [5] FloatSlider(name='Maturity premium', step=0.01)\n",
       "    [1] ParamMethod(method, _pane=Row)"
      ]
     },
     "execution_count": 74,
     "metadata": {
      "application/vnd.holoviews_exec.v0+json": {
       "id": "8547"
      }
     },
     "output_type": "execute_result"
    }
   ],
   "source": [
    "pn.Row(pn.Column(c, i), c.view)"
   ]
  }
 ],
 "metadata": {
  "kernelspec": {
   "display_name": "Python 3 (ipykernel)",
   "language": "python",
   "name": "python3"
  },
  "language_info": {
   "codemirror_mode": {
    "name": "ipython",
    "version": 3
   },
   "file_extension": ".py",
   "mimetype": "text/x-python",
   "name": "python",
   "nbconvert_exporter": "python",
   "pygments_lexer": "ipython3",
   "version": "3.10.6"
  }
 },
 "nbformat": 4,
 "nbformat_minor": 5
}
