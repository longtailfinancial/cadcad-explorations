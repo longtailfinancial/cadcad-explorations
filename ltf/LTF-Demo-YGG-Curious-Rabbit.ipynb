{
 "cells": [
  {
   "cell_type": "markdown",
   "id": "d3f30ad5-f043-4afe-87b0-6870ba9e3207",
   "metadata": {},
   "source": [
    "Let's show how to interactively design a bonding curve via parameterized modelling with python param and panel. This is essentially a showcase of the holoviz ecosystem applied towards exploratory token engineering via models and simulations."
   ]
  },
  {
   "cell_type": "markdown",
   "id": "f97613c6-7264-48de-9c47-f38b2d9aaf72",
   "metadata": {},
   "source": [
    "First, we are going to use a sigmoid bonding curve that has been previously developed. Secondly, we will explore a business data model. Finally, we will combine the two models into an integrated simulation."
   ]
  },
  {
   "cell_type": "markdown",
   "id": "e9efa433-6c8d-4319-b5f7-e56b16da916a",
   "metadata": {},
   "source": [
    "* Bonding Curve and TE Business Model Combined Simulation\n",
    "* Panel, Param, and the Holoviz Ecosystem\n",
    "* Python Packages of Parameterized Models\n",
    "* Integrated models and simulations. \n",
    "* Stochastic and Non-stochastic modelling\n",
    "* Data schematization of protocols\n",
    "* Interactive Exploratory Dashboarding\n",
    "* Data Visualizations"
   ]
  },
  {
   "cell_type": "code",
   "execution_count": null,
   "id": "92e7c4b2-d6bc-4ce1-9b19-44c09127a039",
   "metadata": {},
   "outputs": [],
   "source": []
  }
 ],
 "metadata": {
  "kernelspec": {
   "display_name": "Python 3 (ipykernel)",
   "language": "python",
   "name": "python3"
  },
  "language_info": {
   "codemirror_mode": {
    "name": "ipython",
    "version": 3
   },
   "file_extension": ".py",
   "mimetype": "text/x-python",
   "name": "python",
   "nbconvert_exporter": "python",
   "pygments_lexer": "ipython3",
   "version": "3.10.6"
  }
 },
 "nbformat": 4,
 "nbformat_minor": 5
}
