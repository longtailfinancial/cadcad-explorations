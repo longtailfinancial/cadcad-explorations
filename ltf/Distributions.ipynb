{
 "cells": [
  {
   "cell_type": "markdown",
   "id": "d4fa1ab4",
   "metadata": {},
   "source": [
    "# LTF Distributions Modelling"
   ]
  },
  {
   "cell_type": "markdown",
   "id": "d8873a31",
   "metadata": {},
   "source": [
    "Note: Setup the Virtual Env for this notebook to use Python 3.7 "
   ]
  },
  {
   "cell_type": "code",
   "execution_count": 1,
   "id": "6804f77a-2ae8-4543-a2e2-fb6a846c6f24",
   "metadata": {},
   "outputs": [],
   "source": [
    "%reload_ext autoreload\n",
    "%autoreload 2"
   ]
  },
  {
   "cell_type": "code",
   "execution_count": 2,
   "id": "4ff56832",
   "metadata": {
    "scrolled": true
   },
   "outputs": [
    {
     "data": {
      "application/javascript": [
       "\n",
       "(function(root) {\n",
       "  function now() {\n",
       "    return new Date();\n",
       "  }\n",
       "\n",
       "  var force = true;\n",
       "\n",
       "  if (typeof root._bokeh_onload_callbacks === \"undefined\" || force === true) {\n",
       "    root._bokeh_onload_callbacks = [];\n",
       "    root._bokeh_is_loading = undefined;\n",
       "  }\n",
       "\n",
       "  if (typeof (root._bokeh_timeout) === \"undefined\" || force === true) {\n",
       "    root._bokeh_timeout = Date.now() + 5000;\n",
       "    root._bokeh_failed_load = false;\n",
       "  }\n",
       "\n",
       "  function run_callbacks() {\n",
       "    try {\n",
       "      root._bokeh_onload_callbacks.forEach(function(callback) {\n",
       "        if (callback != null)\n",
       "          callback();\n",
       "      });\n",
       "    } finally {\n",
       "      delete root._bokeh_onload_callbacks\n",
       "    }\n",
       "    console.debug(\"Bokeh: all callbacks have finished\");\n",
       "  }\n",
       "\n",
       "  function load_libs(css_urls, js_urls, js_modules, callback) {\n",
       "    if (css_urls == null) css_urls = [];\n",
       "    if (js_urls == null) js_urls = [];\n",
       "    if (js_modules == null) js_modules = [];\n",
       "\n",
       "    root._bokeh_onload_callbacks.push(callback);\n",
       "    if (root._bokeh_is_loading > 0) {\n",
       "      console.debug(\"Bokeh: BokehJS is being loaded, scheduling callback at\", now());\n",
       "      return null;\n",
       "    }\n",
       "    if (js_urls.length === 0 && js_modules.length === 0) {\n",
       "      run_callbacks();\n",
       "      return null;\n",
       "    }\n",
       "    console.debug(\"Bokeh: BokehJS not loaded, scheduling load and callback at\", now());\n",
       "\n",
       "    function on_load() {\n",
       "      root._bokeh_is_loading--;\n",
       "      if (root._bokeh_is_loading === 0) {\n",
       "        console.debug(\"Bokeh: all BokehJS libraries/stylesheets loaded\");\n",
       "        run_callbacks()\n",
       "      }\n",
       "    }\n",
       "\n",
       "    function on_error() {\n",
       "      console.error(\"failed to load \" + url);\n",
       "    }\n",
       "\n",
       "    for (var i = 0; i < css_urls.length; i++) {\n",
       "      var url = css_urls[i];\n",
       "      const element = document.createElement(\"link\");\n",
       "      element.onload = on_load;\n",
       "      element.onerror = on_error;\n",
       "      element.rel = \"stylesheet\";\n",
       "      element.type = \"text/css\";\n",
       "      element.href = url;\n",
       "      console.debug(\"Bokeh: injecting link tag for BokehJS stylesheet: \", url);\n",
       "      document.body.appendChild(element);\n",
       "    }\n",
       "\n",
       "    var skip = [];\n",
       "    if (window.requirejs) {\n",
       "      window.requirejs.config({'packages': {}, 'paths': {'echarts': 'https://cdn.jsdelivr.net/npm/echarts@5.0.2/dist/echarts.min', 'echarts-gl': 'https://cdn.jsdelivr.net/npm/echarts-gl@2.0.2/dist/echarts-gl.min.js'}, 'shim': {}});\n",
       "      \n",
       "      require([\"echarts\"], function() {\n",
       "\t\n",
       "\ton_load()\n",
       "      })\n",
       "      \n",
       "      require([\"echarts-gl\"], function() {\n",
       "\t\n",
       "\ton_load()\n",
       "      })\n",
       "      \n",
       "      root._bokeh_is_loading = css_urls.length + 2;\n",
       "    } else {\n",
       "      root._bokeh_is_loading = css_urls.length + js_urls.length + js_modules.length;\n",
       "    }\n",
       "    if (((window['echarts'] !== undefined) && (!(window['echarts'] instanceof HTMLElement))) || window.requirejs) {\n",
       "      var urls = ['https://cdn.jsdelivr.net/npm/echarts@5.0.2/dist/echarts.min.js'];\n",
       "      for (var i = 0; i < urls.length; i++) {\n",
       "        skip.push(urls[i])\n",
       "      }\n",
       "    }\n",
       "    for (var i = 0; i < js_urls.length; i++) {\n",
       "      var url = js_urls[i];\n",
       "      if (skip.indexOf(url) >= 0) {\n",
       "\tif (!window.requirejs) {\n",
       "\t  on_load();\n",
       "\t}\n",
       "\tcontinue;\n",
       "      }\n",
       "      var element = document.createElement('script');\n",
       "      element.onload = on_load;\n",
       "      element.onerror = on_error;\n",
       "      element.async = false;\n",
       "      element.src = url;\n",
       "      console.debug(\"Bokeh: injecting script tag for BokehJS library: \", url);\n",
       "      document.head.appendChild(element);\n",
       "    }\n",
       "    for (var i = 0; i < js_modules.length; i++) {\n",
       "      var url = js_modules[i];\n",
       "      if (skip.indexOf(url) >= 0) {\n",
       "\tif (!window.requirejs) {\n",
       "\t  on_load();\n",
       "\t}\n",
       "\tcontinue;\n",
       "      }\n",
       "      var element = document.createElement('script');\n",
       "      element.onload = on_load;\n",
       "      element.onerror = on_error;\n",
       "      element.async = false;\n",
       "      element.src = url;\n",
       "      element.type = \"module\";\n",
       "      console.debug(\"Bokeh: injecting script tag for BokehJS library: \", url);\n",
       "      document.head.appendChild(element);\n",
       "    }\n",
       "    if (!js_urls.length && !js_modules.length) {\n",
       "      on_load()\n",
       "    }\n",
       "  };\n",
       "\n",
       "  function inject_raw_css(css) {\n",
       "    const element = document.createElement(\"style\");\n",
       "    element.appendChild(document.createTextNode(css));\n",
       "    document.body.appendChild(element);\n",
       "  }\n",
       "\n",
       "  var js_urls = [\"https://cdn.jsdelivr.net/npm/echarts@5.0.2/dist/echarts.min.js\", \"https://cdn.jsdelivr.net/npm/echarts-gl@2.0.2/dist/echarts-gl.min.js\", \"https://cdn.bokeh.org/bokeh/release/bokeh-2.4.2.min.js\", \"https://cdn.bokeh.org/bokeh/release/bokeh-gl-2.4.2.min.js\", \"https://cdn.bokeh.org/bokeh/release/bokeh-widgets-2.4.2.min.js\", \"https://cdn.bokeh.org/bokeh/release/bokeh-tables-2.4.2.min.js\", \"https://cdn.bokeh.org/bokeh/release/bokeh-mathjax-2.4.2.min.js\", \"https://unpkg.com/@holoviz/panel@0.12.7/dist/panel.min.js\"];\n",
       "  var js_modules = [];\n",
       "  var css_urls = [\"https://unpkg.com/@holoviz/panel@0.12.7/dist/css/markdown.css\", \"https://unpkg.com/@holoviz/panel@0.12.7/dist/css/json.css\", \"https://unpkg.com/@holoviz/panel@0.12.7/dist/css/alerts.css\", \"https://unpkg.com/@holoviz/panel@0.12.7/dist/css/card.css\", \"https://unpkg.com/@holoviz/panel@0.12.7/dist/css/widgets.css\", \"https://unpkg.com/@holoviz/panel@0.12.7/dist/css/dataframe.css\", \"https://unpkg.com/@holoviz/panel@0.12.7/dist/css/loading.css\"];\n",
       "  var inline_js = [\n",
       "    function(Bokeh) {\n",
       "      inject_raw_css(\"\\n    .bk.pn-loading.arcs:before {\\n      background-image: url(\\\"data:image/svg+xml;base64,PHN2ZyB4bWxucz0iaHR0cDovL3d3dy53My5vcmcvMjAwMC9zdmciIHhtbG5zOnhsaW5rPSJodHRwOi8vd3d3LnczLm9yZy8xOTk5L3hsaW5rIiBzdHlsZT0ibWFyZ2luOiBhdXRvOyBiYWNrZ3JvdW5kOiBub25lOyBkaXNwbGF5OiBibG9jazsgc2hhcGUtcmVuZGVyaW5nOiBhdXRvOyIgdmlld0JveD0iMCAwIDEwMCAxMDAiIHByZXNlcnZlQXNwZWN0UmF0aW89InhNaWRZTWlkIj4gIDxjaXJjbGUgY3g9IjUwIiBjeT0iNTAiIHI9IjMyIiBzdHJva2Utd2lkdGg9IjgiIHN0cm9rZT0iI2MzYzNjMyIgc3Ryb2tlLWRhc2hhcnJheT0iNTAuMjY1NDgyNDU3NDM2NjkgNTAuMjY1NDgyNDU3NDM2NjkiIGZpbGw9Im5vbmUiIHN0cm9rZS1saW5lY2FwPSJyb3VuZCI+ICAgIDxhbmltYXRlVHJhbnNmb3JtIGF0dHJpYnV0ZU5hbWU9InRyYW5zZm9ybSIgdHlwZT0icm90YXRlIiByZXBlYXRDb3VudD0iaW5kZWZpbml0ZSIgZHVyPSIxcyIga2V5VGltZXM9IjA7MSIgdmFsdWVzPSIwIDUwIDUwOzM2MCA1MCA1MCI+PC9hbmltYXRlVHJhbnNmb3JtPiAgPC9jaXJjbGU+PC9zdmc+\\\");\\n      max-height: 400px;\\n    }\\n    \");\n",
       "    },\n",
       "    function(Bokeh) {\n",
       "      Bokeh.set_log_level(\"info\");\n",
       "    },\n",
       "    function(Bokeh) {} // ensure no trailing comma for IE\n",
       "  ];\n",
       "\n",
       "  function run_inline_js() {\n",
       "    if ((root.Bokeh !== undefined) || (force === true)) {\n",
       "      for (var i = 0; i < inline_js.length; i++) {\n",
       "        inline_js[i].call(root, root.Bokeh);\n",
       "      }} else if (Date.now() < root._bokeh_timeout) {\n",
       "      setTimeout(run_inline_js, 100);\n",
       "    } else if (!root._bokeh_failed_load) {\n",
       "      console.log(\"Bokeh: BokehJS failed to load within specified timeout.\");\n",
       "      root._bokeh_failed_load = true;\n",
       "    }\n",
       "  }\n",
       "\n",
       "  if (root._bokeh_is_loading === 0) {\n",
       "    console.debug(\"Bokeh: BokehJS loaded, going straight to plotting\");\n",
       "    run_inline_js();\n",
       "  } else {\n",
       "    load_libs(css_urls, js_urls, js_modules, function() {\n",
       "      console.debug(\"Bokeh: BokehJS plotting callback run at\", now());\n",
       "      run_inline_js();\n",
       "    });\n",
       "  }\n",
       "}(window));"
      ],
      "application/vnd.holoviews_load.v0+json": "\n(function(root) {\n  function now() {\n    return new Date();\n  }\n\n  var force = true;\n\n  if (typeof root._bokeh_onload_callbacks === \"undefined\" || force === true) {\n    root._bokeh_onload_callbacks = [];\n    root._bokeh_is_loading = undefined;\n  }\n\n  if (typeof (root._bokeh_timeout) === \"undefined\" || force === true) {\n    root._bokeh_timeout = Date.now() + 5000;\n    root._bokeh_failed_load = false;\n  }\n\n  function run_callbacks() {\n    try {\n      root._bokeh_onload_callbacks.forEach(function(callback) {\n        if (callback != null)\n          callback();\n      });\n    } finally {\n      delete root._bokeh_onload_callbacks\n    }\n    console.debug(\"Bokeh: all callbacks have finished\");\n  }\n\n  function load_libs(css_urls, js_urls, js_modules, callback) {\n    if (css_urls == null) css_urls = [];\n    if (js_urls == null) js_urls = [];\n    if (js_modules == null) js_modules = [];\n\n    root._bokeh_onload_callbacks.push(callback);\n    if (root._bokeh_is_loading > 0) {\n      console.debug(\"Bokeh: BokehJS is being loaded, scheduling callback at\", now());\n      return null;\n    }\n    if (js_urls.length === 0 && js_modules.length === 0) {\n      run_callbacks();\n      return null;\n    }\n    console.debug(\"Bokeh: BokehJS not loaded, scheduling load and callback at\", now());\n\n    function on_load() {\n      root._bokeh_is_loading--;\n      if (root._bokeh_is_loading === 0) {\n        console.debug(\"Bokeh: all BokehJS libraries/stylesheets loaded\");\n        run_callbacks()\n      }\n    }\n\n    function on_error() {\n      console.error(\"failed to load \" + url);\n    }\n\n    for (var i = 0; i < css_urls.length; i++) {\n      var url = css_urls[i];\n      const element = document.createElement(\"link\");\n      element.onload = on_load;\n      element.onerror = on_error;\n      element.rel = \"stylesheet\";\n      element.type = \"text/css\";\n      element.href = url;\n      console.debug(\"Bokeh: injecting link tag for BokehJS stylesheet: \", url);\n      document.body.appendChild(element);\n    }\n\n    var skip = [];\n    if (window.requirejs) {\n      window.requirejs.config({'packages': {}, 'paths': {'echarts': 'https://cdn.jsdelivr.net/npm/echarts@5.0.2/dist/echarts.min', 'echarts-gl': 'https://cdn.jsdelivr.net/npm/echarts-gl@2.0.2/dist/echarts-gl.min.js'}, 'shim': {}});\n      \n      require([\"echarts\"], function() {\n\t\n\ton_load()\n      })\n      \n      require([\"echarts-gl\"], function() {\n\t\n\ton_load()\n      })\n      \n      root._bokeh_is_loading = css_urls.length + 2;\n    } else {\n      root._bokeh_is_loading = css_urls.length + js_urls.length + js_modules.length;\n    }\n    if (((window['echarts'] !== undefined) && (!(window['echarts'] instanceof HTMLElement))) || window.requirejs) {\n      var urls = ['https://cdn.jsdelivr.net/npm/echarts@5.0.2/dist/echarts.min.js'];\n      for (var i = 0; i < urls.length; i++) {\n        skip.push(urls[i])\n      }\n    }\n    for (var i = 0; i < js_urls.length; i++) {\n      var url = js_urls[i];\n      if (skip.indexOf(url) >= 0) {\n\tif (!window.requirejs) {\n\t  on_load();\n\t}\n\tcontinue;\n      }\n      var element = document.createElement('script');\n      element.onload = on_load;\n      element.onerror = on_error;\n      element.async = false;\n      element.src = url;\n      console.debug(\"Bokeh: injecting script tag for BokehJS library: \", url);\n      document.head.appendChild(element);\n    }\n    for (var i = 0; i < js_modules.length; i++) {\n      var url = js_modules[i];\n      if (skip.indexOf(url) >= 0) {\n\tif (!window.requirejs) {\n\t  on_load();\n\t}\n\tcontinue;\n      }\n      var element = document.createElement('script');\n      element.onload = on_load;\n      element.onerror = on_error;\n      element.async = false;\n      element.src = url;\n      element.type = \"module\";\n      console.debug(\"Bokeh: injecting script tag for BokehJS library: \", url);\n      document.head.appendChild(element);\n    }\n    if (!js_urls.length && !js_modules.length) {\n      on_load()\n    }\n  };\n\n  function inject_raw_css(css) {\n    const element = document.createElement(\"style\");\n    element.appendChild(document.createTextNode(css));\n    document.body.appendChild(element);\n  }\n\n  var js_urls = [\"https://cdn.jsdelivr.net/npm/echarts@5.0.2/dist/echarts.min.js\", \"https://cdn.jsdelivr.net/npm/echarts-gl@2.0.2/dist/echarts-gl.min.js\", \"https://cdn.bokeh.org/bokeh/release/bokeh-2.4.2.min.js\", \"https://cdn.bokeh.org/bokeh/release/bokeh-gl-2.4.2.min.js\", \"https://cdn.bokeh.org/bokeh/release/bokeh-widgets-2.4.2.min.js\", \"https://cdn.bokeh.org/bokeh/release/bokeh-tables-2.4.2.min.js\", \"https://cdn.bokeh.org/bokeh/release/bokeh-mathjax-2.4.2.min.js\", \"https://unpkg.com/@holoviz/panel@0.12.7/dist/panel.min.js\"];\n  var js_modules = [];\n  var css_urls = [\"https://unpkg.com/@holoviz/panel@0.12.7/dist/css/markdown.css\", \"https://unpkg.com/@holoviz/panel@0.12.7/dist/css/json.css\", \"https://unpkg.com/@holoviz/panel@0.12.7/dist/css/alerts.css\", \"https://unpkg.com/@holoviz/panel@0.12.7/dist/css/card.css\", \"https://unpkg.com/@holoviz/panel@0.12.7/dist/css/widgets.css\", \"https://unpkg.com/@holoviz/panel@0.12.7/dist/css/dataframe.css\", \"https://unpkg.com/@holoviz/panel@0.12.7/dist/css/loading.css\"];\n  var inline_js = [\n    function(Bokeh) {\n      inject_raw_css(\"\\n    .bk.pn-loading.arcs:before {\\n      background-image: url(\\\"data:image/svg+xml;base64,PHN2ZyB4bWxucz0iaHR0cDovL3d3dy53My5vcmcvMjAwMC9zdmciIHhtbG5zOnhsaW5rPSJodHRwOi8vd3d3LnczLm9yZy8xOTk5L3hsaW5rIiBzdHlsZT0ibWFyZ2luOiBhdXRvOyBiYWNrZ3JvdW5kOiBub25lOyBkaXNwbGF5OiBibG9jazsgc2hhcGUtcmVuZGVyaW5nOiBhdXRvOyIgdmlld0JveD0iMCAwIDEwMCAxMDAiIHByZXNlcnZlQXNwZWN0UmF0aW89InhNaWRZTWlkIj4gIDxjaXJjbGUgY3g9IjUwIiBjeT0iNTAiIHI9IjMyIiBzdHJva2Utd2lkdGg9IjgiIHN0cm9rZT0iI2MzYzNjMyIgc3Ryb2tlLWRhc2hhcnJheT0iNTAuMjY1NDgyNDU3NDM2NjkgNTAuMjY1NDgyNDU3NDM2NjkiIGZpbGw9Im5vbmUiIHN0cm9rZS1saW5lY2FwPSJyb3VuZCI+ICAgIDxhbmltYXRlVHJhbnNmb3JtIGF0dHJpYnV0ZU5hbWU9InRyYW5zZm9ybSIgdHlwZT0icm90YXRlIiByZXBlYXRDb3VudD0iaW5kZWZpbml0ZSIgZHVyPSIxcyIga2V5VGltZXM9IjA7MSIgdmFsdWVzPSIwIDUwIDUwOzM2MCA1MCA1MCI+PC9hbmltYXRlVHJhbnNmb3JtPiAgPC9jaXJjbGU+PC9zdmc+\\\");\\n      max-height: 400px;\\n    }\\n    \");\n    },\n    function(Bokeh) {\n      Bokeh.set_log_level(\"info\");\n    },\n    function(Bokeh) {} // ensure no trailing comma for IE\n  ];\n\n  function run_inline_js() {\n    if ((root.Bokeh !== undefined) || (force === true)) {\n      for (var i = 0; i < inline_js.length; i++) {\n        inline_js[i].call(root, root.Bokeh);\n      }} else if (Date.now() < root._bokeh_timeout) {\n      setTimeout(run_inline_js, 100);\n    } else if (!root._bokeh_failed_load) {\n      console.log(\"Bokeh: BokehJS failed to load within specified timeout.\");\n      root._bokeh_failed_load = true;\n    }\n  }\n\n  if (root._bokeh_is_loading === 0) {\n    console.debug(\"Bokeh: BokehJS loaded, going straight to plotting\");\n    run_inline_js();\n  } else {\n    load_libs(css_urls, js_urls, js_modules, function() {\n      console.debug(\"Bokeh: BokehJS plotting callback run at\", now());\n      run_inline_js();\n    });\n  }\n}(window));"
     },
     "metadata": {},
     "output_type": "display_data"
    },
    {
     "data": {
      "application/javascript": [
       "\n",
       "if ((window.PyViz === undefined) || (window.PyViz instanceof HTMLElement)) {\n",
       "  window.PyViz = {comms: {}, comm_status:{}, kernels:{}, receivers: {}, plot_index: []}\n",
       "}\n",
       "\n",
       "\n",
       "    function JupyterCommManager() {\n",
       "    }\n",
       "\n",
       "    JupyterCommManager.prototype.register_target = function(plot_id, comm_id, msg_handler) {\n",
       "      if (window.comm_manager || ((window.Jupyter !== undefined) && (Jupyter.notebook.kernel != null))) {\n",
       "        var comm_manager = window.comm_manager || Jupyter.notebook.kernel.comm_manager;\n",
       "        comm_manager.register_target(comm_id, function(comm) {\n",
       "          comm.on_msg(msg_handler);\n",
       "        });\n",
       "      } else if ((plot_id in window.PyViz.kernels) && (window.PyViz.kernels[plot_id])) {\n",
       "        window.PyViz.kernels[plot_id].registerCommTarget(comm_id, function(comm) {\n",
       "          comm.onMsg = msg_handler;\n",
       "        });\n",
       "      } else if (typeof google != 'undefined' && google.colab.kernel != null) {\n",
       "        google.colab.kernel.comms.registerTarget(comm_id, (comm) => {\n",
       "          var messages = comm.messages[Symbol.asyncIterator]();\n",
       "          function processIteratorResult(result) {\n",
       "            var message = result.value;\n",
       "            console.log(message)\n",
       "            var content = {data: message.data, comm_id};\n",
       "            var buffers = []\n",
       "            for (var buffer of message.buffers || []) {\n",
       "              buffers.push(new DataView(buffer))\n",
       "            }\n",
       "            var metadata = message.metadata || {};\n",
       "            var msg = {content, buffers, metadata}\n",
       "            msg_handler(msg);\n",
       "            return messages.next().then(processIteratorResult);\n",
       "          }\n",
       "          return messages.next().then(processIteratorResult);\n",
       "        })\n",
       "      }\n",
       "    }\n",
       "\n",
       "    JupyterCommManager.prototype.get_client_comm = function(plot_id, comm_id, msg_handler) {\n",
       "      if (comm_id in window.PyViz.comms) {\n",
       "        return window.PyViz.comms[comm_id];\n",
       "      } else if (window.comm_manager || ((window.Jupyter !== undefined) && (Jupyter.notebook.kernel != null))) {\n",
       "        var comm_manager = window.comm_manager || Jupyter.notebook.kernel.comm_manager;\n",
       "        var comm = comm_manager.new_comm(comm_id, {}, {}, {}, comm_id);\n",
       "        if (msg_handler) {\n",
       "          comm.on_msg(msg_handler);\n",
       "        }\n",
       "      } else if ((plot_id in window.PyViz.kernels) && (window.PyViz.kernels[plot_id])) {\n",
       "        var comm = window.PyViz.kernels[plot_id].connectToComm(comm_id);\n",
       "        comm.open();\n",
       "        if (msg_handler) {\n",
       "          comm.onMsg = msg_handler;\n",
       "        }\n",
       "      } else if (typeof google != 'undefined' && google.colab.kernel != null) {\n",
       "        var comm_promise = google.colab.kernel.comms.open(comm_id)\n",
       "        comm_promise.then((comm) => {\n",
       "          window.PyViz.comms[comm_id] = comm;\n",
       "          if (msg_handler) {\n",
       "            var messages = comm.messages[Symbol.asyncIterator]();\n",
       "            function processIteratorResult(result) {\n",
       "              var message = result.value;\n",
       "              var content = {data: message.data};\n",
       "              var metadata = message.metadata || {comm_id};\n",
       "              var msg = {content, metadata}\n",
       "              msg_handler(msg);\n",
       "              return messages.next().then(processIteratorResult);\n",
       "            }\n",
       "            return messages.next().then(processIteratorResult);\n",
       "          }\n",
       "        }) \n",
       "        var sendClosure = (data, metadata, buffers, disposeOnDone) => {\n",
       "          return comm_promise.then((comm) => {\n",
       "            comm.send(data, metadata, buffers, disposeOnDone);\n",
       "          });\n",
       "        };\n",
       "        var comm = {\n",
       "          send: sendClosure\n",
       "        };\n",
       "      }\n",
       "      window.PyViz.comms[comm_id] = comm;\n",
       "      return comm;\n",
       "    }\n",
       "    window.PyViz.comm_manager = new JupyterCommManager();\n",
       "    \n",
       "\n",
       "\n",
       "var JS_MIME_TYPE = 'application/javascript';\n",
       "var HTML_MIME_TYPE = 'text/html';\n",
       "var EXEC_MIME_TYPE = 'application/vnd.holoviews_exec.v0+json';\n",
       "var CLASS_NAME = 'output';\n",
       "\n",
       "/**\n",
       " * Render data to the DOM node\n",
       " */\n",
       "function render(props, node) {\n",
       "  var div = document.createElement(\"div\");\n",
       "  var script = document.createElement(\"script\");\n",
       "  node.appendChild(div);\n",
       "  node.appendChild(script);\n",
       "}\n",
       "\n",
       "/**\n",
       " * Handle when a new output is added\n",
       " */\n",
       "function handle_add_output(event, handle) {\n",
       "  var output_area = handle.output_area;\n",
       "  var output = handle.output;\n",
       "  if ((output.data == undefined) || (!output.data.hasOwnProperty(EXEC_MIME_TYPE))) {\n",
       "    return\n",
       "  }\n",
       "  var id = output.metadata[EXEC_MIME_TYPE][\"id\"];\n",
       "  var toinsert = output_area.element.find(\".\" + CLASS_NAME.split(' ')[0]);\n",
       "  if (id !== undefined) {\n",
       "    var nchildren = toinsert.length;\n",
       "    var html_node = toinsert[nchildren-1].children[0];\n",
       "    html_node.innerHTML = output.data[HTML_MIME_TYPE];\n",
       "    var scripts = [];\n",
       "    var nodelist = html_node.querySelectorAll(\"script\");\n",
       "    for (var i in nodelist) {\n",
       "      if (nodelist.hasOwnProperty(i)) {\n",
       "        scripts.push(nodelist[i])\n",
       "      }\n",
       "    }\n",
       "\n",
       "    scripts.forEach( function (oldScript) {\n",
       "      var newScript = document.createElement(\"script\");\n",
       "      var attrs = [];\n",
       "      var nodemap = oldScript.attributes;\n",
       "      for (var j in nodemap) {\n",
       "        if (nodemap.hasOwnProperty(j)) {\n",
       "          attrs.push(nodemap[j])\n",
       "        }\n",
       "      }\n",
       "      attrs.forEach(function(attr) { newScript.setAttribute(attr.name, attr.value) });\n",
       "      newScript.appendChild(document.createTextNode(oldScript.innerHTML));\n",
       "      oldScript.parentNode.replaceChild(newScript, oldScript);\n",
       "    });\n",
       "    if (JS_MIME_TYPE in output.data) {\n",
       "      toinsert[nchildren-1].children[1].textContent = output.data[JS_MIME_TYPE];\n",
       "    }\n",
       "    output_area._hv_plot_id = id;\n",
       "    if ((window.Bokeh !== undefined) && (id in Bokeh.index)) {\n",
       "      window.PyViz.plot_index[id] = Bokeh.index[id];\n",
       "    } else {\n",
       "      window.PyViz.plot_index[id] = null;\n",
       "    }\n",
       "  } else if (output.metadata[EXEC_MIME_TYPE][\"server_id\"] !== undefined) {\n",
       "    var bk_div = document.createElement(\"div\");\n",
       "    bk_div.innerHTML = output.data[HTML_MIME_TYPE];\n",
       "    var script_attrs = bk_div.children[0].attributes;\n",
       "    for (var i = 0; i < script_attrs.length; i++) {\n",
       "      toinsert[toinsert.length - 1].childNodes[1].setAttribute(script_attrs[i].name, script_attrs[i].value);\n",
       "    }\n",
       "    // store reference to server id on output_area\n",
       "    output_area._bokeh_server_id = output.metadata[EXEC_MIME_TYPE][\"server_id\"];\n",
       "  }\n",
       "}\n",
       "\n",
       "/**\n",
       " * Handle when an output is cleared or removed\n",
       " */\n",
       "function handle_clear_output(event, handle) {\n",
       "  var id = handle.cell.output_area._hv_plot_id;\n",
       "  var server_id = handle.cell.output_area._bokeh_server_id;\n",
       "  if (((id === undefined) || !(id in PyViz.plot_index)) && (server_id !== undefined)) { return; }\n",
       "  var comm = window.PyViz.comm_manager.get_client_comm(\"hv-extension-comm\", \"hv-extension-comm\", function () {});\n",
       "  if (server_id !== null) {\n",
       "    comm.send({event_type: 'server_delete', 'id': server_id});\n",
       "    return;\n",
       "  } else if (comm !== null) {\n",
       "    comm.send({event_type: 'delete', 'id': id});\n",
       "  }\n",
       "  delete PyViz.plot_index[id];\n",
       "  if ((window.Bokeh !== undefined) & (id in window.Bokeh.index)) {\n",
       "    var doc = window.Bokeh.index[id].model.document\n",
       "    doc.clear();\n",
       "    const i = window.Bokeh.documents.indexOf(doc);\n",
       "    if (i > -1) {\n",
       "      window.Bokeh.documents.splice(i, 1);\n",
       "    }\n",
       "  }\n",
       "}\n",
       "\n",
       "/**\n",
       " * Handle kernel restart event\n",
       " */\n",
       "function handle_kernel_cleanup(event, handle) {\n",
       "  delete PyViz.comms[\"hv-extension-comm\"];\n",
       "  window.PyViz.plot_index = {}\n",
       "}\n",
       "\n",
       "/**\n",
       " * Handle update_display_data messages\n",
       " */\n",
       "function handle_update_output(event, handle) {\n",
       "  handle_clear_output(event, {cell: {output_area: handle.output_area}})\n",
       "  handle_add_output(event, handle)\n",
       "}\n",
       "\n",
       "function register_renderer(events, OutputArea) {\n",
       "  function append_mime(data, metadata, element) {\n",
       "    // create a DOM node to render to\n",
       "    var toinsert = this.create_output_subarea(\n",
       "    metadata,\n",
       "    CLASS_NAME,\n",
       "    EXEC_MIME_TYPE\n",
       "    );\n",
       "    this.keyboard_manager.register_events(toinsert);\n",
       "    // Render to node\n",
       "    var props = {data: data, metadata: metadata[EXEC_MIME_TYPE]};\n",
       "    render(props, toinsert[0]);\n",
       "    element.append(toinsert);\n",
       "    return toinsert\n",
       "  }\n",
       "\n",
       "  events.on('output_added.OutputArea', handle_add_output);\n",
       "  events.on('output_updated.OutputArea', handle_update_output);\n",
       "  events.on('clear_output.CodeCell', handle_clear_output);\n",
       "  events.on('delete.Cell', handle_clear_output);\n",
       "  events.on('kernel_ready.Kernel', handle_kernel_cleanup);\n",
       "\n",
       "  OutputArea.prototype.register_mime_type(EXEC_MIME_TYPE, append_mime, {\n",
       "    safe: true,\n",
       "    index: 0\n",
       "  });\n",
       "}\n",
       "\n",
       "if (window.Jupyter !== undefined) {\n",
       "  try {\n",
       "    var events = require('base/js/events');\n",
       "    var OutputArea = require('notebook/js/outputarea').OutputArea;\n",
       "    if (OutputArea.prototype.mime_types().indexOf(EXEC_MIME_TYPE) == -1) {\n",
       "      register_renderer(events, OutputArea);\n",
       "    }\n",
       "  } catch(err) {\n",
       "  }\n",
       "}\n"
      ],
      "application/vnd.holoviews_load.v0+json": "\nif ((window.PyViz === undefined) || (window.PyViz instanceof HTMLElement)) {\n  window.PyViz = {comms: {}, comm_status:{}, kernels:{}, receivers: {}, plot_index: []}\n}\n\n\n    function JupyterCommManager() {\n    }\n\n    JupyterCommManager.prototype.register_target = function(plot_id, comm_id, msg_handler) {\n      if (window.comm_manager || ((window.Jupyter !== undefined) && (Jupyter.notebook.kernel != null))) {\n        var comm_manager = window.comm_manager || Jupyter.notebook.kernel.comm_manager;\n        comm_manager.register_target(comm_id, function(comm) {\n          comm.on_msg(msg_handler);\n        });\n      } else if ((plot_id in window.PyViz.kernels) && (window.PyViz.kernels[plot_id])) {\n        window.PyViz.kernels[plot_id].registerCommTarget(comm_id, function(comm) {\n          comm.onMsg = msg_handler;\n        });\n      } else if (typeof google != 'undefined' && google.colab.kernel != null) {\n        google.colab.kernel.comms.registerTarget(comm_id, (comm) => {\n          var messages = comm.messages[Symbol.asyncIterator]();\n          function processIteratorResult(result) {\n            var message = result.value;\n            console.log(message)\n            var content = {data: message.data, comm_id};\n            var buffers = []\n            for (var buffer of message.buffers || []) {\n              buffers.push(new DataView(buffer))\n            }\n            var metadata = message.metadata || {};\n            var msg = {content, buffers, metadata}\n            msg_handler(msg);\n            return messages.next().then(processIteratorResult);\n          }\n          return messages.next().then(processIteratorResult);\n        })\n      }\n    }\n\n    JupyterCommManager.prototype.get_client_comm = function(plot_id, comm_id, msg_handler) {\n      if (comm_id in window.PyViz.comms) {\n        return window.PyViz.comms[comm_id];\n      } else if (window.comm_manager || ((window.Jupyter !== undefined) && (Jupyter.notebook.kernel != null))) {\n        var comm_manager = window.comm_manager || Jupyter.notebook.kernel.comm_manager;\n        var comm = comm_manager.new_comm(comm_id, {}, {}, {}, comm_id);\n        if (msg_handler) {\n          comm.on_msg(msg_handler);\n        }\n      } else if ((plot_id in window.PyViz.kernels) && (window.PyViz.kernels[plot_id])) {\n        var comm = window.PyViz.kernels[plot_id].connectToComm(comm_id);\n        comm.open();\n        if (msg_handler) {\n          comm.onMsg = msg_handler;\n        }\n      } else if (typeof google != 'undefined' && google.colab.kernel != null) {\n        var comm_promise = google.colab.kernel.comms.open(comm_id)\n        comm_promise.then((comm) => {\n          window.PyViz.comms[comm_id] = comm;\n          if (msg_handler) {\n            var messages = comm.messages[Symbol.asyncIterator]();\n            function processIteratorResult(result) {\n              var message = result.value;\n              var content = {data: message.data};\n              var metadata = message.metadata || {comm_id};\n              var msg = {content, metadata}\n              msg_handler(msg);\n              return messages.next().then(processIteratorResult);\n            }\n            return messages.next().then(processIteratorResult);\n          }\n        }) \n        var sendClosure = (data, metadata, buffers, disposeOnDone) => {\n          return comm_promise.then((comm) => {\n            comm.send(data, metadata, buffers, disposeOnDone);\n          });\n        };\n        var comm = {\n          send: sendClosure\n        };\n      }\n      window.PyViz.comms[comm_id] = comm;\n      return comm;\n    }\n    window.PyViz.comm_manager = new JupyterCommManager();\n    \n\n\nvar JS_MIME_TYPE = 'application/javascript';\nvar HTML_MIME_TYPE = 'text/html';\nvar EXEC_MIME_TYPE = 'application/vnd.holoviews_exec.v0+json';\nvar CLASS_NAME = 'output';\n\n/**\n * Render data to the DOM node\n */\nfunction render(props, node) {\n  var div = document.createElement(\"div\");\n  var script = document.createElement(\"script\");\n  node.appendChild(div);\n  node.appendChild(script);\n}\n\n/**\n * Handle when a new output is added\n */\nfunction handle_add_output(event, handle) {\n  var output_area = handle.output_area;\n  var output = handle.output;\n  if ((output.data == undefined) || (!output.data.hasOwnProperty(EXEC_MIME_TYPE))) {\n    return\n  }\n  var id = output.metadata[EXEC_MIME_TYPE][\"id\"];\n  var toinsert = output_area.element.find(\".\" + CLASS_NAME.split(' ')[0]);\n  if (id !== undefined) {\n    var nchildren = toinsert.length;\n    var html_node = toinsert[nchildren-1].children[0];\n    html_node.innerHTML = output.data[HTML_MIME_TYPE];\n    var scripts = [];\n    var nodelist = html_node.querySelectorAll(\"script\");\n    for (var i in nodelist) {\n      if (nodelist.hasOwnProperty(i)) {\n        scripts.push(nodelist[i])\n      }\n    }\n\n    scripts.forEach( function (oldScript) {\n      var newScript = document.createElement(\"script\");\n      var attrs = [];\n      var nodemap = oldScript.attributes;\n      for (var j in nodemap) {\n        if (nodemap.hasOwnProperty(j)) {\n          attrs.push(nodemap[j])\n        }\n      }\n      attrs.forEach(function(attr) { newScript.setAttribute(attr.name, attr.value) });\n      newScript.appendChild(document.createTextNode(oldScript.innerHTML));\n      oldScript.parentNode.replaceChild(newScript, oldScript);\n    });\n    if (JS_MIME_TYPE in output.data) {\n      toinsert[nchildren-1].children[1].textContent = output.data[JS_MIME_TYPE];\n    }\n    output_area._hv_plot_id = id;\n    if ((window.Bokeh !== undefined) && (id in Bokeh.index)) {\n      window.PyViz.plot_index[id] = Bokeh.index[id];\n    } else {\n      window.PyViz.plot_index[id] = null;\n    }\n  } else if (output.metadata[EXEC_MIME_TYPE][\"server_id\"] !== undefined) {\n    var bk_div = document.createElement(\"div\");\n    bk_div.innerHTML = output.data[HTML_MIME_TYPE];\n    var script_attrs = bk_div.children[0].attributes;\n    for (var i = 0; i < script_attrs.length; i++) {\n      toinsert[toinsert.length - 1].childNodes[1].setAttribute(script_attrs[i].name, script_attrs[i].value);\n    }\n    // store reference to server id on output_area\n    output_area._bokeh_server_id = output.metadata[EXEC_MIME_TYPE][\"server_id\"];\n  }\n}\n\n/**\n * Handle when an output is cleared or removed\n */\nfunction handle_clear_output(event, handle) {\n  var id = handle.cell.output_area._hv_plot_id;\n  var server_id = handle.cell.output_area._bokeh_server_id;\n  if (((id === undefined) || !(id in PyViz.plot_index)) && (server_id !== undefined)) { return; }\n  var comm = window.PyViz.comm_manager.get_client_comm(\"hv-extension-comm\", \"hv-extension-comm\", function () {});\n  if (server_id !== null) {\n    comm.send({event_type: 'server_delete', 'id': server_id});\n    return;\n  } else if (comm !== null) {\n    comm.send({event_type: 'delete', 'id': id});\n  }\n  delete PyViz.plot_index[id];\n  if ((window.Bokeh !== undefined) & (id in window.Bokeh.index)) {\n    var doc = window.Bokeh.index[id].model.document\n    doc.clear();\n    const i = window.Bokeh.documents.indexOf(doc);\n    if (i > -1) {\n      window.Bokeh.documents.splice(i, 1);\n    }\n  }\n}\n\n/**\n * Handle kernel restart event\n */\nfunction handle_kernel_cleanup(event, handle) {\n  delete PyViz.comms[\"hv-extension-comm\"];\n  window.PyViz.plot_index = {}\n}\n\n/**\n * Handle update_display_data messages\n */\nfunction handle_update_output(event, handle) {\n  handle_clear_output(event, {cell: {output_area: handle.output_area}})\n  handle_add_output(event, handle)\n}\n\nfunction register_renderer(events, OutputArea) {\n  function append_mime(data, metadata, element) {\n    // create a DOM node to render to\n    var toinsert = this.create_output_subarea(\n    metadata,\n    CLASS_NAME,\n    EXEC_MIME_TYPE\n    );\n    this.keyboard_manager.register_events(toinsert);\n    // Render to node\n    var props = {data: data, metadata: metadata[EXEC_MIME_TYPE]};\n    render(props, toinsert[0]);\n    element.append(toinsert);\n    return toinsert\n  }\n\n  events.on('output_added.OutputArea', handle_add_output);\n  events.on('output_updated.OutputArea', handle_update_output);\n  events.on('clear_output.CodeCell', handle_clear_output);\n  events.on('delete.Cell', handle_clear_output);\n  events.on('kernel_ready.Kernel', handle_kernel_cleanup);\n\n  OutputArea.prototype.register_mime_type(EXEC_MIME_TYPE, append_mime, {\n    safe: true,\n    index: 0\n  });\n}\n\nif (window.Jupyter !== undefined) {\n  try {\n    var events = require('base/js/events');\n    var OutputArea = require('notebook/js/outputarea').OutputArea;\n    if (OutputArea.prototype.mime_types().indexOf(EXEC_MIME_TYPE) == -1) {\n      register_renderer(events, OutputArea);\n    }\n  } catch(err) {\n  }\n}\n"
     },
     "metadata": {},
     "output_type": "display_data"
    }
   ],
   "source": [
    "import param as pm\n",
    "import pandas as pd\n",
    "import panel as pn\n",
    "pn.extension('echarts')"
   ]
  },
  {
   "cell_type": "markdown",
   "id": "9f3d5be5",
   "metadata": {},
   "source": [
    "For the members of the DAO, we wish to devise a system that allows for rewards to be properly distributed according to metrics that can be adjusted given, for example, level of authorization or commitment.\n",
    "\n",
    "\n",
    "In order to do this, we first define the class called Distribution. A distribution is a vector that sums to one and is often referred to as a 'stochastic vector' in mathematics. This vector maintains the sum of one using the following formula:\n",
    "\n",
    "#### When $a_j$ is adjusted:\n",
    "\n",
    "**$\\forall$ allocations $a_i \\mid a_i \\ne a_j$**:\n",
    "\n",
    "$$ a_i = \\frac{a_i * (1 - a_j)}{ \\sum_{i=0}^{n} a_i \\mid a_i \\ne a_j}$$"
   ]
  },
  {
   "cell_type": "code",
   "execution_count": 3,
   "id": "dab59eef",
   "metadata": {},
   "outputs": [],
   "source": [
    "class Distribution(pm.Parameterized):\n",
    "    \"\"\"\n",
    "    Shawn, LTF, Feb 4th 2022\n",
    "    This class represents a distribution. A distribution is a vector that sums \n",
    "    to one, in mathematics, often refered to as a 'stochastic vector'. A \n",
    "    stochastic vector represents a probability distribution that sums to one. \n",
    "    \n",
    "    The vector maintains a sum of one with the following formula:\n",
    "    \n",
    "    When a_j is adjusted:\n",
    "    \n",
    "    for all allocations a_i | a_i != a_j:\n",
    "        a_i := a_i * (1 - a_j) / sum(a_i | a_i !=a_j)\n",
    "    \n",
    "    \n",
    "    Usage:\n",
    "        First add any distribution elements as parameterized numbers to this class. \n",
    "        Additionally add the name of the distribution elements to the allocations \n",
    "        list attribute on this class. \n",
    "        \n",
    "        The `_updating` attribute is used as an internal mechanism to prevent recursive\n",
    "        updating of the parameters since they update themselves depending on themselves.\n",
    "        \n",
    "    This class could be more general by taking an allocation_list as an init param and \n",
    "    dynamically creating the allocation parameters. But dynamically adding and removing\n",
    "    parameters to an object seems messy. I think inheritance is actually better. \n",
    "    \"\"\"\n",
    "    founders = pm.Number(0.1, bounds=(0,1), step=0.01)\n",
    "    dao_rewards = pm.Number(0.5, bounds=(0,1), step=0.01)\n",
    "    lbp_pool = pm.Number(0.4, bounds=(0,1), step=0.01)\n",
    "    allocations = pm.List(['founders', 'dao_rewards', 'lbp_pool'], precedence=-1, constant=True)\n",
    "    _updating = pm.Boolean(False, precedence=-1)\n",
    "    _smallest_value = pm.Number(0.001, precedence=-1)\n",
    "\n",
    "    def __init__(self, **params):\n",
    "        super().__init__(**params)\n",
    "        self.param.watch(self.normalize, self.allocations)\n",
    "        self.normalize(event=self.param[self.allocations[0]])\n",
    "        \n",
    "    def normalize(self, event):\n",
    "        \"\"\"\n",
    "        Sentinal design pattern inspired from here: \n",
    "        https://discourse.holoviz.org/t/updating-selected-value-in-widget-after-changing-param-selector-objects/1806/2\n",
    "        \"\"\"\n",
    "        \n",
    "        # Sentinal to prevent recursive updates\n",
    "        if not self._updating:\n",
    "            self._updating = True\n",
    "            \n",
    "            # List of all allocations except the one being updated\n",
    "            normalize_allocations = list(self.allocations)\n",
    "            normalize_allocations.remove(event.name)\n",
    "            \n",
    "            denominator = sum([getattr(self, a) for a in normalize_allocations])\n",
    "            numerator = (1 - getattr(self, event.name))\n",
    "            \n",
    "            # Normal case\n",
    "            if (denominator != 0):\n",
    "                normalize_factor = numerator / denominator\n",
    "                for a in normalize_allocations:\n",
    "                    setattr(self, a, getattr(self, a) * normalize_factor)\n",
    "                    \n",
    "            # Exceptional case where denominator is 0 and the selected allocation has moved.\n",
    "            elif numerator != 1:\n",
    "                for a in normalize_allocations:\n",
    "                    setattr(self, a, (1-getattr(self, event.name))/len(self.allocations))\n",
    "                    \n",
    "            # Exceptional case where everything arrives at 0\n",
    "            if sum([getattr(self, a) for a in self.allocations]) == 0:\n",
    "                for a in normalize_allocations:\n",
    "                    setattr(self, a, 1/(len(self.allocations)-1))\n",
    "            # Reset Sentinal\n",
    "            self._updating = False\n",
    "            \n",
    "    def table(self):\n",
    "        table = pd.DataFrame(self.param.get_param_values())\n",
    "        table.columns = ['Elements', 'Allocations']\n",
    "        return table.set_index('Elements').loc[self.allocations]\n",
    "    \n",
    "    def table_with_total(self):\n",
    "        table = self.table()\n",
    "        table.loc['total'] = table['Allocations'].sum()\n",
    "        return table"
   ]
  },
  {
   "cell_type": "code",
   "execution_count": 4,
   "id": "eb07ad45-82d2-4965-8ca0-018a28950f9d",
   "metadata": {},
   "outputs": [
    {
     "data": {},
     "metadata": {},
     "output_type": "display_data"
    },
    {
     "data": {
      "application/vnd.holoviews_exec.v0+json": "",
      "text/html": [
       "<div id='1002'>\n",
       "\n",
       "\n",
       "\n",
       "\n",
       "\n",
       "  <div class=\"bk-root\" id=\"7241a66c-c7ba-4b03-ace4-7e617f174f5c\" data-root-id=\"1002\"></div>\n",
       "</div>\n",
       "<script type=\"application/javascript\">(function(root) {\n",
       "  function embed_document(root) {\n",
       "    var docs_json = {\"119de2bf-71fe-4e0b-accf-0d0bbd218fa5\":{\"defs\":[{\"extends\":null,\"module\":null,\"name\":\"ReactiveHTML1\",\"overrides\":[],\"properties\":[]},{\"extends\":null,\"module\":null,\"name\":\"FlexBox1\",\"overrides\":[],\"properties\":[{\"default\":\"flex-start\",\"kind\":null,\"name\":\"align_content\"},{\"default\":\"flex-start\",\"kind\":null,\"name\":\"align_items\"},{\"default\":\"row\",\"kind\":null,\"name\":\"flex_direction\"},{\"default\":\"wrap\",\"kind\":null,\"name\":\"flex_wrap\"},{\"default\":\"flex-start\",\"kind\":null,\"name\":\"justify_content\"}]},{\"extends\":null,\"module\":null,\"name\":\"TemplateActions1\",\"overrides\":[],\"properties\":[{\"default\":0,\"kind\":null,\"name\":\"open_modal\"},{\"default\":0,\"kind\":null,\"name\":\"close_modal\"}]},{\"extends\":null,\"module\":null,\"name\":\"MaterialTemplateActions1\",\"overrides\":[],\"properties\":[{\"default\":0,\"kind\":null,\"name\":\"open_modal\"},{\"default\":0,\"kind\":null,\"name\":\"close_modal\"}]}],\"roots\":{\"references\":[{\"attributes\":{\"margin\":[5,10,5,10],\"name\":\"\",\"text\":\"<b>Distribution</b>\"},\"id\":\"1004\",\"type\":\"Div\"},{\"attributes\":{\"children\":[{\"id\":\"1003\"},{\"id\":\"1008\"}],\"margin\":[0,0,0,0],\"name\":\"Row00125\"},\"id\":\"1002\",\"type\":\"Row\"},{\"attributes\":{\"client_comm_id\":\"b73b24e1c4c840638ee50119d6bacc52\",\"comm_id\":\"c0680e8b31104f7b9522a6f6266b584a\",\"plot_id\":\"1002\"},\"id\":\"1010\",\"type\":\"panel.models.comm_manager.CommManager\"},{\"attributes\":{\"reload\":false},\"id\":\"1011\",\"type\":\"panel.models.location.Location\"},{\"attributes\":{\"children\":[{\"id\":\"1004\"},{\"id\":\"1005\"},{\"id\":\"1006\"},{\"id\":\"1007\"}],\"margin\":[5,5,5,5],\"min_width\":300,\"name\":\"Distribution\",\"width\":300},\"id\":\"1003\",\"type\":\"Column\"},{\"attributes\":{\"end\":1,\"margin\":[5,10,5,10],\"start\":0,\"step\":0.01,\"title\":\"Founders\",\"value\":0.1},\"id\":\"1005\",\"type\":\"Slider\"},{\"attributes\":{\"end\":1,\"margin\":[5,10,5,10],\"start\":0,\"step\":0.01,\"title\":\"Lbp pool\",\"value\":0.4},\"id\":\"1007\",\"type\":\"Slider\"},{\"attributes\":{\"margin\":[5,5,5,5],\"name\":\"ParamMethod00118\",\"text\":\"&lt;table border=&quot;0&quot; class=&quot;dataframe panel-df&quot;&gt;\\n  &lt;thead&gt;\\n    &lt;tr style=&quot;text-align: right;&quot;&gt;\\n      &lt;th&gt;&lt;/th&gt;\\n      &lt;th&gt;Allocations&lt;/th&gt;\\n    &lt;/tr&gt;\\n    &lt;tr&gt;\\n      &lt;th&gt;Elements&lt;/th&gt;\\n      &lt;th&gt;&lt;/th&gt;\\n    &lt;/tr&gt;\\n  &lt;/thead&gt;\\n  &lt;tbody&gt;\\n    &lt;tr&gt;\\n      &lt;th&gt;founders&lt;/th&gt;\\n      &lt;td&gt;0.1&lt;/td&gt;\\n    &lt;/tr&gt;\\n    &lt;tr&gt;\\n      &lt;th&gt;dao_rewards&lt;/th&gt;\\n      &lt;td&gt;0.5&lt;/td&gt;\\n    &lt;/tr&gt;\\n    &lt;tr&gt;\\n      &lt;th&gt;lbp_pool&lt;/th&gt;\\n      &lt;td&gt;0.4&lt;/td&gt;\\n    &lt;/tr&gt;\\n  &lt;/tbody&gt;\\n&lt;/table&gt;\"},\"id\":\"1009\",\"type\":\"panel.models.markup.HTML\"},{\"attributes\":{\"end\":1,\"margin\":[5,10,5,10],\"start\":0,\"step\":0.01,\"title\":\"Dao rewards\",\"value\":0.5},\"id\":\"1006\",\"type\":\"Slider\"},{\"attributes\":{\"children\":[{\"id\":\"1009\"}],\"margin\":[0,0,0,0],\"name\":\"Row00122\"},\"id\":\"1008\",\"type\":\"Row\"}],\"root_ids\":[\"1002\",\"1010\",\"1011\"]},\"title\":\"Bokeh Application\",\"version\":\"2.4.2\"}};\n",
       "    var render_items = [{\"docid\":\"119de2bf-71fe-4e0b-accf-0d0bbd218fa5\",\"root_ids\":[\"1002\"],\"roots\":{\"1002\":\"7241a66c-c7ba-4b03-ace4-7e617f174f5c\"}}];\n",
       "    root.Bokeh.embed.embed_items_notebook(docs_json, render_items);\n",
       "  }\n",
       "  if (root.Bokeh !== undefined && root.Bokeh.Panel !== undefined && ( root['echarts'] !== undefined)) {\n",
       "    embed_document(root);\n",
       "  } else {\n",
       "    var attempts = 0;\n",
       "    var timer = setInterval(function(root) {\n",
       "      if (root.Bokeh !== undefined && root.Bokeh.Panel !== undefined && (root['echarts'] !== undefined)) {\n",
       "        clearInterval(timer);\n",
       "        embed_document(root);\n",
       "      } else if (document.readyState == \"complete\") {\n",
       "        attempts++;\n",
       "        if (attempts > 200) {\n",
       "          clearInterval(timer);\n",
       "          console.log(\"Bokeh: ERROR: Unable to run BokehJS code because BokehJS library is missing\");\n",
       "        }\n",
       "      }\n",
       "    }, 25, root)\n",
       "  }\n",
       "})(window);</script>"
      ],
      "text/plain": [
       "Row\n",
       "    [0] Column(margin=5, name='Distribution', width=300)\n",
       "        [0] StaticText(value='<b>Distribution</b>')\n",
       "        [1] FloatSlider(name='Founders', step=0.01, value=0.1)\n",
       "        [2] FloatSlider(name='Dao rewards', step=0.01, value=0.5)\n",
       "        [3] FloatSlider(name='Lbp pool', step=0.01, value=0.4)\n",
       "    [1] ParamMethod(method)"
      ]
     },
     "execution_count": 4,
     "metadata": {
      "application/vnd.holoviews_exec.v0+json": {
       "id": "1002"
      }
     },
     "output_type": "execute_result"
    }
   ],
   "source": [
    "d = Distribution()\n",
    "\n",
    "pn.Row(d, d.table)"
   ]
  },
  {
   "cell_type": "code",
   "execution_count": 5,
   "id": "b2e75d33-a1ce-486a-9cdc-016e95fcbe2c",
   "metadata": {},
   "outputs": [
    {
     "data": {
      "text/plain": [
       "0.1"
      ]
     },
     "execution_count": 5,
     "metadata": {},
     "output_type": "execute_result"
    }
   ],
   "source": [
    "d.founders"
   ]
  },
  {
   "cell_type": "code",
   "execution_count": 6,
   "id": "75ed9403-b096-4094-a4c3-517b0bcb3229",
   "metadata": {},
   "outputs": [
    {
     "data": {},
     "metadata": {},
     "output_type": "display_data"
    },
    {
     "data": {
      "application/vnd.holoviews_exec.v0+json": "",
      "text/html": [
       "<div id='1012'>\n",
       "\n",
       "\n",
       "\n",
       "\n",
       "\n",
       "  <div class=\"bk-root\" id=\"82676f7a-7de8-466a-b52a-978b1718ba5b\" data-root-id=\"1012\"></div>\n",
       "</div>\n",
       "<script type=\"application/javascript\">(function(root) {\n",
       "  function embed_document(root) {\n",
       "    var docs_json = {\"7224ec07-3e83-4072-bc3e-c2b9e6294227\":{\"defs\":[{\"extends\":null,\"module\":null,\"name\":\"ReactiveHTML1\",\"overrides\":[],\"properties\":[]},{\"extends\":null,\"module\":null,\"name\":\"FlexBox1\",\"overrides\":[],\"properties\":[{\"default\":\"flex-start\",\"kind\":null,\"name\":\"align_content\"},{\"default\":\"flex-start\",\"kind\":null,\"name\":\"align_items\"},{\"default\":\"row\",\"kind\":null,\"name\":\"flex_direction\"},{\"default\":\"wrap\",\"kind\":null,\"name\":\"flex_wrap\"},{\"default\":\"flex-start\",\"kind\":null,\"name\":\"justify_content\"}]},{\"extends\":null,\"module\":null,\"name\":\"TemplateActions1\",\"overrides\":[],\"properties\":[{\"default\":0,\"kind\":null,\"name\":\"open_modal\"},{\"default\":0,\"kind\":null,\"name\":\"close_modal\"}]},{\"extends\":null,\"module\":null,\"name\":\"MaterialTemplateActions1\",\"overrides\":[],\"properties\":[{\"default\":0,\"kind\":null,\"name\":\"open_modal\"},{\"default\":0,\"kind\":null,\"name\":\"close_modal\"}]}],\"roots\":{\"references\":[{\"attributes\":{\"client_comm_id\":\"e99f8fb84b574ac783de96a908dc78bf\",\"comm_id\":\"3f1a676a0f474df0ae488b390291fd0b\",\"plot_id\":\"1012\"},\"id\":\"1021\",\"type\":\"panel.models.comm_manager.CommManager\"},{\"attributes\":{\"children\":[{\"id\":\"1014\"},{\"id\":\"1015\"},{\"id\":\"1016\"},{\"id\":\"1017\"},{\"id\":\"1018\"}],\"margin\":[5,5,5,5],\"min_width\":300,\"name\":\"LTFDistribution\",\"width\":300},\"id\":\"1013\",\"type\":\"Column\"},{\"attributes\":{\"margin\":[5,10,5,10],\"name\":\"\",\"text\":\"<b>LTFDistribution</b>\"},\"id\":\"1014\",\"type\":\"Div\"},{\"attributes\":{\"end\":1,\"margin\":[5,10,5,10],\"start\":0,\"step\":0.01,\"title\":\"Lbp pool\",\"value\":0.36000000000000004},\"id\":\"1017\",\"type\":\"Slider\"},{\"attributes\":{\"end\":1,\"margin\":[5,10,5,10],\"start\":0,\"step\":0.01,\"title\":\"Dao rewards\",\"value\":0.45},\"id\":\"1016\",\"type\":\"Slider\"},{\"attributes\":{\"children\":[{\"id\":\"1020\"}],\"margin\":[0,0,0,0],\"name\":\"Row00152\"},\"id\":\"1019\",\"type\":\"Row\"},{\"attributes\":{\"end\":1,\"margin\":[5,10,5,10],\"start\":0,\"step\":0.01,\"title\":\"Racoon fund\",\"value\":0.09000000000000001},\"id\":\"1018\",\"type\":\"Slider\"},{\"attributes\":{\"margin\":[5,5,5,5],\"name\":\"ParamMethod00148\",\"text\":\"&lt;table border=&quot;0&quot; class=&quot;dataframe panel-df&quot;&gt;\\n  &lt;thead&gt;\\n    &lt;tr style=&quot;text-align: right;&quot;&gt;\\n      &lt;th&gt;&lt;/th&gt;\\n      &lt;th&gt;Allocations&lt;/th&gt;\\n    &lt;/tr&gt;\\n    &lt;tr&gt;\\n      &lt;th&gt;Elements&lt;/th&gt;\\n      &lt;th&gt;&lt;/th&gt;\\n    &lt;/tr&gt;\\n  &lt;/thead&gt;\\n  &lt;tbody&gt;\\n    &lt;tr&gt;\\n      &lt;th&gt;founders&lt;/th&gt;\\n      &lt;td&gt;0.1&lt;/td&gt;\\n    &lt;/tr&gt;\\n    &lt;tr&gt;\\n      &lt;th&gt;dao_rewards&lt;/th&gt;\\n      &lt;td&gt;0.45&lt;/td&gt;\\n    &lt;/tr&gt;\\n    &lt;tr&gt;\\n      &lt;th&gt;lbp_pool&lt;/th&gt;\\n      &lt;td&gt;0.36&lt;/td&gt;\\n    &lt;/tr&gt;\\n    &lt;tr&gt;\\n      &lt;th&gt;racoon_fund&lt;/th&gt;\\n      &lt;td&gt;0.09&lt;/td&gt;\\n    &lt;/tr&gt;\\n    &lt;tr&gt;\\n      &lt;th&gt;total&lt;/th&gt;\\n      &lt;td&gt;1.0&lt;/td&gt;\\n    &lt;/tr&gt;\\n  &lt;/tbody&gt;\\n&lt;/table&gt;\"},\"id\":\"1020\",\"type\":\"panel.models.markup.HTML\"},{\"attributes\":{\"children\":[{\"id\":\"1013\"},{\"id\":\"1019\"}],\"margin\":[0,0,0,0],\"name\":\"Row00155\"},\"id\":\"1012\",\"type\":\"Row\"},{\"attributes\":{\"end\":1,\"margin\":[5,10,5,10],\"start\":0,\"step\":0.01,\"title\":\"Founders\",\"value\":0.1},\"id\":\"1015\",\"type\":\"Slider\"}],\"root_ids\":[\"1012\",\"1021\"]},\"title\":\"Bokeh Application\",\"version\":\"2.4.2\"}};\n",
       "    var render_items = [{\"docid\":\"7224ec07-3e83-4072-bc3e-c2b9e6294227\",\"root_ids\":[\"1012\"],\"roots\":{\"1012\":\"82676f7a-7de8-466a-b52a-978b1718ba5b\"}}];\n",
       "    root.Bokeh.embed.embed_items_notebook(docs_json, render_items);\n",
       "  }\n",
       "  if (root.Bokeh !== undefined && root.Bokeh.Panel !== undefined && ( root['echarts'] !== undefined)) {\n",
       "    embed_document(root);\n",
       "  } else {\n",
       "    var attempts = 0;\n",
       "    var timer = setInterval(function(root) {\n",
       "      if (root.Bokeh !== undefined && root.Bokeh.Panel !== undefined && (root['echarts'] !== undefined)) {\n",
       "        clearInterval(timer);\n",
       "        embed_document(root);\n",
       "      } else if (document.readyState == \"complete\") {\n",
       "        attempts++;\n",
       "        if (attempts > 200) {\n",
       "          clearInterval(timer);\n",
       "          console.log(\"Bokeh: ERROR: Unable to run BokehJS code because BokehJS library is missing\");\n",
       "        }\n",
       "      }\n",
       "    }, 25, root)\n",
       "  }\n",
       "})(window);</script>"
      ],
      "text/plain": [
       "Row\n",
       "    [0] Column(margin=5, name='LTFDistribution', width=300)\n",
       "        [0] StaticText(value='<b>LTFDistribution</b>')\n",
       "        [1] FloatSlider(name='Founders', step=0.01, value=0.1)\n",
       "        [2] FloatSlider(name='Dao rewards', step=0.01, value=0.45)\n",
       "        [3] FloatSlider(name='Lbp pool', step=0.01, value=0.36000000000000004)\n",
       "        [4] FloatSlider(name='Racoon fund', step=0.01, value=0.09000000000000001)\n",
       "    [1] ParamMethod(method)"
      ]
     },
     "execution_count": 6,
     "metadata": {
      "application/vnd.holoviews_exec.v0+json": {
       "id": "1012"
      }
     },
     "output_type": "execute_result"
    }
   ],
   "source": [
    "class LTFDistribution(Distribution):\n",
    "    racoon_fund = pm.Number(0.1, bounds=(0,1), step=0.01)\n",
    "\n",
    "ltf_dist = LTFDistribution(allocations=['founders', 'dao_rewards', 'lbp_pool', 'racoon_fund'])\n",
    "\n",
    "pn.Row(ltf_dist, ltf_dist.table_with_total)"
   ]
  },
  {
   "cell_type": "markdown",
   "id": "5a2283a2-2ef7-4da2-ae38-51cd693b2348",
   "metadata": {},
   "source": [
    "Founder Distribution"
   ]
  },
  {
   "cell_type": "code",
   "execution_count": 7,
   "id": "93a28d25-b403-4427-881f-a45bdbe8789f",
   "metadata": {},
   "outputs": [
    {
     "data": {},
     "metadata": {},
     "output_type": "display_data"
    },
    {
     "data": {
      "application/vnd.holoviews_exec.v0+json": "",
      "text/html": [
       "<div id='1022'>\n",
       "\n",
       "\n",
       "\n",
       "\n",
       "\n",
       "  <div class=\"bk-root\" id=\"51074b05-03e4-4ddd-b87e-d4fd9081005b\" data-root-id=\"1022\"></div>\n",
       "</div>\n",
       "<script type=\"application/javascript\">(function(root) {\n",
       "  function embed_document(root) {\n",
       "    var docs_json = {\"c8a276c3-fda6-481b-bd7f-903871c22609\":{\"defs\":[{\"extends\":null,\"module\":null,\"name\":\"ReactiveHTML1\",\"overrides\":[],\"properties\":[]},{\"extends\":null,\"module\":null,\"name\":\"FlexBox1\",\"overrides\":[],\"properties\":[{\"default\":\"flex-start\",\"kind\":null,\"name\":\"align_content\"},{\"default\":\"flex-start\",\"kind\":null,\"name\":\"align_items\"},{\"default\":\"row\",\"kind\":null,\"name\":\"flex_direction\"},{\"default\":\"wrap\",\"kind\":null,\"name\":\"flex_wrap\"},{\"default\":\"flex-start\",\"kind\":null,\"name\":\"justify_content\"}]},{\"extends\":null,\"module\":null,\"name\":\"TemplateActions1\",\"overrides\":[],\"properties\":[{\"default\":0,\"kind\":null,\"name\":\"open_modal\"},{\"default\":0,\"kind\":null,\"name\":\"close_modal\"}]},{\"extends\":null,\"module\":null,\"name\":\"MaterialTemplateActions1\",\"overrides\":[],\"properties\":[{\"default\":0,\"kind\":null,\"name\":\"open_modal\"},{\"default\":0,\"kind\":null,\"name\":\"close_modal\"}]}],\"roots\":{\"references\":[{\"attributes\":{\"margin\":[5,10,5,10],\"max_length\":5000,\"title\":\"Description\",\"value\":\"Add a description\"},\"id\":\"1046\",\"type\":\"TextInput\"},{\"attributes\":{\"margin\":[5,10,5,10],\"max_length\":5000,\"title\":\"Description\",\"value\":\"Add a description\"},\"id\":\"1034\",\"type\":\"TextInput\"},{\"attributes\":{\"end\":10000,\"margin\":[5,10,5,10],\"start\":0,\"step\":2000,\"title\":\"Base wage\",\"value\":3000},\"id\":\"1053\",\"type\":\"Slider\"},{\"attributes\":{\"children\":[{\"id\":\"1028\"},{\"id\":\"1029\"},{\"id\":\"1030\"}],\"margin\":[5,5,5,5],\"min_width\":300,\"name\":\"CFO\",\"width\":300},\"id\":\"1027\",\"type\":\"Column\"},{\"attributes\":{\"children\":[{\"id\":\"1052\"},{\"id\":\"1053\"},{\"id\":\"1054\"}],\"margin\":[5,5,5,5],\"min_width\":300,\"name\":\"Racoon\",\"width\":300},\"id\":\"1051\",\"type\":\"Column\"},{\"attributes\":{\"end\":10000,\"margin\":[5,10,5,10],\"start\":0,\"step\":2000,\"title\":\"Base wage\",\"value\":1600},\"id\":\"1037\",\"type\":\"Slider\"},{\"attributes\":{\"children\":[{\"id\":\"1023\"},{\"id\":\"1027\"},{\"id\":\"1031\"},{\"id\":\"1035\"},{\"id\":\"1039\"},{\"id\":\"1043\"},{\"id\":\"1047\"},{\"id\":\"1051\"}],\"margin\":[0,0,0,0],\"name\":\"Row00230\"},\"id\":\"1022\",\"type\":\"Row\"},{\"attributes\":{\"end\":10000,\"margin\":[5,10,5,10],\"start\":0,\"step\":2000,\"title\":\"Base wage\",\"value\":2000},\"id\":\"1045\",\"type\":\"Slider\"},{\"attributes\":{\"margin\":[5,10,5,10],\"name\":\"\",\"text\":\"<b>Racoon</b>\"},\"id\":\"1052\",\"type\":\"Div\"},{\"attributes\":{\"children\":[{\"id\":\"1024\"},{\"id\":\"1025\"},{\"id\":\"1026\"}],\"margin\":[5,5,5,5],\"min_width\":300,\"name\":\"CEO\",\"width\":300},\"id\":\"1023\",\"type\":\"Column\"},{\"attributes\":{\"margin\":[5,10,5,10],\"name\":\"\",\"text\":\"<b>Token Engineer 2</b>\"},\"id\":\"1048\",\"type\":\"Div\"},{\"attributes\":{\"margin\":[5,10,5,10],\"max_length\":5000,\"title\":\"Description\",\"value\":\"Add a description\"},\"id\":\"1050\",\"type\":\"TextInput\"},{\"attributes\":{\"margin\":[5,10,5,10],\"name\":\"\",\"text\":\"<b>Admin</b>\"},\"id\":\"1036\",\"type\":\"Div\"},{\"attributes\":{\"margin\":[5,10,5,10],\"name\":\"\",\"text\":\"<b>CEO</b>\"},\"id\":\"1024\",\"type\":\"Div\"},{\"attributes\":{\"end\":10000,\"margin\":[5,10,5,10],\"start\":0,\"step\":2000,\"title\":\"Base wage\",\"value\":2000},\"id\":\"1041\",\"type\":\"Slider\"},{\"attributes\":{\"margin\":[5,10,5,10],\"name\":\"\",\"text\":\"<b>CFO</b>\"},\"id\":\"1028\",\"type\":\"Div\"},{\"attributes\":{\"children\":[{\"id\":\"1040\"},{\"id\":\"1041\"},{\"id\":\"1042\"}],\"margin\":[5,5,5,5],\"min_width\":300,\"name\":\"CMO\",\"width\":300},\"id\":\"1039\",\"type\":\"Column\"},{\"attributes\":{\"margin\":[5,10,5,10],\"name\":\"\",\"text\":\"<b>CMO</b>\"},\"id\":\"1040\",\"type\":\"Div\"},{\"attributes\":{\"children\":[{\"id\":\"1036\"},{\"id\":\"1037\"},{\"id\":\"1038\"}],\"margin\":[5,5,5,5],\"min_width\":300,\"name\":\"Admin\",\"width\":300},\"id\":\"1035\",\"type\":\"Column\"},{\"attributes\":{\"end\":10000,\"margin\":[5,10,5,10],\"start\":0,\"step\":2000,\"title\":\"Base wage\",\"value\":2000},\"id\":\"1033\",\"type\":\"Slider\"},{\"attributes\":{\"margin\":[5,10,5,10],\"max_length\":5000,\"title\":\"Description\",\"value\":\"Add a description\"},\"id\":\"1038\",\"type\":\"TextInput\"},{\"attributes\":{\"end\":10000,\"margin\":[5,10,5,10],\"start\":0,\"step\":2000,\"title\":\"Base wage\",\"value\":2000},\"id\":\"1025\",\"type\":\"Slider\"},{\"attributes\":{\"margin\":[5,10,5,10],\"max_length\":5000,\"title\":\"Description\",\"value\":\"Add a description\"},\"id\":\"1054\",\"type\":\"TextInput\"},{\"attributes\":{\"children\":[{\"id\":\"1044\"},{\"id\":\"1045\"},{\"id\":\"1046\"}],\"margin\":[5,5,5,5],\"min_width\":300,\"name\":\"Token Engineer 1\",\"width\":300},\"id\":\"1043\",\"type\":\"Column\"},{\"attributes\":{\"end\":10000,\"margin\":[5,10,5,10],\"start\":0,\"step\":2000,\"title\":\"Base wage\",\"value\":3000},\"id\":\"1049\",\"type\":\"Slider\"},{\"attributes\":{\"margin\":[5,10,5,10],\"max_length\":5000,\"title\":\"Description\",\"value\":\"Highest level decision maker.\"},\"id\":\"1026\",\"type\":\"TextInput\"},{\"attributes\":{\"margin\":[5,10,5,10],\"max_length\":5000,\"title\":\"Description\",\"value\":\"Add a description\"},\"id\":\"1042\",\"type\":\"TextInput\"},{\"attributes\":{\"client_comm_id\":\"1bf0415bfd864fb0b243ef7cb9dfdce7\",\"comm_id\":\"d75999813d78437ba2614a843c080585\",\"plot_id\":\"1022\"},\"id\":\"1055\",\"type\":\"panel.models.comm_manager.CommManager\"},{\"attributes\":{\"margin\":[5,10,5,10],\"name\":\"\",\"text\":\"<b>Token Engineer 1</b>\"},\"id\":\"1044\",\"type\":\"Div\"},{\"attributes\":{\"end\":10000,\"margin\":[5,10,5,10],\"start\":0,\"step\":2000,\"title\":\"Base wage\",\"value\":2000},\"id\":\"1029\",\"type\":\"Slider\"},{\"attributes\":{\"margin\":[5,10,5,10],\"name\":\"\",\"text\":\"<b>CTO</b>\"},\"id\":\"1032\",\"type\":\"Div\"},{\"attributes\":{\"children\":[{\"id\":\"1032\"},{\"id\":\"1033\"},{\"id\":\"1034\"}],\"margin\":[5,5,5,5],\"min_width\":300,\"name\":\"CTO\",\"width\":300},\"id\":\"1031\",\"type\":\"Column\"},{\"attributes\":{\"children\":[{\"id\":\"1048\"},{\"id\":\"1049\"},{\"id\":\"1050\"}],\"margin\":[5,5,5,5],\"min_width\":300,\"name\":\"Token Engineer 2\",\"width\":300},\"id\":\"1047\",\"type\":\"Column\"},{\"attributes\":{\"margin\":[5,10,5,10],\"max_length\":5000,\"title\":\"Description\",\"value\":\"Bottoms-lines guy.\"},\"id\":\"1030\",\"type\":\"TextInput\"}],\"root_ids\":[\"1022\",\"1055\"]},\"title\":\"Bokeh Application\",\"version\":\"2.4.2\"}};\n",
       "    var render_items = [{\"docid\":\"c8a276c3-fda6-481b-bd7f-903871c22609\",\"root_ids\":[\"1022\"],\"roots\":{\"1022\":\"51074b05-03e4-4ddd-b87e-d4fd9081005b\"}}];\n",
       "    root.Bokeh.embed.embed_items_notebook(docs_json, render_items);\n",
       "  }\n",
       "  if (root.Bokeh !== undefined && root.Bokeh.Panel !== undefined && ( root['echarts'] !== undefined)) {\n",
       "    embed_document(root);\n",
       "  } else {\n",
       "    var attempts = 0;\n",
       "    var timer = setInterval(function(root) {\n",
       "      if (root.Bokeh !== undefined && root.Bokeh.Panel !== undefined && (root['echarts'] !== undefined)) {\n",
       "        clearInterval(timer);\n",
       "        embed_document(root);\n",
       "      } else if (document.readyState == \"complete\") {\n",
       "        attempts++;\n",
       "        if (attempts > 200) {\n",
       "          clearInterval(timer);\n",
       "          console.log(\"Bokeh: ERROR: Unable to run BokehJS code because BokehJS library is missing\");\n",
       "        }\n",
       "      }\n",
       "    }, 25, root)\n",
       "  }\n",
       "})(window);</script>"
      ],
      "text/plain": [
       "Row\n",
       "    [0] Column(margin=5, name='CEO', width=300)\n",
       "        [0] StaticText(value='<b>CEO</b>')\n",
       "        [1] FloatSlider(end=10000, name='Base wage', step=2000, value=2000)\n",
       "        [2] TextInput(name='Description', value='Highest level d...)\n",
       "    [1] Column(margin=5, name='CFO', width=300)\n",
       "        [0] StaticText(value='<b>CFO</b>')\n",
       "        [1] FloatSlider(end=10000, name='Base wage', step=2000, value=2000)\n",
       "        [2] TextInput(name='Description', value='Bottoms-lines guy.')\n",
       "    [2] Column(margin=5, name='CTO', width=300)\n",
       "        [0] StaticText(value='<b>CTO</b>')\n",
       "        [1] FloatSlider(end=10000, name='Base wage', step=2000, value=2000)\n",
       "        [2] TextInput(name='Description', value='Add a description')\n",
       "    [3] Column(margin=5, name='Admin', width=300)\n",
       "        [0] StaticText(value='<b>Admin</b>')\n",
       "        [1] FloatSlider(end=10000, name='Base wage', step=2000, value=1600)\n",
       "        [2] TextInput(name='Description', value='Add a description')\n",
       "    [4] Column(margin=5, name='CMO', width=300)\n",
       "        [0] StaticText(value='<b>CMO</b>')\n",
       "        [1] FloatSlider(end=10000, name='Base wage', step=2000, value=2000)\n",
       "        [2] TextInput(name='Description', value='Add a description')\n",
       "    [5] Column(margin=5, name='Token Engineer 1', width=300)\n",
       "        [0] StaticText(value='<b>Token Engineer 1</b>')\n",
       "        [1] FloatSlider(end=10000, name='Base wage', step=2000, value=2000)\n",
       "        [2] TextInput(name='Description', value='Add a description')\n",
       "    [6] Column(margin=5, name='Token Engineer 2', width=300)\n",
       "        [0] StaticText(value='<b>Token Engineer 2</b>')\n",
       "        [1] FloatSlider(end=10000, name='Base wage', step=2000, value=3000)\n",
       "        [2] TextInput(name='Description', value='Add a description')\n",
       "    [7] Column(margin=5, name='Racoon', width=300)\n",
       "        [0] StaticText(value='<b>Racoon</b>')\n",
       "        [1] FloatSlider(end=10000, name='Base wage', step=2000, value=3000)\n",
       "        [2] TextInput(name='Description', value='Add a description')"
      ]
     },
     "execution_count": 7,
     "metadata": {
      "application/vnd.holoviews_exec.v0+json": {
       "id": "1022"
      }
     },
     "output_type": "execute_result"
    }
   ],
   "source": [
    "from parameters.fixtures import roles as role_parameters\n",
    "\n",
    "class Role(pm.Parameterized):\n",
    "    base_wage = pm.Number(2000, bounds=(0,10000), step=2000)\n",
    "    description = pm.String(\"Add a description\")\n",
    "    \n",
    "    def __init__(self, name: str, **params):\n",
    "        super().__init__(name=name, **params)\n",
    "\n",
    "roles = [Role(**r) for r in role_parameters]\n",
    "pn.Row(*roles)"
   ]
  },
  {
   "cell_type": "code",
   "execution_count": 8,
   "id": "fab0ac7d-572a-4d73-abd7-b2dde9af9f76",
   "metadata": {},
   "outputs": [
    {
     "data": {},
     "metadata": {},
     "output_type": "display_data"
    },
    {
     "data": {
      "application/vnd.holoviews_exec.v0+json": "",
      "text/html": [
       "<div id='1056'>\n",
       "\n",
       "\n",
       "\n",
       "\n",
       "\n",
       "  <div class=\"bk-root\" id=\"459d5470-5534-4aa2-a6ab-39fde1c521df\" data-root-id=\"1056\"></div>\n",
       "</div>\n",
       "<script type=\"application/javascript\">(function(root) {\n",
       "  function embed_document(root) {\n",
       "    var docs_json = {\"c928be36-0e73-41be-9219-22847dbf4983\":{\"defs\":[{\"extends\":null,\"module\":null,\"name\":\"ReactiveHTML1\",\"overrides\":[],\"properties\":[]},{\"extends\":null,\"module\":null,\"name\":\"FlexBox1\",\"overrides\":[],\"properties\":[{\"default\":\"flex-start\",\"kind\":null,\"name\":\"align_content\"},{\"default\":\"flex-start\",\"kind\":null,\"name\":\"align_items\"},{\"default\":\"row\",\"kind\":null,\"name\":\"flex_direction\"},{\"default\":\"wrap\",\"kind\":null,\"name\":\"flex_wrap\"},{\"default\":\"flex-start\",\"kind\":null,\"name\":\"justify_content\"}]},{\"extends\":null,\"module\":null,\"name\":\"TemplateActions1\",\"overrides\":[],\"properties\":[{\"default\":0,\"kind\":null,\"name\":\"open_modal\"},{\"default\":0,\"kind\":null,\"name\":\"close_modal\"}]},{\"extends\":null,\"module\":null,\"name\":\"MaterialTemplateActions1\",\"overrides\":[],\"properties\":[{\"default\":0,\"kind\":null,\"name\":\"open_modal\"},{\"default\":0,\"kind\":null,\"name\":\"close_modal\"}]}],\"roots\":{\"references\":[{\"attributes\":{\"margin\":[5,10,5,10],\"max_length\":5000,\"title\":\"Discord\"},\"id\":\"1059\",\"type\":\"TextInput\"},{\"attributes\":{\"margin\":[5,10,5,10],\"max_length\":5000,\"title\":\"Email\"},\"id\":\"1058\",\"type\":\"TextInput\"},{\"attributes\":{\"margin\":[5,10,5,10],\"max_length\":5000,\"title\":\"Twitter\"},\"id\":\"1061\",\"type\":\"TextInput\"},{\"attributes\":{\"margin\":[5,10,5,10],\"name\":\"\",\"text\":\"<b>Profile</b>\"},\"id\":\"1057\",\"type\":\"Div\"},{\"attributes\":{\"margin\":[5,10,5,10],\"max_length\":5000,\"title\":\"Ethereum\"},\"id\":\"1062\",\"type\":\"TextInput\"},{\"attributes\":{\"margin\":[5,10,5,10],\"max_length\":5000,\"title\":\"Github\"},\"id\":\"1060\",\"type\":\"TextInput\"},{\"attributes\":{\"children\":[{\"id\":\"1057\"},{\"id\":\"1058\"},{\"id\":\"1059\"},{\"id\":\"1060\"},{\"id\":\"1061\"},{\"id\":\"1062\"}],\"margin\":[5,5,5,5],\"min_width\":300,\"name\":\"Profile\",\"width\":300},\"id\":\"1056\",\"type\":\"Column\"},{\"attributes\":{\"client_comm_id\":\"0d9a34137e99422791dd81f9b1fea7ea\",\"comm_id\":\"4bf104c3633e4c2487bbc7b652e7d32a\",\"plot_id\":\"1056\"},\"id\":\"1063\",\"type\":\"panel.models.comm_manager.CommManager\"}],\"root_ids\":[\"1056\",\"1063\"]},\"title\":\"Bokeh Application\",\"version\":\"2.4.2\"}};\n",
       "    var render_items = [{\"docid\":\"c928be36-0e73-41be-9219-22847dbf4983\",\"root_ids\":[\"1056\"],\"roots\":{\"1056\":\"459d5470-5534-4aa2-a6ab-39fde1c521df\"}}];\n",
       "    root.Bokeh.embed.embed_items_notebook(docs_json, render_items);\n",
       "  }\n",
       "  if (root.Bokeh !== undefined && root.Bokeh.Panel !== undefined && ( root['echarts'] !== undefined)) {\n",
       "    embed_document(root);\n",
       "  } else {\n",
       "    var attempts = 0;\n",
       "    var timer = setInterval(function(root) {\n",
       "      if (root.Bokeh !== undefined && root.Bokeh.Panel !== undefined && (root['echarts'] !== undefined)) {\n",
       "        clearInterval(timer);\n",
       "        embed_document(root);\n",
       "      } else if (document.readyState == \"complete\") {\n",
       "        attempts++;\n",
       "        if (attempts > 200) {\n",
       "          clearInterval(timer);\n",
       "          console.log(\"Bokeh: ERROR: Unable to run BokehJS code because BokehJS library is missing\");\n",
       "        }\n",
       "      }\n",
       "    }, 25, root)\n",
       "  }\n",
       "})(window);</script>"
      ],
      "text/plain": [
       "Param(Profile)"
      ]
     },
     "execution_count": 8,
     "metadata": {
      "application/vnd.holoviews_exec.v0+json": {
       "id": "1056"
      }
     },
     "output_type": "execute_result"
    }
   ],
   "source": [
    "class Profile(pm.Parameterized):\n",
    "    email = pm.String()\n",
    "    discord = pm.String()\n",
    "    github = pm.String() \n",
    "    twitter = pm.String()\n",
    "    ethereum = pm.String()\n",
    "    \n",
    "p = Profile()\n",
    "pn.Pane(p)"
   ]
  },
  {
   "cell_type": "code",
   "execution_count": 9,
   "id": "f8075f0f-7beb-4e5c-b6d4-bdc39dce0b2f",
   "metadata": {},
   "outputs": [],
   "source": [
    "import datetime as dt\n",
    "import numpy as np\n",
    "\n",
    "class Founder(pm.Parameterized):\n",
    "    first_name = pm.String()\n",
    "    last_name  = pm.String()\n",
    "    NDA        = pm.Boolean(True)\n",
    "    onboarded  = pm.Boolean(True)\n",
    "    active     = pm.Boolean(True)\n",
    "    contract   = pm.Boolean(True)\n",
    "    engagement = pm.ObjectSelector(default='Full Time', objects=['Full Time', 'Part Time'])\n",
    "    authorization_level = pm.Integer(1, bounds=(1,5))\n",
    "    credentials_level = pm.Integer(1, bounds=(1,5))\n",
    "    conviction_level  = pm.Integer(1, bounds=(1,5))\n",
    "    role = pm.ObjectSelector(default=roles[0], objects=roles)   \n",
    "    date_joined =  pm.Date(dt.date(2018, 8, 18), bounds=(dt.date(2018, 8, 18), None))\n",
    "    profile = pm.ObjectSelector(default=p, objects=[p]) \n",
    "    \n",
    "    def clearance(self):\n",
    "        return self.NDA * self.onboarded * self.active * self.contract\n",
    "    \n",
    "    def months_since_joining(self):\n",
    "        d1 = dt.date.today()\n",
    "        d2 = self.date_joined\n",
    "        months_since_joining = (d1.year - d2.year) * 12 + d1.month - d2.month\n",
    "        return months_since_joining\n",
    "    \n",
    "    def time_bonus(self):\n",
    "        months_since_joining = self.months_since_joining()\n",
    "        return round(np.sqrt(months_since_joining+1)/2, 2)\n",
    "        \n",
    "    def rewards_multiplier(self):\n",
    "        return round(np.sqrt(self.conviction_level * self.credentials_level * self.authorization_level)/2, 2)\n",
    "    \n",
    "    def base_wage(self):\n",
    "        return (1 if self.engagement=='Full Time' else 0.5) * self.role.base_wage\n",
    "    \n",
    "    def reward_schedule(self):\n",
    "        rewards = self.clearance() * self.base_wage() * (self.time_bonus() + self.rewards_multiplier()) \n",
    "        return round(rewards)\n",
    "    \n",
    "    def clearance_gauge(self):\n",
    "        return pn.indicators.Gauge(\n",
    "            name='Clearance', value=self.clearance(), bounds=(0, 1), format='{value} ✅',\n",
    "            colors=[(0.2, 'green'), (0.8, 'gold'), (1, 'red')], annulus_width=5, custom_opts={'radius':120})\n",
    "    \n",
    "    def time_bonus_gauge(self):\n",
    "        return pn.indicators.Gauge(\n",
    "            name='Time Bonus', value=self.time_bonus(), bounds=(0, 100), format='{value} ✅',\n",
    "            colors=[(0.2, 'green'), (0.8, 'gold'), (1, 'red')], annulus_width=5, custom_opts={'radius':120})\n",
    "    \n",
    "    def rewards_multiplier_gauge(self):\n",
    "        return pn.indicators.Gauge(\n",
    "            name='Rewards Multiplier', value=self.rewards_multiplier(), bounds=(1, 10), format='{value} ✅',\n",
    "            colors=[(0.2, 'green'), (0.8, 'gold'), (1, 'red')], annulus_width=5, custom_opts={'radius':120})\n",
    "    \n",
    "    @pn.depends('role.base_wage')\n",
    "    def base_wage_gauge(self):\n",
    "        return pn.indicators.Gauge(\n",
    "            name='Base Wage', value=self.base_wage(), bounds=(0, 8000), format='{value} ✅',\n",
    "            colors=[(0.2, 'green'), (0.8, 'gold'), (1, 'red')], annulus_width=5, custom_opts={'radius':120})\n",
    "    \n",
    "    @pn.depends('role.base_wage')\n",
    "    def rewards_gauge(self):\n",
    "        return pn.indicators.Gauge(\n",
    "            name='Rewards', value=self.reward_schedule(), bounds=(0, 8000), format='{value} 💸',\n",
    "            colors=[(0.2, 'green'), (0.8, 'gold'), (1, 'red')])\n",
    "    \n",
    "    \n",
    "#     @pn.depends('role.base_wage')\n",
    "    def view_reward_gauge(self):\n",
    "        \n",
    "        g1 = self.clearance_gauge\n",
    "\n",
    "        g2 = self.time_bonus_gauge\n",
    "        \n",
    "        g3 = self.rewards_multiplier_gauge\n",
    "        \n",
    "        g4 = self.base_wage_gauge\n",
    "        \n",
    "        g5 = self.rewards_gauge\n",
    "        \n",
    "        return pn.Column(pn.Row(g1, g2, g3), pn.Row(g4, g5))\n",
    "        \n",
    "    \n",
    "    def view(self):\n",
    "        founder = pn.Param(self, widgets={\n",
    "            'date_joined': pn.widgets.DatePicker(name='Date Joined', value=self.date_joined)\n",
    "        })\n",
    "        return founder"
   ]
  },
  {
   "cell_type": "code",
   "execution_count": 10,
   "id": "ec04f6a0-d226-4960-acf2-f8c0ad34d308",
   "metadata": {},
   "outputs": [],
   "source": [
    "from parameters.fixtures import founders as founder_parameters"
   ]
  },
  {
   "cell_type": "markdown",
   "id": "026f3f20-6310-4693-b4fc-30fd6314d3e5",
   "metadata": {},
   "source": [
    "DAO Rewards"
   ]
  },
  {
   "cell_type": "code",
   "execution_count": 11,
   "id": "30f7466d-0fc3-4774-ad6a-2423b3b39b3c",
   "metadata": {},
   "outputs": [
    {
     "name": "stderr",
     "output_type": "stream",
     "text": [
      "WARNING:param.Founder00250: Setting non-parameter attribute role_name=CEO using a mechanism intended only for parameters\n",
      "WARNING:param.Founder00251: Setting non-parameter attribute role_name=Admin using a mechanism intended only for parameters\n",
      "WARNING:param.Founder00252: Setting non-parameter attribute role_name=CFO using a mechanism intended only for parameters\n",
      "WARNING:param.Founder00253: Setting non-parameter attribute role_name=CTO using a mechanism intended only for parameters\n",
      "WARNING:param.Founder00254: Setting non-parameter attribute role_name=Admin using a mechanism intended only for parameters\n",
      "WARNING:param.Founder00255: Setting non-parameter attribute role_name=Token Engineer 1 using a mechanism intended only for parameters\n",
      "WARNING:param.Founder00256: Setting non-parameter attribute role_name=CMO using a mechanism intended only for parameters\n",
      "WARNING:param.Founder00257: Setting non-parameter attribute role_name=Token Engineer 1 using a mechanism intended only for parameters\n"
     ]
    }
   ],
   "source": [
    "founders = [Founder(**f,role=pm.named_objs(roles)[f['role_name']]) for f in founder_parameters]"
   ]
  },
  {
   "cell_type": "code",
   "execution_count": 12,
   "id": "a540d8b7-8b43-4143-a43a-e594a1375d88",
   "metadata": {},
   "outputs": [
    {
     "data": {},
     "metadata": {},
     "output_type": "display_data"
    },
    {
     "data": {
      "application/vnd.holoviews_exec.v0+json": "",
      "text/html": [
       "<div id='1064'>\n",
       "\n",
       "\n",
       "\n",
       "\n",
       "\n",
       "  <div class=\"bk-root\" id=\"6b7af248-2a78-4403-98bb-838c7a60f444\" data-root-id=\"1064\"></div>\n",
       "</div>\n",
       "<script type=\"application/javascript\">(function(root) {\n",
       "  function embed_document(root) {\n",
       "    var docs_json = {\"044e6c1e-cead-466a-afab-2851a41dfeea\":{\"defs\":[{\"extends\":null,\"module\":null,\"name\":\"ReactiveHTML1\",\"overrides\":[],\"properties\":[]},{\"extends\":null,\"module\":null,\"name\":\"FlexBox1\",\"overrides\":[],\"properties\":[{\"default\":\"flex-start\",\"kind\":null,\"name\":\"align_content\"},{\"default\":\"flex-start\",\"kind\":null,\"name\":\"align_items\"},{\"default\":\"row\",\"kind\":null,\"name\":\"flex_direction\"},{\"default\":\"wrap\",\"kind\":null,\"name\":\"flex_wrap\"},{\"default\":\"flex-start\",\"kind\":null,\"name\":\"justify_content\"}]},{\"extends\":null,\"module\":null,\"name\":\"TemplateActions1\",\"overrides\":[],\"properties\":[{\"default\":0,\"kind\":null,\"name\":\"open_modal\"},{\"default\":0,\"kind\":null,\"name\":\"close_modal\"}]},{\"extends\":null,\"module\":null,\"name\":\"MaterialTemplateActions1\",\"overrides\":[],\"properties\":[{\"default\":0,\"kind\":null,\"name\":\"open_modal\"},{\"default\":0,\"kind\":null,\"name\":\"close_modal\"}]}],\"roots\":{\"references\":[{\"attributes\":{\"end\":5,\"margin\":[5,10,5,10],\"start\":1,\"title\":\"Conviction level\",\"value\":4},\"id\":\"1111\",\"type\":\"Slider\"},{\"attributes\":{\"children\":[{\"id\":\"1113\"},{\"id\":\"1114\"}],\"margin\":[0,0,0,0],\"name\":\"Row00360\",\"width_policy\":\"max\"},\"id\":\"1112\",\"type\":\"Row\"},{\"attributes\":{\"margin\":[5,0,5,10],\"min_width\":240,\"options\":[[\"<Role CEO>\",\"CEO\"],[\"<Role CFO>\",\"CFO\"],[\"<Role CTO>\",\"CTO\"],[\"<Role Admin>\",\"Admin\"],[\"<Role CMO>\",\"CMO\"],[\"<Role Token Engineer 1>\",\"Token Engineer 1\"],[\"<Role Token Engineer 2>\",\"Token Engineer 2\"],[\"<Role Racoon>\",\"Racoon\"]],\"title\":\"Role\",\"value\":\"<Role Admin>\",\"width\":240},\"id\":\"1113\",\"type\":\"Select\"},{\"attributes\":{\"children\":[{\"id\":\"1123\"}],\"margin\":[0,0,0,0],\"name\":\"Row00375\"},\"id\":\"1122\",\"type\":\"Row\"},{\"attributes\":{\"children\":[{\"id\":\"1117\"},{\"id\":\"1118\"}],\"margin\":[0,0,0,0],\"name\":\"Row00365\",\"width_policy\":\"max\"},\"id\":\"1116\",\"type\":\"Row\"},{\"attributes\":{\"margin\":[5,10,5,10],\"options\":[[\"Full Time\",\"Full Time\"],[\"Part Time\",\"Part Time\"]],\"title\":\"Engagement\",\"value\":\"Full Time\"},\"id\":\"1142\",\"type\":\"Select\"},{\"attributes\":{\"children\":[{\"id\":\"1168\"},{\"id\":\"1187\"}],\"margin\":[0,0,0,0],\"name\":\"Row00553\"},\"id\":\"1167\",\"type\":\"Row\"},{\"attributes\":{\"children\":[{\"id\":\"1122\"},{\"id\":\"1124\"},{\"id\":\"1126\"}],\"margin\":[0,0,0,0],\"name\":\"Row00389\"},\"id\":\"1121\",\"type\":\"Row\"},{\"attributes\":{\"active\":[0],\"labels\":[\"Onboarded\"],\"margin\":[5,10,5,10]},\"id\":\"1173\",\"type\":\"CheckboxGroup\"},{\"attributes\":{\"margin\":[5,0,5,10],\"min_width\":240,\"options\":[[\"<Profile Profile00233>\",\"Profile00233\"]],\"title\":\"Profile\",\"value\":\"<Profile Profile00233>\",\"width\":240},\"id\":\"1117\",\"type\":\"Select\"},{\"attributes\":{\"align\":\"end\",\"button_type\":\"primary\",\"height_policy\":\"fit\",\"icon\":null,\"label\":\"\\u22ee\",\"margin\":[0,0,5,10],\"max_height\":30,\"max_width\":20},\"id\":\"1118\",\"type\":\"Toggle\"},{\"attributes\":{\"children\":[{\"id\":\"1135\"},{\"id\":\"1136\"},{\"id\":\"1137\"},{\"id\":\"1138\"},{\"id\":\"1139\"},{\"id\":\"1140\"},{\"id\":\"1141\"},{\"id\":\"1142\"},{\"id\":\"1143\"},{\"id\":\"1144\"},{\"id\":\"1145\"},{\"id\":\"1146\"},{\"id\":\"1149\"},{\"id\":\"1150\"}],\"margin\":[5,5,5,5],\"min_width\":300,\"name\":\"Founder\",\"width\":300},\"id\":\"1134\",\"type\":\"Column\"},{\"attributes\":{\"align\":\"end\",\"button_type\":\"primary\",\"height_policy\":\"fit\",\"icon\":null,\"label\":\"\\u22ee\",\"margin\":[0,0,5,10],\"max_height\":30,\"max_width\":20},\"id\":\"1148\",\"type\":\"Toggle\"},{\"attributes\":{\"children\":[{\"id\":\"1121\"},{\"id\":\"1128\"}],\"margin\":[0,0,0,0],\"name\":\"Column00403\"},\"id\":\"1120\",\"type\":\"Column\"},{\"attributes\":{\"data\":{\"series\":[{\"axisLabel\":{\"show\":true},\"axisLine\":{\"lineStyle\":{\"color\":[[0.2,\"green\"],[0.8,\"gold\"],[1,\"red\"]],\"width\":5}},\"axisTick\":{\"show\":true},\"data\":[{\"name\":\"Time Bonus\",\"value\":2.83}],\"detail\":{\"formatter\":\"{value} \\u2705\"},\"endAngle\":-45,\"max\":100,\"min\":0,\"name\":\"Gauge\",\"radius\":120,\"splitLine\":{\"show\":true},\"splitNumber\":10,\"startAngle\":225,\"title\":{\"fontSize\":18,\"fontWeight\":\"bold\"},\"type\":\"gauge\"}],\"tooltip\":{\"formatter\":\"{b} : {c}%\"}},\"height\":300,\"margin\":[5,10,5,10],\"name\":\"Time Bonus\",\"sizing_mode\":\"fixed\",\"width\":300},\"id\":\"1125\",\"type\":\"panel.models.echarts.ECharts\"},{\"attributes\":{\"active\":[0],\"labels\":[\"NDA\"],\"margin\":[5,10,5,10]},\"id\":\"1172\",\"type\":\"CheckboxGroup\"},{\"attributes\":{\"children\":[{\"id\":\"1125\"}],\"margin\":[0,0,0,0],\"name\":\"Row00381\"},\"id\":\"1124\",\"type\":\"Row\"},{\"attributes\":{\"children\":[{\"id\":\"1130\"}],\"margin\":[0,0,0,0],\"name\":\"Row00394\"},\"id\":\"1129\",\"type\":\"Row\"},{\"attributes\":{\"data\":{\"series\":[{\"axisLabel\":{\"show\":true},\"axisLine\":{\"lineStyle\":{\"color\":[[0.2,\"green\"],[0.8,\"gold\"],[1,\"red\"]],\"width\":5}},\"axisTick\":{\"show\":true},\"data\":[{\"name\":\"Rewards Multiplier\",\"value\":1.73}],\"detail\":{\"formatter\":\"{value} \\u2705\"},\"endAngle\":-45,\"max\":10,\"min\":1,\"name\":\"Gauge\",\"radius\":120,\"splitLine\":{\"show\":true},\"splitNumber\":10,\"startAngle\":225,\"title\":{\"fontSize\":18,\"fontWeight\":\"bold\"},\"type\":\"gauge\"}],\"tooltip\":{\"formatter\":\"{b} : {c}%\"}},\"height\":300,\"margin\":[5,10,5,10],\"name\":\"Rewards Multiplier\",\"sizing_mode\":\"fixed\",\"width\":300},\"id\":\"1127\",\"type\":\"panel.models.echarts.ECharts\"},{\"attributes\":{\"children\":[{\"id\":\"1127\"}],\"margin\":[0,0,0,0],\"name\":\"Row00387\"},\"id\":\"1126\",\"type\":\"Row\"},{\"attributes\":{\"margin\":[5,10,5,10],\"name\":\"\",\"text\":\"<b>Founder</b>\"},\"id\":\"1135\",\"type\":\"Div\"},{\"attributes\":{\"children\":[{\"id\":\"1129\"},{\"id\":\"1131\"}],\"margin\":[0,0,0,0],\"name\":\"Row00402\"},\"id\":\"1128\",\"type\":\"Row\"},{\"attributes\":{\"data\":{\"series\":[{\"axisLabel\":{\"show\":true},\"axisLine\":{\"lineStyle\":{\"color\":[[0.2,\"green\"],[0.8,\"gold\"],[1,\"red\"]],\"width\":5}},\"axisTick\":{\"show\":true},\"data\":[{\"name\":\"Base Wage\",\"value\":800.0}],\"detail\":{\"formatter\":\"{value} \\u2705\"},\"endAngle\":-45,\"max\":8000,\"min\":0,\"name\":\"Gauge\",\"radius\":120,\"splitLine\":{\"show\":true},\"splitNumber\":10,\"startAngle\":225,\"title\":{\"fontSize\":18,\"fontWeight\":\"bold\"},\"type\":\"gauge\"}],\"tooltip\":{\"formatter\":\"{b} : {c}%\"}},\"height\":300,\"margin\":[5,10,5,10],\"name\":\"Base Wage\",\"sizing_mode\":\"fixed\",\"width\":300},\"id\":\"1130\",\"type\":\"panel.models.echarts.ECharts\"},{\"attributes\":{\"children\":[{\"id\":\"1132\"}],\"margin\":[0,0,0,0],\"name\":\"Row00400\"},\"id\":\"1131\",\"type\":\"Row\"},{\"attributes\":{\"margin\":[5,10,5,10],\"max_length\":5000,\"title\":\"First name\",\"value\":\"Mike\"},\"id\":\"1136\",\"type\":\"TextInput\"},{\"attributes\":{\"data\":{\"series\":[{\"axisLabel\":{\"show\":true},\"axisLine\":{\"lineStyle\":{\"color\":[[0.2,\"green\"],[0.8,\"gold\"],[1,\"red\"]],\"width\":10}},\"axisTick\":{\"show\":true},\"data\":[{\"name\":\"Rewards\",\"value\":3648}],\"detail\":{\"formatter\":\"{value} \\ud83d\\udcb8\"},\"endAngle\":-45,\"max\":8000,\"min\":0,\"name\":\"Gauge\",\"radius\":\"100%\",\"splitLine\":{\"show\":true},\"splitNumber\":10,\"startAngle\":225,\"title\":{\"fontSize\":18,\"fontWeight\":\"bold\"},\"type\":\"gauge\"}],\"tooltip\":{\"formatter\":\"{b} : {c}%\"}},\"height\":300,\"margin\":[5,10,5,10],\"name\":\"Rewards\",\"sizing_mode\":\"fixed\",\"width\":300},\"id\":\"1132\",\"type\":\"panel.models.echarts.ECharts\"},{\"attributes\":{\"margin\":[5,10,5,10],\"title\":\"Date Joined\",\"value\":\"2021-04-15\"},\"id\":\"1149\",\"type\":\"DatePicker\"},{\"attributes\":{\"children\":[{\"id\":\"1154\"}],\"margin\":[0,0,0,0],\"name\":\"Row00444\"},\"id\":\"1153\",\"type\":\"Row\"},{\"attributes\":{\"margin\":[5,10,5,10],\"max_length\":5000,\"title\":\"Last name\",\"value\":\"De Melo\"},\"id\":\"1137\",\"type\":\"TextInput\"},{\"attributes\":{\"data\":{\"series\":[{\"axisLabel\":{\"show\":true},\"axisLine\":{\"lineStyle\":{\"color\":[[0.2,\"green\"],[0.8,\"gold\"],[1,\"red\"]],\"width\":5}},\"axisTick\":{\"show\":true},\"data\":[{\"name\":\"Clearance\",\"value\":1}],\"detail\":{\"formatter\":\"{value} \\u2705\"},\"endAngle\":-45,\"max\":1,\"min\":0,\"name\":\"Gauge\",\"radius\":120,\"splitLine\":{\"show\":true},\"splitNumber\":10,\"startAngle\":225,\"title\":{\"fontSize\":18,\"fontWeight\":\"bold\"},\"type\":\"gauge\"}],\"tooltip\":{\"formatter\":\"{b} : {c}%\"}},\"height\":300,\"margin\":[5,10,5,10],\"name\":\"Clearance\",\"sizing_mode\":\"fixed\",\"width\":300},\"id\":\"1157\",\"type\":\"panel.models.echarts.ECharts\"},{\"attributes\":{\"data\":{\"series\":[{\"axisLabel\":{\"show\":true},\"axisLine\":{\"lineStyle\":{\"color\":[[0.2,\"green\"],[0.8,\"gold\"],[1,\"red\"]],\"width\":5}},\"axisTick\":{\"show\":true},\"data\":[{\"name\":\"Base Wage\",\"value\":2000}],\"detail\":{\"formatter\":\"{value} \\u2705\"},\"endAngle\":-45,\"max\":8000,\"min\":0,\"name\":\"Gauge\",\"radius\":120,\"splitLine\":{\"show\":true},\"splitNumber\":10,\"startAngle\":225,\"title\":{\"fontSize\":18,\"fontWeight\":\"bold\"},\"type\":\"gauge\"}],\"tooltip\":{\"formatter\":\"{b} : {c}%\"}},\"height\":300,\"margin\":[5,10,5,10],\"name\":\"Base Wage\",\"sizing_mode\":\"fixed\",\"width\":300},\"id\":\"1198\",\"type\":\"panel.models.echarts.ECharts\"},{\"attributes\":{\"end\":5,\"margin\":[5,10,5,10],\"start\":1,\"title\":\"Conviction level\",\"value\":5},\"id\":\"1145\",\"type\":\"Slider\"},{\"attributes\":{\"margin\":[5,10,5,10],\"max_length\":5000,\"title\":\"Last name\",\"value\":\"Perison\"},\"id\":\"1205\",\"type\":\"TextInput\"},{\"attributes\":{\"end\":5,\"margin\":[5,10,5,10],\"start\":1,\"title\":\"Credentials level\",\"value\":3},\"id\":\"1144\",\"type\":\"Slider\"},{\"attributes\":{\"data\":{\"series\":[{\"axisLabel\":{\"show\":true},\"axisLine\":{\"lineStyle\":{\"color\":[[0.2,\"green\"],[0.8,\"gold\"],[1,\"red\"]],\"width\":10}},\"axisTick\":{\"show\":true},\"data\":[{\"name\":\"Rewards\",\"value\":11060}],\"detail\":{\"formatter\":\"{value} \\ud83d\\udcb8\"},\"endAngle\":-45,\"max\":8000,\"min\":0,\"name\":\"Gauge\",\"radius\":\"100%\",\"splitLine\":{\"show\":true},\"splitNumber\":10,\"startAngle\":225,\"title\":{\"fontSize\":18,\"fontWeight\":\"bold\"},\"type\":\"gauge\"}],\"tooltip\":{\"formatter\":\"{b} : {c}%\"}},\"height\":300,\"margin\":[5,10,5,10],\"name\":\"Rewards\",\"sizing_mode\":\"fixed\",\"width\":300},\"id\":\"1200\",\"type\":\"panel.models.echarts.ECharts\"},{\"attributes\":{\"active\":[0],\"labels\":[\"NDA\"],\"margin\":[5,10,5,10]},\"id\":\"1138\",\"type\":\"CheckboxGroup\"},{\"attributes\":{\"margin\":[5,0,5,10],\"min_width\":240,\"options\":[[\"<Profile Profile00233>\",\"Profile00233\"]],\"title\":\"Profile\",\"value\":\"<Profile Profile00233>\",\"width\":240},\"id\":\"1219\",\"type\":\"Select\"},{\"attributes\":{\"margin\":[5,10,5,10],\"name\":\"\",\"text\":\"<b>Founder</b>\"},\"id\":\"1203\",\"type\":\"Div\"},{\"attributes\":{\"active\":[0],\"labels\":[\"Active\"],\"margin\":[5,10,5,10]},\"id\":\"1140\",\"type\":\"CheckboxGroup\"},{\"attributes\":{\"children\":[{\"id\":\"1222\"}],\"margin\":[0,0,0,0],\"name\":\"Row00592\"},\"id\":\"1221\",\"type\":\"Row\"},{\"attributes\":{\"active\":[0],\"labels\":[\"Onboarded\"],\"margin\":[5,10,5,10]},\"id\":\"1139\",\"type\":\"CheckboxGroup\"},{\"attributes\":{\"end\":5,\"margin\":[5,10,5,10],\"start\":1,\"title\":\"Credentials level\",\"value\":1},\"id\":\"1212\",\"type\":\"Slider\"},{\"attributes\":{\"children\":[{\"id\":\"1089\"}],\"margin\":[0,0,0,0],\"name\":\"Row00301\"},\"id\":\"1088\",\"type\":\"Row\"},{\"attributes\":{\"align\":\"end\",\"button_type\":\"primary\",\"height_policy\":\"fit\",\"icon\":null,\"label\":\"\\u22ee\",\"margin\":[0,0,5,10],\"max_height\":30,\"max_width\":20},\"id\":\"1084\",\"type\":\"Toggle\"},{\"attributes\":{\"data\":{\"series\":[{\"axisLabel\":{\"show\":true},\"axisLine\":{\"lineStyle\":{\"color\":[[0.2,\"green\"],[0.8,\"gold\"],[1,\"red\"]],\"width\":5}},\"axisTick\":{\"show\":true},\"data\":[{\"name\":\"Clearance\",\"value\":1}],\"detail\":{\"formatter\":\"{value} \\u2705\"},\"endAngle\":-45,\"max\":1,\"min\":0,\"name\":\"Gauge\",\"radius\":120,\"splitLine\":{\"show\":true},\"splitNumber\":10,\"startAngle\":225,\"title\":{\"fontSize\":18,\"fontWeight\":\"bold\"},\"type\":\"gauge\"}],\"tooltip\":{\"formatter\":\"{b} : {c}%\"}},\"height\":300,\"margin\":[5,10,5,10],\"name\":\"Clearance\",\"sizing_mode\":\"fixed\",\"width\":300},\"id\":\"1225\",\"type\":\"panel.models.echarts.ECharts\"},{\"attributes\":{\"active\":[0],\"labels\":[\"Contract\"],\"margin\":[5,10,5,10]},\"id\":\"1141\",\"type\":\"CheckboxGroup\"},{\"attributes\":{\"margin\":[5,10,5,10],\"max_length\":5000,\"title\":\"First name\",\"value\":\"Liam\"},\"id\":\"1204\",\"type\":\"TextInput\"},{\"attributes\":{\"children\":[{\"id\":\"1101\"},{\"id\":\"1102\"},{\"id\":\"1103\"},{\"id\":\"1104\"},{\"id\":\"1105\"},{\"id\":\"1106\"},{\"id\":\"1107\"},{\"id\":\"1108\"},{\"id\":\"1109\"},{\"id\":\"1110\"},{\"id\":\"1111\"},{\"id\":\"1112\"},{\"id\":\"1115\"},{\"id\":\"1116\"}],\"margin\":[5,5,5,5],\"min_width\":300,\"name\":\"Founder\",\"width\":300},\"id\":\"1100\",\"type\":\"Column\"},{\"attributes\":{\"active\":[0],\"labels\":[\"NDA\"],\"margin\":[5,10,5,10]},\"id\":\"1206\",\"type\":\"CheckboxGroup\"},{\"attributes\":{\"end\":5,\"margin\":[5,10,5,10],\"start\":1,\"title\":\"Authorization level\",\"value\":4},\"id\":\"1143\",\"type\":\"Slider\"},{\"attributes\":{\"end\":5,\"margin\":[5,10,5,10],\"start\":1,\"title\":\"Conviction level\",\"value\":4},\"id\":\"1213\",\"type\":\"Slider\"},{\"attributes\":{\"children\":[{\"id\":\"1088\"},{\"id\":\"1090\"},{\"id\":\"1092\"}],\"margin\":[0,0,0,0],\"name\":\"Row00315\"},\"id\":\"1087\",\"type\":\"Row\"},{\"attributes\":{\"margin\":[5,0,5,10],\"min_width\":240,\"options\":[[\"<Profile Profile00233>\",\"Profile00233\"]],\"title\":\"Profile\",\"value\":\"<Profile Profile00233>\",\"width\":240},\"id\":\"1083\",\"type\":\"Select\"},{\"attributes\":{\"children\":[{\"id\":\"1157\"}],\"margin\":[0,0,0,0],\"name\":\"Row00449\"},\"id\":\"1156\",\"type\":\"Row\"},{\"attributes\":{\"align\":\"end\",\"button_type\":\"primary\",\"height_policy\":\"fit\",\"icon\":null,\"label\":\"\\u22ee\",\"margin\":[0,0,5,10],\"max_height\":30,\"max_width\":20},\"id\":\"1114\",\"type\":\"Toggle\"},{\"attributes\":{\"children\":[{\"id\":\"1134\"},{\"id\":\"1153\"}],\"margin\":[0,0,0,0],\"name\":\"Row00479\"},\"id\":\"1133\",\"type\":\"Row\"},{\"attributes\":{\"active\":[0],\"labels\":[\"Active\"],\"margin\":[5,10,5,10]},\"id\":\"1208\",\"type\":\"CheckboxGroup\"},{\"attributes\":{\"children\":[{\"id\":\"1087\"},{\"id\":\"1094\"}],\"margin\":[0,0,0,0],\"name\":\"Column00329\"},\"id\":\"1086\",\"type\":\"Column\"},{\"attributes\":{\"active\":[0],\"labels\":[\"Onboarded\"],\"margin\":[5,10,5,10]},\"id\":\"1207\",\"type\":\"CheckboxGroup\"},{\"attributes\":{\"children\":[{\"id\":\"1147\"},{\"id\":\"1148\"}],\"margin\":[0,0,0,0],\"name\":\"Row00434\",\"width_policy\":\"max\"},\"id\":\"1146\",\"type\":\"Row\"},{\"attributes\":{\"children\":[{\"id\":\"1236\"},{\"id\":\"1255\"}],\"margin\":[0,0,0,0],\"name\":\"Row00701\"},\"id\":\"1235\",\"type\":\"Row\"},{\"attributes\":{\"active\":[0],\"labels\":[\"Contract\"],\"margin\":[5,10,5,10]},\"id\":\"1209\",\"type\":\"CheckboxGroup\"},{\"attributes\":{\"data\":{\"series\":[{\"axisLabel\":{\"show\":true},\"axisLine\":{\"lineStyle\":{\"color\":[[0.2,\"green\"],[0.8,\"gold\"],[1,\"red\"]],\"width\":5}},\"axisTick\":{\"show\":true},\"data\":[{\"name\":\"Time Bonus\",\"value\":3.32}],\"detail\":{\"formatter\":\"{value} \\u2705\"},\"endAngle\":-45,\"max\":100,\"min\":0,\"name\":\"Gauge\",\"radius\":120,\"splitLine\":{\"show\":true},\"splitNumber\":10,\"startAngle\":225,\"title\":{\"fontSize\":18,\"fontWeight\":\"bold\"},\"type\":\"gauge\"}],\"tooltip\":{\"formatter\":\"{b} : {c}%\"}},\"height\":300,\"margin\":[5,10,5,10],\"name\":\"Time Bonus\",\"sizing_mode\":\"fixed\",\"width\":300},\"id\":\"1091\",\"type\":\"panel.models.echarts.ECharts\"},{\"attributes\":{\"margin\":[5,0,5,10],\"min_width\":240,\"options\":[[\"<Role CEO>\",\"CEO\"],[\"<Role CFO>\",\"CFO\"],[\"<Role CTO>\",\"CTO\"],[\"<Role Admin>\",\"Admin\"],[\"<Role CMO>\",\"CMO\"],[\"<Role Token Engineer 1>\",\"Token Engineer 1\"],[\"<Role Token Engineer 2>\",\"Token Engineer 2\"],[\"<Role Racoon>\",\"Racoon\"]],\"title\":\"Role\",\"value\":\"<Role CFO>\",\"width\":240},\"id\":\"1147\",\"type\":\"Select\"},{\"attributes\":{\"children\":[{\"id\":\"1091\"}],\"margin\":[0,0,0,0],\"name\":\"Row00307\"},\"id\":\"1090\",\"type\":\"Row\"},{\"attributes\":{\"end\":5,\"margin\":[5,10,5,10],\"start\":1,\"title\":\"Authorization level\",\"value\":4},\"id\":\"1211\",\"type\":\"Slider\"},{\"attributes\":{\"children\":[{\"id\":\"1096\"}],\"margin\":[0,0,0,0],\"name\":\"Row00320\"},\"id\":\"1095\",\"type\":\"Row\"},{\"attributes\":{\"align\":\"end\",\"button_type\":\"primary\",\"height_policy\":\"fit\",\"icon\":null,\"label\":\"\\u22ee\",\"margin\":[0,0,5,10],\"max_height\":30,\"max_width\":20},\"id\":\"1220\",\"type\":\"Toggle\"},{\"attributes\":{\"data\":{\"series\":[{\"axisLabel\":{\"show\":true},\"axisLine\":{\"lineStyle\":{\"color\":[[0.2,\"green\"],[0.8,\"gold\"],[1,\"red\"]],\"width\":5}},\"axisTick\":{\"show\":true},\"data\":[{\"name\":\"Rewards Multiplier\",\"value\":5.0}],\"detail\":{\"formatter\":\"{value} \\u2705\"},\"endAngle\":-45,\"max\":10,\"min\":1,\"name\":\"Gauge\",\"radius\":120,\"splitLine\":{\"show\":true},\"splitNumber\":10,\"startAngle\":225,\"title\":{\"fontSize\":18,\"fontWeight\":\"bold\"},\"type\":\"gauge\"}],\"tooltip\":{\"formatter\":\"{b} : {c}%\"}},\"height\":300,\"margin\":[5,10,5,10],\"name\":\"Rewards Multiplier\",\"sizing_mode\":\"fixed\",\"width\":300},\"id\":\"1093\",\"type\":\"panel.models.echarts.ECharts\"},{\"attributes\":{\"children\":[{\"id\":\"1093\"}],\"margin\":[0,0,0,0],\"name\":\"Row00313\"},\"id\":\"1092\",\"type\":\"Row\"},{\"attributes\":{\"margin\":[5,10,5,10],\"name\":\"\",\"text\":\"<b>Founder</b>\"},\"id\":\"1101\",\"type\":\"Div\"},{\"attributes\":{\"children\":[{\"id\":\"1095\"},{\"id\":\"1097\"}],\"margin\":[0,0,0,0],\"name\":\"Row00328\"},\"id\":\"1094\",\"type\":\"Row\"},{\"attributes\":{\"children\":[{\"id\":\"1151\"},{\"id\":\"1152\"}],\"margin\":[0,0,0,0],\"name\":\"Row00439\",\"width_policy\":\"max\"},\"id\":\"1150\",\"type\":\"Row\"},{\"attributes\":{\"children\":[{\"id\":\"1215\"},{\"id\":\"1216\"}],\"margin\":[0,0,0,0],\"name\":\"Row00582\",\"width_policy\":\"max\"},\"id\":\"1214\",\"type\":\"Row\"},{\"attributes\":{\"end\":5,\"margin\":[5,10,5,10],\"start\":1,\"title\":\"Authorization level\",\"value\":4},\"id\":\"1177\",\"type\":\"Slider\"},{\"attributes\":{\"children\":[{\"id\":\"1227\"}],\"margin\":[0,0,0,0],\"name\":\"Row00603\"},\"id\":\"1226\",\"type\":\"Row\"},{\"attributes\":{\"data\":{\"series\":[{\"axisLabel\":{\"show\":true},\"axisLine\":{\"lineStyle\":{\"color\":[[0.2,\"green\"],[0.8,\"gold\"],[1,\"red\"]],\"width\":5}},\"axisTick\":{\"show\":true},\"data\":[{\"name\":\"Base Wage\",\"value\":2000}],\"detail\":{\"formatter\":\"{value} \\u2705\"},\"endAngle\":-45,\"max\":8000,\"min\":0,\"name\":\"Gauge\",\"radius\":120,\"splitLine\":{\"show\":true},\"splitNumber\":10,\"startAngle\":225,\"title\":{\"fontSize\":18,\"fontWeight\":\"bold\"},\"type\":\"gauge\"}],\"tooltip\":{\"formatter\":\"{b} : {c}%\"}},\"height\":300,\"margin\":[5,10,5,10],\"name\":\"Base Wage\",\"sizing_mode\":\"fixed\",\"width\":300},\"id\":\"1096\",\"type\":\"panel.models.echarts.ECharts\"},{\"attributes\":{\"children\":[{\"id\":\"1156\"},{\"id\":\"1158\"},{\"id\":\"1160\"}],\"margin\":[0,0,0,0],\"name\":\"Row00463\"},\"id\":\"1155\",\"type\":\"Row\"},{\"attributes\":{\"children\":[{\"id\":\"1098\"}],\"margin\":[0,0,0,0],\"name\":\"Row00326\"},\"id\":\"1097\",\"type\":\"Row\"},{\"attributes\":{\"margin\":[5,10,5,10],\"max_length\":5000,\"title\":\"Last name\",\"value\":\"Oconnel\"},\"id\":\"1103\",\"type\":\"TextInput\"},{\"attributes\":{\"margin\":[5,0,5,10],\"min_width\":240,\"options\":[[\"<Profile Profile00233>\",\"Profile00233\"]],\"title\":\"Profile\",\"value\":\"<Profile Profile00233>\",\"width\":240},\"id\":\"1151\",\"type\":\"Select\"},{\"attributes\":{\"margin\":[5,0,5,10],\"min_width\":240,\"options\":[[\"<Role CEO>\",\"CEO\"],[\"<Role CFO>\",\"CFO\"],[\"<Role CTO>\",\"CTO\"],[\"<Role Admin>\",\"Admin\"],[\"<Role CMO>\",\"CMO\"],[\"<Role Token Engineer 1>\",\"Token Engineer 1\"],[\"<Role Token Engineer 2>\",\"Token Engineer 2\"],[\"<Role Racoon>\",\"Racoon\"]],\"title\":\"Role\",\"value\":\"<Role Admin>\",\"width\":240},\"id\":\"1215\",\"type\":\"Select\"},{\"attributes\":{\"align\":\"end\",\"button_type\":\"primary\",\"height_policy\":\"fit\",\"icon\":null,\"label\":\"\\u22ee\",\"margin\":[0,0,5,10],\"max_height\":30,\"max_width\":20},\"id\":\"1152\",\"type\":\"Toggle\"},{\"attributes\":{\"children\":[{\"id\":\"1225\"}],\"margin\":[0,0,0,0],\"name\":\"Row00597\"},\"id\":\"1224\",\"type\":\"Row\"},{\"attributes\":{\"data\":{\"series\":[{\"axisLabel\":{\"show\":true},\"axisLine\":{\"lineStyle\":{\"color\":[[0.2,\"green\"],[0.8,\"gold\"],[1,\"red\"]],\"width\":10}},\"axisTick\":{\"show\":true},\"data\":[{\"name\":\"Rewards\",\"value\":16640}],\"detail\":{\"formatter\":\"{value} \\ud83d\\udcb8\"},\"endAngle\":-45,\"max\":8000,\"min\":0,\"name\":\"Gauge\",\"radius\":\"100%\",\"splitLine\":{\"show\":true},\"splitNumber\":10,\"startAngle\":225,\"title\":{\"fontSize\":18,\"fontWeight\":\"bold\"},\"type\":\"gauge\"}],\"tooltip\":{\"formatter\":\"{b} : {c}%\"}},\"height\":300,\"margin\":[5,10,5,10],\"name\":\"Rewards\",\"sizing_mode\":\"fixed\",\"width\":300},\"id\":\"1098\",\"type\":\"panel.models.echarts.ECharts\"},{\"attributes\":{\"margin\":[5,10,5,10],\"title\":\"Date Joined\",\"value\":\"2019-08-18\"},\"id\":\"1115\",\"type\":\"DatePicker\"},{\"attributes\":{\"children\":[{\"id\":\"1169\"},{\"id\":\"1170\"},{\"id\":\"1171\"},{\"id\":\"1172\"},{\"id\":\"1173\"},{\"id\":\"1174\"},{\"id\":\"1175\"},{\"id\":\"1176\"},{\"id\":\"1177\"},{\"id\":\"1178\"},{\"id\":\"1179\"},{\"id\":\"1180\"},{\"id\":\"1183\"},{\"id\":\"1184\"}],\"margin\":[5,5,5,5],\"min_width\":300,\"name\":\"Founder\",\"width\":300},\"id\":\"1168\",\"type\":\"Column\"},{\"attributes\":{\"align\":\"end\",\"button_type\":\"primary\",\"height_policy\":\"fit\",\"icon\":null,\"label\":\"\\u22ee\",\"margin\":[0,0,5,10],\"max_height\":30,\"max_width\":20},\"id\":\"1182\",\"type\":\"Toggle\"},{\"attributes\":{\"children\":[{\"id\":\"1120\"}],\"margin\":[0,0,0,0],\"name\":\"Row00370\"},\"id\":\"1119\",\"type\":\"Row\"},{\"attributes\":{\"end\":5,\"margin\":[5,10,5,10],\"start\":1,\"title\":\"Credentials level\",\"value\":1},\"id\":\"1110\",\"type\":\"Slider\"},{\"attributes\":{\"children\":[{\"id\":\"1155\"},{\"id\":\"1162\"}],\"margin\":[0,0,0,0],\"name\":\"Column00477\"},\"id\":\"1154\",\"type\":\"Column\"},{\"attributes\":{\"children\":[{\"id\":\"1219\"},{\"id\":\"1220\"}],\"margin\":[0,0,0,0],\"name\":\"Row00587\",\"width_policy\":\"max\"},\"id\":\"1218\",\"type\":\"Row\"},{\"attributes\":{\"data\":{\"series\":[{\"axisLabel\":{\"show\":true},\"axisLine\":{\"lineStyle\":{\"color\":[[0.2,\"green\"],[0.8,\"gold\"],[1,\"red\"]],\"width\":5}},\"axisTick\":{\"show\":true},\"data\":[{\"name\":\"Clearance\",\"value\":1}],\"detail\":{\"formatter\":\"{value} \\u2705\"},\"endAngle\":-45,\"max\":1,\"min\":0,\"name\":\"Gauge\",\"radius\":120,\"splitLine\":{\"show\":true},\"splitNumber\":10,\"startAngle\":225,\"title\":{\"fontSize\":18,\"fontWeight\":\"bold\"},\"type\":\"gauge\"}],\"tooltip\":{\"formatter\":\"{b} : {c}%\"}},\"height\":300,\"margin\":[5,10,5,10],\"name\":\"Clearance\",\"sizing_mode\":\"fixed\",\"width\":300},\"id\":\"1123\",\"type\":\"panel.models.echarts.ECharts\"},{\"attributes\":{\"margin\":[5,10,5,10],\"max_length\":5000,\"title\":\"First name\",\"value\":\"Aidan\"},\"id\":\"1102\",\"type\":\"TextInput\"},{\"attributes\":{\"margin\":[5,10,5,10],\"options\":[[\"Full Time\",\"Full Time\"],[\"Part Time\",\"Part Time\"]],\"title\":\"Engagement\",\"value\":\"Full Time\"},\"id\":\"1244\",\"type\":\"Select\"},{\"attributes\":{\"active\":[0],\"labels\":[\"NDA\"],\"margin\":[5,10,5,10]},\"id\":\"1104\",\"type\":\"CheckboxGroup\"},{\"attributes\":{\"margin\":[5,10,5,10],\"options\":[[\"Full Time\",\"Full Time\"],[\"Part Time\",\"Part Time\"]],\"title\":\"Engagement\",\"value\":\"Part Time\"},\"id\":\"1108\",\"type\":\"Select\"},{\"attributes\":{\"children\":[{\"id\":\"1224\"},{\"id\":\"1226\"},{\"id\":\"1228\"}],\"margin\":[0,0,0,0],\"name\":\"Row00611\"},\"id\":\"1223\",\"type\":\"Row\"},{\"attributes\":{\"data\":{\"series\":[{\"axisLabel\":{\"show\":true},\"axisLine\":{\"lineStyle\":{\"color\":[[0.2,\"green\"],[0.8,\"gold\"],[1,\"red\"]],\"width\":5}},\"axisTick\":{\"show\":true},\"data\":[{\"name\":\"Time Bonus\",\"value\":1.73}],\"detail\":{\"formatter\":\"{value} \\u2705\"},\"endAngle\":-45,\"max\":100,\"min\":0,\"name\":\"Gauge\",\"radius\":120,\"splitLine\":{\"show\":true},\"splitNumber\":10,\"startAngle\":225,\"title\":{\"fontSize\":18,\"fontWeight\":\"bold\"},\"type\":\"gauge\"}],\"tooltip\":{\"formatter\":\"{b} : {c}%\"}},\"height\":300,\"margin\":[5,10,5,10],\"name\":\"Time Bonus\",\"sizing_mode\":\"fixed\",\"width\":300},\"id\":\"1159\",\"type\":\"panel.models.echarts.ECharts\"},{\"attributes\":{\"end\":5,\"margin\":[5,10,5,10],\"start\":1,\"title\":\"Authorization level\",\"value\":3},\"id\":\"1109\",\"type\":\"Slider\"},{\"attributes\":{\"children\":[{\"id\":\"1159\"}],\"margin\":[0,0,0,0],\"name\":\"Row00455\"},\"id\":\"1158\",\"type\":\"Row\"},{\"attributes\":{\"margin\":[5,10,5,10],\"title\":\"Date Joined\",\"value\":\"2021-05-15\"},\"id\":\"1217\",\"type\":\"DatePicker\"},{\"attributes\":{\"children\":[{\"id\":\"1164\"}],\"margin\":[0,0,0,0],\"name\":\"Row00468\"},\"id\":\"1163\",\"type\":\"Row\"},{\"attributes\":{\"data\":{\"series\":[{\"axisLabel\":{\"show\":true},\"axisLine\":{\"lineStyle\":{\"color\":[[0.2,\"green\"],[0.8,\"gold\"],[1,\"red\"]],\"width\":5}},\"axisTick\":{\"show\":true},\"data\":[{\"name\":\"Rewards Multiplier\",\"value\":3.87}],\"detail\":{\"formatter\":\"{value} \\u2705\"},\"endAngle\":-45,\"max\":10,\"min\":1,\"name\":\"Gauge\",\"radius\":120,\"splitLine\":{\"show\":true},\"splitNumber\":10,\"startAngle\":225,\"title\":{\"fontSize\":18,\"fontWeight\":\"bold\"},\"type\":\"gauge\"}],\"tooltip\":{\"formatter\":\"{b} : {c}%\"}},\"height\":300,\"margin\":[5,10,5,10],\"name\":\"Rewards Multiplier\",\"sizing_mode\":\"fixed\",\"width\":300},\"id\":\"1161\",\"type\":\"panel.models.echarts.ECharts\"},{\"attributes\":{\"children\":[{\"id\":\"1231\"},{\"id\":\"1233\"}],\"margin\":[0,0,0,0],\"name\":\"Row00624\"},\"id\":\"1230\",\"type\":\"Row\"},{\"attributes\":{\"active\":[0],\"labels\":[\"Contract\"],\"margin\":[5,10,5,10]},\"id\":\"1107\",\"type\":\"CheckboxGroup\"},{\"attributes\":{\"children\":[{\"id\":\"1223\"},{\"id\":\"1230\"}],\"margin\":[0,0,0,0],\"name\":\"Column00625\"},\"id\":\"1222\",\"type\":\"Column\"},{\"attributes\":{\"children\":[{\"id\":\"1161\"}],\"margin\":[0,0,0,0],\"name\":\"Row00461\"},\"id\":\"1160\",\"type\":\"Row\"},{\"attributes\":{\"active\":[0],\"labels\":[\"Active\"],\"margin\":[5,10,5,10]},\"id\":\"1106\",\"type\":\"CheckboxGroup\"},{\"attributes\":{\"align\":\"end\",\"button_type\":\"primary\",\"height_policy\":\"fit\",\"icon\":null,\"label\":\"\\u22ee\",\"margin\":[0,0,5,10],\"max_height\":30,\"max_width\":20},\"id\":\"1250\",\"type\":\"Toggle\"},{\"attributes\":{\"children\":[{\"id\":\"1166\"}],\"margin\":[0,0,0,0],\"name\":\"Row00474\"},\"id\":\"1165\",\"type\":\"Row\"},{\"attributes\":{\"active\":[0],\"labels\":[\"Onboarded\"],\"margin\":[5,10,5,10]},\"id\":\"1105\",\"type\":\"CheckboxGroup\"},{\"attributes\":{\"children\":[{\"id\":\"1163\"},{\"id\":\"1165\"}],\"margin\":[0,0,0,0],\"name\":\"Row00476\"},\"id\":\"1162\",\"type\":\"Row\"},{\"attributes\":{\"children\":[{\"id\":\"1202\"},{\"id\":\"1221\"}],\"margin\":[0,0,0,0],\"name\":\"Row00627\"},\"id\":\"1201\",\"type\":\"Row\"},{\"attributes\":{\"children\":[{\"id\":\"1293\"}],\"margin\":[0,0,0,0],\"name\":\"Row00745\"},\"id\":\"1292\",\"type\":\"Row\"},{\"attributes\":{\"children\":[{\"id\":\"1259\"}],\"margin\":[0,0,0,0],\"name\":\"Row00671\"},\"id\":\"1258\",\"type\":\"Row\"},{\"attributes\":{\"margin\":[5,10,5,10],\"name\":\"\",\"text\":\"<b>Founder</b>\"},\"id\":\"1271\",\"type\":\"Div\"},{\"attributes\":{\"children\":[{\"id\":\"1271\"},{\"id\":\"1272\"},{\"id\":\"1273\"},{\"id\":\"1274\"},{\"id\":\"1275\"},{\"id\":\"1276\"},{\"id\":\"1277\"},{\"id\":\"1278\"},{\"id\":\"1279\"},{\"id\":\"1280\"},{\"id\":\"1281\"},{\"id\":\"1282\"},{\"id\":\"1285\"},{\"id\":\"1286\"}],\"margin\":[5,5,5,5],\"min_width\":300,\"name\":\"Founder\",\"width\":300},\"id\":\"1270\",\"type\":\"Column\"},{\"attributes\":{\"children\":[{\"id\":\"1083\"},{\"id\":\"1084\"}],\"margin\":[0,0,0,0],\"name\":\"Row00291\",\"width_policy\":\"max\"},\"id\":\"1082\",\"type\":\"Row\"},{\"attributes\":{\"margin\":[5,10,5,10],\"title\":\"Date Joined\",\"value\":\"2021-08-15\"},\"id\":\"1285\",\"type\":\"DatePicker\"},{\"attributes\":{\"children\":[{\"id\":\"1258\"},{\"id\":\"1260\"},{\"id\":\"1262\"}],\"margin\":[0,0,0,0],\"name\":\"Row00685\"},\"id\":\"1257\",\"type\":\"Row\"},{\"attributes\":{\"client_comm_id\":\"0c31328d518947af861bd79b14b1d2dd\",\"comm_id\":\"9a09c4dcf2fa42b29676cb58299cc3bc\",\"plot_id\":\"1064\"},\"id\":\"1337\",\"type\":\"panel.models.comm_manager.CommManager\"},{\"attributes\":{\"align\":\"end\",\"button_type\":\"primary\",\"height_policy\":\"fit\",\"icon\":null,\"label\":\"\\u22ee\",\"margin\":[0,0,5,10],\"max_height\":30,\"max_width\":20},\"id\":\"1288\",\"type\":\"Toggle\"},{\"attributes\":{\"children\":[{\"id\":\"1305\"},{\"id\":\"1306\"},{\"id\":\"1307\"},{\"id\":\"1308\"},{\"id\":\"1309\"},{\"id\":\"1310\"},{\"id\":\"1311\"},{\"id\":\"1312\"},{\"id\":\"1313\"},{\"id\":\"1314\"},{\"id\":\"1315\"},{\"id\":\"1316\"},{\"id\":\"1319\"},{\"id\":\"1320\"}],\"margin\":[5,5,5,5],\"min_width\":300,\"name\":\"Founder\",\"width\":300},\"id\":\"1304\",\"type\":\"Column\"},{\"attributes\":{\"data\":{\"series\":[{\"axisLabel\":{\"show\":true},\"axisLine\":{\"lineStyle\":{\"color\":[[0.2,\"green\"],[0.8,\"gold\"],[1,\"red\"]],\"width\":5}},\"axisTick\":{\"show\":true},\"data\":[{\"name\":\"Time Bonus\",\"value\":1.66}],\"detail\":{\"formatter\":\"{value} \\u2705\"},\"endAngle\":-45,\"max\":100,\"min\":0,\"name\":\"Gauge\",\"radius\":120,\"splitLine\":{\"show\":true},\"splitNumber\":10,\"startAngle\":225,\"title\":{\"fontSize\":18,\"fontWeight\":\"bold\"},\"type\":\"gauge\"}],\"tooltip\":{\"formatter\":\"{b} : {c}%\"}},\"height\":300,\"margin\":[5,10,5,10],\"name\":\"Time Bonus\",\"sizing_mode\":\"fixed\",\"width\":300},\"id\":\"1261\",\"type\":\"panel.models.echarts.ECharts\"},{\"attributes\":{\"margin\":[5,0,5,10],\"min_width\":240,\"options\":[[\"<Profile Profile00233>\",\"Profile00233\"]],\"title\":\"Profile\",\"value\":\"<Profile Profile00233>\",\"width\":240},\"id\":\"1287\",\"type\":\"Select\"},{\"attributes\":{\"children\":[{\"id\":\"1261\"}],\"margin\":[0,0,0,0],\"name\":\"Row00677\"},\"id\":\"1260\",\"type\":\"Row\"},{\"attributes\":{\"children\":[{\"id\":\"1266\"}],\"margin\":[0,0,0,0],\"name\":\"Row00690\"},\"id\":\"1265\",\"type\":\"Row\"},{\"attributes\":{\"children\":[{\"id\":\"1292\"},{\"id\":\"1294\"},{\"id\":\"1296\"}],\"margin\":[0,0,0,0],\"name\":\"Row00759\"},\"id\":\"1291\",\"type\":\"Row\"},{\"attributes\":{\"data\":{\"series\":[{\"axisLabel\":{\"show\":true},\"axisLine\":{\"lineStyle\":{\"color\":[[0.2,\"green\"],[0.8,\"gold\"],[1,\"red\"]],\"width\":5}},\"axisTick\":{\"show\":true},\"data\":[{\"name\":\"Rewards Multiplier\",\"value\":3.0}],\"detail\":{\"formatter\":\"{value} \\u2705\"},\"endAngle\":-45,\"max\":10,\"min\":1,\"name\":\"Gauge\",\"radius\":120,\"splitLine\":{\"show\":true},\"splitNumber\":10,\"startAngle\":225,\"title\":{\"fontSize\":18,\"fontWeight\":\"bold\"},\"type\":\"gauge\"}],\"tooltip\":{\"formatter\":\"{b} : {c}%\"}},\"height\":300,\"margin\":[5,10,5,10],\"name\":\"Rewards Multiplier\",\"sizing_mode\":\"fixed\",\"width\":300},\"id\":\"1263\",\"type\":\"panel.models.echarts.ECharts\"},{\"attributes\":{\"children\":[{\"id\":\"1263\"}],\"margin\":[0,0,0,0],\"name\":\"Row00683\"},\"id\":\"1262\",\"type\":\"Row\"},{\"attributes\":{\"align\":\"end\",\"button_type\":\"primary\",\"height_policy\":\"fit\",\"icon\":null,\"label\":\"\\u22ee\",\"margin\":[0,0,5,10],\"max_height\":30,\"max_width\":20},\"id\":\"1318\",\"type\":\"Toggle\"},{\"attributes\":{\"data\":{\"series\":[{\"axisLabel\":{\"show\":true},\"axisLine\":{\"lineStyle\":{\"color\":[[0.2,\"green\"],[0.8,\"gold\"],[1,\"red\"]],\"width\":5}},\"axisTick\":{\"show\":true},\"data\":[{\"name\":\"Clearance\",\"value\":1}],\"detail\":{\"formatter\":\"{value} \\u2705\"},\"endAngle\":-45,\"max\":1,\"min\":0,\"name\":\"Gauge\",\"radius\":120,\"splitLine\":{\"show\":true},\"splitNumber\":10,\"startAngle\":225,\"title\":{\"fontSize\":18,\"fontWeight\":\"bold\"},\"type\":\"gauge\"}],\"tooltip\":{\"formatter\":\"{b} : {c}%\"}},\"height\":300,\"margin\":[5,10,5,10],\"name\":\"Clearance\",\"sizing_mode\":\"fixed\",\"width\":300},\"id\":\"1089\",\"type\":\"panel.models.echarts.ECharts\"},{\"attributes\":{\"children\":[{\"id\":\"1086\"}],\"margin\":[0,0,0,0],\"name\":\"Row00296\"},\"id\":\"1085\",\"type\":\"Row\"},{\"attributes\":{\"children\":[{\"id\":\"1265\"},{\"id\":\"1267\"}],\"margin\":[0,0,0,0],\"name\":\"Row00698\"},\"id\":\"1264\",\"type\":\"Row\"},{\"attributes\":{\"children\":[{\"id\":\"1291\"},{\"id\":\"1298\"}],\"margin\":[0,0,0,0],\"name\":\"Column00773\"},\"id\":\"1290\",\"type\":\"Column\"},{\"attributes\":{\"children\":[{\"id\":\"1304\"},{\"id\":\"1323\"}],\"margin\":[0,0,0,0],\"name\":\"Row00849\"},\"id\":\"1303\",\"type\":\"Row\"},{\"attributes\":{\"children\":[{\"id\":\"1066\"},{\"id\":\"1085\"}],\"margin\":[0,0,0,0],\"name\":\"Row00331\"},\"id\":\"1065\",\"type\":\"Row\"},{\"attributes\":{\"children\":[{\"id\":\"1065\"},{\"id\":\"1099\"},{\"id\":\"1133\"},{\"id\":\"1167\"},{\"id\":\"1201\"},{\"id\":\"1235\"},{\"id\":\"1269\"},{\"id\":\"1303\"}],\"margin\":[0,0,0,0],\"name\":\"Row00850\"},\"id\":\"1064\",\"type\":\"Row\"},{\"attributes\":{\"data\":{\"series\":[{\"axisLabel\":{\"show\":true},\"axisLine\":{\"lineStyle\":{\"color\":[[0.2,\"green\"],[0.8,\"gold\"],[1,\"red\"]],\"width\":5}},\"axisTick\":{\"show\":true},\"data\":[{\"name\":\"Base Wage\",\"value\":2000}],\"detail\":{\"formatter\":\"{value} \\u2705\"},\"endAngle\":-45,\"max\":8000,\"min\":0,\"name\":\"Gauge\",\"radius\":120,\"splitLine\":{\"show\":true},\"splitNumber\":10,\"startAngle\":225,\"title\":{\"fontSize\":18,\"fontWeight\":\"bold\"},\"type\":\"gauge\"}],\"tooltip\":{\"formatter\":\"{b} : {c}%\"}},\"height\":300,\"margin\":[5,10,5,10],\"name\":\"Base Wage\",\"sizing_mode\":\"fixed\",\"width\":300},\"id\":\"1266\",\"type\":\"panel.models.echarts.ECharts\"},{\"attributes\":{\"children\":[{\"id\":\"1268\"}],\"margin\":[0,0,0,0],\"name\":\"Row00696\"},\"id\":\"1267\",\"type\":\"Row\"},{\"attributes\":{\"data\":{\"series\":[{\"axisLabel\":{\"show\":true},\"axisLine\":{\"lineStyle\":{\"color\":[[0.2,\"green\"],[0.8,\"gold\"],[1,\"red\"]],\"width\":5}},\"axisTick\":{\"show\":true},\"data\":[{\"name\":\"Time Bonus\",\"value\":1.41}],\"detail\":{\"formatter\":\"{value} \\u2705\"},\"endAngle\":-45,\"max\":100,\"min\":0,\"name\":\"Gauge\",\"radius\":120,\"splitLine\":{\"show\":true},\"splitNumber\":10,\"startAngle\":225,\"title\":{\"fontSize\":18,\"fontWeight\":\"bold\"},\"type\":\"gauge\"}],\"tooltip\":{\"formatter\":\"{b} : {c}%\"}},\"height\":300,\"margin\":[5,10,5,10],\"name\":\"Time Bonus\",\"sizing_mode\":\"fixed\",\"width\":300},\"id\":\"1295\",\"type\":\"panel.models.echarts.ECharts\"},{\"attributes\":{\"margin\":[5,10,5,10],\"options\":[[\"Full Time\",\"Full Time\"],[\"Part Time\",\"Part Time\"]],\"title\":\"Engagement\",\"value\":\"Full Time\"},\"id\":\"1074\",\"type\":\"Select\"},{\"attributes\":{\"margin\":[5,10,5,10],\"max_length\":5000,\"title\":\"Last name\",\"value\":\"Knorr\"},\"id\":\"1273\",\"type\":\"TextInput\"},{\"attributes\":{\"children\":[{\"id\":\"1295\"}],\"margin\":[0,0,0,0],\"name\":\"Row00751\"},\"id\":\"1294\",\"type\":\"Row\"},{\"attributes\":{\"margin\":[5,10,5,10],\"title\":\"Date Joined\",\"value\":\"2018-08-18\"},\"id\":\"1081\",\"type\":\"DatePicker\"},{\"attributes\":{\"children\":[{\"id\":\"1067\"},{\"id\":\"1068\"},{\"id\":\"1069\"},{\"id\":\"1070\"},{\"id\":\"1071\"},{\"id\":\"1072\"},{\"id\":\"1073\"},{\"id\":\"1074\"},{\"id\":\"1075\"},{\"id\":\"1076\"},{\"id\":\"1077\"},{\"id\":\"1078\"},{\"id\":\"1081\"},{\"id\":\"1082\"}],\"margin\":[5,5,5,5],\"min_width\":300,\"name\":\"Founder\",\"width\":300},\"id\":\"1066\",\"type\":\"Column\"},{\"attributes\":{\"children\":[{\"id\":\"1300\"}],\"margin\":[0,0,0,0],\"name\":\"Row00764\"},\"id\":\"1299\",\"type\":\"Row\"},{\"attributes\":{\"data\":{\"series\":[{\"axisLabel\":{\"show\":true},\"axisLine\":{\"lineStyle\":{\"color\":[[0.2,\"green\"],[0.8,\"gold\"],[1,\"red\"]],\"width\":10}},\"axisTick\":{\"show\":true},\"data\":[{\"name\":\"Rewards\",\"value\":9320}],\"detail\":{\"formatter\":\"{value} \\ud83d\\udcb8\"},\"endAngle\":-45,\"max\":8000,\"min\":0,\"name\":\"Gauge\",\"radius\":\"100%\",\"splitLine\":{\"show\":true},\"splitNumber\":10,\"startAngle\":225,\"title\":{\"fontSize\":18,\"fontWeight\":\"bold\"},\"type\":\"gauge\"}],\"tooltip\":{\"formatter\":\"{b} : {c}%\"}},\"height\":300,\"margin\":[5,10,5,10],\"name\":\"Rewards\",\"sizing_mode\":\"fixed\",\"width\":300},\"id\":\"1268\",\"type\":\"panel.models.echarts.ECharts\"},{\"attributes\":{\"children\":[{\"id\":\"1100\"},{\"id\":\"1119\"}],\"margin\":[0,0,0,0],\"name\":\"Row00405\"},\"id\":\"1099\",\"type\":\"Row\"},{\"attributes\":{\"data\":{\"series\":[{\"axisLabel\":{\"show\":true},\"axisLine\":{\"lineStyle\":{\"color\":[[0.2,\"green\"],[0.8,\"gold\"],[1,\"red\"]],\"width\":5}},\"axisTick\":{\"show\":true},\"data\":[{\"name\":\"Rewards Multiplier\",\"value\":3.0}],\"detail\":{\"formatter\":\"{value} \\u2705\"},\"endAngle\":-45,\"max\":10,\"min\":1,\"name\":\"Gauge\",\"radius\":120,\"splitLine\":{\"show\":true},\"splitNumber\":10,\"startAngle\":225,\"title\":{\"fontSize\":18,\"fontWeight\":\"bold\"},\"type\":\"gauge\"}],\"tooltip\":{\"formatter\":\"{b} : {c}%\"}},\"height\":300,\"margin\":[5,10,5,10],\"name\":\"Rewards Multiplier\",\"sizing_mode\":\"fixed\",\"width\":300},\"id\":\"1297\",\"type\":\"panel.models.echarts.ECharts\"},{\"attributes\":{\"margin\":[5,10,5,10],\"name\":\"\",\"text\":\"<b>Founder</b>\"},\"id\":\"1067\",\"type\":\"Div\"},{\"attributes\":{\"children\":[{\"id\":\"1297\"}],\"margin\":[0,0,0,0],\"name\":\"Row00757\"},\"id\":\"1296\",\"type\":\"Row\"},{\"attributes\":{\"margin\":[5,10,5,10],\"name\":\"\",\"text\":\"<b>Founder</b>\"},\"id\":\"1305\",\"type\":\"Div\"},{\"attributes\":{\"children\":[{\"id\":\"1290\"}],\"margin\":[0,0,0,0],\"name\":\"Row00740\"},\"id\":\"1289\",\"type\":\"Row\"},{\"attributes\":{\"children\":[{\"id\":\"1299\"},{\"id\":\"1301\"}],\"margin\":[0,0,0,0],\"name\":\"Row00772\"},\"id\":\"1298\",\"type\":\"Row\"},{\"attributes\":{\"end\":5,\"margin\":[5,10,5,10],\"start\":1,\"title\":\"Credentials level\",\"value\":3},\"id\":\"1280\",\"type\":\"Slider\"},{\"attributes\":{\"margin\":[5,10,5,10],\"max_length\":5000,\"title\":\"Last name\",\"value\":\"Anderson\"},\"id\":\"1069\",\"type\":\"TextInput\"},{\"attributes\":{\"active\":[0],\"labels\":[\"Active\"],\"margin\":[5,10,5,10]},\"id\":\"1072\",\"type\":\"CheckboxGroup\"},{\"attributes\":{\"active\":[0],\"labels\":[\"Contract\"],\"margin\":[5,10,5,10]},\"id\":\"1175\",\"type\":\"CheckboxGroup\"},{\"attributes\":{\"data\":{\"series\":[{\"axisLabel\":{\"show\":true},\"axisLine\":{\"lineStyle\":{\"color\":[[0.2,\"green\"],[0.8,\"gold\"],[1,\"red\"]],\"width\":5}},\"axisTick\":{\"show\":true},\"data\":[{\"name\":\"Clearance\",\"value\":1}],\"detail\":{\"formatter\":\"{value} \\u2705\"},\"endAngle\":-45,\"max\":1,\"min\":0,\"name\":\"Gauge\",\"radius\":120,\"splitLine\":{\"show\":true},\"splitNumber\":10,\"startAngle\":225,\"title\":{\"fontSize\":18,\"fontWeight\":\"bold\"},\"type\":\"gauge\"}],\"tooltip\":{\"formatter\":\"{b} : {c}%\"}},\"height\":300,\"margin\":[5,10,5,10],\"name\":\"Clearance\",\"sizing_mode\":\"fixed\",\"width\":300},\"id\":\"1293\",\"type\":\"panel.models.echarts.ECharts\"},{\"attributes\":{\"margin\":[5,10,5,10],\"max_length\":5000,\"title\":\"First name\",\"value\":\"Shawn\"},\"id\":\"1068\",\"type\":\"TextInput\"},{\"attributes\":{\"margin\":[5,10,5,10],\"max_length\":5000,\"title\":\"First name\",\"value\":\"Katie\"},\"id\":\"1272\",\"type\":\"TextInput\"},{\"attributes\":{\"active\":[0],\"labels\":[\"NDA\"],\"margin\":[5,10,5,10]},\"id\":\"1070\",\"type\":\"CheckboxGroup\"},{\"attributes\":{\"active\":[0],\"labels\":[\"NDA\"],\"margin\":[5,10,5,10]},\"id\":\"1274\",\"type\":\"CheckboxGroup\"},{\"attributes\":{\"data\":{\"series\":[{\"axisLabel\":{\"show\":true},\"axisLine\":{\"lineStyle\":{\"color\":[[0.2,\"green\"],[0.8,\"gold\"],[1,\"red\"]],\"width\":5}},\"axisTick\":{\"show\":true},\"data\":[{\"name\":\"Base Wage\",\"value\":1000.0}],\"detail\":{\"formatter\":\"{value} \\u2705\"},\"endAngle\":-45,\"max\":8000,\"min\":0,\"name\":\"Gauge\",\"radius\":120,\"splitLine\":{\"show\":true},\"splitNumber\":10,\"startAngle\":225,\"title\":{\"fontSize\":18,\"fontWeight\":\"bold\"},\"type\":\"gauge\"}],\"tooltip\":{\"formatter\":\"{b} : {c}%\"}},\"height\":300,\"margin\":[5,10,5,10],\"name\":\"Base Wage\",\"sizing_mode\":\"fixed\",\"width\":300},\"id\":\"1300\",\"type\":\"panel.models.echarts.ECharts\"},{\"attributes\":{\"end\":5,\"margin\":[5,10,5,10],\"start\":1,\"title\":\"Conviction level\",\"value\":5},\"id\":\"1077\",\"type\":\"Slider\"},{\"attributes\":{\"end\":5,\"margin\":[5,10,5,10],\"start\":1,\"title\":\"Conviction level\",\"value\":3},\"id\":\"1281\",\"type\":\"Slider\"},{\"attributes\":{\"children\":[{\"id\":\"1302\"}],\"margin\":[0,0,0,0],\"name\":\"Row00770\"},\"id\":\"1301\",\"type\":\"Row\"},{\"attributes\":{\"end\":5,\"margin\":[5,10,5,10],\"start\":1,\"title\":\"Authorization level\",\"value\":4},\"id\":\"1279\",\"type\":\"Slider\"},{\"attributes\":{\"margin\":[5,10,5,10],\"max_length\":5000,\"title\":\"Last name\",\"value\":\"Penland\"},\"id\":\"1307\",\"type\":\"TextInput\"},{\"attributes\":{\"active\":[0],\"labels\":[\"Contract\"],\"margin\":[5,10,5,10]},\"id\":\"1073\",\"type\":\"CheckboxGroup\"},{\"attributes\":{\"data\":{\"series\":[{\"axisLabel\":{\"show\":true},\"axisLine\":{\"lineStyle\":{\"color\":[[0.2,\"green\"],[0.8,\"gold\"],[1,\"red\"]],\"width\":10}},\"axisTick\":{\"show\":true},\"data\":[{\"name\":\"Rewards\",\"value\":4410}],\"detail\":{\"formatter\":\"{value} \\ud83d\\udcb8\"},\"endAngle\":-45,\"max\":8000,\"min\":0,\"name\":\"Gauge\",\"radius\":\"100%\",\"splitLine\":{\"show\":true},\"splitNumber\":10,\"startAngle\":225,\"title\":{\"fontSize\":18,\"fontWeight\":\"bold\"},\"type\":\"gauge\"}],\"tooltip\":{\"formatter\":\"{b} : {c}%\"}},\"height\":300,\"margin\":[5,10,5,10],\"name\":\"Rewards\",\"sizing_mode\":\"fixed\",\"width\":300},\"id\":\"1302\",\"type\":\"panel.models.echarts.ECharts\"},{\"attributes\":{\"margin\":[5,10,5,10],\"title\":\"Date Joined\",\"value\":\"2021-08-15\"},\"id\":\"1319\",\"type\":\"DatePicker\"},{\"attributes\":{\"active\":[0],\"labels\":[\"Active\"],\"margin\":[5,10,5,10]},\"id\":\"1276\",\"type\":\"CheckboxGroup\"},{\"attributes\":{\"children\":[{\"id\":\"1324\"}],\"margin\":[0,0,0,0],\"name\":\"Row00814\"},\"id\":\"1323\",\"type\":\"Row\"},{\"attributes\":{\"active\":[0],\"labels\":[\"Onboarded\"],\"margin\":[5,10,5,10]},\"id\":\"1071\",\"type\":\"CheckboxGroup\"},{\"attributes\":{\"active\":[0],\"labels\":[\"Onboarded\"],\"margin\":[5,10,5,10]},\"id\":\"1275\",\"type\":\"CheckboxGroup\"},{\"attributes\":{\"margin\":[5,10,5,10],\"options\":[[\"Full Time\",\"Full Time\"],[\"Part Time\",\"Part Time\"]],\"title\":\"Engagement\",\"value\":\"Part Time\"},\"id\":\"1278\",\"type\":\"Select\"},{\"attributes\":{\"margin\":[5,0,5,10],\"min_width\":240,\"options\":[[\"<Role CEO>\",\"CEO\"],[\"<Role CFO>\",\"CFO\"],[\"<Role CTO>\",\"CTO\"],[\"<Role Admin>\",\"Admin\"],[\"<Role CMO>\",\"CMO\"],[\"<Role Token Engineer 1>\",\"Token Engineer 1\"],[\"<Role Token Engineer 2>\",\"Token Engineer 2\"],[\"<Role Racoon>\",\"Racoon\"]],\"title\":\"Role\",\"value\":\"<Role CMO>\",\"width\":240},\"id\":\"1283\",\"type\":\"Select\"},{\"attributes\":{\"data\":{\"series\":[{\"axisLabel\":{\"show\":true},\"axisLine\":{\"lineStyle\":{\"color\":[[0.2,\"green\"],[0.8,\"gold\"],[1,\"red\"]],\"width\":5}},\"axisTick\":{\"show\":true},\"data\":[{\"name\":\"Clearance\",\"value\":1}],\"detail\":{\"formatter\":\"{value} \\u2705\"},\"endAngle\":-45,\"max\":1,\"min\":0,\"name\":\"Gauge\",\"radius\":120,\"splitLine\":{\"show\":true},\"splitNumber\":10,\"startAngle\":225,\"title\":{\"fontSize\":18,\"fontWeight\":\"bold\"},\"type\":\"gauge\"}],\"tooltip\":{\"formatter\":\"{b} : {c}%\"}},\"height\":300,\"margin\":[5,10,5,10],\"name\":\"Clearance\",\"sizing_mode\":\"fixed\",\"width\":300},\"id\":\"1327\",\"type\":\"panel.models.echarts.ECharts\"},{\"attributes\":{\"active\":[0],\"labels\":[\"Contract\"],\"margin\":[5,10,5,10]},\"id\":\"1277\",\"type\":\"CheckboxGroup\"},{\"attributes\":{\"margin\":[5,10,5,10],\"max_length\":5000,\"title\":\"First name\",\"value\":\"Andrew\"},\"id\":\"1306\",\"type\":\"TextInput\"},{\"attributes\":{\"end\":5,\"margin\":[5,10,5,10],\"start\":1,\"title\":\"Authorization level\",\"value\":5},\"id\":\"1075\",\"type\":\"Slider\"},{\"attributes\":{\"end\":5,\"margin\":[5,10,5,10],\"start\":1,\"title\":\"Credentials level\",\"value\":4},\"id\":\"1076\",\"type\":\"Slider\"},{\"attributes\":{\"active\":[0],\"labels\":[\"NDA\"],\"margin\":[5,10,5,10]},\"id\":\"1308\",\"type\":\"CheckboxGroup\"},{\"attributes\":{\"align\":\"end\",\"button_type\":\"primary\",\"height_policy\":\"fit\",\"icon\":null,\"label\":\"\\u22ee\",\"margin\":[0,0,5,10],\"max_height\":30,\"max_width\":20},\"id\":\"1284\",\"type\":\"Toggle\"},{\"attributes\":{\"end\":5,\"margin\":[5,10,5,10],\"start\":1,\"title\":\"Credentials level\",\"value\":3},\"id\":\"1178\",\"type\":\"Slider\"},{\"attributes\":{\"end\":5,\"margin\":[5,10,5,10],\"start\":1,\"title\":\"Credentials level\",\"value\":5},\"id\":\"1314\",\"type\":\"Slider\"},{\"attributes\":{\"margin\":[5,0,5,10],\"min_width\":240,\"options\":[[\"<Role CEO>\",\"CEO\"],[\"<Role CFO>\",\"CFO\"],[\"<Role CTO>\",\"CTO\"],[\"<Role Admin>\",\"Admin\"],[\"<Role CMO>\",\"CMO\"],[\"<Role Token Engineer 1>\",\"Token Engineer 1\"],[\"<Role Token Engineer 2>\",\"Token Engineer 2\"],[\"<Role Racoon>\",\"Racoon\"]],\"title\":\"Role\",\"value\":\"<Role CEO>\",\"width\":240},\"id\":\"1079\",\"type\":\"Select\"},{\"attributes\":{\"children\":[{\"id\":\"1287\"},{\"id\":\"1288\"}],\"margin\":[0,0,0,0],\"name\":\"Row00735\",\"width_policy\":\"max\"},\"id\":\"1286\",\"type\":\"Row\"},{\"attributes\":{\"active\":[0],\"labels\":[\"Active\"],\"margin\":[5,10,5,10]},\"id\":\"1310\",\"type\":\"CheckboxGroup\"},{\"attributes\":{\"align\":\"end\",\"button_type\":\"primary\",\"height_policy\":\"fit\",\"icon\":null,\"label\":\"\\u22ee\",\"margin\":[0,0,5,10],\"max_height\":30,\"max_width\":20},\"id\":\"1080\",\"type\":\"Toggle\"},{\"attributes\":{\"margin\":[5,10,5,10],\"options\":[[\"Full Time\",\"Full Time\"],[\"Part Time\",\"Part Time\"]],\"title\":\"Engagement\",\"value\":\"Part Time\"},\"id\":\"1312\",\"type\":\"Select\"},{\"attributes\":{\"margin\":[5,10,5,10],\"options\":[[\"Full Time\",\"Full Time\"],[\"Part Time\",\"Part Time\"]],\"title\":\"Engagement\",\"value\":\"Full Time\"},\"id\":\"1176\",\"type\":\"Select\"},{\"attributes\":{\"children\":[{\"id\":\"1079\"},{\"id\":\"1080\"}],\"margin\":[0,0,0,0],\"name\":\"Row00286\",\"width_policy\":\"max\"},\"id\":\"1078\",\"type\":\"Row\"},{\"attributes\":{\"active\":[0],\"labels\":[\"Contract\"],\"margin\":[5,10,5,10]},\"id\":\"1311\",\"type\":\"CheckboxGroup\"},{\"attributes\":{\"active\":[0],\"labels\":[\"Onboarded\"],\"margin\":[5,10,5,10]},\"id\":\"1309\",\"type\":\"CheckboxGroup\"},{\"attributes\":{\"children\":[{\"id\":\"1283\"},{\"id\":\"1284\"}],\"margin\":[0,0,0,0],\"name\":\"Row00730\",\"width_policy\":\"max\"},\"id\":\"1282\",\"type\":\"Row\"},{\"attributes\":{\"end\":5,\"margin\":[5,10,5,10],\"start\":1,\"title\":\"Authorization level\",\"value\":3},\"id\":\"1313\",\"type\":\"Slider\"},{\"attributes\":{\"data\":{\"series\":[{\"axisLabel\":{\"show\":true},\"axisLine\":{\"lineStyle\":{\"color\":[[0.2,\"green\"],[0.8,\"gold\"],[1,\"red\"]],\"width\":5}},\"axisTick\":{\"show\":true},\"data\":[{\"name\":\"Base Wage\",\"value\":2000}],\"detail\":{\"formatter\":\"{value} \\u2705\"},\"endAngle\":-45,\"max\":8000,\"min\":0,\"name\":\"Gauge\",\"radius\":120,\"splitLine\":{\"show\":true},\"splitNumber\":10,\"startAngle\":225,\"title\":{\"fontSize\":18,\"fontWeight\":\"bold\"},\"type\":\"gauge\"}],\"tooltip\":{\"formatter\":\"{b} : {c}%\"}},\"height\":300,\"margin\":[5,10,5,10],\"name\":\"Base Wage\",\"sizing_mode\":\"fixed\",\"width\":300},\"id\":\"1164\",\"type\":\"panel.models.echarts.ECharts\"},{\"attributes\":{\"end\":5,\"margin\":[5,10,5,10],\"start\":1,\"title\":\"Conviction level\",\"value\":5},\"id\":\"1315\",\"type\":\"Slider\"},{\"attributes\":{\"margin\":[5,10,5,10],\"max_length\":5000,\"title\":\"Last name\",\"value\":\"Cassani\"},\"id\":\"1171\",\"type\":\"TextInput\"},{\"attributes\":{\"data\":{\"series\":[{\"axisLabel\":{\"show\":true},\"axisLine\":{\"lineStyle\":{\"color\":[[0.2,\"green\"],[0.8,\"gold\"],[1,\"red\"]],\"width\":5}},\"axisTick\":{\"show\":true},\"data\":[{\"name\":\"Time Bonus\",\"value\":1.66}],\"detail\":{\"formatter\":\"{value} \\u2705\"},\"endAngle\":-45,\"max\":100,\"min\":0,\"name\":\"Gauge\",\"radius\":120,\"splitLine\":{\"show\":true},\"splitNumber\":10,\"startAngle\":225,\"title\":{\"fontSize\":18,\"fontWeight\":\"bold\"},\"type\":\"gauge\"}],\"tooltip\":{\"formatter\":\"{b} : {c}%\"}},\"height\":300,\"margin\":[5,10,5,10],\"name\":\"Time Bonus\",\"sizing_mode\":\"fixed\",\"width\":300},\"id\":\"1227\",\"type\":\"panel.models.echarts.ECharts\"},{\"attributes\":{\"children\":[{\"id\":\"1232\"}],\"margin\":[0,0,0,0],\"name\":\"Row00616\"},\"id\":\"1231\",\"type\":\"Row\"},{\"attributes\":{\"data\":{\"series\":[{\"axisLabel\":{\"show\":true},\"axisLine\":{\"lineStyle\":{\"color\":[[0.2,\"green\"],[0.8,\"gold\"],[1,\"red\"]],\"width\":10}},\"axisTick\":{\"show\":true},\"data\":[{\"name\":\"Rewards\",\"value\":11200}],\"detail\":{\"formatter\":\"{value} \\ud83d\\udcb8\"},\"endAngle\":-45,\"max\":8000,\"min\":0,\"name\":\"Gauge\",\"radius\":\"100%\",\"splitLine\":{\"show\":true},\"splitNumber\":10,\"startAngle\":225,\"title\":{\"fontSize\":18,\"fontWeight\":\"bold\"},\"type\":\"gauge\"}],\"tooltip\":{\"formatter\":\"{b} : {c}%\"}},\"height\":300,\"margin\":[5,10,5,10],\"name\":\"Rewards\",\"sizing_mode\":\"fixed\",\"width\":300},\"id\":\"1166\",\"type\":\"panel.models.echarts.ECharts\"},{\"attributes\":{\"margin\":[5,0,5,10],\"min_width\":240,\"options\":[[\"<Profile Profile00233>\",\"Profile00233\"]],\"title\":\"Profile\",\"value\":\"<Profile Profile00233>\",\"width\":240},\"id\":\"1185\",\"type\":\"Select\"},{\"attributes\":{\"data\":{\"series\":[{\"axisLabel\":{\"show\":true},\"axisLine\":{\"lineStyle\":{\"color\":[[0.2,\"green\"],[0.8,\"gold\"],[1,\"red\"]],\"width\":5}},\"axisTick\":{\"show\":true},\"data\":[{\"name\":\"Rewards Multiplier\",\"value\":2.0}],\"detail\":{\"formatter\":\"{value} \\u2705\"},\"endAngle\":-45,\"max\":10,\"min\":1,\"name\":\"Gauge\",\"radius\":120,\"splitLine\":{\"show\":true},\"splitNumber\":10,\"startAngle\":225,\"title\":{\"fontSize\":18,\"fontWeight\":\"bold\"},\"type\":\"gauge\"}],\"tooltip\":{\"formatter\":\"{b} : {c}%\"}},\"height\":300,\"margin\":[5,10,5,10],\"name\":\"Rewards Multiplier\",\"sizing_mode\":\"fixed\",\"width\":300},\"id\":\"1229\",\"type\":\"panel.models.echarts.ECharts\"},{\"attributes\":{\"margin\":[5,10,5,10],\"name\":\"\",\"text\":\"<b>Founder</b>\"},\"id\":\"1169\",\"type\":\"Div\"},{\"attributes\":{\"active\":[0],\"labels\":[\"Active\"],\"margin\":[5,10,5,10]},\"id\":\"1174\",\"type\":\"CheckboxGroup\"},{\"attributes\":{\"children\":[{\"id\":\"1229\"}],\"margin\":[0,0,0,0],\"name\":\"Row00609\"},\"id\":\"1228\",\"type\":\"Row\"},{\"attributes\":{\"children\":[{\"id\":\"1188\"}],\"margin\":[0,0,0,0],\"name\":\"Row00518\"},\"id\":\"1187\",\"type\":\"Row\"},{\"attributes\":{\"children\":[{\"id\":\"1327\"}],\"margin\":[0,0,0,0],\"name\":\"Row00819\"},\"id\":\"1326\",\"type\":\"Row\"},{\"attributes\":{\"children\":[{\"id\":\"1317\"},{\"id\":\"1318\"}],\"margin\":[0,0,0,0],\"name\":\"Row00804\",\"width_policy\":\"max\"},\"id\":\"1316\",\"type\":\"Row\"},{\"attributes\":{\"margin\":[5,0,5,10],\"min_width\":240,\"options\":[[\"<Profile Profile00233>\",\"Profile00233\"]],\"title\":\"Profile\",\"value\":\"<Profile Profile00233>\",\"width\":240},\"id\":\"1253\",\"type\":\"Select\"},{\"attributes\":{\"children\":[{\"id\":\"1193\"}],\"margin\":[0,0,0,0],\"name\":\"Row00529\"},\"id\":\"1192\",\"type\":\"Row\"},{\"attributes\":{\"margin\":[5,10,5,10],\"max_length\":5000,\"title\":\"First name\",\"value\":\"Jake\"},\"id\":\"1170\",\"type\":\"TextInput\"},{\"attributes\":{\"data\":{\"series\":[{\"axisLabel\":{\"show\":true},\"axisLine\":{\"lineStyle\":{\"color\":[[0.2,\"green\"],[0.8,\"gold\"],[1,\"red\"]],\"width\":5}},\"axisTick\":{\"show\":true},\"data\":[{\"name\":\"Base Wage\",\"value\":1600}],\"detail\":{\"formatter\":\"{value} \\u2705\"},\"endAngle\":-45,\"max\":8000,\"min\":0,\"name\":\"Gauge\",\"radius\":120,\"splitLine\":{\"show\":true},\"splitNumber\":10,\"startAngle\":225,\"title\":{\"fontSize\":18,\"fontWeight\":\"bold\"},\"type\":\"gauge\"}],\"tooltip\":{\"formatter\":\"{b} : {c}%\"}},\"height\":300,\"margin\":[5,10,5,10],\"name\":\"Base Wage\",\"sizing_mode\":\"fixed\",\"width\":300},\"id\":\"1232\",\"type\":\"panel.models.echarts.ECharts\"},{\"attributes\":{\"end\":5,\"margin\":[5,10,5,10],\"start\":1,\"title\":\"Conviction level\",\"value\":5},\"id\":\"1179\",\"type\":\"Slider\"},{\"attributes\":{\"children\":[{\"id\":\"1321\"},{\"id\":\"1322\"}],\"margin\":[0,0,0,0],\"name\":\"Row00809\",\"width_policy\":\"max\"},\"id\":\"1320\",\"type\":\"Row\"},{\"attributes\":{\"children\":[{\"id\":\"1234\"}],\"margin\":[0,0,0,0],\"name\":\"Row00622\"},\"id\":\"1233\",\"type\":\"Row\"},{\"attributes\":{\"margin\":[5,0,5,10],\"min_width\":240,\"options\":[[\"<Role CEO>\",\"CEO\"],[\"<Role CFO>\",\"CFO\"],[\"<Role CTO>\",\"CTO\"],[\"<Role Admin>\",\"Admin\"],[\"<Role CMO>\",\"CMO\"],[\"<Role Token Engineer 1>\",\"Token Engineer 1\"],[\"<Role Token Engineer 2>\",\"Token Engineer 2\"],[\"<Role Racoon>\",\"Racoon\"]],\"title\":\"Role\",\"value\":\"<Role Token Engineer 1>\",\"width\":240},\"id\":\"1317\",\"type\":\"Select\"},{\"attributes\":{\"data\":{\"series\":[{\"axisLabel\":{\"show\":true},\"axisLine\":{\"lineStyle\":{\"color\":[[0.2,\"green\"],[0.8,\"gold\"],[1,\"red\"]],\"width\":10}},\"axisTick\":{\"show\":true},\"data\":[{\"name\":\"Rewards\",\"value\":5856}],\"detail\":{\"formatter\":\"{value} \\ud83d\\udcb8\"},\"endAngle\":-45,\"max\":8000,\"min\":0,\"name\":\"Gauge\",\"radius\":\"100%\",\"splitLine\":{\"show\":true},\"splitNumber\":10,\"startAngle\":225,\"title\":{\"fontSize\":18,\"fontWeight\":\"bold\"},\"type\":\"gauge\"}],\"tooltip\":{\"formatter\":\"{b} : {c}%\"}},\"height\":300,\"margin\":[5,10,5,10],\"name\":\"Rewards\",\"sizing_mode\":\"fixed\",\"width\":300},\"id\":\"1234\",\"type\":\"panel.models.echarts.ECharts\"},{\"attributes\":{\"children\":[{\"id\":\"1237\"},{\"id\":\"1238\"},{\"id\":\"1239\"},{\"id\":\"1240\"},{\"id\":\"1241\"},{\"id\":\"1242\"},{\"id\":\"1243\"},{\"id\":\"1244\"},{\"id\":\"1245\"},{\"id\":\"1246\"},{\"id\":\"1247\"},{\"id\":\"1248\"},{\"id\":\"1251\"},{\"id\":\"1252\"}],\"margin\":[5,5,5,5],\"min_width\":300,\"name\":\"Founder\",\"width\":300},\"id\":\"1236\",\"type\":\"Column\"},{\"attributes\":{\"children\":[{\"id\":\"1191\"}],\"margin\":[0,0,0,0],\"name\":\"Row00523\"},\"id\":\"1190\",\"type\":\"Row\"},{\"attributes\":{\"margin\":[5,10,5,10],\"name\":\"\",\"text\":\"<b>Founder</b>\"},\"id\":\"1237\",\"type\":\"Div\"},{\"attributes\":{\"children\":[{\"id\":\"1270\"},{\"id\":\"1289\"}],\"margin\":[0,0,0,0],\"name\":\"Row00775\"},\"id\":\"1269\",\"type\":\"Row\"},{\"attributes\":{\"children\":[{\"id\":\"1181\"},{\"id\":\"1182\"}],\"margin\":[0,0,0,0],\"name\":\"Row00508\",\"width_policy\":\"max\"},\"id\":\"1180\",\"type\":\"Row\"},{\"attributes\":{\"margin\":[5,10,5,10],\"max_length\":5000,\"title\":\"Last name\",\"value\":\"K\"},\"id\":\"1239\",\"type\":\"TextInput\"},{\"attributes\":{\"data\":{\"series\":[{\"axisLabel\":{\"show\":true},\"axisLine\":{\"lineStyle\":{\"color\":[[0.2,\"green\"],[0.8,\"gold\"],[1,\"red\"]],\"width\":5}},\"axisTick\":{\"show\":true},\"data\":[{\"name\":\"Clearance\",\"value\":1}],\"detail\":{\"formatter\":\"{value} \\u2705\"},\"endAngle\":-45,\"max\":1,\"min\":0,\"name\":\"Gauge\",\"radius\":120,\"splitLine\":{\"show\":true},\"splitNumber\":10,\"startAngle\":225,\"title\":{\"fontSize\":18,\"fontWeight\":\"bold\"},\"type\":\"gauge\"}],\"tooltip\":{\"formatter\":\"{b} : {c}%\"}},\"height\":300,\"margin\":[5,10,5,10],\"name\":\"Clearance\",\"sizing_mode\":\"fixed\",\"width\":300},\"id\":\"1259\",\"type\":\"panel.models.echarts.ECharts\"},{\"attributes\":{\"end\":5,\"margin\":[5,10,5,10],\"start\":1,\"title\":\"Credentials level\",\"value\":3},\"id\":\"1246\",\"type\":\"Slider\"},{\"attributes\":{\"margin\":[5,10,5,10],\"max_length\":5000,\"title\":\"First name\",\"value\":\"BK\"},\"id\":\"1238\",\"type\":\"TextInput\"},{\"attributes\":{\"margin\":[5,0,5,10],\"min_width\":240,\"options\":[[\"<Role CEO>\",\"CEO\"],[\"<Role CFO>\",\"CFO\"],[\"<Role CTO>\",\"CTO\"],[\"<Role Admin>\",\"Admin\"],[\"<Role CMO>\",\"CMO\"],[\"<Role Token Engineer 1>\",\"Token Engineer 1\"],[\"<Role Token Engineer 2>\",\"Token Engineer 2\"],[\"<Role Racoon>\",\"Racoon\"]],\"title\":\"Role\",\"value\":\"<Role CTO>\",\"width\":240},\"id\":\"1181\",\"type\":\"Select\"},{\"attributes\":{\"active\":[0],\"labels\":[\"NDA\"],\"margin\":[5,10,5,10]},\"id\":\"1240\",\"type\":\"CheckboxGroup\"},{\"attributes\":{\"align\":\"end\",\"button_type\":\"primary\",\"height_policy\":\"fit\",\"icon\":null,\"label\":\"\\u22ee\",\"margin\":[0,0,5,10],\"max_height\":30,\"max_width\":20},\"id\":\"1186\",\"type\":\"Toggle\"},{\"attributes\":{\"children\":[{\"id\":\"1326\"},{\"id\":\"1328\"},{\"id\":\"1330\"}],\"margin\":[0,0,0,0],\"name\":\"Row00833\"},\"id\":\"1325\",\"type\":\"Row\"},{\"attributes\":{\"end\":5,\"margin\":[5,10,5,10],\"start\":1,\"title\":\"Conviction level\",\"value\":4},\"id\":\"1247\",\"type\":\"Slider\"},{\"attributes\":{\"margin\":[5,0,5,10],\"min_width\":240,\"options\":[[\"<Profile Profile00233>\",\"Profile00233\"]],\"title\":\"Profile\",\"value\":\"<Profile Profile00233>\",\"width\":240},\"id\":\"1321\",\"type\":\"Select\"},{\"attributes\":{\"align\":\"end\",\"button_type\":\"primary\",\"height_policy\":\"fit\",\"icon\":null,\"label\":\"\\u22ee\",\"margin\":[0,0,5,10],\"max_height\":30,\"max_width\":20},\"id\":\"1322\",\"type\":\"Toggle\"},{\"attributes\":{\"active\":[0],\"labels\":[\"Active\"],\"margin\":[5,10,5,10]},\"id\":\"1242\",\"type\":\"CheckboxGroup\"},{\"attributes\":{\"children\":[{\"id\":\"1185\"},{\"id\":\"1186\"}],\"margin\":[0,0,0,0],\"name\":\"Row00513\",\"width_policy\":\"max\"},\"id\":\"1184\",\"type\":\"Row\"},{\"attributes\":{\"active\":[0],\"labels\":[\"Onboarded\"],\"margin\":[5,10,5,10]},\"id\":\"1241\",\"type\":\"CheckboxGroup\"},{\"attributes\":{\"children\":[{\"id\":\"1325\"},{\"id\":\"1332\"}],\"margin\":[0,0,0,0],\"name\":\"Column00847\"},\"id\":\"1324\",\"type\":\"Column\"},{\"attributes\":{\"margin\":[5,10,5,10],\"options\":[[\"Full Time\",\"Full Time\"],[\"Part Time\",\"Part Time\"]],\"title\":\"Engagement\",\"value\":\"Full Time\"},\"id\":\"1210\",\"type\":\"Select\"},{\"attributes\":{\"children\":[{\"id\":\"1257\"},{\"id\":\"1264\"}],\"margin\":[0,0,0,0],\"name\":\"Column00699\"},\"id\":\"1256\",\"type\":\"Column\"},{\"attributes\":{\"children\":[{\"id\":\"1190\"},{\"id\":\"1192\"},{\"id\":\"1194\"}],\"margin\":[0,0,0,0],\"name\":\"Row00537\"},\"id\":\"1189\",\"type\":\"Row\"},{\"attributes\":{\"data\":{\"series\":[{\"axisLabel\":{\"show\":true},\"axisLine\":{\"lineStyle\":{\"color\":[[0.2,\"green\"],[0.8,\"gold\"],[1,\"red\"]],\"width\":5}},\"axisTick\":{\"show\":true},\"data\":[{\"name\":\"Time Bonus\",\"value\":1.41}],\"detail\":{\"formatter\":\"{value} \\u2705\"},\"endAngle\":-45,\"max\":100,\"min\":0,\"name\":\"Gauge\",\"radius\":120,\"splitLine\":{\"show\":true},\"splitNumber\":10,\"startAngle\":225,\"title\":{\"fontSize\":18,\"fontWeight\":\"bold\"},\"type\":\"gauge\"}],\"tooltip\":{\"formatter\":\"{b} : {c}%\"}},\"height\":300,\"margin\":[5,10,5,10],\"name\":\"Time Bonus\",\"sizing_mode\":\"fixed\",\"width\":300},\"id\":\"1329\",\"type\":\"panel.models.echarts.ECharts\"},{\"attributes\":{\"active\":[0],\"labels\":[\"Contract\"],\"margin\":[5,10,5,10]},\"id\":\"1243\",\"type\":\"CheckboxGroup\"},{\"attributes\":{\"margin\":[5,10,5,10],\"title\":\"Date Joined\",\"value\":\"2021-05-15\"},\"id\":\"1183\",\"type\":\"DatePicker\"},{\"attributes\":{\"children\":[{\"id\":\"1329\"}],\"margin\":[0,0,0,0],\"name\":\"Row00825\"},\"id\":\"1328\",\"type\":\"Row\"},{\"attributes\":{\"end\":5,\"margin\":[5,10,5,10],\"start\":1,\"title\":\"Authorization level\",\"value\":3},\"id\":\"1245\",\"type\":\"Slider\"},{\"attributes\":{\"children\":[{\"id\":\"1334\"}],\"margin\":[0,0,0,0],\"name\":\"Row00838\"},\"id\":\"1333\",\"type\":\"Row\"},{\"attributes\":{\"data\":{\"series\":[{\"axisLabel\":{\"show\":true},\"axisLine\":{\"lineStyle\":{\"color\":[[0.2,\"green\"],[0.8,\"gold\"],[1,\"red\"]],\"width\":5}},\"axisTick\":{\"show\":true},\"data\":[{\"name\":\"Rewards Multiplier\",\"value\":4.33}],\"detail\":{\"formatter\":\"{value} \\u2705\"},\"endAngle\":-45,\"max\":10,\"min\":1,\"name\":\"Gauge\",\"radius\":120,\"splitLine\":{\"show\":true},\"splitNumber\":10,\"startAngle\":225,\"title\":{\"fontSize\":18,\"fontWeight\":\"bold\"},\"type\":\"gauge\"}],\"tooltip\":{\"formatter\":\"{b} : {c}%\"}},\"height\":300,\"margin\":[5,10,5,10],\"name\":\"Rewards Multiplier\",\"sizing_mode\":\"fixed\",\"width\":300},\"id\":\"1331\",\"type\":\"panel.models.echarts.ECharts\"},{\"attributes\":{\"children\":[{\"id\":\"1256\"}],\"margin\":[0,0,0,0],\"name\":\"Row00666\"},\"id\":\"1255\",\"type\":\"Row\"},{\"attributes\":{\"children\":[{\"id\":\"1189\"},{\"id\":\"1196\"}],\"margin\":[0,0,0,0],\"name\":\"Column00551\"},\"id\":\"1188\",\"type\":\"Column\"},{\"attributes\":{\"align\":\"end\",\"button_type\":\"primary\",\"height_policy\":\"fit\",\"icon\":null,\"label\":\"\\u22ee\",\"margin\":[0,0,5,10],\"max_height\":30,\"max_width\":20},\"id\":\"1216\",\"type\":\"Toggle\"},{\"attributes\":{\"children\":[{\"id\":\"1331\"}],\"margin\":[0,0,0,0],\"name\":\"Row00831\"},\"id\":\"1330\",\"type\":\"Row\"},{\"attributes\":{\"children\":[{\"id\":\"1333\"},{\"id\":\"1335\"}],\"margin\":[0,0,0,0],\"name\":\"Row00846\"},\"id\":\"1332\",\"type\":\"Row\"},{\"attributes\":{\"children\":[{\"id\":\"1203\"},{\"id\":\"1204\"},{\"id\":\"1205\"},{\"id\":\"1206\"},{\"id\":\"1207\"},{\"id\":\"1208\"},{\"id\":\"1209\"},{\"id\":\"1210\"},{\"id\":\"1211\"},{\"id\":\"1212\"},{\"id\":\"1213\"},{\"id\":\"1214\"},{\"id\":\"1217\"},{\"id\":\"1218\"}],\"margin\":[5,5,5,5],\"min_width\":300,\"name\":\"Founder\",\"width\":300},\"id\":\"1202\",\"type\":\"Column\"},{\"attributes\":{\"data\":{\"series\":[{\"axisLabel\":{\"show\":true},\"axisLine\":{\"lineStyle\":{\"color\":[[0.2,\"green\"],[0.8,\"gold\"],[1,\"red\"]],\"width\":5}},\"axisTick\":{\"show\":true},\"data\":[{\"name\":\"Clearance\",\"value\":1}],\"detail\":{\"formatter\":\"{value} \\u2705\"},\"endAngle\":-45,\"max\":1,\"min\":0,\"name\":\"Gauge\",\"radius\":120,\"splitLine\":{\"show\":true},\"splitNumber\":10,\"startAngle\":225,\"title\":{\"fontSize\":18,\"fontWeight\":\"bold\"},\"type\":\"gauge\"}],\"tooltip\":{\"formatter\":\"{b} : {c}%\"}},\"height\":300,\"margin\":[5,10,5,10],\"name\":\"Clearance\",\"sizing_mode\":\"fixed\",\"width\":300},\"id\":\"1191\",\"type\":\"panel.models.echarts.ECharts\"},{\"attributes\":{\"children\":[{\"id\":\"1249\"},{\"id\":\"1250\"}],\"margin\":[0,0,0,0],\"name\":\"Row00656\",\"width_policy\":\"max\"},\"id\":\"1248\",\"type\":\"Row\"},{\"attributes\":{\"children\":[{\"id\":\"1253\"},{\"id\":\"1254\"}],\"margin\":[0,0,0,0],\"name\":\"Row00661\",\"width_policy\":\"max\"},\"id\":\"1252\",\"type\":\"Row\"},{\"attributes\":{\"data\":{\"series\":[{\"axisLabel\":{\"show\":true},\"axisLine\":{\"lineStyle\":{\"color\":[[0.2,\"green\"],[0.8,\"gold\"],[1,\"red\"]],\"width\":5}},\"axisTick\":{\"show\":true},\"data\":[{\"name\":\"Base Wage\",\"value\":1000.0}],\"detail\":{\"formatter\":\"{value} \\u2705\"},\"endAngle\":-45,\"max\":8000,\"min\":0,\"name\":\"Gauge\",\"radius\":120,\"splitLine\":{\"show\":true},\"splitNumber\":10,\"startAngle\":225,\"title\":{\"fontSize\":18,\"fontWeight\":\"bold\"},\"type\":\"gauge\"}],\"tooltip\":{\"formatter\":\"{b} : {c}%\"}},\"height\":300,\"margin\":[5,10,5,10],\"name\":\"Base Wage\",\"sizing_mode\":\"fixed\",\"width\":300},\"id\":\"1334\",\"type\":\"panel.models.echarts.ECharts\"},{\"attributes\":{\"children\":[{\"id\":\"1336\"}],\"margin\":[0,0,0,0],\"name\":\"Row00844\"},\"id\":\"1335\",\"type\":\"Row\"},{\"attributes\":{\"data\":{\"series\":[{\"axisLabel\":{\"show\":true},\"axisLine\":{\"lineStyle\":{\"color\":[[0.2,\"green\"],[0.8,\"gold\"],[1,\"red\"]],\"width\":5}},\"axisTick\":{\"show\":true},\"data\":[{\"name\":\"Time Bonus\",\"value\":1.66}],\"detail\":{\"formatter\":\"{value} \\u2705\"},\"endAngle\":-45,\"max\":100,\"min\":0,\"name\":\"Gauge\",\"radius\":120,\"splitLine\":{\"show\":true},\"splitNumber\":10,\"startAngle\":225,\"title\":{\"fontSize\":18,\"fontWeight\":\"bold\"},\"type\":\"gauge\"}],\"tooltip\":{\"formatter\":\"{b} : {c}%\"}},\"height\":300,\"margin\":[5,10,5,10],\"name\":\"Time Bonus\",\"sizing_mode\":\"fixed\",\"width\":300},\"id\":\"1193\",\"type\":\"panel.models.echarts.ECharts\"},{\"attributes\":{\"margin\":[5,0,5,10],\"min_width\":240,\"options\":[[\"<Role CEO>\",\"CEO\"],[\"<Role CFO>\",\"CFO\"],[\"<Role CTO>\",\"CTO\"],[\"<Role Admin>\",\"Admin\"],[\"<Role CMO>\",\"CMO\"],[\"<Role Token Engineer 1>\",\"Token Engineer 1\"],[\"<Role Token Engineer 2>\",\"Token Engineer 2\"],[\"<Role Racoon>\",\"Racoon\"]],\"title\":\"Role\",\"value\":\"<Role Token Engineer 1>\",\"width\":240},\"id\":\"1249\",\"type\":\"Select\"},{\"attributes\":{\"children\":[{\"id\":\"1198\"}],\"margin\":[0,0,0,0],\"name\":\"Row00542\"},\"id\":\"1197\",\"type\":\"Row\"},{\"attributes\":{\"margin\":[5,10,5,10],\"title\":\"Date Joined\",\"value\":\"2021-05-15\"},\"id\":\"1251\",\"type\":\"DatePicker\"},{\"attributes\":{\"data\":{\"series\":[{\"axisLabel\":{\"show\":true},\"axisLine\":{\"lineStyle\":{\"color\":[[0.2,\"green\"],[0.8,\"gold\"],[1,\"red\"]],\"width\":5}},\"axisTick\":{\"show\":true},\"data\":[{\"name\":\"Rewards Multiplier\",\"value\":3.87}],\"detail\":{\"formatter\":\"{value} \\u2705\"},\"endAngle\":-45,\"max\":10,\"min\":1,\"name\":\"Gauge\",\"radius\":120,\"splitLine\":{\"show\":true},\"splitNumber\":10,\"startAngle\":225,\"title\":{\"fontSize\":18,\"fontWeight\":\"bold\"},\"type\":\"gauge\"}],\"tooltip\":{\"formatter\":\"{b} : {c}%\"}},\"height\":300,\"margin\":[5,10,5,10],\"name\":\"Rewards Multiplier\",\"sizing_mode\":\"fixed\",\"width\":300},\"id\":\"1195\",\"type\":\"panel.models.echarts.ECharts\"},{\"attributes\":{\"data\":{\"series\":[{\"axisLabel\":{\"show\":true},\"axisLine\":{\"lineStyle\":{\"color\":[[0.2,\"green\"],[0.8,\"gold\"],[1,\"red\"]],\"width\":10}},\"axisTick\":{\"show\":true},\"data\":[{\"name\":\"Rewards\",\"value\":5740}],\"detail\":{\"formatter\":\"{value} \\ud83d\\udcb8\"},\"endAngle\":-45,\"max\":8000,\"min\":0,\"name\":\"Gauge\",\"radius\":\"100%\",\"splitLine\":{\"show\":true},\"splitNumber\":10,\"startAngle\":225,\"title\":{\"fontSize\":18,\"fontWeight\":\"bold\"},\"type\":\"gauge\"}],\"tooltip\":{\"formatter\":\"{b} : {c}%\"}},\"height\":300,\"margin\":[5,10,5,10],\"name\":\"Rewards\",\"sizing_mode\":\"fixed\",\"width\":300},\"id\":\"1336\",\"type\":\"panel.models.echarts.ECharts\"},{\"attributes\":{\"children\":[{\"id\":\"1195\"}],\"margin\":[0,0,0,0],\"name\":\"Row00535\"},\"id\":\"1194\",\"type\":\"Row\"},{\"attributes\":{\"children\":[{\"id\":\"1200\"}],\"margin\":[0,0,0,0],\"name\":\"Row00548\"},\"id\":\"1199\",\"type\":\"Row\"},{\"attributes\":{\"children\":[{\"id\":\"1197\"},{\"id\":\"1199\"}],\"margin\":[0,0,0,0],\"name\":\"Row00550\"},\"id\":\"1196\",\"type\":\"Row\"},{\"attributes\":{\"align\":\"end\",\"button_type\":\"primary\",\"height_policy\":\"fit\",\"icon\":null,\"label\":\"\\u22ee\",\"margin\":[0,0,5,10],\"max_height\":30,\"max_width\":20},\"id\":\"1254\",\"type\":\"Toggle\"}],\"root_ids\":[\"1064\",\"1337\"]},\"title\":\"Bokeh Application\",\"version\":\"2.4.2\"}};\n",
       "    var render_items = [{\"docid\":\"044e6c1e-cead-466a-afab-2851a41dfeea\",\"root_ids\":[\"1064\"],\"roots\":{\"1064\":\"6b7af248-2a78-4403-98bb-838c7a60f444\"}}];\n",
       "    root.Bokeh.embed.embed_items_notebook(docs_json, render_items);\n",
       "  }\n",
       "  if (root.Bokeh !== undefined && root.Bokeh.Panel !== undefined && ( root['echarts'] !== undefined)) {\n",
       "    embed_document(root);\n",
       "  } else {\n",
       "    var attempts = 0;\n",
       "    var timer = setInterval(function(root) {\n",
       "      if (root.Bokeh !== undefined && root.Bokeh.Panel !== undefined && (root['echarts'] !== undefined)) {\n",
       "        clearInterval(timer);\n",
       "        embed_document(root);\n",
       "      } else if (document.readyState == \"complete\") {\n",
       "        attempts++;\n",
       "        if (attempts > 200) {\n",
       "          clearInterval(timer);\n",
       "          console.log(\"Bokeh: ERROR: Unable to run BokehJS code because BokehJS library is missing\");\n",
       "        }\n",
       "      }\n",
       "    }, 25, root)\n",
       "  }\n",
       "})(window);</script>"
      ],
      "text/plain": [
       "Row\n",
       "    [0] Row\n",
       "        [0] Param(Founder, widgets={'date_joined': DatePicker...})\n",
       "        [1] ParamMethod(method)\n",
       "    [1] Row\n",
       "        [0] Param(Founder, widgets={'date_joined': DatePicker...})\n",
       "        [1] ParamMethod(method)\n",
       "    [2] Row\n",
       "        [0] Param(Founder, widgets={'date_joined': DatePicker...})\n",
       "        [1] ParamMethod(method)\n",
       "    [3] Row\n",
       "        [0] Param(Founder, widgets={'date_joined': DatePicker...})\n",
       "        [1] ParamMethod(method)\n",
       "    [4] Row\n",
       "        [0] Param(Founder, widgets={'date_joined': DatePicker...})\n",
       "        [1] ParamMethod(method)\n",
       "    [5] Row\n",
       "        [0] Param(Founder, widgets={'date_joined': DatePicker...})\n",
       "        [1] ParamMethod(method)\n",
       "    [6] Row\n",
       "        [0] Param(Founder, widgets={'date_joined': DatePicker...})\n",
       "        [1] ParamMethod(method)\n",
       "    [7] Row\n",
       "        [0] Param(Founder, widgets={'date_joined': DatePicker...})\n",
       "        [1] ParamMethod(method)"
      ]
     },
     "execution_count": 12,
     "metadata": {
      "application/vnd.holoviews_exec.v0+json": {
       "id": "1064"
      }
     },
     "output_type": "execute_result"
    }
   ],
   "source": [
    "pn.Row(*[pn.Row(f.view(), f.view_reward_gauge) for f in founders])"
   ]
  },
  {
   "cell_type": "code",
   "execution_count": 13,
   "id": "d89c3282-485c-4e0d-9f55-78eeb8f0be27",
   "metadata": {},
   "outputs": [
    {
     "data": {
      "text/plain": [
       "8"
      ]
     },
     "execution_count": 13,
     "metadata": {},
     "output_type": "execute_result"
    }
   ],
   "source": [
    "len(founders)"
   ]
  },
  {
   "cell_type": "code",
   "execution_count": 14,
   "id": "121f32be",
   "metadata": {},
   "outputs": [],
   "source": [
    "f = founders[0]"
   ]
  },
  {
   "cell_type": "code",
   "execution_count": 25,
   "id": "d3c68a70",
   "metadata": {},
   "outputs": [
    {
     "data": {
      "text/plain": [
       "Founder(NDA=True, active=True, authorization_level=3, contract=True, conviction_level=5, credentials_level=5, date_joined=datetime.date(2022, 3, 13), engagement='Part Time', first_name='Andrew', last_name='Penland', name='Founder00257', onboarded=True, profile=Profile(discord='', email='', ethereum='', github='', name='Profile00233', twitter=''), role=Role(base_wage=2000, description='Add a description', name='Token Engineer 1'))"
      ]
     },
     "execution_count": 25,
     "metadata": {},
     "output_type": "execute_result"
    }
   ],
   "source": [
    "f"
   ]
  },
  {
   "cell_type": "code",
   "execution_count": 15,
   "id": "1a220eee-70d1-457b-a5ca-8363d375412e",
   "metadata": {},
   "outputs": [],
   "source": [
    "rewards = [f.reward_schedule() for f in founders]"
   ]
  },
  {
   "cell_type": "code",
   "execution_count": 16,
   "id": "4ee76aa6-4ec8-4739-98cf-b46b88b17174",
   "metadata": {},
   "outputs": [
    {
     "data": {
      "text/plain": [
       "{'Shawn Anderson': 16640,\n",
       " 'Aidan Oconnel': 3648,\n",
       " 'Mike De Melo': 11200,\n",
       " 'Jake Cassani': 11060,\n",
       " 'Liam Perison': 5856,\n",
       " 'BK K': 9320,\n",
       " 'Katie Knorr': 4410,\n",
       " 'Andrew Penland': 5740}"
      ]
     },
     "execution_count": 16,
     "metadata": {},
     "output_type": "execute_result"
    }
   ],
   "source": [
    "{f.first_name+' '+f.last_name: f.reward_schedule() for f in founders}"
   ]
  },
  {
   "cell_type": "code",
   "execution_count": 17,
   "id": "40f8348e-72ba-4bab-a2c5-0a26c4c47c76",
   "metadata": {},
   "outputs": [
    {
     "data": {
      "text/plain": [
       "67874"
      ]
     },
     "execution_count": 17,
     "metadata": {},
     "output_type": "execute_result"
    }
   ],
   "source": [
    "sum(rewards)"
   ]
  },
  {
   "cell_type": "code",
   "execution_count": 18,
   "id": "75e7138d-5e26-4d24-8e99-70446dad2cd8",
   "metadata": {},
   "outputs": [],
   "source": [
    "total = {}\n",
    "for f in founders:\n",
    "    reward_schedule = []\n",
    "    for i in range(f.months_since_joining()):\n",
    "        reward_schedule.append(f.reward_schedule())\n",
    "        f.date_joined += dt.timedelta(days=30)\n",
    "    total[f.first_name+' '+f.last_name] = reward_schedule"
   ]
  },
  {
   "cell_type": "code",
   "execution_count": 19,
   "id": "28ab7a05-a843-45de-a523-4b6b7adc2dc0",
   "metadata": {},
   "outputs": [
    {
     "data": {
      "text/plain": [
       "{'Shawn Anderson': [16640,\n",
       "  16560,\n",
       "  16480,\n",
       "  16400,\n",
       "  16320,\n",
       "  16240,\n",
       "  16160,\n",
       "  16080,\n",
       "  16000,\n",
       "  15920,\n",
       "  15840,\n",
       "  15740,\n",
       "  15660,\n",
       "  15560,\n",
       "  15480,\n",
       "  15380,\n",
       "  15300,\n",
       "  15200,\n",
       "  15100,\n",
       "  15000,\n",
       "  14900,\n",
       "  14800,\n",
       "  14700,\n",
       "  14580,\n",
       "  14480,\n",
       "  14360,\n",
       "  14240,\n",
       "  14120,\n",
       "  14000,\n",
       "  13880,\n",
       "  13740,\n",
       "  13600,\n",
       "  13460,\n",
       "  13320,\n",
       "  13160,\n",
       "  13000,\n",
       "  12820,\n",
       "  12640,\n",
       "  12440,\n",
       "  12440,\n",
       "  12240,\n",
       "  12000,\n",
       "  11740],\n",
       " 'Aidan Oconnel': [3648,\n",
       "  3608,\n",
       "  3576,\n",
       "  3536,\n",
       "  3504,\n",
       "  3464,\n",
       "  3424,\n",
       "  3384,\n",
       "  3344,\n",
       "  3304,\n",
       "  3264,\n",
       "  3216,\n",
       "  3176,\n",
       "  3128,\n",
       "  3080,\n",
       "  3032,\n",
       "  2984,\n",
       "  2936,\n",
       "  2880,\n",
       "  2824,\n",
       "  2768,\n",
       "  2712,\n",
       "  2648,\n",
       "  2584,\n",
       "  2512,\n",
       "  2440,\n",
       "  2360,\n",
       "  2280,\n",
       "  2184,\n",
       "  2080,\n",
       "  1952],\n",
       " 'Mike De Melo': [11200,\n",
       "  11060,\n",
       "  10900,\n",
       "  10740,\n",
       "  10560,\n",
       "  10380,\n",
       "  10180,\n",
       "  9980,\n",
       "  9740,\n",
       "  9480,\n",
       "  9160],\n",
       " 'Jake Cassani': [11060,\n",
       "  10900,\n",
       "  10740,\n",
       "  10560,\n",
       "  10380,\n",
       "  10180,\n",
       "  9980,\n",
       "  9740,\n",
       "  9480,\n",
       "  9160],\n",
       " 'Liam Perison': [5856, 5728, 5600, 5456, 5312, 5152, 4992, 4800, 4592, 4336],\n",
       " 'BK K': [9320, 9160, 9000, 8820, 8640, 8440, 8240, 8000, 7740, 7420],\n",
       " 'Katie Knorr': [4410, 4320, 4220, 4120, 4000, 3870, 3710],\n",
       " 'Andrew Penland': [5740, 5650, 5550, 5450, 5330, 5200, 5040]}"
      ]
     },
     "execution_count": 19,
     "metadata": {},
     "output_type": "execute_result"
    }
   ],
   "source": [
    "total"
   ]
  },
  {
   "cell_type": "code",
   "execution_count": 20,
   "id": "4ff48ac5-6693-485e-8dea-ff15e4d59c32",
   "metadata": {},
   "outputs": [
    {
     "data": {
      "text/plain": [
       "{'Shawn Anderson': 627720,\n",
       " 'Aidan Oconnel': 91832,\n",
       " 'Mike De Melo': 113380,\n",
       " 'Jake Cassani': 102180,\n",
       " 'Liam Perison': 51824,\n",
       " 'BK K': 84780,\n",
       " 'Katie Knorr': 28650,\n",
       " 'Andrew Penland': 37960}"
      ]
     },
     "execution_count": 20,
     "metadata": {},
     "output_type": "execute_result"
    }
   ],
   "source": [
    "sum_totals = {k:sum(v) for k,v in total.items()}\n",
    "sum_totals"
   ]
  },
  {
   "cell_type": "code",
   "execution_count": 21,
   "id": "4fed9f86-615c-475a-8002-351295cce243",
   "metadata": {},
   "outputs": [
    {
     "data": {
      "text/plain": [
       "1138326"
      ]
     },
     "execution_count": 21,
     "metadata": {},
     "output_type": "execute_result"
    }
   ],
   "source": [
    "sum(sum_totals.values())"
   ]
  },
  {
   "cell_type": "code",
   "execution_count": 22,
   "id": "faa6c438-d4ae-4ba4-a7d3-be8741d9f831",
   "metadata": {},
   "outputs": [
    {
     "data": {
      "text/plain": [
       "8484.25"
      ]
     },
     "execution_count": 22,
     "metadata": {},
     "output_type": "execute_result"
    }
   ],
   "source": [
    "sum(rewards) / len(rewards)"
   ]
  },
  {
   "cell_type": "code",
   "execution_count": 23,
   "id": "b9385797-443b-4c57-a1d2-beed35f19cbc",
   "metadata": {},
   "outputs": [
    {
     "data": {
      "text/plain": [
       "135748"
      ]
     },
     "execution_count": 23,
     "metadata": {},
     "output_type": "execute_result"
    }
   ],
   "source": [
    "sum(rewards) * 2"
   ]
  },
  {
   "cell_type": "code",
   "execution_count": 24,
   "id": "92cac581-2f1b-4032-aa9b-5c179063f54d",
   "metadata": {},
   "outputs": [
    {
     "data": {
      "text/plain": [
       "1628976"
      ]
     },
     "execution_count": 24,
     "metadata": {},
     "output_type": "execute_result"
    }
   ],
   "source": [
    "sum(rewards) * 2 * 12"
   ]
  },
  {
   "cell_type": "markdown",
   "id": "ef3e521b-048a-42dc-acd9-af50f8251496",
   "metadata": {},
   "source": [
    "### LBP Raise Amount 20-40 million\n",
    "\n",
    "Here, we integrate an LBP model to calculate the number of tokens sold, and the amount of funds raised. "
   ]
  },
  {
   "cell_type": "code",
   "execution_count": null,
   "id": "787d0b33-1d7d-49ee-b49e-4780b529f0de",
   "metadata": {},
   "outputs": [],
   "source": []
  },
  {
   "cell_type": "markdown",
   "id": "15aa4f9c-9e14-4628-9fdc-b5299fdbfe0b",
   "metadata": {},
   "source": [
    "### Racoon Fund"
   ]
  },
  {
   "cell_type": "code",
   "execution_count": null,
   "id": "68f46a90-89c2-4713-adb6-f3826ef6fbcf",
   "metadata": {},
   "outputs": [],
   "source": []
  }
 ],
 "metadata": {
  "kernelspec": {
   "display_name": "cadcad2",
   "language": "python",
   "name": "cadcad2"
  },
  "language_info": {
   "codemirror_mode": {
    "name": "ipython",
    "version": 3
   },
   "file_extension": ".py",
   "mimetype": "text/x-python",
   "name": "python",
   "nbconvert_exporter": "python",
   "pygments_lexer": "ipython3",
   "version": "3.7.13"
  }
 },
 "nbformat": 4,
 "nbformat_minor": 5
}
