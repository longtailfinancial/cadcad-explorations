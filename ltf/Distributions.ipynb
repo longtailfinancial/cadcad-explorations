{
 "cells": [
  {
   "cell_type": "code",
   "execution_count": 1,
   "id": "6804f77a-2ae8-4543-a2e2-fb6a846c6f24",
   "metadata": {},
   "outputs": [],
   "source": [
    "%reload_ext autoreload\n",
    "%autoreload 2"
   ]
  },
  {
   "cell_type": "code",
   "execution_count": 2,
   "id": "eb07ad45-82d2-4965-8ca0-018a28950f9d",
   "metadata": {},
   "outputs": [
    {
     "data": {
      "application/javascript": [
       "\n",
       "(function(root) {\n",
       "  function now() {\n",
       "    return new Date();\n",
       "  }\n",
       "\n",
       "  var force = true;\n",
       "\n",
       "  if (typeof root._bokeh_onload_callbacks === \"undefined\" || force === true) {\n",
       "    root._bokeh_onload_callbacks = [];\n",
       "    root._bokeh_is_loading = undefined;\n",
       "  }\n",
       "\n",
       "  if (typeof (root._bokeh_timeout) === \"undefined\" || force === true) {\n",
       "    root._bokeh_timeout = Date.now() + 5000;\n",
       "    root._bokeh_failed_load = false;\n",
       "  }\n",
       "\n",
       "  function run_callbacks() {\n",
       "    try {\n",
       "      root._bokeh_onload_callbacks.forEach(function(callback) {\n",
       "        if (callback != null)\n",
       "          callback();\n",
       "      });\n",
       "    } finally {\n",
       "      delete root._bokeh_onload_callbacks\n",
       "    }\n",
       "    console.debug(\"Bokeh: all callbacks have finished\");\n",
       "  }\n",
       "\n",
       "  function load_libs(css_urls, js_urls, js_modules, callback) {\n",
       "    if (css_urls == null) css_urls = [];\n",
       "    if (js_urls == null) js_urls = [];\n",
       "    if (js_modules == null) js_modules = [];\n",
       "\n",
       "    root._bokeh_onload_callbacks.push(callback);\n",
       "    if (root._bokeh_is_loading > 0) {\n",
       "      console.debug(\"Bokeh: BokehJS is being loaded, scheduling callback at\", now());\n",
       "      return null;\n",
       "    }\n",
       "    if (js_urls.length === 0 && js_modules.length === 0) {\n",
       "      run_callbacks();\n",
       "      return null;\n",
       "    }\n",
       "    console.debug(\"Bokeh: BokehJS not loaded, scheduling load and callback at\", now());\n",
       "    root._bokeh_is_loading = css_urls.length + js_urls.length + js_modules.length;\n",
       "\n",
       "    function on_load() {\n",
       "      root._bokeh_is_loading--;\n",
       "      if (root._bokeh_is_loading === 0) {\n",
       "        console.debug(\"Bokeh: all BokehJS libraries/stylesheets loaded\");\n",
       "        run_callbacks()\n",
       "      }\n",
       "    }\n",
       "\n",
       "    function on_error() {\n",
       "      console.error(\"failed to load \" + url);\n",
       "    }\n",
       "\n",
       "    for (var i = 0; i < css_urls.length; i++) {\n",
       "      var url = css_urls[i];\n",
       "      const element = document.createElement(\"link\");\n",
       "      element.onload = on_load;\n",
       "      element.onerror = on_error;\n",
       "      element.rel = \"stylesheet\";\n",
       "      element.type = \"text/css\";\n",
       "      element.href = url;\n",
       "      console.debug(\"Bokeh: injecting link tag for BokehJS stylesheet: \", url);\n",
       "      document.body.appendChild(element);\n",
       "    }\n",
       "\n",
       "    var skip = [];\n",
       "    if (window.requirejs) {\n",
       "      window.requirejs.config({'paths': {'tabulator': 'https://unpkg.com/tabulator-tables@4.9.3/dist/js/tabulator'}});\n",
       "      window.requirejs.config({'baseUrl': 'https://cdn.jsdelivr.net/npm/', 'paths': {'echarts': 'echarts@5.0.2/dist/echarts.min', 'echarts-gl': 'echarts-gl@2.0.2/dist/echarts-gl.min.js'}});\n",
       "      require([\"tabulator\"], function(Tabulator,) {\n",
       "        window.Tabulator = Tabulator;\n",
       "      })\n",
       "    }\n",
       "    if (((window['tabulator'] !== undefined) && (!(window['tabulator'] instanceof HTMLElement))) || window.requirejs) {\n",
       "      var urls = ['https://unpkg.com/tabulator-tables@4.9.3/dist/js/tabulator.js', 'https://unpkg.com/moment@2.27.0/moment.js'];\n",
       "      for (var i = 0; i < urls.length; i++) {\n",
       "        skip.push(urls[i])\n",
       "      }\n",
       "    }\n",
       "    if (((window['echarts'] !== undefined) && (!(window['echarts'] instanceof HTMLElement))) || window.requirejs) {\n",
       "      var urls = ['https://cdn.jsdelivr.net/npm/echarts@5.0.2/dist/echarts.min.js'];\n",
       "      for (var i = 0; i < urls.length; i++) {\n",
       "        skip.push(urls[i])\n",
       "      }\n",
       "    }\n",
       "    for (var i = 0; i < js_urls.length; i++) {\n",
       "      var url = js_urls[i];\n",
       "      if (skip.indexOf(url) >= 0) { on_load(); continue; }\n",
       "      var element = document.createElement('script');\n",
       "      element.onload = on_load;\n",
       "      element.onerror = on_error;\n",
       "      element.async = false;\n",
       "      element.src = url;\n",
       "      console.debug(\"Bokeh: injecting script tag for BokehJS library: \", url);\n",
       "      document.head.appendChild(element);\n",
       "    }\n",
       "    for (var i = 0; i < js_modules.length; i++) {\n",
       "      var url = js_modules[i];\n",
       "      if (skip.indexOf(url) >= 0) { on_load(); continue; }\n",
       "      var element = document.createElement('script');\n",
       "      element.onload = on_load;\n",
       "      element.onerror = on_error;\n",
       "      element.async = false;\n",
       "      element.src = url;\n",
       "      element.type = \"module\";\n",
       "      console.debug(\"Bokeh: injecting script tag for BokehJS library: \", url);\n",
       "      document.head.appendChild(element);\n",
       "    }\n",
       "    if (!js_urls.length && !js_modules.length) {\n",
       "      on_load()\n",
       "    }\n",
       "  };\n",
       "\n",
       "  function inject_raw_css(css) {\n",
       "    const element = document.createElement(\"style\");\n",
       "    element.appendChild(document.createTextNode(css));\n",
       "    document.body.appendChild(element);\n",
       "  }\n",
       "\n",
       "  var js_urls = [\"https://cdn.jsdelivr.net/npm/echarts@5.0.2/dist/echarts.min.js\", \"https://cdn.jsdelivr.net/npm/echarts-gl@2.0.2/dist/echarts-gl.min.js\", \"https://unpkg.com/tabulator-tables@4.9.3/dist/js/tabulator.js\", \"https://unpkg.com/moment@2.27.0/moment.js\", \"https://cdn.bokeh.org/bokeh/release/bokeh-2.3.2.min.js\", \"https://cdn.bokeh.org/bokeh/release/bokeh-widgets-2.3.2.min.js\", \"https://cdn.bokeh.org/bokeh/release/bokeh-tables-2.3.2.min.js\", \"https://unpkg.com/@holoviz/panel@^0.11.3/dist/panel.min.js\"];\n",
       "  var js_modules = [];\n",
       "  var css_urls = [\"https://unpkg.com/tabulator-tables@4.9.3/dist/css/tabulator_simple.min.css\", \"https://unpkg.com/@holoviz/panel@0.11.3/dist/css/markdown.css\", \"https://unpkg.com/@holoviz/panel@0.11.3/dist/css/card.css\", \"https://unpkg.com/@holoviz/panel@0.11.3/dist/css/json.css\", \"https://unpkg.com/@holoviz/panel@0.11.3/dist/css/alerts.css\", \"https://unpkg.com/@holoviz/panel@0.11.3/dist/css/widgets.css\", \"https://unpkg.com/@holoviz/panel@0.11.3/dist/css/dataframe.css\", \"https://unpkg.com/@holoviz/panel@0.11.3/dist/css/loading.css\"];\n",
       "  var inline_js = [\n",
       "    function(Bokeh) {\n",
       "      inject_raw_css(\"\\n    .bk.pn-loading.arcs:before {\\n      background-image: url(\\\"data:image/svg+xml;base64,PHN2ZyB4bWxucz0iaHR0cDovL3d3dy53My5vcmcvMjAwMC9zdmciIHhtbG5zOnhsaW5rPSJodHRwOi8vd3d3LnczLm9yZy8xOTk5L3hsaW5rIiBzdHlsZT0ibWFyZ2luOiBhdXRvOyBiYWNrZ3JvdW5kOiBub25lOyBkaXNwbGF5OiBibG9jazsgc2hhcGUtcmVuZGVyaW5nOiBhdXRvOyIgdmlld0JveD0iMCAwIDEwMCAxMDAiIHByZXNlcnZlQXNwZWN0UmF0aW89InhNaWRZTWlkIj4gIDxjaXJjbGUgY3g9IjUwIiBjeT0iNTAiIHI9IjMyIiBzdHJva2Utd2lkdGg9IjgiIHN0cm9rZT0iI2MzYzNjMyIgc3Ryb2tlLWRhc2hhcnJheT0iNTAuMjY1NDgyNDU3NDM2NjkgNTAuMjY1NDgyNDU3NDM2NjkiIGZpbGw9Im5vbmUiIHN0cm9rZS1saW5lY2FwPSJyb3VuZCI+ICAgIDxhbmltYXRlVHJhbnNmb3JtIGF0dHJpYnV0ZU5hbWU9InRyYW5zZm9ybSIgdHlwZT0icm90YXRlIiByZXBlYXRDb3VudD0iaW5kZWZpbml0ZSIgZHVyPSIxcyIga2V5VGltZXM9IjA7MSIgdmFsdWVzPSIwIDUwIDUwOzM2MCA1MCA1MCI+PC9hbmltYXRlVHJhbnNmb3JtPiAgPC9jaXJjbGU+PC9zdmc+\\\")\\n    }\\n    \");\n",
       "    },\n",
       "    function(Bokeh) {\n",
       "      Bokeh.set_log_level(\"info\");\n",
       "    },\n",
       "    function(Bokeh) {} // ensure no trailing comma for IE\n",
       "  ];\n",
       "\n",
       "  function run_inline_js() {\n",
       "    if ((root.Bokeh !== undefined) || (force === true)) {\n",
       "      for (var i = 0; i < inline_js.length; i++) {\n",
       "        inline_js[i].call(root, root.Bokeh);\n",
       "      }} else if (Date.now() < root._bokeh_timeout) {\n",
       "      setTimeout(run_inline_js, 100);\n",
       "    } else if (!root._bokeh_failed_load) {\n",
       "      console.log(\"Bokeh: BokehJS failed to load within specified timeout.\");\n",
       "      root._bokeh_failed_load = true;\n",
       "    }\n",
       "  }\n",
       "\n",
       "  if (root._bokeh_is_loading === 0) {\n",
       "    console.debug(\"Bokeh: BokehJS loaded, going straight to plotting\");\n",
       "    run_inline_js();\n",
       "  } else {\n",
       "    load_libs(css_urls, js_urls, js_modules, function() {\n",
       "      console.debug(\"Bokeh: BokehJS plotting callback run at\", now());\n",
       "      run_inline_js();\n",
       "    });\n",
       "  }\n",
       "}(window));"
      ],
      "application/vnd.holoviews_load.v0+json": "\n(function(root) {\n  function now() {\n    return new Date();\n  }\n\n  var force = true;\n\n  if (typeof root._bokeh_onload_callbacks === \"undefined\" || force === true) {\n    root._bokeh_onload_callbacks = [];\n    root._bokeh_is_loading = undefined;\n  }\n\n  if (typeof (root._bokeh_timeout) === \"undefined\" || force === true) {\n    root._bokeh_timeout = Date.now() + 5000;\n    root._bokeh_failed_load = false;\n  }\n\n  function run_callbacks() {\n    try {\n      root._bokeh_onload_callbacks.forEach(function(callback) {\n        if (callback != null)\n          callback();\n      });\n    } finally {\n      delete root._bokeh_onload_callbacks\n    }\n    console.debug(\"Bokeh: all callbacks have finished\");\n  }\n\n  function load_libs(css_urls, js_urls, js_modules, callback) {\n    if (css_urls == null) css_urls = [];\n    if (js_urls == null) js_urls = [];\n    if (js_modules == null) js_modules = [];\n\n    root._bokeh_onload_callbacks.push(callback);\n    if (root._bokeh_is_loading > 0) {\n      console.debug(\"Bokeh: BokehJS is being loaded, scheduling callback at\", now());\n      return null;\n    }\n    if (js_urls.length === 0 && js_modules.length === 0) {\n      run_callbacks();\n      return null;\n    }\n    console.debug(\"Bokeh: BokehJS not loaded, scheduling load and callback at\", now());\n    root._bokeh_is_loading = css_urls.length + js_urls.length + js_modules.length;\n\n    function on_load() {\n      root._bokeh_is_loading--;\n      if (root._bokeh_is_loading === 0) {\n        console.debug(\"Bokeh: all BokehJS libraries/stylesheets loaded\");\n        run_callbacks()\n      }\n    }\n\n    function on_error() {\n      console.error(\"failed to load \" + url);\n    }\n\n    for (var i = 0; i < css_urls.length; i++) {\n      var url = css_urls[i];\n      const element = document.createElement(\"link\");\n      element.onload = on_load;\n      element.onerror = on_error;\n      element.rel = \"stylesheet\";\n      element.type = \"text/css\";\n      element.href = url;\n      console.debug(\"Bokeh: injecting link tag for BokehJS stylesheet: \", url);\n      document.body.appendChild(element);\n    }\n\n    var skip = [];\n    if (window.requirejs) {\n      window.requirejs.config({'paths': {'tabulator': 'https://unpkg.com/tabulator-tables@4.9.3/dist/js/tabulator'}});\n      window.requirejs.config({'baseUrl': 'https://cdn.jsdelivr.net/npm/', 'paths': {'echarts': 'echarts@5.0.2/dist/echarts.min', 'echarts-gl': 'echarts-gl@2.0.2/dist/echarts-gl.min.js'}});\n      require([\"tabulator\"], function(Tabulator,) {\n        window.Tabulator = Tabulator;\n      })\n    }\n    if (((window['tabulator'] !== undefined) && (!(window['tabulator'] instanceof HTMLElement))) || window.requirejs) {\n      var urls = ['https://unpkg.com/tabulator-tables@4.9.3/dist/js/tabulator.js', 'https://unpkg.com/moment@2.27.0/moment.js'];\n      for (var i = 0; i < urls.length; i++) {\n        skip.push(urls[i])\n      }\n    }\n    if (((window['echarts'] !== undefined) && (!(window['echarts'] instanceof HTMLElement))) || window.requirejs) {\n      var urls = ['https://cdn.jsdelivr.net/npm/echarts@5.0.2/dist/echarts.min.js'];\n      for (var i = 0; i < urls.length; i++) {\n        skip.push(urls[i])\n      }\n    }\n    for (var i = 0; i < js_urls.length; i++) {\n      var url = js_urls[i];\n      if (skip.indexOf(url) >= 0) { on_load(); continue; }\n      var element = document.createElement('script');\n      element.onload = on_load;\n      element.onerror = on_error;\n      element.async = false;\n      element.src = url;\n      console.debug(\"Bokeh: injecting script tag for BokehJS library: \", url);\n      document.head.appendChild(element);\n    }\n    for (var i = 0; i < js_modules.length; i++) {\n      var url = js_modules[i];\n      if (skip.indexOf(url) >= 0) { on_load(); continue; }\n      var element = document.createElement('script');\n      element.onload = on_load;\n      element.onerror = on_error;\n      element.async = false;\n      element.src = url;\n      element.type = \"module\";\n      console.debug(\"Bokeh: injecting script tag for BokehJS library: \", url);\n      document.head.appendChild(element);\n    }\n    if (!js_urls.length && !js_modules.length) {\n      on_load()\n    }\n  };\n\n  function inject_raw_css(css) {\n    const element = document.createElement(\"style\");\n    element.appendChild(document.createTextNode(css));\n    document.body.appendChild(element);\n  }\n\n  var js_urls = [\"https://cdn.jsdelivr.net/npm/echarts@5.0.2/dist/echarts.min.js\", \"https://cdn.jsdelivr.net/npm/echarts-gl@2.0.2/dist/echarts-gl.min.js\", \"https://unpkg.com/tabulator-tables@4.9.3/dist/js/tabulator.js\", \"https://unpkg.com/moment@2.27.0/moment.js\", \"https://cdn.bokeh.org/bokeh/release/bokeh-2.3.2.min.js\", \"https://cdn.bokeh.org/bokeh/release/bokeh-widgets-2.3.2.min.js\", \"https://cdn.bokeh.org/bokeh/release/bokeh-tables-2.3.2.min.js\", \"https://unpkg.com/@holoviz/panel@^0.11.3/dist/panel.min.js\"];\n  var js_modules = [];\n  var css_urls = [\"https://unpkg.com/tabulator-tables@4.9.3/dist/css/tabulator_simple.min.css\", \"https://unpkg.com/@holoviz/panel@0.11.3/dist/css/markdown.css\", \"https://unpkg.com/@holoviz/panel@0.11.3/dist/css/card.css\", \"https://unpkg.com/@holoviz/panel@0.11.3/dist/css/json.css\", \"https://unpkg.com/@holoviz/panel@0.11.3/dist/css/alerts.css\", \"https://unpkg.com/@holoviz/panel@0.11.3/dist/css/widgets.css\", \"https://unpkg.com/@holoviz/panel@0.11.3/dist/css/dataframe.css\", \"https://unpkg.com/@holoviz/panel@0.11.3/dist/css/loading.css\"];\n  var inline_js = [\n    function(Bokeh) {\n      inject_raw_css(\"\\n    .bk.pn-loading.arcs:before {\\n      background-image: url(\\\"data:image/svg+xml;base64,PHN2ZyB4bWxucz0iaHR0cDovL3d3dy53My5vcmcvMjAwMC9zdmciIHhtbG5zOnhsaW5rPSJodHRwOi8vd3d3LnczLm9yZy8xOTk5L3hsaW5rIiBzdHlsZT0ibWFyZ2luOiBhdXRvOyBiYWNrZ3JvdW5kOiBub25lOyBkaXNwbGF5OiBibG9jazsgc2hhcGUtcmVuZGVyaW5nOiBhdXRvOyIgdmlld0JveD0iMCAwIDEwMCAxMDAiIHByZXNlcnZlQXNwZWN0UmF0aW89InhNaWRZTWlkIj4gIDxjaXJjbGUgY3g9IjUwIiBjeT0iNTAiIHI9IjMyIiBzdHJva2Utd2lkdGg9IjgiIHN0cm9rZT0iI2MzYzNjMyIgc3Ryb2tlLWRhc2hhcnJheT0iNTAuMjY1NDgyNDU3NDM2NjkgNTAuMjY1NDgyNDU3NDM2NjkiIGZpbGw9Im5vbmUiIHN0cm9rZS1saW5lY2FwPSJyb3VuZCI+ICAgIDxhbmltYXRlVHJhbnNmb3JtIGF0dHJpYnV0ZU5hbWU9InRyYW5zZm9ybSIgdHlwZT0icm90YXRlIiByZXBlYXRDb3VudD0iaW5kZWZpbml0ZSIgZHVyPSIxcyIga2V5VGltZXM9IjA7MSIgdmFsdWVzPSIwIDUwIDUwOzM2MCA1MCA1MCI+PC9hbmltYXRlVHJhbnNmb3JtPiAgPC9jaXJjbGU+PC9zdmc+\\\")\\n    }\\n    \");\n    },\n    function(Bokeh) {\n      Bokeh.set_log_level(\"info\");\n    },\n    function(Bokeh) {} // ensure no trailing comma for IE\n  ];\n\n  function run_inline_js() {\n    if ((root.Bokeh !== undefined) || (force === true)) {\n      for (var i = 0; i < inline_js.length; i++) {\n        inline_js[i].call(root, root.Bokeh);\n      }} else if (Date.now() < root._bokeh_timeout) {\n      setTimeout(run_inline_js, 100);\n    } else if (!root._bokeh_failed_load) {\n      console.log(\"Bokeh: BokehJS failed to load within specified timeout.\");\n      root._bokeh_failed_load = true;\n    }\n  }\n\n  if (root._bokeh_is_loading === 0) {\n    console.debug(\"Bokeh: BokehJS loaded, going straight to plotting\");\n    run_inline_js();\n  } else {\n    load_libs(css_urls, js_urls, js_modules, function() {\n      console.debug(\"Bokeh: BokehJS plotting callback run at\", now());\n      run_inline_js();\n    });\n  }\n}(window));"
     },
     "metadata": {},
     "output_type": "display_data"
    },
    {
     "data": {
      "application/javascript": [
       "\n",
       "if ((window.PyViz === undefined) || (window.PyViz instanceof HTMLElement)) {\n",
       "  window.PyViz = {comms: {}, comm_status:{}, kernels:{}, receivers: {}, plot_index: []}\n",
       "}\n",
       "\n",
       "\n",
       "    function JupyterCommManager() {\n",
       "    }\n",
       "\n",
       "    JupyterCommManager.prototype.register_target = function(plot_id, comm_id, msg_handler) {\n",
       "      if (window.comm_manager || ((window.Jupyter !== undefined) && (Jupyter.notebook.kernel != null))) {\n",
       "        var comm_manager = window.comm_manager || Jupyter.notebook.kernel.comm_manager;\n",
       "        comm_manager.register_target(comm_id, function(comm) {\n",
       "          comm.on_msg(msg_handler);\n",
       "        });\n",
       "      } else if ((plot_id in window.PyViz.kernels) && (window.PyViz.kernels[plot_id])) {\n",
       "        window.PyViz.kernels[plot_id].registerCommTarget(comm_id, function(comm) {\n",
       "          comm.onMsg = msg_handler;\n",
       "        });\n",
       "      } else if (typeof google != 'undefined' && google.colab.kernel != null) {\n",
       "        google.colab.kernel.comms.registerTarget(comm_id, (comm) => {\n",
       "          var messages = comm.messages[Symbol.asyncIterator]();\n",
       "          function processIteratorResult(result) {\n",
       "            var message = result.value;\n",
       "            console.log(message)\n",
       "            var content = {data: message.data, comm_id};\n",
       "            var buffers = []\n",
       "            for (var buffer of message.buffers || []) {\n",
       "              buffers.push(new DataView(buffer))\n",
       "            }\n",
       "            var metadata = message.metadata || {};\n",
       "            var msg = {content, buffers, metadata}\n",
       "            msg_handler(msg);\n",
       "            return messages.next().then(processIteratorResult);\n",
       "          }\n",
       "          return messages.next().then(processIteratorResult);\n",
       "        })\n",
       "      }\n",
       "    }\n",
       "\n",
       "    JupyterCommManager.prototype.get_client_comm = function(plot_id, comm_id, msg_handler) {\n",
       "      if (comm_id in window.PyViz.comms) {\n",
       "        return window.PyViz.comms[comm_id];\n",
       "      } else if (window.comm_manager || ((window.Jupyter !== undefined) && (Jupyter.notebook.kernel != null))) {\n",
       "        var comm_manager = window.comm_manager || Jupyter.notebook.kernel.comm_manager;\n",
       "        var comm = comm_manager.new_comm(comm_id, {}, {}, {}, comm_id);\n",
       "        if (msg_handler) {\n",
       "          comm.on_msg(msg_handler);\n",
       "        }\n",
       "      } else if ((plot_id in window.PyViz.kernels) && (window.PyViz.kernels[plot_id])) {\n",
       "        var comm = window.PyViz.kernels[plot_id].connectToComm(comm_id);\n",
       "        comm.open();\n",
       "        if (msg_handler) {\n",
       "          comm.onMsg = msg_handler;\n",
       "        }\n",
       "      } else if (typeof google != 'undefined' && google.colab.kernel != null) {\n",
       "        var comm_promise = google.colab.kernel.comms.open(comm_id)\n",
       "        comm_promise.then((comm) => {\n",
       "          window.PyViz.comms[comm_id] = comm;\n",
       "          if (msg_handler) {\n",
       "            var messages = comm.messages[Symbol.asyncIterator]();\n",
       "            function processIteratorResult(result) {\n",
       "              var message = result.value;\n",
       "              var content = {data: message.data};\n",
       "              var metadata = message.metadata || {comm_id};\n",
       "              var msg = {content, metadata}\n",
       "              msg_handler(msg);\n",
       "              return messages.next().then(processIteratorResult);\n",
       "            }\n",
       "            return messages.next().then(processIteratorResult);\n",
       "          }\n",
       "        }) \n",
       "        var sendClosure = (data, metadata, buffers, disposeOnDone) => {\n",
       "          return comm_promise.then((comm) => {\n",
       "            comm.send(data, metadata, buffers, disposeOnDone);\n",
       "          });\n",
       "        };\n",
       "        var comm = {\n",
       "          send: sendClosure\n",
       "        };\n",
       "      }\n",
       "      window.PyViz.comms[comm_id] = comm;\n",
       "      return comm;\n",
       "    }\n",
       "    window.PyViz.comm_manager = new JupyterCommManager();\n",
       "    \n",
       "\n",
       "\n",
       "var JS_MIME_TYPE = 'application/javascript';\n",
       "var HTML_MIME_TYPE = 'text/html';\n",
       "var EXEC_MIME_TYPE = 'application/vnd.holoviews_exec.v0+json';\n",
       "var CLASS_NAME = 'output';\n",
       "\n",
       "/**\n",
       " * Render data to the DOM node\n",
       " */\n",
       "function render(props, node) {\n",
       "  var div = document.createElement(\"div\");\n",
       "  var script = document.createElement(\"script\");\n",
       "  node.appendChild(div);\n",
       "  node.appendChild(script);\n",
       "}\n",
       "\n",
       "/**\n",
       " * Handle when a new output is added\n",
       " */\n",
       "function handle_add_output(event, handle) {\n",
       "  var output_area = handle.output_area;\n",
       "  var output = handle.output;\n",
       "  if ((output.data == undefined) || (!output.data.hasOwnProperty(EXEC_MIME_TYPE))) {\n",
       "    return\n",
       "  }\n",
       "  var id = output.metadata[EXEC_MIME_TYPE][\"id\"];\n",
       "  var toinsert = output_area.element.find(\".\" + CLASS_NAME.split(' ')[0]);\n",
       "  if (id !== undefined) {\n",
       "    var nchildren = toinsert.length;\n",
       "    var html_node = toinsert[nchildren-1].children[0];\n",
       "    html_node.innerHTML = output.data[HTML_MIME_TYPE];\n",
       "    var scripts = [];\n",
       "    var nodelist = html_node.querySelectorAll(\"script\");\n",
       "    for (var i in nodelist) {\n",
       "      if (nodelist.hasOwnProperty(i)) {\n",
       "        scripts.push(nodelist[i])\n",
       "      }\n",
       "    }\n",
       "\n",
       "    scripts.forEach( function (oldScript) {\n",
       "      var newScript = document.createElement(\"script\");\n",
       "      var attrs = [];\n",
       "      var nodemap = oldScript.attributes;\n",
       "      for (var j in nodemap) {\n",
       "        if (nodemap.hasOwnProperty(j)) {\n",
       "          attrs.push(nodemap[j])\n",
       "        }\n",
       "      }\n",
       "      attrs.forEach(function(attr) { newScript.setAttribute(attr.name, attr.value) });\n",
       "      newScript.appendChild(document.createTextNode(oldScript.innerHTML));\n",
       "      oldScript.parentNode.replaceChild(newScript, oldScript);\n",
       "    });\n",
       "    if (JS_MIME_TYPE in output.data) {\n",
       "      toinsert[nchildren-1].children[1].textContent = output.data[JS_MIME_TYPE];\n",
       "    }\n",
       "    output_area._hv_plot_id = id;\n",
       "    if ((window.Bokeh !== undefined) && (id in Bokeh.index)) {\n",
       "      window.PyViz.plot_index[id] = Bokeh.index[id];\n",
       "    } else {\n",
       "      window.PyViz.plot_index[id] = null;\n",
       "    }\n",
       "  } else if (output.metadata[EXEC_MIME_TYPE][\"server_id\"] !== undefined) {\n",
       "    var bk_div = document.createElement(\"div\");\n",
       "    bk_div.innerHTML = output.data[HTML_MIME_TYPE];\n",
       "    var script_attrs = bk_div.children[0].attributes;\n",
       "    for (var i = 0; i < script_attrs.length; i++) {\n",
       "      toinsert[toinsert.length - 1].childNodes[1].setAttribute(script_attrs[i].name, script_attrs[i].value);\n",
       "    }\n",
       "    // store reference to server id on output_area\n",
       "    output_area._bokeh_server_id = output.metadata[EXEC_MIME_TYPE][\"server_id\"];\n",
       "  }\n",
       "}\n",
       "\n",
       "/**\n",
       " * Handle when an output is cleared or removed\n",
       " */\n",
       "function handle_clear_output(event, handle) {\n",
       "  var id = handle.cell.output_area._hv_plot_id;\n",
       "  var server_id = handle.cell.output_area._bokeh_server_id;\n",
       "  if (((id === undefined) || !(id in PyViz.plot_index)) && (server_id !== undefined)) { return; }\n",
       "  var comm = window.PyViz.comm_manager.get_client_comm(\"hv-extension-comm\", \"hv-extension-comm\", function () {});\n",
       "  if (server_id !== null) {\n",
       "    comm.send({event_type: 'server_delete', 'id': server_id});\n",
       "    return;\n",
       "  } else if (comm !== null) {\n",
       "    comm.send({event_type: 'delete', 'id': id});\n",
       "  }\n",
       "  delete PyViz.plot_index[id];\n",
       "  if ((window.Bokeh !== undefined) & (id in window.Bokeh.index)) {\n",
       "    var doc = window.Bokeh.index[id].model.document\n",
       "    doc.clear();\n",
       "    const i = window.Bokeh.documents.indexOf(doc);\n",
       "    if (i > -1) {\n",
       "      window.Bokeh.documents.splice(i, 1);\n",
       "    }\n",
       "  }\n",
       "}\n",
       "\n",
       "/**\n",
       " * Handle kernel restart event\n",
       " */\n",
       "function handle_kernel_cleanup(event, handle) {\n",
       "  delete PyViz.comms[\"hv-extension-comm\"];\n",
       "  window.PyViz.plot_index = {}\n",
       "}\n",
       "\n",
       "/**\n",
       " * Handle update_display_data messages\n",
       " */\n",
       "function handle_update_output(event, handle) {\n",
       "  handle_clear_output(event, {cell: {output_area: handle.output_area}})\n",
       "  handle_add_output(event, handle)\n",
       "}\n",
       "\n",
       "function register_renderer(events, OutputArea) {\n",
       "  function append_mime(data, metadata, element) {\n",
       "    // create a DOM node to render to\n",
       "    var toinsert = this.create_output_subarea(\n",
       "    metadata,\n",
       "    CLASS_NAME,\n",
       "    EXEC_MIME_TYPE\n",
       "    );\n",
       "    this.keyboard_manager.register_events(toinsert);\n",
       "    // Render to node\n",
       "    var props = {data: data, metadata: metadata[EXEC_MIME_TYPE]};\n",
       "    render(props, toinsert[0]);\n",
       "    element.append(toinsert);\n",
       "    return toinsert\n",
       "  }\n",
       "\n",
       "  events.on('output_added.OutputArea', handle_add_output);\n",
       "  events.on('output_updated.OutputArea', handle_update_output);\n",
       "  events.on('clear_output.CodeCell', handle_clear_output);\n",
       "  events.on('delete.Cell', handle_clear_output);\n",
       "  events.on('kernel_ready.Kernel', handle_kernel_cleanup);\n",
       "\n",
       "  OutputArea.prototype.register_mime_type(EXEC_MIME_TYPE, append_mime, {\n",
       "    safe: true,\n",
       "    index: 0\n",
       "  });\n",
       "}\n",
       "\n",
       "if (window.Jupyter !== undefined) {\n",
       "  try {\n",
       "    var events = require('base/js/events');\n",
       "    var OutputArea = require('notebook/js/outputarea').OutputArea;\n",
       "    if (OutputArea.prototype.mime_types().indexOf(EXEC_MIME_TYPE) == -1) {\n",
       "      register_renderer(events, OutputArea);\n",
       "    }\n",
       "  } catch(err) {\n",
       "  }\n",
       "}\n"
      ],
      "application/vnd.holoviews_load.v0+json": "\nif ((window.PyViz === undefined) || (window.PyViz instanceof HTMLElement)) {\n  window.PyViz = {comms: {}, comm_status:{}, kernels:{}, receivers: {}, plot_index: []}\n}\n\n\n    function JupyterCommManager() {\n    }\n\n    JupyterCommManager.prototype.register_target = function(plot_id, comm_id, msg_handler) {\n      if (window.comm_manager || ((window.Jupyter !== undefined) && (Jupyter.notebook.kernel != null))) {\n        var comm_manager = window.comm_manager || Jupyter.notebook.kernel.comm_manager;\n        comm_manager.register_target(comm_id, function(comm) {\n          comm.on_msg(msg_handler);\n        });\n      } else if ((plot_id in window.PyViz.kernels) && (window.PyViz.kernels[plot_id])) {\n        window.PyViz.kernels[plot_id].registerCommTarget(comm_id, function(comm) {\n          comm.onMsg = msg_handler;\n        });\n      } else if (typeof google != 'undefined' && google.colab.kernel != null) {\n        google.colab.kernel.comms.registerTarget(comm_id, (comm) => {\n          var messages = comm.messages[Symbol.asyncIterator]();\n          function processIteratorResult(result) {\n            var message = result.value;\n            console.log(message)\n            var content = {data: message.data, comm_id};\n            var buffers = []\n            for (var buffer of message.buffers || []) {\n              buffers.push(new DataView(buffer))\n            }\n            var metadata = message.metadata || {};\n            var msg = {content, buffers, metadata}\n            msg_handler(msg);\n            return messages.next().then(processIteratorResult);\n          }\n          return messages.next().then(processIteratorResult);\n        })\n      }\n    }\n\n    JupyterCommManager.prototype.get_client_comm = function(plot_id, comm_id, msg_handler) {\n      if (comm_id in window.PyViz.comms) {\n        return window.PyViz.comms[comm_id];\n      } else if (window.comm_manager || ((window.Jupyter !== undefined) && (Jupyter.notebook.kernel != null))) {\n        var comm_manager = window.comm_manager || Jupyter.notebook.kernel.comm_manager;\n        var comm = comm_manager.new_comm(comm_id, {}, {}, {}, comm_id);\n        if (msg_handler) {\n          comm.on_msg(msg_handler);\n        }\n      } else if ((plot_id in window.PyViz.kernels) && (window.PyViz.kernels[plot_id])) {\n        var comm = window.PyViz.kernels[plot_id].connectToComm(comm_id);\n        comm.open();\n        if (msg_handler) {\n          comm.onMsg = msg_handler;\n        }\n      } else if (typeof google != 'undefined' && google.colab.kernel != null) {\n        var comm_promise = google.colab.kernel.comms.open(comm_id)\n        comm_promise.then((comm) => {\n          window.PyViz.comms[comm_id] = comm;\n          if (msg_handler) {\n            var messages = comm.messages[Symbol.asyncIterator]();\n            function processIteratorResult(result) {\n              var message = result.value;\n              var content = {data: message.data};\n              var metadata = message.metadata || {comm_id};\n              var msg = {content, metadata}\n              msg_handler(msg);\n              return messages.next().then(processIteratorResult);\n            }\n            return messages.next().then(processIteratorResult);\n          }\n        }) \n        var sendClosure = (data, metadata, buffers, disposeOnDone) => {\n          return comm_promise.then((comm) => {\n            comm.send(data, metadata, buffers, disposeOnDone);\n          });\n        };\n        var comm = {\n          send: sendClosure\n        };\n      }\n      window.PyViz.comms[comm_id] = comm;\n      return comm;\n    }\n    window.PyViz.comm_manager = new JupyterCommManager();\n    \n\n\nvar JS_MIME_TYPE = 'application/javascript';\nvar HTML_MIME_TYPE = 'text/html';\nvar EXEC_MIME_TYPE = 'application/vnd.holoviews_exec.v0+json';\nvar CLASS_NAME = 'output';\n\n/**\n * Render data to the DOM node\n */\nfunction render(props, node) {\n  var div = document.createElement(\"div\");\n  var script = document.createElement(\"script\");\n  node.appendChild(div);\n  node.appendChild(script);\n}\n\n/**\n * Handle when a new output is added\n */\nfunction handle_add_output(event, handle) {\n  var output_area = handle.output_area;\n  var output = handle.output;\n  if ((output.data == undefined) || (!output.data.hasOwnProperty(EXEC_MIME_TYPE))) {\n    return\n  }\n  var id = output.metadata[EXEC_MIME_TYPE][\"id\"];\n  var toinsert = output_area.element.find(\".\" + CLASS_NAME.split(' ')[0]);\n  if (id !== undefined) {\n    var nchildren = toinsert.length;\n    var html_node = toinsert[nchildren-1].children[0];\n    html_node.innerHTML = output.data[HTML_MIME_TYPE];\n    var scripts = [];\n    var nodelist = html_node.querySelectorAll(\"script\");\n    for (var i in nodelist) {\n      if (nodelist.hasOwnProperty(i)) {\n        scripts.push(nodelist[i])\n      }\n    }\n\n    scripts.forEach( function (oldScript) {\n      var newScript = document.createElement(\"script\");\n      var attrs = [];\n      var nodemap = oldScript.attributes;\n      for (var j in nodemap) {\n        if (nodemap.hasOwnProperty(j)) {\n          attrs.push(nodemap[j])\n        }\n      }\n      attrs.forEach(function(attr) { newScript.setAttribute(attr.name, attr.value) });\n      newScript.appendChild(document.createTextNode(oldScript.innerHTML));\n      oldScript.parentNode.replaceChild(newScript, oldScript);\n    });\n    if (JS_MIME_TYPE in output.data) {\n      toinsert[nchildren-1].children[1].textContent = output.data[JS_MIME_TYPE];\n    }\n    output_area._hv_plot_id = id;\n    if ((window.Bokeh !== undefined) && (id in Bokeh.index)) {\n      window.PyViz.plot_index[id] = Bokeh.index[id];\n    } else {\n      window.PyViz.plot_index[id] = null;\n    }\n  } else if (output.metadata[EXEC_MIME_TYPE][\"server_id\"] !== undefined) {\n    var bk_div = document.createElement(\"div\");\n    bk_div.innerHTML = output.data[HTML_MIME_TYPE];\n    var script_attrs = bk_div.children[0].attributes;\n    for (var i = 0; i < script_attrs.length; i++) {\n      toinsert[toinsert.length - 1].childNodes[1].setAttribute(script_attrs[i].name, script_attrs[i].value);\n    }\n    // store reference to server id on output_area\n    output_area._bokeh_server_id = output.metadata[EXEC_MIME_TYPE][\"server_id\"];\n  }\n}\n\n/**\n * Handle when an output is cleared or removed\n */\nfunction handle_clear_output(event, handle) {\n  var id = handle.cell.output_area._hv_plot_id;\n  var server_id = handle.cell.output_area._bokeh_server_id;\n  if (((id === undefined) || !(id in PyViz.plot_index)) && (server_id !== undefined)) { return; }\n  var comm = window.PyViz.comm_manager.get_client_comm(\"hv-extension-comm\", \"hv-extension-comm\", function () {});\n  if (server_id !== null) {\n    comm.send({event_type: 'server_delete', 'id': server_id});\n    return;\n  } else if (comm !== null) {\n    comm.send({event_type: 'delete', 'id': id});\n  }\n  delete PyViz.plot_index[id];\n  if ((window.Bokeh !== undefined) & (id in window.Bokeh.index)) {\n    var doc = window.Bokeh.index[id].model.document\n    doc.clear();\n    const i = window.Bokeh.documents.indexOf(doc);\n    if (i > -1) {\n      window.Bokeh.documents.splice(i, 1);\n    }\n  }\n}\n\n/**\n * Handle kernel restart event\n */\nfunction handle_kernel_cleanup(event, handle) {\n  delete PyViz.comms[\"hv-extension-comm\"];\n  window.PyViz.plot_index = {}\n}\n\n/**\n * Handle update_display_data messages\n */\nfunction handle_update_output(event, handle) {\n  handle_clear_output(event, {cell: {output_area: handle.output_area}})\n  handle_add_output(event, handle)\n}\n\nfunction register_renderer(events, OutputArea) {\n  function append_mime(data, metadata, element) {\n    // create a DOM node to render to\n    var toinsert = this.create_output_subarea(\n    metadata,\n    CLASS_NAME,\n    EXEC_MIME_TYPE\n    );\n    this.keyboard_manager.register_events(toinsert);\n    // Render to node\n    var props = {data: data, metadata: metadata[EXEC_MIME_TYPE]};\n    render(props, toinsert[0]);\n    element.append(toinsert);\n    return toinsert\n  }\n\n  events.on('output_added.OutputArea', handle_add_output);\n  events.on('output_updated.OutputArea', handle_update_output);\n  events.on('clear_output.CodeCell', handle_clear_output);\n  events.on('delete.Cell', handle_clear_output);\n  events.on('kernel_ready.Kernel', handle_kernel_cleanup);\n\n  OutputArea.prototype.register_mime_type(EXEC_MIME_TYPE, append_mime, {\n    safe: true,\n    index: 0\n  });\n}\n\nif (window.Jupyter !== undefined) {\n  try {\n    var events = require('base/js/events');\n    var OutputArea = require('notebook/js/outputarea').OutputArea;\n    if (OutputArea.prototype.mime_types().indexOf(EXEC_MIME_TYPE) == -1) {\n      register_renderer(events, OutputArea);\n    }\n  } catch(err) {\n  }\n}\n"
     },
     "metadata": {},
     "output_type": "display_data"
    },
    {
     "data": {},
     "metadata": {},
     "output_type": "display_data"
    },
    {
     "data": {
      "application/vnd.holoviews_exec.v0+json": "",
      "text/html": [
       "<div id='1002'>\n",
       "\n",
       "\n",
       "\n",
       "\n",
       "\n",
       "  <div class=\"bk-root\" id=\"49155f60-6f49-463c-b069-b76ab6ccdae7\" data-root-id=\"1002\"></div>\n",
       "</div>\n",
       "<script type=\"application/javascript\">(function(root) {\n",
       "  function embed_document(root) {\n",
       "    var docs_json = {\"4f62b897-f62c-40b4-afa7-9a9e1f06819b\":{\"defs\":[],\"roots\":{\"references\":[{\"attributes\":{\"reload\":false},\"id\":\"1011\",\"type\":\"panel.models.location.Location\"},{\"attributes\":{\"margin\":[5,5,5,5],\"name\":\"ParamMethod00116\",\"text\":\"&lt;table border=&quot;0&quot; class=&quot;dataframe panel-df&quot;&gt;\\n  &lt;thead&gt;\\n    &lt;tr style=&quot;text-align: right;&quot;&gt;\\n      &lt;th&gt;&lt;/th&gt;\\n      &lt;th&gt;Allocations&lt;/th&gt;\\n    &lt;/tr&gt;\\n    &lt;tr&gt;\\n      &lt;th&gt;Elements&lt;/th&gt;\\n      &lt;th&gt;&lt;/th&gt;\\n    &lt;/tr&gt;\\n  &lt;/thead&gt;\\n  &lt;tbody&gt;\\n    &lt;tr&gt;\\n      &lt;th&gt;founders&lt;/th&gt;\\n      &lt;td&gt;0.1&lt;/td&gt;\\n    &lt;/tr&gt;\\n    &lt;tr&gt;\\n      &lt;th&gt;dao_rewards&lt;/th&gt;\\n      &lt;td&gt;0.5&lt;/td&gt;\\n    &lt;/tr&gt;\\n    &lt;tr&gt;\\n      &lt;th&gt;lbp_pool&lt;/th&gt;\\n      &lt;td&gt;0.4&lt;/td&gt;\\n    &lt;/tr&gt;\\n  &lt;/tbody&gt;\\n&lt;/table&gt;\"},\"id\":\"1009\",\"type\":\"panel.models.markup.HTML\"},{\"attributes\":{\"children\":[{\"id\":\"1004\"},{\"id\":\"1005\"},{\"id\":\"1006\"},{\"id\":\"1007\"}],\"margin\":[5,5,5,5],\"min_width\":300,\"name\":\"Distribution\",\"width\":300},\"id\":\"1003\",\"type\":\"Column\"},{\"attributes\":{\"children\":[{\"id\":\"1009\"}],\"margin\":[0,0,0,0],\"name\":\"Row00120\"},\"id\":\"1008\",\"type\":\"Row\"},{\"attributes\":{\"client_comm_id\":\"60cdf40720414cb483b8ab87a3f4e0d3\",\"comm_id\":\"0623730f9b1a4fddb26c57e97278cf87\",\"plot_id\":\"1002\"},\"id\":\"1010\",\"type\":\"panel.models.comm_manager.CommManager\"},{\"attributes\":{\"end\":1,\"margin\":[5,10,5,10],\"start\":0,\"step\":0.01,\"title\":\"Founders\",\"value\":0.1},\"id\":\"1005\",\"type\":\"Slider\"},{\"attributes\":{\"end\":1,\"margin\":[5,10,5,10],\"start\":0,\"step\":0.01,\"title\":\"Lbp pool\",\"value\":0.4},\"id\":\"1007\",\"type\":\"Slider\"},{\"attributes\":{\"children\":[{\"id\":\"1003\"},{\"id\":\"1008\"}],\"margin\":[0,0,0,0],\"name\":\"Row00123\"},\"id\":\"1002\",\"type\":\"Row\"},{\"attributes\":{\"end\":1,\"margin\":[5,10,5,10],\"start\":0,\"step\":0.01,\"title\":\"Dao rewards\",\"value\":0.5},\"id\":\"1006\",\"type\":\"Slider\"},{\"attributes\":{\"margin\":[5,10,5,10],\"name\":\"\",\"text\":\"<b>Distribution</b>\"},\"id\":\"1004\",\"type\":\"Div\"}],\"root_ids\":[\"1002\",\"1010\",\"1011\"]},\"title\":\"Bokeh Application\",\"version\":\"2.3.2\"}};\n",
       "    var render_items = [{\"docid\":\"4f62b897-f62c-40b4-afa7-9a9e1f06819b\",\"root_ids\":[\"1002\"],\"roots\":{\"1002\":\"49155f60-6f49-463c-b069-b76ab6ccdae7\"}}];\n",
       "    root.Bokeh.embed.embed_items_notebook(docs_json, render_items);\n",
       "  }\n",
       "  if (root.Bokeh !== undefined && root.Bokeh.Panel !== undefined && root['echarts'] !== undefined ) {\n",
       "    embed_document(root);\n",
       "  } else {\n",
       "    var attempts = 0;\n",
       "    var timer = setInterval(function(root) {\n",
       "      if (root.Bokeh !== undefined && root.Bokeh.Panel !== undefined && root['echarts'] !== undefined) {\n",
       "        clearInterval(timer);\n",
       "        embed_document(root);\n",
       "      } else if (document.readyState == \"complete\") {\n",
       "        attempts++;\n",
       "        if (attempts > 100) {\n",
       "          clearInterval(timer);\n",
       "          console.log(\"Bokeh: ERROR: Unable to run BokehJS code because BokehJS library is missing\");\n",
       "        }\n",
       "      }\n",
       "    }, 10, root)\n",
       "  }\n",
       "})(window);</script>"
      ],
      "text/plain": [
       "Row\n",
       "    [0] Column(margin=5, name='Distribution', width=300)\n",
       "        [0] StaticText(value='<b>Distribution</b>')\n",
       "        [1] FloatSlider(name='Founders', step=0.01, value=0.1)\n",
       "        [2] FloatSlider(name='Dao rewards', step=0.01, value=0.5)\n",
       "        [3] FloatSlider(name='Lbp pool', step=0.01, value=0.4)\n",
       "    [1] ParamMethod(method)"
      ]
     },
     "execution_count": 2,
     "metadata": {
      "application/vnd.holoviews_exec.v0+json": {
       "id": "1002"
      }
     },
     "output_type": "execute_result"
    }
   ],
   "source": [
    "import param as pm\n",
    "import pandas as pd\n",
    "import panel as pn\n",
    "pn.extension('echarts')\n",
    "\n",
    "class Distribution(pm.Parameterized):\n",
    "    \"\"\"\n",
    "    Shawn, LTF, Feb 4th 2022\n",
    "    This class represents a distribution. A distribution is a vector that sums \n",
    "    to one, in mathematics, often refered to as a 'stochastic vector'. A \n",
    "    stochastic vector represents a probability distribution that sums to one. \n",
    "    \n",
    "    The vector maintains a sum of one with the following formula:\n",
    "    \n",
    "    When a_j is adjusted:\n",
    "    \n",
    "    for all allocations a_i | a_i != a_j:\n",
    "        a_i := a_i * (1 - a_j) / sum(a_i | a_i !=a_j)\n",
    "    \n",
    "    \n",
    "    Usage:\n",
    "        First add any distribution elements as parameterized numbers to this class. \n",
    "        Additionally add the name of the distribution elements to the allocations \n",
    "        list attribute on this class. \n",
    "        \n",
    "        The `_updating` attribute is used as an internal mechanism to prevent recursive\n",
    "        updating of the parameters since they update themselves depending on themselves.\n",
    "        \n",
    "    This class could be more general by taking an allocation_list as an init param and \n",
    "    dynamically creating the allocation parameters. But dynamically adding and removing\n",
    "    parameters to an object seems messy. I think inheritance is actually better. \n",
    "    \"\"\"\n",
    "    founders = pm.Number(0.1, bounds=(0,1), step=0.01)\n",
    "    dao_rewards = pm.Number(0.5, bounds=(0,1), step=0.01)\n",
    "    lbp_pool = pm.Number(0.4, bounds=(0,1), step=0.01)\n",
    "    allocations = pm.List(['founders', 'dao_rewards', 'lbp_pool'], precedence=-1, constant=True)\n",
    "    _updating = pm.Boolean(False, precedence=-1)\n",
    "    _smallest_value = pm.Number(0.001, precedence=-1)\n",
    "\n",
    "    def __init__(self, **params):\n",
    "        super().__init__(**params)\n",
    "        self.param.watch(self.normalize, self.allocations)\n",
    "        self.normalize(event=self.param[self.allocations[0]])\n",
    "        \n",
    "    def normalize(self, event):\n",
    "        \"\"\"\n",
    "        Sentinal design pattern inspired from here: \n",
    "        https://discourse.holoviz.org/t/updating-selected-value-in-widget-after-changing-param-selector-objects/1806/2\n",
    "        \"\"\"\n",
    "        \n",
    "        # Sentinal to prevent recursive updates\n",
    "        if not self._updating:\n",
    "            self._updating = True\n",
    "            \n",
    "            # List of all allocations except the one being updated\n",
    "            normalize_allocations = list(self.allocations)\n",
    "            normalize_allocations.remove(event.name)\n",
    "            \n",
    "            denominator = sum([getattr(self, a) for a in normalize_allocations])\n",
    "            numerator = (1 - getattr(self, event.name))\n",
    "            \n",
    "            # Normal case\n",
    "            if (denominator != 0):\n",
    "                normalize_factor = numerator / denominator\n",
    "                for a in normalize_allocations:\n",
    "                    setattr(self, a, getattr(self, a) * normalize_factor)\n",
    "                    \n",
    "            # Exceptional case where denominator is 0 and the selected allocation has moved.\n",
    "            elif numerator != 1:\n",
    "                for a in normalize_allocations:\n",
    "                    setattr(self, a, (1-getattr(self, event.name))/len(self.allocations))\n",
    "                    \n",
    "            # Exceptional case where everything arrives at 0\n",
    "            if sum([getattr(self, a) for a in self.allocations]) == 0:\n",
    "                for a in normalize_allocations:\n",
    "                    setattr(self, a, 1/(len(self.allocations)-1))\n",
    "            # Reset Sentinal\n",
    "            self._updating = False\n",
    "            \n",
    "    def table(self):\n",
    "        table = pd.DataFrame(self.param.get_param_values())\n",
    "        table.columns = ['Elements', 'Allocations']\n",
    "        return table.set_index('Elements').loc[self.allocations]\n",
    "    \n",
    "    def table_with_total(self):\n",
    "        table = self.table()\n",
    "        table.loc['total'] = table['Allocations'].sum()\n",
    "        return table\n",
    "\n",
    "d = Distribution()\n",
    "\n",
    "pn.Row(d, d.table)"
   ]
  },
  {
   "cell_type": "code",
   "execution_count": 3,
   "id": "b2e75d33-a1ce-486a-9cdc-016e95fcbe2c",
   "metadata": {},
   "outputs": [
    {
     "data": {
      "text/plain": [
       "0.1"
      ]
     },
     "execution_count": 3,
     "metadata": {},
     "output_type": "execute_result"
    }
   ],
   "source": [
    "d.founders"
   ]
  },
  {
   "cell_type": "code",
   "execution_count": 4,
   "id": "75ed9403-b096-4094-a4c3-517b0bcb3229",
   "metadata": {},
   "outputs": [
    {
     "data": {},
     "metadata": {},
     "output_type": "display_data"
    },
    {
     "data": {
      "application/vnd.holoviews_exec.v0+json": "",
      "text/html": [
       "<div id='1012'>\n",
       "\n",
       "\n",
       "\n",
       "\n",
       "\n",
       "  <div class=\"bk-root\" id=\"fd5248e1-33f4-4d8f-a36c-ff3af54ad903\" data-root-id=\"1012\"></div>\n",
       "</div>\n",
       "<script type=\"application/javascript\">(function(root) {\n",
       "  function embed_document(root) {\n",
       "    var docs_json = {\"f5bb7f05-daf2-4701-9099-0be0e4c86735\":{\"defs\":[],\"roots\":{\"references\":[{\"attributes\":{\"children\":[{\"id\":\"1014\"},{\"id\":\"1015\"},{\"id\":\"1016\"},{\"id\":\"1017\"},{\"id\":\"1018\"}],\"margin\":[5,5,5,5],\"min_width\":300,\"name\":\"LTFDistribution\",\"width\":300},\"id\":\"1013\",\"type\":\"Column\"},{\"attributes\":{\"end\":1,\"margin\":[5,10,5,10],\"start\":0,\"step\":0.01,\"title\":\"Racoon fund\",\"value\":0.09000000000000001},\"id\":\"1018\",\"type\":\"Slider\"},{\"attributes\":{\"client_comm_id\":\"be33e01ade064e62a2eccee4223e285c\",\"comm_id\":\"bab45491cedc4240a1768da911598bda\",\"plot_id\":\"1012\"},\"id\":\"1021\",\"type\":\"panel.models.comm_manager.CommManager\"},{\"attributes\":{\"margin\":[5,10,5,10],\"name\":\"\",\"text\":\"<b>LTFDistribution</b>\"},\"id\":\"1014\",\"type\":\"Div\"},{\"attributes\":{\"children\":[{\"id\":\"1013\"},{\"id\":\"1019\"}],\"margin\":[0,0,0,0],\"name\":\"Row00153\"},\"id\":\"1012\",\"type\":\"Row\"},{\"attributes\":{\"end\":1,\"margin\":[5,10,5,10],\"start\":0,\"step\":0.01,\"title\":\"Founders\",\"value\":0.1},\"id\":\"1015\",\"type\":\"Slider\"},{\"attributes\":{\"margin\":[5,5,5,5],\"name\":\"ParamMethod00146\",\"text\":\"&lt;table border=&quot;0&quot; class=&quot;dataframe panel-df&quot;&gt;\\n  &lt;thead&gt;\\n    &lt;tr style=&quot;text-align: right;&quot;&gt;\\n      &lt;th&gt;&lt;/th&gt;\\n      &lt;th&gt;Allocations&lt;/th&gt;\\n    &lt;/tr&gt;\\n    &lt;tr&gt;\\n      &lt;th&gt;Elements&lt;/th&gt;\\n      &lt;th&gt;&lt;/th&gt;\\n    &lt;/tr&gt;\\n  &lt;/thead&gt;\\n  &lt;tbody&gt;\\n    &lt;tr&gt;\\n      &lt;th&gt;founders&lt;/th&gt;\\n      &lt;td&gt;0.1&lt;/td&gt;\\n    &lt;/tr&gt;\\n    &lt;tr&gt;\\n      &lt;th&gt;dao_rewards&lt;/th&gt;\\n      &lt;td&gt;0.45&lt;/td&gt;\\n    &lt;/tr&gt;\\n    &lt;tr&gt;\\n      &lt;th&gt;lbp_pool&lt;/th&gt;\\n      &lt;td&gt;0.36&lt;/td&gt;\\n    &lt;/tr&gt;\\n    &lt;tr&gt;\\n      &lt;th&gt;racoon_fund&lt;/th&gt;\\n      &lt;td&gt;0.09&lt;/td&gt;\\n    &lt;/tr&gt;\\n    &lt;tr&gt;\\n      &lt;th&gt;total&lt;/th&gt;\\n      &lt;td&gt;1.0&lt;/td&gt;\\n    &lt;/tr&gt;\\n  &lt;/tbody&gt;\\n&lt;/table&gt;\"},\"id\":\"1020\",\"type\":\"panel.models.markup.HTML\"},{\"attributes\":{\"end\":1,\"margin\":[5,10,5,10],\"start\":0,\"step\":0.01,\"title\":\"Dao rewards\",\"value\":0.45},\"id\":\"1016\",\"type\":\"Slider\"},{\"attributes\":{\"end\":1,\"margin\":[5,10,5,10],\"start\":0,\"step\":0.01,\"title\":\"Lbp pool\",\"value\":0.36000000000000004},\"id\":\"1017\",\"type\":\"Slider\"},{\"attributes\":{\"children\":[{\"id\":\"1020\"}],\"margin\":[0,0,0,0],\"name\":\"Row00150\"},\"id\":\"1019\",\"type\":\"Row\"}],\"root_ids\":[\"1012\",\"1021\"]},\"title\":\"Bokeh Application\",\"version\":\"2.3.2\"}};\n",
       "    var render_items = [{\"docid\":\"f5bb7f05-daf2-4701-9099-0be0e4c86735\",\"root_ids\":[\"1012\"],\"roots\":{\"1012\":\"fd5248e1-33f4-4d8f-a36c-ff3af54ad903\"}}];\n",
       "    root.Bokeh.embed.embed_items_notebook(docs_json, render_items);\n",
       "  }\n",
       "  if (root.Bokeh !== undefined && root.Bokeh.Panel !== undefined && root['echarts'] !== undefined ) {\n",
       "    embed_document(root);\n",
       "  } else {\n",
       "    var attempts = 0;\n",
       "    var timer = setInterval(function(root) {\n",
       "      if (root.Bokeh !== undefined && root.Bokeh.Panel !== undefined && root['echarts'] !== undefined) {\n",
       "        clearInterval(timer);\n",
       "        embed_document(root);\n",
       "      } else if (document.readyState == \"complete\") {\n",
       "        attempts++;\n",
       "        if (attempts > 100) {\n",
       "          clearInterval(timer);\n",
       "          console.log(\"Bokeh: ERROR: Unable to run BokehJS code because BokehJS library is missing\");\n",
       "        }\n",
       "      }\n",
       "    }, 10, root)\n",
       "  }\n",
       "})(window);</script>"
      ],
      "text/plain": [
       "Row\n",
       "    [0] Column(margin=5, name='LTFDistribution', width=300)\n",
       "        [0] StaticText(value='<b>LTFDistribution</b>')\n",
       "        [1] FloatSlider(name='Founders', step=0.01, value=0.1)\n",
       "        [2] FloatSlider(name='Dao rewards', step=0.01, value=0.45)\n",
       "        [3] FloatSlider(name='Lbp pool', step=0.01, value=0.36000000000000004)\n",
       "        [4] FloatSlider(name='Racoon fund', step=0.01, value=0.09000000000000001)\n",
       "    [1] ParamMethod(method)"
      ]
     },
     "execution_count": 4,
     "metadata": {
      "application/vnd.holoviews_exec.v0+json": {
       "id": "1012"
      }
     },
     "output_type": "execute_result"
    }
   ],
   "source": [
    "class LTFDistribution(Distribution):\n",
    "    racoon_fund = pm.Number(0.1, bounds=(0,1), step=0.01)\n",
    "\n",
    "ltf_dist = LTFDistribution(allocations=['founders', 'dao_rewards', 'lbp_pool', 'racoon_fund'])\n",
    "\n",
    "pn.Row(ltf_dist, ltf_dist.table_with_total)"
   ]
  },
  {
   "cell_type": "markdown",
   "id": "5a2283a2-2ef7-4da2-ae38-51cd693b2348",
   "metadata": {},
   "source": [
    "Founder Distribution"
   ]
  },
  {
   "cell_type": "code",
   "execution_count": 5,
   "id": "93a28d25-b403-4427-881f-a45bdbe8789f",
   "metadata": {},
   "outputs": [
    {
     "data": {},
     "metadata": {},
     "output_type": "display_data"
    },
    {
     "data": {
      "application/vnd.holoviews_exec.v0+json": "",
      "text/html": [
       "<div id='1022'>\n",
       "\n",
       "\n",
       "\n",
       "\n",
       "\n",
       "  <div class=\"bk-root\" id=\"0a7cec50-542d-4cfd-9528-4f90286ea5c1\" data-root-id=\"1022\"></div>\n",
       "</div>\n",
       "<script type=\"application/javascript\">(function(root) {\n",
       "  function embed_document(root) {\n",
       "    var docs_json = {\"98f8943c-7b6f-4dba-8d04-b083a15b38c7\":{\"defs\":[],\"roots\":{\"references\":[{\"attributes\":{\"end\":10000,\"margin\":[5,10,5,10],\"start\":0,\"step\":2000,\"title\":\"Base wage\",\"value\":1600},\"id\":\"1037\",\"type\":\"Slider\"},{\"attributes\":{\"children\":[{\"id\":\"1036\"},{\"id\":\"1037\"},{\"id\":\"1038\"}],\"margin\":[5,5,5,5],\"min_width\":300,\"name\":\"Admin\",\"width\":300},\"id\":\"1035\",\"type\":\"Column\"},{\"attributes\":{\"margin\":[5,10,5,10],\"max_length\":5000,\"title\":\"Description\",\"value\":\"Add a description\"},\"id\":\"1034\",\"type\":\"TextInput\"},{\"attributes\":{\"margin\":[5,10,5,10],\"name\":\"\",\"text\":\"<b>Admin</b>\"},\"id\":\"1036\",\"type\":\"Div\"},{\"attributes\":{\"end\":10000,\"margin\":[5,10,5,10],\"start\":0,\"step\":2000,\"title\":\"Base wage\",\"value\":2000},\"id\":\"1041\",\"type\":\"Slider\"},{\"attributes\":{\"children\":[{\"id\":\"1040\"},{\"id\":\"1041\"},{\"id\":\"1042\"}],\"margin\":[5,5,5,5],\"min_width\":300,\"name\":\"CMO\",\"width\":300},\"id\":\"1039\",\"type\":\"Column\"},{\"attributes\":{\"margin\":[5,10,5,10],\"max_length\":5000,\"title\":\"Description\",\"value\":\"Add a description\"},\"id\":\"1038\",\"type\":\"TextInput\"},{\"attributes\":{\"margin\":[5,10,5,10],\"name\":\"\",\"text\":\"<b>CMO</b>\"},\"id\":\"1040\",\"type\":\"Div\"},{\"attributes\":{\"end\":10000,\"margin\":[5,10,5,10],\"start\":0,\"step\":2000,\"title\":\"Base wage\",\"value\":2000},\"id\":\"1045\",\"type\":\"Slider\"},{\"attributes\":{\"children\":[{\"id\":\"1044\"},{\"id\":\"1045\"},{\"id\":\"1046\"}],\"margin\":[5,5,5,5],\"min_width\":300,\"name\":\"Token Engineer 1\",\"width\":300},\"id\":\"1043\",\"type\":\"Column\"},{\"attributes\":{\"children\":[{\"id\":\"1028\"},{\"id\":\"1029\"},{\"id\":\"1030\"}],\"margin\":[5,5,5,5],\"min_width\":300,\"name\":\"CFO\",\"width\":300},\"id\":\"1027\",\"type\":\"Column\"},{\"attributes\":{\"margin\":[5,10,5,10],\"max_length\":5000,\"title\":\"Description\",\"value\":\"Add a description\"},\"id\":\"1042\",\"type\":\"TextInput\"},{\"attributes\":{\"margin\":[5,10,5,10],\"name\":\"\",\"text\":\"<b>Token Engineer 1</b>\"},\"id\":\"1044\",\"type\":\"Div\"},{\"attributes\":{\"end\":10000,\"margin\":[5,10,5,10],\"start\":0,\"step\":2000,\"title\":\"Base wage\",\"value\":3000},\"id\":\"1049\",\"type\":\"Slider\"},{\"attributes\":{\"children\":[{\"id\":\"1048\"},{\"id\":\"1049\"},{\"id\":\"1050\"}],\"margin\":[5,5,5,5],\"min_width\":300,\"name\":\"Token Engineer 2\",\"width\":300},\"id\":\"1047\",\"type\":\"Column\"},{\"attributes\":{\"end\":10000,\"margin\":[5,10,5,10],\"start\":0,\"step\":2000,\"title\":\"Base wage\",\"value\":2000},\"id\":\"1025\",\"type\":\"Slider\"},{\"attributes\":{\"margin\":[5,10,5,10],\"max_length\":5000,\"title\":\"Description\",\"value\":\"Add a description\"},\"id\":\"1046\",\"type\":\"TextInput\"},{\"attributes\":{\"margin\":[5,10,5,10],\"name\":\"\",\"text\":\"<b>Token Engineer 2</b>\"},\"id\":\"1048\",\"type\":\"Div\"},{\"attributes\":{\"end\":10000,\"margin\":[5,10,5,10],\"start\":0,\"step\":2000,\"title\":\"Base wage\",\"value\":3000},\"id\":\"1053\",\"type\":\"Slider\"},{\"attributes\":{\"children\":[{\"id\":\"1024\"},{\"id\":\"1025\"},{\"id\":\"1026\"}],\"margin\":[5,5,5,5],\"min_width\":300,\"name\":\"CEO\",\"width\":300},\"id\":\"1023\",\"type\":\"Column\"},{\"attributes\":{\"children\":[{\"id\":\"1052\"},{\"id\":\"1053\"},{\"id\":\"1054\"}],\"margin\":[5,5,5,5],\"min_width\":300,\"name\":\"Racoon\",\"width\":300},\"id\":\"1051\",\"type\":\"Column\"},{\"attributes\":{\"margin\":[5,10,5,10],\"max_length\":5000,\"title\":\"Description\",\"value\":\"Add a description\"},\"id\":\"1050\",\"type\":\"TextInput\"},{\"attributes\":{\"client_comm_id\":\"8538fef2602349b482337468e5bb0509\",\"comm_id\":\"4375bf1abd624e85802aba3c4304867f\",\"plot_id\":\"1022\"},\"id\":\"1055\",\"type\":\"panel.models.comm_manager.CommManager\"},{\"attributes\":{\"margin\":[5,10,5,10],\"name\":\"\",\"text\":\"<b>CEO</b>\"},\"id\":\"1024\",\"type\":\"Div\"},{\"attributes\":{\"margin\":[5,10,5,10],\"name\":\"\",\"text\":\"<b>Racoon</b>\"},\"id\":\"1052\",\"type\":\"Div\"},{\"attributes\":{\"end\":10000,\"margin\":[5,10,5,10],\"start\":0,\"step\":2000,\"title\":\"Base wage\",\"value\":2000},\"id\":\"1029\",\"type\":\"Slider\"},{\"attributes\":{\"margin\":[5,10,5,10],\"max_length\":5000,\"title\":\"Description\",\"value\":\"Highest level decision maker.\"},\"id\":\"1026\",\"type\":\"TextInput\"},{\"attributes\":{\"margin\":[5,10,5,10],\"max_length\":5000,\"title\":\"Description\",\"value\":\"Add a description\"},\"id\":\"1054\",\"type\":\"TextInput\"},{\"attributes\":{\"margin\":[5,10,5,10],\"name\":\"\",\"text\":\"<b>CFO</b>\"},\"id\":\"1028\",\"type\":\"Div\"},{\"attributes\":{\"end\":10000,\"margin\":[5,10,5,10],\"start\":0,\"step\":2000,\"title\":\"Base wage\",\"value\":2000},\"id\":\"1033\",\"type\":\"Slider\"},{\"attributes\":{\"margin\":[5,10,5,10],\"name\":\"\",\"text\":\"<b>CTO</b>\"},\"id\":\"1032\",\"type\":\"Div\"},{\"attributes\":{\"children\":[{\"id\":\"1032\"},{\"id\":\"1033\"},{\"id\":\"1034\"}],\"margin\":[5,5,5,5],\"min_width\":300,\"name\":\"CTO\",\"width\":300},\"id\":\"1031\",\"type\":\"Column\"},{\"attributes\":{\"children\":[{\"id\":\"1023\"},{\"id\":\"1027\"},{\"id\":\"1031\"},{\"id\":\"1035\"},{\"id\":\"1039\"},{\"id\":\"1043\"},{\"id\":\"1047\"},{\"id\":\"1051\"}],\"margin\":[0,0,0,0],\"name\":\"Row00228\"},\"id\":\"1022\",\"type\":\"Row\"},{\"attributes\":{\"margin\":[5,10,5,10],\"max_length\":5000,\"title\":\"Description\",\"value\":\"Bottoms-lines guy.\"},\"id\":\"1030\",\"type\":\"TextInput\"}],\"root_ids\":[\"1022\",\"1055\"]},\"title\":\"Bokeh Application\",\"version\":\"2.3.2\"}};\n",
       "    var render_items = [{\"docid\":\"98f8943c-7b6f-4dba-8d04-b083a15b38c7\",\"root_ids\":[\"1022\"],\"roots\":{\"1022\":\"0a7cec50-542d-4cfd-9528-4f90286ea5c1\"}}];\n",
       "    root.Bokeh.embed.embed_items_notebook(docs_json, render_items);\n",
       "  }\n",
       "  if (root.Bokeh !== undefined && root.Bokeh.Panel !== undefined && root['echarts'] !== undefined ) {\n",
       "    embed_document(root);\n",
       "  } else {\n",
       "    var attempts = 0;\n",
       "    var timer = setInterval(function(root) {\n",
       "      if (root.Bokeh !== undefined && root.Bokeh.Panel !== undefined && root['echarts'] !== undefined) {\n",
       "        clearInterval(timer);\n",
       "        embed_document(root);\n",
       "      } else if (document.readyState == \"complete\") {\n",
       "        attempts++;\n",
       "        if (attempts > 100) {\n",
       "          clearInterval(timer);\n",
       "          console.log(\"Bokeh: ERROR: Unable to run BokehJS code because BokehJS library is missing\");\n",
       "        }\n",
       "      }\n",
       "    }, 10, root)\n",
       "  }\n",
       "})(window);</script>"
      ],
      "text/plain": [
       "Row\n",
       "    [0] Column(margin=5, name='CEO', width=300)\n",
       "        [0] StaticText(value='<b>CEO</b>')\n",
       "        [1] FloatSlider(end=10000, name='Base wage', step=2000, value=2000)\n",
       "        [2] TextInput(name='Description', value='Highest level d...)\n",
       "    [1] Column(margin=5, name='CFO', width=300)\n",
       "        [0] StaticText(value='<b>CFO</b>')\n",
       "        [1] FloatSlider(end=10000, name='Base wage', step=2000, value=2000)\n",
       "        [2] TextInput(name='Description', value='Bottoms-lines guy.')\n",
       "    [2] Column(margin=5, name='CTO', width=300)\n",
       "        [0] StaticText(value='<b>CTO</b>')\n",
       "        [1] FloatSlider(end=10000, name='Base wage', step=2000, value=2000)\n",
       "        [2] TextInput(name='Description', value='Add a description')\n",
       "    [3] Column(margin=5, name='Admin', width=300)\n",
       "        [0] StaticText(value='<b>Admin</b>')\n",
       "        [1] FloatSlider(end=10000, name='Base wage', step=2000, value=1600)\n",
       "        [2] TextInput(name='Description', value='Add a description')\n",
       "    [4] Column(margin=5, name='CMO', width=300)\n",
       "        [0] StaticText(value='<b>CMO</b>')\n",
       "        [1] FloatSlider(end=10000, name='Base wage', step=2000, value=2000)\n",
       "        [2] TextInput(name='Description', value='Add a description')\n",
       "    [5] Column(margin=5, name='Token Engineer 1', width=300)\n",
       "        [0] StaticText(value='<b>Token Engineer 1</b>')\n",
       "        [1] FloatSlider(end=10000, name='Base wage', step=2000, value=2000)\n",
       "        [2] TextInput(name='Description', value='Add a description')\n",
       "    [6] Column(margin=5, name='Token Engineer 2', width=300)\n",
       "        [0] StaticText(value='<b>Token Engineer 2</b>')\n",
       "        [1] FloatSlider(end=10000, name='Base wage', step=2000, value=3000)\n",
       "        [2] TextInput(name='Description', value='Add a description')\n",
       "    [7] Column(margin=5, name='Racoon', width=300)\n",
       "        [0] StaticText(value='<b>Racoon</b>')\n",
       "        [1] FloatSlider(end=10000, name='Base wage', step=2000, value=3000)\n",
       "        [2] TextInput(name='Description', value='Add a description')"
      ]
     },
     "execution_count": 5,
     "metadata": {
      "application/vnd.holoviews_exec.v0+json": {
       "id": "1022"
      }
     },
     "output_type": "execute_result"
    }
   ],
   "source": [
    "from parameters.fixtures import roles as role_parameters\n",
    "\n",
    "class Role(pm.Parameterized):\n",
    "    base_wage = pm.Number(2000, bounds=(0,10000), step=2000)\n",
    "    description = pm.String(\"Add a description\")\n",
    "    \n",
    "    def __init__(self, name: str, **params):\n",
    "        super().__init__(name=name, **params)\n",
    "\n",
    "roles = [Role(**r) for r in role_parameters]\n",
    "pn.Row(*roles)"
   ]
  },
  {
   "cell_type": "code",
   "execution_count": 6,
   "id": "fab0ac7d-572a-4d73-abd7-b2dde9af9f76",
   "metadata": {},
   "outputs": [
    {
     "data": {},
     "metadata": {},
     "output_type": "display_data"
    },
    {
     "data": {
      "application/vnd.holoviews_exec.v0+json": "",
      "text/html": [
       "<div id='1056'>\n",
       "\n",
       "\n",
       "\n",
       "\n",
       "\n",
       "  <div class=\"bk-root\" id=\"36b4a646-eb93-464c-8114-c98317254819\" data-root-id=\"1056\"></div>\n",
       "</div>\n",
       "<script type=\"application/javascript\">(function(root) {\n",
       "  function embed_document(root) {\n",
       "    var docs_json = {\"960e8b39-00c0-415e-83a2-b7b60ba01d51\":{\"defs\":[],\"roots\":{\"references\":[{\"attributes\":{\"children\":[{\"id\":\"1057\"},{\"id\":\"1058\"},{\"id\":\"1059\"},{\"id\":\"1060\"},{\"id\":\"1061\"},{\"id\":\"1062\"}],\"margin\":[5,5,5,5],\"min_width\":300,\"name\":\"Profile\",\"width\":300},\"id\":\"1056\",\"type\":\"Column\"},{\"attributes\":{\"margin\":[5,10,5,10],\"max_length\":5000,\"title\":\"Github\"},\"id\":\"1060\",\"type\":\"TextInput\"},{\"attributes\":{\"margin\":[5,10,5,10],\"max_length\":5000,\"title\":\"Twitter\"},\"id\":\"1061\",\"type\":\"TextInput\"},{\"attributes\":{\"client_comm_id\":\"c5e8a7af45a84783a6ff4ce8e1c3f69f\",\"comm_id\":\"e1a33420ada640cc84e1d51dcf2ce53b\",\"plot_id\":\"1056\"},\"id\":\"1063\",\"type\":\"panel.models.comm_manager.CommManager\"},{\"attributes\":{\"margin\":[5,10,5,10],\"max_length\":5000,\"title\":\"Email\"},\"id\":\"1058\",\"type\":\"TextInput\"},{\"attributes\":{\"margin\":[5,10,5,10],\"max_length\":5000,\"title\":\"Discord\"},\"id\":\"1059\",\"type\":\"TextInput\"},{\"attributes\":{\"margin\":[5,10,5,10],\"max_length\":5000,\"title\":\"Ethereum\"},\"id\":\"1062\",\"type\":\"TextInput\"},{\"attributes\":{\"margin\":[5,10,5,10],\"name\":\"\",\"text\":\"<b>Profile</b>\"},\"id\":\"1057\",\"type\":\"Div\"}],\"root_ids\":[\"1056\",\"1063\"]},\"title\":\"Bokeh Application\",\"version\":\"2.3.2\"}};\n",
       "    var render_items = [{\"docid\":\"960e8b39-00c0-415e-83a2-b7b60ba01d51\",\"root_ids\":[\"1056\"],\"roots\":{\"1056\":\"36b4a646-eb93-464c-8114-c98317254819\"}}];\n",
       "    root.Bokeh.embed.embed_items_notebook(docs_json, render_items);\n",
       "  }\n",
       "  if (root.Bokeh !== undefined && root.Bokeh.Panel !== undefined && root['echarts'] !== undefined ) {\n",
       "    embed_document(root);\n",
       "  } else {\n",
       "    var attempts = 0;\n",
       "    var timer = setInterval(function(root) {\n",
       "      if (root.Bokeh !== undefined && root.Bokeh.Panel !== undefined && root['echarts'] !== undefined) {\n",
       "        clearInterval(timer);\n",
       "        embed_document(root);\n",
       "      } else if (document.readyState == \"complete\") {\n",
       "        attempts++;\n",
       "        if (attempts > 100) {\n",
       "          clearInterval(timer);\n",
       "          console.log(\"Bokeh: ERROR: Unable to run BokehJS code because BokehJS library is missing\");\n",
       "        }\n",
       "      }\n",
       "    }, 10, root)\n",
       "  }\n",
       "})(window);</script>"
      ],
      "text/plain": [
       "Param(Profile)"
      ]
     },
     "execution_count": 6,
     "metadata": {
      "application/vnd.holoviews_exec.v0+json": {
       "id": "1056"
      }
     },
     "output_type": "execute_result"
    }
   ],
   "source": [
    "class Profile(pm.Parameterized):\n",
    "    email = pm.String()\n",
    "    discord = pm.String()\n",
    "    github = pm.String() \n",
    "    twitter = pm.String()\n",
    "    ethereum = pm.String()\n",
    "    \n",
    "p = Profile()\n",
    "pn.Pane(p)"
   ]
  },
  {
   "cell_type": "code",
   "execution_count": 7,
   "id": "f8075f0f-7beb-4e5c-b6d4-bdc39dce0b2f",
   "metadata": {},
   "outputs": [],
   "source": [
    "import datetime as dt\n",
    "import numpy as np\n",
    "\n",
    "class Founder(pm.Parameterized):\n",
    "    first_name = pm.String()\n",
    "    last_name  = pm.String()\n",
    "    NDA        = pm.Boolean(True)\n",
    "    onboarded  = pm.Boolean(True)\n",
    "    active     = pm.Boolean(True)\n",
    "    contract   = pm.Boolean(True)\n",
    "    engagement = pm.ObjectSelector(default='Full Time', objects=['Full Time', 'Part Time'])\n",
    "    authorization_level = pm.Integer(1, bounds=(1,5))\n",
    "    credentials_level = pm.Integer(1, bounds=(1,5))\n",
    "    conviction_level  = pm.Integer(1, bounds=(1,5))\n",
    "    role = pm.ObjectSelector(default=roles[0], objects=roles)   \n",
    "    date_joined =  pm.Date(dt.date(2018, 8, 18), bounds=(dt.date(2018, 8, 18), None))\n",
    "    profile = pm.ObjectSelector(default=p, objects=[p]) \n",
    "    \n",
    "    def clearance(self):\n",
    "        return self.NDA * self.onboarded * self.active * self.contract\n",
    "    \n",
    "    def months_since_joining(self):\n",
    "        d1 = dt.date.today()\n",
    "        d2 = self.date_joined\n",
    "        months_since_joining = (d1.year - d2.year) * 12 + d1.month - d2.month\n",
    "        return months_since_joining\n",
    "    \n",
    "    def time_bonus(self):\n",
    "        months_since_joining = self.months_since_joining()\n",
    "        return round(np.sqrt(months_since_joining+1)/2, 2)\n",
    "        \n",
    "    def rewards_multiplier(self):\n",
    "        return round(np.sqrt(self.conviction_level * self.credentials_level * self.authorization_level)/2, 2)\n",
    "    \n",
    "    def base_wage(self):\n",
    "        return (1 if self.engagement=='Full Time' else 0.5) * self.role.base_wage\n",
    "    \n",
    "    def reward_schedule(self):\n",
    "        rewards = self.clearance() * self.base_wage() * (self.time_bonus() + self.rewards_multiplier()) \n",
    "        return round(rewards)\n",
    "    \n",
    "    def clearance_gauge(self):\n",
    "        return pn.indicators.Gauge(\n",
    "            name='Clearance', value=self.clearance(), bounds=(0, 1), format='{value} ✅',\n",
    "            colors=[(0.2, 'green'), (0.8, 'gold'), (1, 'red')], annulus_width=5, custom_opts={'radius':120})\n",
    "    \n",
    "    def time_bonus_gauge(self):\n",
    "        return pn.indicators.Gauge(\n",
    "            name='Time Bonus', value=self.time_bonus(), bounds=(0, 100), format='{value} ✅',\n",
    "            colors=[(0.2, 'green'), (0.8, 'gold'), (1, 'red')], annulus_width=5, custom_opts={'radius':120})\n",
    "    \n",
    "    def rewards_multiplier_gauge(self):\n",
    "        return pn.indicators.Gauge(\n",
    "            name='Rewards Multiplier', value=self.rewards_multiplier(), bounds=(1, 10), format='{value} ✅',\n",
    "            colors=[(0.2, 'green'), (0.8, 'gold'), (1, 'red')], annulus_width=5, custom_opts={'radius':120})\n",
    "    \n",
    "    @pn.depends('role.base_wage')\n",
    "    def base_wage_gauge(self):\n",
    "        return pn.indicators.Gauge(\n",
    "            name='Base Wage', value=self.base_wage(), bounds=(0, 8000), format='{value} ✅',\n",
    "            colors=[(0.2, 'green'), (0.8, 'gold'), (1, 'red')], annulus_width=5, custom_opts={'radius':120})\n",
    "    \n",
    "    @pn.depends('role.base_wage')\n",
    "    def rewards_gauge(self):\n",
    "        return pn.indicators.Gauge(\n",
    "            name='Rewards', value=self.reward_schedule(), bounds=(0, 8000), format='{value} 💸',\n",
    "            colors=[(0.2, 'green'), (0.8, 'gold'), (1, 'red')])\n",
    "    \n",
    "    \n",
    "#     @pn.depends('role.base_wage')\n",
    "    def view_reward_gauge(self):\n",
    "        \n",
    "        g1 = self.clearance_gauge\n",
    "\n",
    "        g2 = self.time_bonus_gauge\n",
    "        \n",
    "        g3 = self.rewards_multiplier_gauge\n",
    "        \n",
    "        g4 = self.base_wage_gauge\n",
    "        \n",
    "        g5 = self.rewards_gauge\n",
    "        \n",
    "        return pn.Column(pn.Row(g1, g2, g3), pn.Row(g4, g5))\n",
    "        \n",
    "    \n",
    "    def view(self):\n",
    "        founder = pn.Param(self, widgets={\n",
    "            'date_joined': pn.widgets.DatePicker(name='Date Joined', value=self.date_joined)\n",
    "        })\n",
    "        return founder"
   ]
  },
  {
   "cell_type": "code",
   "execution_count": 8,
   "id": "ec04f6a0-d226-4960-acf2-f8c0ad34d308",
   "metadata": {},
   "outputs": [],
   "source": [
    "from parameters.fixtures import founders as founder_parameters"
   ]
  },
  {
   "cell_type": "markdown",
   "id": "026f3f20-6310-4693-b4fc-30fd6314d3e5",
   "metadata": {},
   "source": [
    "DAO Rewards"
   ]
  },
  {
   "cell_type": "code",
   "execution_count": 9,
   "id": "30f7466d-0fc3-4774-ad6a-2423b3b39b3c",
   "metadata": {},
   "outputs": [
    {
     "name": "stderr",
     "output_type": "stream",
     "text": [
      "WARNING:param.Founder00248: Setting non-parameter attribute role_name=CEO using a mechanism intended only for parameters\n",
      "WARNING:param.Founder00249: Setting non-parameter attribute role_name=Admin using a mechanism intended only for parameters\n",
      "WARNING:param.Founder00250: Setting non-parameter attribute role_name=CFO using a mechanism intended only for parameters\n",
      "WARNING:param.Founder00251: Setting non-parameter attribute role_name=CTO using a mechanism intended only for parameters\n",
      "WARNING:param.Founder00252: Setting non-parameter attribute role_name=Admin using a mechanism intended only for parameters\n",
      "WARNING:param.Founder00253: Setting non-parameter attribute role_name=Token Engineer 1 using a mechanism intended only for parameters\n",
      "WARNING:param.Founder00254: Setting non-parameter attribute role_name=CMO using a mechanism intended only for parameters\n",
      "WARNING:param.Founder00255: Setting non-parameter attribute role_name=Token Engineer 1 using a mechanism intended only for parameters\n",
      "WARNING:param.Founder00256: Setting non-parameter attribute role_name=Admin using a mechanism intended only for parameters\n"
     ]
    }
   ],
   "source": [
    "founders = [Founder(**f,role=pm.named_objs(roles)[f['role_name']]) for f in founder_parameters]"
   ]
  },
  {
   "cell_type": "code",
   "execution_count": 10,
   "id": "a540d8b7-8b43-4143-a43a-e594a1375d88",
   "metadata": {},
   "outputs": [],
   "source": [
    "# pn.Row(*[pn.Row(f.view(), f.view_reward_gauge) for f in founders])"
   ]
  },
  {
   "cell_type": "code",
   "execution_count": 11,
   "id": "d89c3282-485c-4e0d-9f55-78eeb8f0be27",
   "metadata": {},
   "outputs": [
    {
     "data": {
      "text/plain": [
       "9"
      ]
     },
     "execution_count": 11,
     "metadata": {},
     "output_type": "execute_result"
    }
   ],
   "source": [
    "len(founders)"
   ]
  },
  {
   "cell_type": "code",
   "execution_count": 12,
   "id": "0f9c5d55-bdd9-49b8-a8a1-069b5030f1be",
   "metadata": {},
   "outputs": [],
   "source": [
    "f = founders[0]"
   ]
  },
  {
   "cell_type": "code",
   "execution_count": 13,
   "id": "1a220eee-70d1-457b-a5ca-8363d375412e",
   "metadata": {},
   "outputs": [],
   "source": [
    "rewards = [f.reward_schedule() for f in founders]"
   ]
  },
  {
   "cell_type": "code",
   "execution_count": 14,
   "id": "4ee76aa6-4ec8-4739-98cf-b46b88b17174",
   "metadata": {},
   "outputs": [
    {
     "data": {
      "text/plain": [
       "{'Shawn Anderson': 16640,\n",
       " 'Aidan Oconnel': 3648,\n",
       " 'Mike De Melo': 11200,\n",
       " 'Jake Cassani': 11060,\n",
       " 'Liam Perison': 5856,\n",
       " 'BK K': 9320,\n",
       " 'Katie Knorr': 5410,\n",
       " 'Andrew Penland': 5740,\n",
       " 'Juugaahd S': 7056}"
      ]
     },
     "execution_count": 14,
     "metadata": {},
     "output_type": "execute_result"
    }
   ],
   "source": [
    "{f.first_name+' '+f.last_name: f.reward_schedule() for f in founders}"
   ]
  },
  {
   "cell_type": "code",
   "execution_count": 15,
   "id": "40f8348e-72ba-4bab-a2c5-0a26c4c47c76",
   "metadata": {},
   "outputs": [
    {
     "data": {
      "text/plain": [
       "151860"
      ]
     },
     "execution_count": 15,
     "metadata": {},
     "output_type": "execute_result"
    }
   ],
   "source": [
    "sum(rewards) * 2"
   ]
  },
  {
   "cell_type": "code",
   "execution_count": 16,
   "id": "75e7138d-5e26-4d24-8e99-70446dad2cd8",
   "metadata": {},
   "outputs": [],
   "source": [
    "total = {}\n",
    "for f in founders:\n",
    "    reward_schedule = []\n",
    "    for i in range(f.months_since_joining()):\n",
    "        reward_schedule.append(f.reward_schedule())\n",
    "        f.date_joined += dt.timedelta(days=30)\n",
    "    total[f.first_name+' '+f.last_name] = reward_schedule"
   ]
  },
  {
   "cell_type": "code",
   "execution_count": 17,
   "id": "28ab7a05-a843-45de-a523-4b6b7adc2dc0",
   "metadata": {},
   "outputs": [
    {
     "data": {
      "text/plain": [
       "{'Shawn Anderson': [16640,\n",
       "  16560,\n",
       "  16480,\n",
       "  16400,\n",
       "  16320,\n",
       "  16240,\n",
       "  16160,\n",
       "  16080,\n",
       "  16000,\n",
       "  15920,\n",
       "  15840,\n",
       "  15740,\n",
       "  15660,\n",
       "  15560,\n",
       "  15480,\n",
       "  15380,\n",
       "  15300,\n",
       "  15200,\n",
       "  15100,\n",
       "  15000,\n",
       "  14900,\n",
       "  14800,\n",
       "  14700,\n",
       "  14580,\n",
       "  14480,\n",
       "  14360,\n",
       "  14240,\n",
       "  14120,\n",
       "  14000,\n",
       "  13880,\n",
       "  13740,\n",
       "  13600,\n",
       "  13460,\n",
       "  13320,\n",
       "  13160,\n",
       "  13000,\n",
       "  12820,\n",
       "  12640,\n",
       "  12440,\n",
       "  12440,\n",
       "  12240,\n",
       "  12000,\n",
       "  11740],\n",
       " 'Aidan Oconnel': [3648,\n",
       "  3608,\n",
       "  3576,\n",
       "  3536,\n",
       "  3504,\n",
       "  3464,\n",
       "  3424,\n",
       "  3384,\n",
       "  3344,\n",
       "  3304,\n",
       "  3264,\n",
       "  3216,\n",
       "  3176,\n",
       "  3128,\n",
       "  3080,\n",
       "  3032,\n",
       "  2984,\n",
       "  2936,\n",
       "  2880,\n",
       "  2824,\n",
       "  2768,\n",
       "  2712,\n",
       "  2648,\n",
       "  2584,\n",
       "  2512,\n",
       "  2440,\n",
       "  2360,\n",
       "  2280,\n",
       "  2184,\n",
       "  2080,\n",
       "  1952],\n",
       " 'Mike De Melo': [11200,\n",
       "  11060,\n",
       "  10900,\n",
       "  10740,\n",
       "  10560,\n",
       "  10380,\n",
       "  10180,\n",
       "  9980,\n",
       "  9740,\n",
       "  9480,\n",
       "  9160],\n",
       " 'Jake Cassani': [11060,\n",
       "  10900,\n",
       "  10740,\n",
       "  10560,\n",
       "  10380,\n",
       "  10180,\n",
       "  9980,\n",
       "  9740,\n",
       "  9480,\n",
       "  9160],\n",
       " 'Liam Perison': [5856, 5728, 5600, 5456, 5312, 5152, 4992, 4800, 4592, 4336],\n",
       " 'BK K': [9320, 9160, 9000, 8820, 8640, 8440, 8240, 8000, 7740, 7420],\n",
       " 'Katie Knorr': [5410, 5320, 5220, 5120, 5000, 4870, 4710],\n",
       " 'Andrew Penland': [5740, 5650, 5550, 5450, 5330, 5200, 5040],\n",
       " 'Juugaahd S': [7056, 6912, 6752, 6592, 6400, 6192, 5936]}"
      ]
     },
     "execution_count": 17,
     "metadata": {},
     "output_type": "execute_result"
    }
   ],
   "source": [
    "total"
   ]
  },
  {
   "cell_type": "code",
   "execution_count": 18,
   "id": "4ff48ac5-6693-485e-8dea-ff15e4d59c32",
   "metadata": {},
   "outputs": [
    {
     "data": {
      "text/plain": [
       "{'Shawn Anderson': 627720,\n",
       " 'Aidan Oconnel': 91832,\n",
       " 'Mike De Melo': 113380,\n",
       " 'Jake Cassani': 102180,\n",
       " 'Liam Perison': 51824,\n",
       " 'BK K': 84780,\n",
       " 'Katie Knorr': 35650,\n",
       " 'Andrew Penland': 37960,\n",
       " 'Juugaahd S': 45840}"
      ]
     },
     "execution_count": 18,
     "metadata": {},
     "output_type": "execute_result"
    }
   ],
   "source": [
    "sum_totals = {k:sum(v) for k,v in total.items()}\n",
    "sum_totals"
   ]
  },
  {
   "cell_type": "code",
   "execution_count": 28,
   "id": "4fed9f86-615c-475a-8002-351295cce243",
   "metadata": {},
   "outputs": [
    {
     "data": {
      "text/plain": [
       "2382332"
      ]
     },
     "execution_count": 28,
     "metadata": {},
     "output_type": "execute_result"
    }
   ],
   "source": [
    "sum(sum_totals.values()) * 2"
   ]
  },
  {
   "cell_type": "code",
   "execution_count": 29,
   "id": "4308e413-62f6-4b64-b0c9-bd261d2c15f9",
   "metadata": {},
   "outputs": [
    {
     "data": {
      "text/plain": [
       "264703.55555555556"
      ]
     },
     "execution_count": 29,
     "metadata": {},
     "output_type": "execute_result"
    }
   ],
   "source": [
    "2382332 / 9"
   ]
  },
  {
   "cell_type": "code",
   "execution_count": 31,
   "id": "9c0b7f3c-5b2e-436b-bcb6-6e855dfb863d",
   "metadata": {},
   "outputs": [
    {
     "data": {
      "text/plain": [
       "0.1323517777777778"
      ]
     },
     "execution_count": 31,
     "metadata": {},
     "output_type": "execute_result"
    }
   ],
   "source": [
    "264703.55555555556 / 2000000"
   ]
  },
  {
   "cell_type": "code",
   "execution_count": 25,
   "id": "faa6c438-d4ae-4ba4-a7d3-be8741d9f831",
   "metadata": {},
   "outputs": [
    {
     "data": {
      "text/plain": [
       "8436.666666666666"
      ]
     },
     "execution_count": 25,
     "metadata": {},
     "output_type": "execute_result"
    }
   ],
   "source": [
    "sum(rewards) / len(rewards)"
   ]
  },
  {
   "cell_type": "code",
   "execution_count": 26,
   "id": "b9385797-443b-4c57-a1d2-beed35f19cbc",
   "metadata": {},
   "outputs": [
    {
     "data": {
      "text/plain": [
       "151860"
      ]
     },
     "execution_count": 26,
     "metadata": {},
     "output_type": "execute_result"
    }
   ],
   "source": [
    "sum(rewards) * 2"
   ]
  },
  {
   "cell_type": "code",
   "execution_count": 27,
   "id": "92cac581-2f1b-4032-aa9b-5c179063f54d",
   "metadata": {},
   "outputs": [
    {
     "data": {
      "text/plain": [
       "1822320"
      ]
     },
     "execution_count": 27,
     "metadata": {},
     "output_type": "execute_result"
    }
   ],
   "source": [
    "sum(rewards) * 2 * 12"
   ]
  },
  {
   "cell_type": "code",
   "execution_count": 32,
   "id": "a752e27e-6e53-4a0c-8a77-fc583ddfe86d",
   "metadata": {},
   "outputs": [
    {
     "data": {
      "text/plain": [
       "202480.0"
      ]
     },
     "execution_count": 32,
     "metadata": {},
     "output_type": "execute_result"
    }
   ],
   "source": [
    " 1822320 / 9"
   ]
  },
  {
   "cell_type": "code",
   "execution_count": 33,
   "id": "cfbde796-cc9c-4daa-be29-2805010f8ea4",
   "metadata": {},
   "outputs": [
    {
     "data": {
      "text/plain": [
       "0.10124"
      ]
     },
     "execution_count": 33,
     "metadata": {},
     "output_type": "execute_result"
    }
   ],
   "source": [
    "202480.0 / 2000000"
   ]
  },
  {
   "cell_type": "markdown",
   "id": "ef3e521b-048a-42dc-acd9-af50f8251496",
   "metadata": {},
   "source": [
    "LBP Raise Amount 20-40 million\n",
    "\n",
    "Here, we integrate an LBP model to calculate the number of tokens sold, and the amount of funds raised. "
   ]
  },
  {
   "cell_type": "code",
   "execution_count": null,
   "id": "787d0b33-1d7d-49ee-b49e-4780b529f0de",
   "metadata": {},
   "outputs": [],
   "source": []
  },
  {
   "cell_type": "markdown",
   "id": "15aa4f9c-9e14-4628-9fdc-b5299fdbfe0b",
   "metadata": {},
   "source": [
    "Racoon Fund"
   ]
  },
  {
   "cell_type": "code",
   "execution_count": null,
   "id": "68f46a90-89c2-4713-adb6-f3826ef6fbcf",
   "metadata": {},
   "outputs": [],
   "source": []
  }
 ],
 "metadata": {
  "kernelspec": {
   "display_name": "Python 3",
   "language": "python",
   "name": "python3"
  },
  "language_info": {
   "codemirror_mode": {
    "name": "ipython",
    "version": 3
   },
   "file_extension": ".py",
   "mimetype": "text/x-python",
   "name": "python",
   "nbconvert_exporter": "python",
   "pygments_lexer": "ipython3",
   "version": "3.8.8"
  }
 },
 "nbformat": 4,
 "nbformat_minor": 5
}
