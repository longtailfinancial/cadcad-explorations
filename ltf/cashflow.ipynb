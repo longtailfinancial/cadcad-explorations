{
 "cells": [
  {
   "cell_type": "code",
   "execution_count": 2,
   "id": "9fad1719-b1bb-433b-975a-10a1e457aa29",
   "metadata": {},
   "outputs": [],
   "source": [
    "#pip install ltfte"
   ]
  },
  {
   "cell_type": "code",
   "execution_count": 4,
   "id": "0fed31aa-7479-4f45-bc30-462eafdd9857",
   "metadata": {},
   "outputs": [],
   "source": [
    "import panel as pn\n",
    "from tokenengi.qia import ContinuousCompoundingCashFlow as CashFlow, InterestRate"
   ]
  },
  {
   "cell_type": "markdown",
   "id": "d1f527e3-1076-4193-a958-848b3e333ce4",
   "metadata": {},
   "source": [
    "For now, we assume that cash flow operations are based on Fiat. Otherwise, it would make sense to have a deflationairy interest rate. "
   ]
  },
  {
   "cell_type": "code",
   "execution_count": 28,
   "id": "a567c783-fa3c-4513-b978-75bd379fa2a9",
   "metadata": {},
   "outputs": [],
   "source": [
    "class PatchedCashFlow(CashFlow):\n",
    "     def _present_annuity_value(self, t): \n",
    "            value = self.annuity * ((1 - 1/(1+self.effective_rate())**t)/self.effective_rate())\n",
    "            if self.perpetuity:\n",
    "                value += self.perpetuity_value()\n",
    "            return value"
   ]
  },
  {
   "cell_type": "code",
   "execution_count": 29,
   "id": "d7560884-1975-411f-afed-8c5dc192d59f",
   "metadata": {},
   "outputs": [
    {
     "data": {},
     "metadata": {},
     "output_type": "display_data"
    },
    {
     "data": {
      "application/vnd.holoviews_exec.v0+json": "",
      "text/html": [
       "<div id='45706'>\n",
       "\n",
       "\n",
       "\n",
       "\n",
       "\n",
       "  <div class=\"bk-root\" id=\"0069837b-da0e-40b5-a248-c695851e1693\" data-root-id=\"45706\"></div>\n",
       "</div>\n",
       "<script type=\"application/javascript\">(function(root) {\n",
       "  function embed_document(root) {\n",
       "    var docs_json = {\"b9e8b5f2-9209-4717-a685-46c45b138468\":{\"defs\":[],\"roots\":{\"references\":[{\"attributes\":{\"end\":1,\"margin\":[5,10,5,10],\"start\":0,\"step\":0.01,\"title\":\"Real risk free interest rate\",\"value\":0.01},\"id\":\"45708\",\"type\":\"Slider\"},{\"attributes\":{\"end\":1,\"margin\":[5,10,5,10],\"start\":0,\"step\":0.01,\"title\":\"Liquidity premium\",\"value\":0},\"id\":\"45711\",\"type\":\"Slider\"},{\"attributes\":{\"end\":1,\"margin\":[5,10,5,10],\"start\":0,\"step\":0.01,\"title\":\"Default risk premium\",\"value\":0},\"id\":\"45710\",\"type\":\"Slider\"},{\"attributes\":{\"client_comm_id\":\"de7ea39d455c4c3fbb38f938e1f72a9f\",\"comm_id\":\"8cda57ca58df4290b04ffe548c5698a2\",\"plot_id\":\"45706\"},\"id\":\"45713\",\"type\":\"panel.models.comm_manager.CommManager\"},{\"attributes\":{\"children\":[{\"id\":\"45707\"},{\"id\":\"45708\"},{\"id\":\"45709\"},{\"id\":\"45710\"},{\"id\":\"45711\"},{\"id\":\"45712\"}],\"margin\":[5,5,5,5],\"min_width\":300,\"name\":\"InterestRate\",\"width\":300},\"id\":\"45706\",\"type\":\"Column\"},{\"attributes\":{\"end\":1,\"margin\":[5,10,5,10],\"start\":0,\"step\":0.01,\"title\":\"Inflation premium\",\"value\":0},\"id\":\"45709\",\"type\":\"Slider\"},{\"attributes\":{\"margin\":[5,10,5,10],\"name\":\"\",\"text\":\"<b>InterestRate</b>\"},\"id\":\"45707\",\"type\":\"Div\"},{\"attributes\":{\"end\":1,\"margin\":[5,10,5,10],\"start\":0,\"step\":0.01,\"title\":\"Maturity premium\",\"value\":0},\"id\":\"45712\",\"type\":\"Slider\"}],\"root_ids\":[\"45706\",\"45713\"]},\"title\":\"Bokeh Application\",\"version\":\"2.3.2\"}};\n",
       "    var render_items = [{\"docid\":\"b9e8b5f2-9209-4717-a685-46c45b138468\",\"root_ids\":[\"45706\"],\"roots\":{\"45706\":\"0069837b-da0e-40b5-a248-c695851e1693\"}}];\n",
       "    root.Bokeh.embed.embed_items_notebook(docs_json, render_items);\n",
       "  }\n",
       "  if (root.Bokeh !== undefined && root.Bokeh.Panel !== undefined) {\n",
       "    embed_document(root);\n",
       "  } else {\n",
       "    var attempts = 0;\n",
       "    var timer = setInterval(function(root) {\n",
       "      if (root.Bokeh !== undefined && root.Bokeh.Panel !== undefined) {\n",
       "        clearInterval(timer);\n",
       "        embed_document(root);\n",
       "      } else if (document.readyState == \"complete\") {\n",
       "        attempts++;\n",
       "        if (attempts > 100) {\n",
       "          clearInterval(timer);\n",
       "          console.log(\"Bokeh: ERROR: Unable to run BokehJS code because BokehJS library is missing\");\n",
       "        }\n",
       "      }\n",
       "    }, 10, root)\n",
       "  }\n",
       "})(window);</script>"
      ],
      "text/plain": [
       "Param(InterestRate)"
      ]
     },
     "execution_count": 29,
     "metadata": {
      "application/vnd.holoviews_exec.v0+json": {
       "id": "45706"
      }
     },
     "output_type": "execute_result"
    }
   ],
   "source": [
    "prime = InterestRate()\n",
    "pn.Pane(prime)"
   ]
  },
  {
   "cell_type": "code",
   "execution_count": 32,
   "id": "46bfe70b-23b0-4365-8288-7bc908dd766a",
   "metadata": {},
   "outputs": [
    {
     "data": {},
     "metadata": {},
     "output_type": "display_data"
    },
    {
     "data": {},
     "metadata": {},
     "output_type": "display_data"
    },
    {
     "data": {
      "application/vnd.holoviews_exec.v0+json": "",
      "text/html": [
       "<div id='46615'>\n",
       "\n",
       "\n",
       "\n",
       "\n",
       "\n",
       "  <div class=\"bk-root\" id=\"f9e86ef9-27a3-477e-9920-b2d9ecb35420\" data-root-id=\"46615\"></div>\n",
       "</div>\n",
       "<script type=\"application/javascript\">(function(root) {\n",
       "  function embed_document(root) {\n",
       "    var docs_json = {\"f31b096b-2c69-41f2-b877-932d3c5bab64\":{\"defs\":[],\"roots\":{\"references\":[{\"attributes\":{},\"id\":\"46670\",\"type\":\"NumberEditor\"},{\"attributes\":{\"margin\":[5,5,5,5],\"name\":\"Str523625\",\"text\":\"&lt;pre&gt;22119490.249267608&lt;/pre&gt;\"},\"id\":\"46641\",\"type\":\"panel.models.markup.HTML\"},{\"attributes\":{},\"id\":\"46709\",\"type\":\"ResetTool\"},{\"attributes\":{\"line_color\":\"#30a2da\",\"line_width\":2,\"x\":{\"field\":\"Time Period\"},\"y\":{\"field\":\"value\"}},\"id\":\"46727\",\"type\":\"Line\"},{\"attributes\":{\"line_alpha\":0.2,\"line_color\":\"#e5ae38\",\"line_width\":2,\"x\":{\"field\":\"Time Period\"},\"y\":{\"field\":\"value\"}},\"id\":\"46772\",\"type\":\"Line\"},{\"attributes\":{\"low\":0,\"margin\":[5,10,5,10],\"placeholder\":\"0\",\"title\":\"Annuity\",\"value\":125000.0,\"value_throttled\":125000.0},\"id\":\"46619\",\"type\":\"Spinner\"},{\"attributes\":{\"editor\":{\"id\":\"46670\"},\"field\":\"Cash_Flow\",\"formatter\":{\"id\":\"46669\"},\"title\":\"Cash Flow\"},\"id\":\"46671\",\"type\":\"TableColumn\"},{\"attributes\":{\"end\":100,\"margin\":[5,10,5,10],\"start\":0,\"title\":\"N\",\"value\":36},\"id\":\"46621\",\"type\":\"Slider\"},{\"attributes\":{\"children\":[{\"id\":\"46624\"},{\"id\":\"46645\"}],\"margin\":[0,0,0,0],\"name\":\"Row523862\"},\"id\":\"46623\",\"type\":\"Row\"},{\"attributes\":{\"line_color\":\"#6d904f\",\"line_width\":2,\"x\":{\"field\":\"Time Period\"},\"y\":{\"field\":\"value\"}},\"id\":\"46816\",\"type\":\"Line\"},{\"attributes\":{\"format\":\"0,0.0[00000]\"},\"id\":\"46669\",\"type\":\"NumberFormatter\"},{\"attributes\":{\"css_classes\":[\"markdown\"],\"margin\":[5,5,5,5],\"name\":\"Markdown523621\",\"text\":\"&lt;p&gt;Total Future Value:&lt;/p&gt;\"},\"id\":\"46639\",\"type\":\"panel.models.markup.HTML\"},{\"attributes\":{\"source\":{\"id\":\"46647\"}},\"id\":\"46676\",\"type\":\"CDSView\"},{\"attributes\":{},\"id\":\"46695\",\"type\":\"LinearScale\"},{\"attributes\":{},\"id\":\"46677\",\"type\":\"UnionRenderers\"},{\"attributes\":{\"margin\":[5,5,5,5],\"name\":\"Str523597\",\"text\":\"&lt;pre&gt;0.6976763260710338&lt;/pre&gt;\"},\"id\":\"46629\",\"type\":\"panel.models.markup.HTML\"},{\"attributes\":{\"editor\":{\"id\":\"46665\"},\"field\":\"Total_Value\",\"formatter\":{\"id\":\"46664\"},\"title\":\"Total Value\"},\"id\":\"46666\",\"type\":\"TableColumn\"},{\"attributes\":{\"data\":{\"Annuity_Value\":{\"__ndarray__\":\"h+lThQy5Z0GH6VOFFfZnQaMB/427M2hBnTFbMwByaEFT9n0N5bBoQTa8lrhr8GhBnGz51JUwaUEyFikHZXFpQeaw4vfasmlBfP0nVPn0aUEagUrNwTdqQSCd9hg2e2pBf8M+8Ve/akHrx6YUKQRrQStOL0arSWtBzFVhTeCPa0GQ41n2ydZrQdfI1RFqHmxBXYk9dcJmbEGRX7H61K9sQdRfFYGj+WxB+Lod7C9EbUFEIFskfI9tQV0/RxeK221BUWpRt1sobkEsWOv78nVuQVwIluFRxG5BRcfuaXoTb0FIVLybbmNvQasp/IIwtG9BT/N3GOECcEHobRXeEixwQXHdT6CuVXBBfDTXb7V/cEF9+hhgKKpwQddYR4cI1XBBDjpg/lYAcUE=\",\"dtype\":\"float64\",\"order\":\"little\",\"shape\":[37]},\"Cash_Flow\":{\"__ndarray__\":\"AAAAAAAAAAAAAAAAwOsCQQAHxipiHANBgP4LV4FNA0FA0SHGHn8DQYBRkbw7sQNBQIEmgtnjA0EA8vdh+RYEQYA9b6qcSgRBQI5RrcR+BEGAQsi/crMEQQCiaTqo6ARBALBBeWYeBUEACtvbrlQFQQDrR8WCiwVBgDQrnOPCBUEAosHK0voFQQAD675RMwZBgJkz6mFsBkEAid3BBKYGQYBe6r474AZBgLYkXggbB0GA8ykgbFYHQQAWdIlokgdBgKdjIv/OB0EAwEl3MQwIQYAnchgBSghBgJMtmm+ICEEA9tuUfscIQQDx9qQvBwlBAF4ca4RHCUEA9hiMfogJQQAR87AfyglBAH71hmkMCkGAg7q/XU8KQQDsNhH+kgpBADvFNUzXCkE=\",\"dtype\":\"float64\",\"order\":\"little\",\"shape\":[37]},\"Lump_Value\":{\"__ndarray__\":\"AAAAAGDjRkEAAAAA+B1HQQAAAAAmWUdBAQAAgOuUR0E+CtcDStFHQckHPRNDDkhBQ67UOdhLSEELhzUHC4pIQRQQ9g7dyEhBova16E8ISUFNbCgwZUhJQViWHoUeiUlB2ReSi33KSUHPtq/rgwxKQXsc4lEzT0pBPrHcbo2SSkFMlKb3k9ZKQWCvpaVIG0tB5OapNq1gS0GjZvhsw6ZLQYILVw+N7UtBWOoX6Qs1TEFd9CTKQX1MQV+5C4cwxkxBBkgJ+dkPTUGVLBb+P1pNQVCO8nhkpU1B5msyUUnxTUE390lz8D1OQboQmtBbi05B0eJ8X43ZTkFnnVIbhyhPQS1SjgRLeE9BuPHCINvIT0HzNFi9HA1QQetyKBE0NlBB6BdzlrRfUEE=\",\"dtype\":\"float64\",\"order\":\"little\",\"shape\":[37]},\"Time_Period\":[0,1,2,3,4,5,6,7,8,9,10,11,12,13,14,15,16,17,18,19,20,21,22,23,24,25,26,27,28,29,30,31,32,33,34,35,36],\"Total_Value\":{\"__ndarray__\":\"h+lTheRxbUGH6VOFk71tQaMB/w0FCm5BnTFbEztXbkHiuHOON6VuQSj+ZX38825BLZhu44tDb0H1d/bI55NvQes0oDsS5W9Bkr0qp4YbcEEXTqqM7URwQVshH92+bnBBu6QRqvuYcEHPWskHpcNwQaXqUw287nBBDkGM1EEacUFSxCF6N0ZxQVianx2ecnFBiwF04XafcUGdvPfqwsxxQVqRdWKD+nFBx9oxc7kockGuLnJLZldyQdoWhRyLhnJBKd7JGim2ckGpcbh9QeZyQfhV6X/VFnNBH7EdX+ZHc0ELaUdcdXlzQe1WkbuDq3NBqY9nxBLec0GVwX/BIxF0Qben4QC4RHRBs5Lv09B4dEG6B2+Pb610QZJ1kYuV4nRBCAD9I0QYdUE=\",\"dtype\":\"float64\",\"order\":\"little\",\"shape\":[37]}},\"selected\":{\"id\":\"46648\"},\"selection_policy\":{\"id\":\"46677\"}},\"id\":\"46647\",\"type\":\"ColumnDataSource\"},{\"attributes\":{\"children\":[{\"id\":\"46623\"}],\"margin\":[0,0,0,0],\"name\":\"Row523588\"},\"id\":\"46622\",\"type\":\"Row\"},{\"attributes\":{\"line_color\":\"#e5ae38\",\"line_width\":2,\"x\":{\"field\":\"Time Period\"},\"y\":{\"field\":\"value\"}},\"id\":\"46790\",\"type\":\"Line\"},{\"attributes\":{\"data\":{\"Time Period\":[0,1,2,3,4,5,6,7,8,9,10,11,12,13,14,15,16,17,18,19,20,21,22,23,24,25,26,27,28,29,30,31,32,33,34,35,36],\"Time_Period\":[0,1,2,3,4,5,6,7,8,9,10,11,12,13,14,15,16,17,18,19,20,21,22,23,24,25,26,27,28,29,30,31,32,33,34,35,36],\"Variable\":[\"Cash Flow\",\"Cash Flow\",\"Cash Flow\",\"Cash Flow\",\"Cash Flow\",\"Cash Flow\",\"Cash Flow\",\"Cash Flow\",\"Cash Flow\",\"Cash Flow\",\"Cash Flow\",\"Cash Flow\",\"Cash Flow\",\"Cash Flow\",\"Cash Flow\",\"Cash Flow\",\"Cash Flow\",\"Cash Flow\",\"Cash Flow\",\"Cash Flow\",\"Cash Flow\",\"Cash Flow\",\"Cash Flow\",\"Cash Flow\",\"Cash Flow\",\"Cash Flow\",\"Cash Flow\",\"Cash Flow\",\"Cash Flow\",\"Cash Flow\",\"Cash Flow\",\"Cash Flow\",\"Cash Flow\",\"Cash Flow\",\"Cash Flow\",\"Cash Flow\",\"Cash Flow\"],\"value\":{\"__ndarray__\":\"AAAAAAAAAAAAAAAAwOsCQQAHxipiHANBgP4LV4FNA0FA0SHGHn8DQYBRkbw7sQNBQIEmgtnjA0EA8vdh+RYEQYA9b6qcSgRBQI5RrcR+BEGAQsi/crMEQQCiaTqo6ARBALBBeWYeBUEACtvbrlQFQQDrR8WCiwVBgDQrnOPCBUEAosHK0voFQQAD675RMwZBgJkz6mFsBkEAid3BBKYGQYBe6r474AZBgLYkXggbB0GA8ykgbFYHQQAWdIlokgdBgKdjIv/OB0EAwEl3MQwIQYAnchgBSghBgJMtmm+ICEEA9tuUfscIQQDx9qQvBwlBAF4ca4RHCUEA9hiMfogJQQAR87AfyglBAH71hmkMCkGAg7q/XU8KQQDsNhH+kgpBADvFNUzXCkE=\",\"dtype\":\"float64\",\"order\":\"little\",\"shape\":[37]}},\"selected\":{\"id\":\"46792\"},\"selection_policy\":{\"id\":\"46812\"}},\"id\":\"46791\",\"type\":\"ColumnDataSource\"},{\"attributes\":{\"line_color\":\"#30a2da\",\"line_width\":2,\"x\":{\"field\":\"Time Period\"},\"y\":{\"field\":\"value\"}},\"id\":\"46744\",\"type\":\"Line\"},{\"attributes\":{\"children\":[{\"id\":\"46629\"}],\"margin\":[0,0,0,0],\"name\":\"Row523599\"},\"id\":\"46628\",\"type\":\"Row\"},{\"attributes\":{\"source\":{\"id\":\"46745\"}},\"id\":\"46752\",\"type\":\"CDSView\"},{\"attributes\":{\"line_alpha\":0.1,\"line_color\":\"#e5ae38\",\"line_width\":2,\"x\":{\"field\":\"Time Period\"},\"y\":{\"field\":\"value\"}},\"id\":\"46771\",\"type\":\"Line\"},{\"attributes\":{},\"id\":\"46723\",\"type\":\"AllLabels\"},{\"attributes\":{\"text\":\"Cash Flow\",\"text_color\":\"black\",\"text_font_size\":\"12pt\"},\"id\":\"46689\",\"type\":\"Title\"},{\"attributes\":{\"children\":[{\"id\":\"46641\"}],\"margin\":[0,0,0,0],\"name\":\"Row523627\"},\"id\":\"46640\",\"type\":\"Row\"},{\"attributes\":{},\"id\":\"46720\",\"type\":\"AllLabels\"},{\"attributes\":{},\"id\":\"46702\",\"type\":\"BasicTicker\"},{\"attributes\":{\"children\":[{\"id\":\"46635\"}],\"margin\":[0,0,0,0],\"name\":\"Row523613\"},\"id\":\"46634\",\"type\":\"Row\"},{\"attributes\":{},\"id\":\"46693\",\"type\":\"LinearScale\"},{\"attributes\":{\"data\":{\"Time Period\":[0,1,2,3,4,5,6,7,8,9,10,11,12,13,14,15,16,17,18,19,20,21,22,23,24,25,26,27,28,29,30,31,32,33,34,35,36],\"Time_Period\":[0,1,2,3,4,5,6,7,8,9,10,11,12,13,14,15,16,17,18,19,20,21,22,23,24,25,26,27,28,29,30,31,32,33,34,35,36],\"Variable\":[\"Lump Value\",\"Lump Value\",\"Lump Value\",\"Lump Value\",\"Lump Value\",\"Lump Value\",\"Lump Value\",\"Lump Value\",\"Lump Value\",\"Lump Value\",\"Lump Value\",\"Lump Value\",\"Lump Value\",\"Lump Value\",\"Lump Value\",\"Lump Value\",\"Lump Value\",\"Lump Value\",\"Lump Value\",\"Lump Value\",\"Lump Value\",\"Lump Value\",\"Lump Value\",\"Lump Value\",\"Lump Value\",\"Lump Value\",\"Lump Value\",\"Lump Value\",\"Lump Value\",\"Lump Value\",\"Lump Value\",\"Lump Value\",\"Lump Value\",\"Lump Value\",\"Lump Value\",\"Lump Value\",\"Lump Value\"],\"value\":{\"__ndarray__\":\"AAAAAGDjRkEAAAAA+B1HQQAAAAAmWUdBAQAAgOuUR0E+CtcDStFHQckHPRNDDkhBQ67UOdhLSEELhzUHC4pIQRQQ9g7dyEhBova16E8ISUFNbCgwZUhJQViWHoUeiUlB2ReSi33KSUHPtq/rgwxKQXsc4lEzT0pBPrHcbo2SSkFMlKb3k9ZKQWCvpaVIG0tB5OapNq1gS0GjZvhsw6ZLQYILVw+N7UtBWOoX6Qs1TEFd9CTKQX1MQV+5C4cwxkxBBkgJ+dkPTUGVLBb+P1pNQVCO8nhkpU1B5msyUUnxTUE390lz8D1OQboQmtBbi05B0eJ8X43ZTkFnnVIbhyhPQS1SjgRLeE9BuPHCINvIT0HzNFi9HA1QQetyKBE0NlBB6BdzlrRfUEE=\",\"dtype\":\"float64\",\"order\":\"little\",\"shape\":[37]}},\"selected\":{\"id\":\"46725\"},\"selection_policy\":{\"id\":\"46739\"}},\"id\":\"46724\",\"type\":\"ColumnDataSource\"},{\"attributes\":{\"css_classes\":[\"markdown\"],\"margin\":[5,5,5,5],\"name\":\"Markdown523593\",\"text\":\"&lt;p&gt;Present Value Factor:&lt;/p&gt;\"},\"id\":\"46627\",\"type\":\"panel.models.markup.HTML\"},{\"attributes\":{},\"id\":\"46739\",\"type\":\"UnionRenderers\"},{\"attributes\":{\"css_classes\":[\"markdown\"],\"margin\":[5,5,5,5],\"name\":\"Markdown523614\",\"text\":\"&lt;p&gt;Present Annuity Value:&lt;/p&gt;\"},\"id\":\"46636\",\"type\":\"panel.models.markup.HTML\"},{\"attributes\":{},\"id\":\"46648\",\"type\":\"Selection\"},{\"attributes\":{\"columns\":[{\"id\":\"46651\"},{\"id\":\"46656\"},{\"id\":\"46661\"},{\"id\":\"46666\"},{\"id\":\"46671\"}],\"height\":300,\"reorderable\":false,\"source\":{\"id\":\"46647\"},\"view\":{\"id\":\"46676\"},\"width\":700},\"id\":\"46674\",\"type\":\"DataTable\"},{\"attributes\":{},\"id\":\"46707\",\"type\":\"WheelZoomTool\"},{\"attributes\":{\"editor\":{\"id\":\"46660\"},\"field\":\"Annuity_Value\",\"formatter\":{\"id\":\"46659\"},\"title\":\"Annuity Value\"},\"id\":\"46661\",\"type\":\"TableColumn\"},{\"attributes\":{\"low\":0,\"margin\":[5,10,5,10],\"placeholder\":\"0\",\"title\":\"Present value\",\"value\":3000000,\"value_throttled\":3000000},\"id\":\"46618\",\"type\":\"Spinner\"},{\"attributes\":{},\"id\":\"46719\",\"type\":\"BasicTickFormatter\"},{\"attributes\":{\"data_source\":{\"id\":\"46767\"},\"glyph\":{\"id\":\"46770\"},\"hover_glyph\":null,\"muted_glyph\":{\"id\":\"46772\"},\"nonselection_glyph\":{\"id\":\"46771\"},\"selection_glyph\":{\"id\":\"46790\"},\"view\":{\"id\":\"46774\"}},\"id\":\"46773\",\"type\":\"GlyphRenderer\"},{\"attributes\":{\"end\":24331439.274194367,\"reset_end\":24331439.274194367,\"reset_start\":-2211949.0249267607,\"start\":-2211949.0249267607,\"tags\":[[[\"value\",\"value\",null]]]},\"id\":\"46683\",\"type\":\"Range1d\"},{\"attributes\":{\"children\":[{\"id\":\"46625\"},{\"id\":\"46626\"},{\"id\":\"46627\"},{\"id\":\"46628\"},{\"id\":\"46630\"},{\"id\":\"46631\"},{\"id\":\"46633\"},{\"id\":\"46634\"},{\"id\":\"46636\"},{\"id\":\"46637\"},{\"id\":\"46639\"},{\"id\":\"46640\"},{\"id\":\"46642\"},{\"id\":\"46643\"}],\"margin\":[0,0,0,0],\"name\":\"Column523635\"},\"id\":\"46624\",\"type\":\"Column\"},{\"attributes\":{\"format\":\"0,0.0[00000]\"},\"id\":\"46664\",\"type\":\"NumberFormatter\"},{\"attributes\":{},\"id\":\"46725\",\"type\":\"Selection\"},{\"attributes\":{\"source\":{\"id\":\"46791\"}},\"id\":\"46798\",\"type\":\"CDSView\"},{\"attributes\":{},\"id\":\"46655\",\"type\":\"NumberEditor\"},{\"attributes\":{\"label\":{\"value\":\"Lump Value\"},\"renderers\":[{\"id\":\"46730\"}]},\"id\":\"46743\",\"type\":\"LegendItem\"},{\"attributes\":{\"data_source\":{\"id\":\"46745\"},\"glyph\":{\"id\":\"46748\"},\"hover_glyph\":null,\"muted_glyph\":{\"id\":\"46750\"},\"nonselection_glyph\":{\"id\":\"46749\"},\"selection_glyph\":{\"id\":\"46766\"},\"view\":{\"id\":\"46752\"}},\"id\":\"46751\",\"type\":\"GlyphRenderer\"},{\"attributes\":{\"axis_label\":\"Time Period\",\"formatter\":{\"id\":\"46719\"},\"major_label_policy\":{\"id\":\"46720\"},\"ticker\":{\"id\":\"46698\"}},\"id\":\"46697\",\"type\":\"LinearAxis\"},{\"attributes\":{},\"id\":\"46650\",\"type\":\"IntEditor\"},{\"attributes\":{\"children\":[{\"id\":\"46688\"}],\"margin\":[0,0,0,0],\"name\":\"Row523710\"},\"id\":\"46681\",\"type\":\"Row\"},{\"attributes\":{},\"id\":\"46660\",\"type\":\"NumberEditor\"},{\"attributes\":{\"margin\":[5,10,5,10],\"name\":\"\",\"text\":\"<b>PatchedCashFlow</b>\"},\"id\":\"46617\",\"type\":\"Div\"},{\"attributes\":{\"active\":[0],\"labels\":[\"Perpetuity\"],\"margin\":[5,10,5,10]},\"id\":\"46620\",\"type\":\"CheckboxGroup\"},{\"attributes\":{\"editor\":{\"id\":\"46650\"},\"field\":\"Time_Period\",\"formatter\":{\"id\":\"46649\"},\"title\":\"Time Period\"},\"id\":\"46651\",\"type\":\"TableColumn\"},{\"attributes\":{\"children\":[{\"id\":\"46674\"}],\"margin\":[0,0,0,0],\"name\":\"Row523640\"},\"id\":\"46646\",\"type\":\"Row\"},{\"attributes\":{\"margin\":[5,5,5,5],\"name\":\"Str523611\",\"text\":\"&lt;pre&gt;17827183.898492865&lt;/pre&gt;\"},\"id\":\"46635\",\"type\":\"panel.models.markup.HTML\"},{\"attributes\":{\"end\":36.0,\"reset_end\":36.0,\"reset_start\":0.0,\"tags\":[[[\"Time Period\",\"Time Period\",null]]]},\"id\":\"46682\",\"type\":\"Range1d\"},{\"attributes\":{\"line_alpha\":0.2,\"line_color\":\"#30a2da\",\"line_width\":2,\"x\":{\"field\":\"Time Period\"},\"y\":{\"field\":\"value\"}},\"id\":\"46729\",\"type\":\"Line\"},{\"attributes\":{\"axis\":{\"id\":\"46697\"},\"grid_line_color\":null,\"ticker\":null},\"id\":\"46700\",\"type\":\"Grid\"},{\"attributes\":{},\"id\":\"46812\",\"type\":\"UnionRenderers\"},{\"attributes\":{\"margin\":[5,5,5,5],\"name\":\"Str523591\",\"text\":\"&lt;pre&gt;0.010050167084167949&lt;/pre&gt;\"},\"id\":\"46626\",\"type\":\"panel.models.markup.HTML\"},{\"attributes\":{\"line_color\":\"#fc4f30\",\"line_width\":2,\"x\":{\"field\":\"Time Period\"},\"y\":{\"field\":\"value\"}},\"id\":\"46748\",\"type\":\"Line\"},{\"attributes\":{\"line_alpha\":0.2,\"line_color\":\"#6d904f\",\"line_width\":2,\"x\":{\"field\":\"Time Period\"},\"y\":{\"field\":\"value\"}},\"id\":\"46796\",\"type\":\"Line\"},{\"attributes\":{\"children\":[{\"id\":\"46644\"}],\"margin\":[0,0,0,0],\"name\":\"Row523634\"},\"id\":\"46643\",\"type\":\"Row\"},{\"attributes\":{\"margin\":[5,5,5,5],\"name\":\"Str523618\",\"text\":\"&lt;pre&gt;16197786.35298163&lt;/pre&gt;\"},\"id\":\"46638\",\"type\":\"panel.models.markup.HTML\"},{\"attributes\":{},\"id\":\"46762\",\"type\":\"UnionRenderers\"},{\"attributes\":{\"label\":{\"value\":\"Total Value\"},\"renderers\":[{\"id\":\"46773\"}]},\"id\":\"46789\",\"type\":\"LegendItem\"},{\"attributes\":{\"data\":{\"Time Period\":[0,1,2,3,4,5,6,7,8,9,10,11,12,13,14,15,16,17,18,19,20,21,22,23,24,25,26,27,28,29,30,31,32,33,34,35,36],\"Time_Period\":[0,1,2,3,4,5,6,7,8,9,10,11,12,13,14,15,16,17,18,19,20,21,22,23,24,25,26,27,28,29,30,31,32,33,34,35,36],\"Variable\":[\"Total Value\",\"Total Value\",\"Total Value\",\"Total Value\",\"Total Value\",\"Total Value\",\"Total Value\",\"Total Value\",\"Total Value\",\"Total Value\",\"Total Value\",\"Total Value\",\"Total Value\",\"Total Value\",\"Total Value\",\"Total Value\",\"Total Value\",\"Total Value\",\"Total Value\",\"Total Value\",\"Total Value\",\"Total Value\",\"Total Value\",\"Total Value\",\"Total Value\",\"Total Value\",\"Total Value\",\"Total Value\",\"Total Value\",\"Total Value\",\"Total Value\",\"Total Value\",\"Total Value\",\"Total Value\",\"Total Value\",\"Total Value\",\"Total Value\"],\"value\":{\"__ndarray__\":\"h+lTheRxbUGH6VOFk71tQaMB/w0FCm5BnTFbEztXbkHiuHOON6VuQSj+ZX38825BLZhu44tDb0H1d/bI55NvQes0oDsS5W9Bkr0qp4YbcEEXTqqM7URwQVshH92+bnBBu6QRqvuYcEHPWskHpcNwQaXqUw287nBBDkGM1EEacUFSxCF6N0ZxQVianx2ecnFBiwF04XafcUGdvPfqwsxxQVqRdWKD+nFBx9oxc7kockGuLnJLZldyQdoWhRyLhnJBKd7JGim2ckGpcbh9QeZyQfhV6X/VFnNBH7EdX+ZHc0ELaUdcdXlzQe1WkbuDq3NBqY9nxBLec0GVwX/BIxF0Qben4QC4RHRBs5Lv09B4dEG6B2+Pb610QZJ1kYuV4nRBCAD9I0QYdUE=\",\"dtype\":\"float64\",\"order\":\"little\",\"shape\":[37]}},\"selected\":{\"id\":\"46768\"},\"selection_policy\":{\"id\":\"46786\"}},\"id\":\"46767\",\"type\":\"ColumnDataSource\"},{\"attributes\":{\"children\":[{\"id\":\"46632\"}],\"margin\":[0,0,0,0],\"name\":\"Row523606\"},\"id\":\"46631\",\"type\":\"Row\"},{\"attributes\":{\"label\":{\"value\":\"Cash Flow\"},\"renderers\":[{\"id\":\"46797\"}]},\"id\":\"46815\",\"type\":\"LegendItem\"},{\"attributes\":{},\"id\":\"46649\",\"type\":\"NumberFormatter\"},{\"attributes\":{},\"id\":\"46698\",\"type\":\"BasicTicker\"},{\"attributes\":{\"line_alpha\":0.2,\"line_color\":\"#fc4f30\",\"line_width\":2,\"x\":{\"field\":\"Time Period\"},\"y\":{\"field\":\"value\"}},\"id\":\"46750\",\"type\":\"Line\"},{\"attributes\":{\"click_policy\":\"mute\",\"items\":[{\"id\":\"46743\"},{\"id\":\"46765\"},{\"id\":\"46789\"},{\"id\":\"46815\"}],\"location\":[0,0],\"title\":\"Variable\"},\"id\":\"46742\",\"type\":\"Legend\"},{\"attributes\":{\"axis\":{\"id\":\"46701\"},\"dimension\":1,\"grid_line_color\":null,\"ticker\":null},\"id\":\"46704\",\"type\":\"Grid\"},{\"attributes\":{\"source\":{\"id\":\"46767\"}},\"id\":\"46774\",\"type\":\"CDSView\"},{\"attributes\":{\"css_classes\":[\"markdown\"],\"margin\":[5,5,5,5],\"name\":\"Markdown523600\",\"text\":\"&lt;p&gt;Future Lump Value:&lt;/p&gt;\"},\"id\":\"46630\",\"type\":\"panel.models.markup.HTML\"},{\"attributes\":{\"css_classes\":[\"markdown\"],\"margin\":[5,5,5,5],\"name\":\"Markdown523628\",\"text\":\"&lt;p&gt;Total Present Value:&lt;/p&gt;\"},\"id\":\"46642\",\"type\":\"panel.models.markup.HTML\"},{\"attributes\":{\"callback\":null,\"renderers\":[{\"id\":\"46730\"},{\"id\":\"46751\"},{\"id\":\"46773\"},{\"id\":\"46797\"}],\"tags\":[\"hv_created\"],\"tooltips\":[[\"Variable\",\"@{Variable}\"],[\"Time Period\",\"@{Time_Period}\"],[\"value\",\"@{value}\"]]},\"id\":\"46684\",\"type\":\"HoverTool\"},{\"attributes\":{\"editor\":{\"id\":\"46655\"},\"field\":\"Lump_Value\",\"formatter\":{\"id\":\"46654\"},\"title\":\"Lump Value\"},\"id\":\"46656\",\"type\":\"TableColumn\"},{\"attributes\":{},\"id\":\"46786\",\"type\":\"UnionRenderers\"},{\"attributes\":{\"line_alpha\":0.1,\"line_color\":\"#30a2da\",\"line_width\":2,\"x\":{\"field\":\"Time Period\"},\"y\":{\"field\":\"value\"}},\"id\":\"46728\",\"type\":\"Line\"},{\"attributes\":{\"css_classes\":[\"markdown\"],\"margin\":[5,5,5,5],\"name\":\"Markdown523607\",\"text\":\"&lt;p&gt;Future Annuity Value:&lt;/p&gt;\"},\"id\":\"46633\",\"type\":\"panel.models.markup.HTML\"},{\"attributes\":{},\"id\":\"46706\",\"type\":\"PanTool\"},{\"attributes\":{\"children\":[{\"id\":\"46616\"},{\"id\":\"46622\"}],\"margin\":[0,0,0,0],\"name\":\"Row523864\"},\"id\":\"46615\",\"type\":\"Row\"},{\"attributes\":{},\"id\":\"46705\",\"type\":\"SaveTool\"},{\"attributes\":{},\"id\":\"46792\",\"type\":\"Selection\"},{\"attributes\":{\"source\":{\"id\":\"46724\"}},\"id\":\"46731\",\"type\":\"CDSView\"},{\"attributes\":{\"line_alpha\":0.1,\"line_color\":\"#fc4f30\",\"line_width\":2,\"x\":{\"field\":\"Time Period\"},\"y\":{\"field\":\"value\"}},\"id\":\"46749\",\"type\":\"Line\"},{\"attributes\":{\"children\":[{\"id\":\"46646\"},{\"id\":\"46681\"}],\"margin\":[0,0,0,0],\"name\":\"Column523861\"},\"id\":\"46645\",\"type\":\"Column\"},{\"attributes\":{\"data_source\":{\"id\":\"46791\"},\"glyph\":{\"id\":\"46794\"},\"hover_glyph\":null,\"muted_glyph\":{\"id\":\"46796\"},\"nonselection_glyph\":{\"id\":\"46795\"},\"selection_glyph\":{\"id\":\"46816\"},\"view\":{\"id\":\"46798\"}},\"id\":\"46797\",\"type\":\"GlyphRenderer\"},{\"attributes\":{\"css_classes\":[\"markdown\"],\"margin\":[5,5,5,5],\"name\":\"Markdown523589\",\"text\":\"&lt;p&gt;Effective Rate&lt;/p&gt;\"},\"id\":\"46625\",\"type\":\"panel.models.markup.HTML\"},{\"attributes\":{\"data\":{\"Time Period\":[0,1,2,3,4,5,6,7,8,9,10,11,12,13,14,15,16,17,18,19,20,21,22,23,24,25,26,27,28,29,30,31,32,33,34,35,36],\"Time_Period\":[0,1,2,3,4,5,6,7,8,9,10,11,12,13,14,15,16,17,18,19,20,21,22,23,24,25,26,27,28,29,30,31,32,33,34,35,36],\"Variable\":[\"Annuity Value\",\"Annuity Value\",\"Annuity Value\",\"Annuity Value\",\"Annuity Value\",\"Annuity Value\",\"Annuity Value\",\"Annuity Value\",\"Annuity Value\",\"Annuity Value\",\"Annuity Value\",\"Annuity Value\",\"Annuity Value\",\"Annuity Value\",\"Annuity Value\",\"Annuity Value\",\"Annuity Value\",\"Annuity Value\",\"Annuity Value\",\"Annuity Value\",\"Annuity Value\",\"Annuity Value\",\"Annuity Value\",\"Annuity Value\",\"Annuity Value\",\"Annuity Value\",\"Annuity Value\",\"Annuity Value\",\"Annuity Value\",\"Annuity Value\",\"Annuity Value\",\"Annuity Value\",\"Annuity Value\",\"Annuity Value\",\"Annuity Value\",\"Annuity Value\",\"Annuity Value\"],\"value\":{\"__ndarray__\":\"h+lThQy5Z0GH6VOFFfZnQaMB/427M2hBnTFbMwByaEFT9n0N5bBoQTa8lrhr8GhBnGz51JUwaUEyFikHZXFpQeaw4vfasmlBfP0nVPn0aUEagUrNwTdqQSCd9hg2e2pBf8M+8Ve/akHrx6YUKQRrQStOL0arSWtBzFVhTeCPa0GQ41n2ydZrQdfI1RFqHmxBXYk9dcJmbEGRX7H61K9sQdRfFYGj+WxB+Lod7C9EbUFEIFskfI9tQV0/RxeK221BUWpRt1sobkEsWOv78nVuQVwIluFRxG5BRcfuaXoTb0FIVLybbmNvQasp/IIwtG9BT/N3GOECcEHobRXeEixwQXHdT6CuVXBBfDTXb7V/cEF9+hhgKKpwQddYR4cI1XBBDjpg/lYAcUE=\",\"dtype\":\"float64\",\"order\":\"little\",\"shape\":[37]}},\"selected\":{\"id\":\"46746\"},\"selection_policy\":{\"id\":\"46762\"}},\"id\":\"46745\",\"type\":\"ColumnDataSource\"},{\"attributes\":{\"axis_label\":\"\",\"formatter\":{\"id\":\"46722\"},\"major_label_policy\":{\"id\":\"46723\"},\"ticker\":{\"id\":\"46702\"}},\"id\":\"46701\",\"type\":\"LinearAxis\"},{\"attributes\":{},\"id\":\"46665\",\"type\":\"NumberEditor\"},{\"attributes\":{},\"id\":\"46768\",\"type\":\"Selection\"},{\"attributes\":{\"margin\":[5,5,5,5],\"name\":\"Str523632\",\"text\":\"&lt;pre&gt;19197786.35298163&lt;/pre&gt;\"},\"id\":\"46644\",\"type\":\"panel.models.markup.HTML\"},{\"attributes\":{\"children\":[{\"id\":\"46638\"}],\"margin\":[0,0,0,0],\"name\":\"Row523620\"},\"id\":\"46637\",\"type\":\"Row\"},{\"attributes\":{\"line_color\":\"#fc4f30\",\"line_width\":2,\"x\":{\"field\":\"Time Period\"},\"y\":{\"field\":\"value\"}},\"id\":\"46766\",\"type\":\"Line\"},{\"attributes\":{\"label\":{\"value\":\"Annuity Value\"},\"renderers\":[{\"id\":\"46751\"}]},\"id\":\"46765\",\"type\":\"LegendItem\"},{\"attributes\":{\"margin\":[5,5,5,5],\"name\":\"Str523604\",\"text\":\"&lt;pre&gt;4299988.24368102&lt;/pre&gt;\"},\"id\":\"46632\",\"type\":\"panel.models.markup.HTML\"},{\"attributes\":{\"line_color\":\"#6d904f\",\"line_width\":2,\"x\":{\"field\":\"Time Period\"},\"y\":{\"field\":\"value\"}},\"id\":\"46794\",\"type\":\"Line\"},{\"attributes\":{\"below\":[{\"id\":\"46697\"}],\"center\":[{\"id\":\"46700\"},{\"id\":\"46704\"}],\"height\":300,\"left\":[{\"id\":\"46701\"}],\"margin\":[5,5,5,5],\"min_border_bottom\":10,\"min_border_left\":10,\"min_border_right\":10,\"min_border_top\":10,\"renderers\":[{\"id\":\"46730\"},{\"id\":\"46751\"},{\"id\":\"46773\"},{\"id\":\"46797\"}],\"right\":[{\"id\":\"46742\"}],\"sizing_mode\":\"fixed\",\"title\":{\"id\":\"46689\"},\"toolbar\":{\"id\":\"46711\"},\"width\":700,\"x_range\":{\"id\":\"46682\"},\"x_scale\":{\"id\":\"46693\"},\"y_range\":{\"id\":\"46683\"},\"y_scale\":{\"id\":\"46695\"}},\"id\":\"46688\",\"subtype\":\"Figure\",\"type\":\"Plot\"},{\"attributes\":{\"line_alpha\":0.1,\"line_color\":\"#6d904f\",\"line_width\":2,\"x\":{\"field\":\"Time Period\"},\"y\":{\"field\":\"value\"}},\"id\":\"46795\",\"type\":\"Line\"},{\"attributes\":{},\"id\":\"46746\",\"type\":\"Selection\"},{\"attributes\":{\"line_color\":\"#e5ae38\",\"line_width\":2,\"x\":{\"field\":\"Time Period\"},\"y\":{\"field\":\"value\"}},\"id\":\"46770\",\"type\":\"Line\"},{\"attributes\":{\"format\":\"0,0.0[00000]\"},\"id\":\"46659\",\"type\":\"NumberFormatter\"},{\"attributes\":{\"data_source\":{\"id\":\"46724\"},\"glyph\":{\"id\":\"46727\"},\"hover_glyph\":null,\"muted_glyph\":{\"id\":\"46729\"},\"nonselection_glyph\":{\"id\":\"46728\"},\"selection_glyph\":{\"id\":\"46744\"},\"view\":{\"id\":\"46731\"}},\"id\":\"46730\",\"type\":\"GlyphRenderer\"},{\"attributes\":{\"active_multi\":null,\"tools\":[{\"id\":\"46684\"},{\"id\":\"46705\"},{\"id\":\"46706\"},{\"id\":\"46707\"},{\"id\":\"46708\"},{\"id\":\"46709\"}]},\"id\":\"46711\",\"type\":\"Toolbar\"},{\"attributes\":{\"overlay\":{\"id\":\"46710\"}},\"id\":\"46708\",\"type\":\"BoxZoomTool\"},{\"attributes\":{},\"id\":\"46722\",\"type\":\"BasicTickFormatter\"},{\"attributes\":{\"children\":[{\"id\":\"46617\"},{\"id\":\"46618\"},{\"id\":\"46619\"},{\"id\":\"46620\"},{\"id\":\"46621\"}],\"margin\":[5,5,5,5],\"min_width\":300,\"name\":\"PatchedCashFlow\",\"width\":300},\"id\":\"46616\",\"type\":\"Column\"},{\"attributes\":{\"format\":\"0,0.0[00000]\"},\"id\":\"46654\",\"type\":\"NumberFormatter\"},{\"attributes\":{\"bottom_units\":\"screen\",\"fill_alpha\":0.5,\"fill_color\":\"lightgrey\",\"left_units\":\"screen\",\"level\":\"overlay\",\"line_alpha\":1.0,\"line_color\":\"black\",\"line_dash\":[4,4],\"line_width\":2,\"right_units\":\"screen\",\"syncable\":false,\"top_units\":\"screen\"},\"id\":\"46710\",\"type\":\"BoxAnnotation\"},{\"attributes\":{\"client_comm_id\":\"57b231cf7dfc4b35af47a9fa6c625b27\",\"comm_id\":\"2f0a8c37637d4b939ce6f2f07838c441\",\"plot_id\":\"46615\"},\"id\":\"47015\",\"type\":\"panel.models.comm_manager.CommManager\"}],\"root_ids\":[\"46615\",\"47015\"]},\"title\":\"Bokeh Application\",\"version\":\"2.3.2\"}};\n",
       "    var render_items = [{\"docid\":\"f31b096b-2c69-41f2-b877-932d3c5bab64\",\"root_ids\":[\"46615\"],\"roots\":{\"46615\":\"f9e86ef9-27a3-477e-9920-b2d9ecb35420\"}}];\n",
       "    root.Bokeh.embed.embed_items_notebook(docs_json, render_items);\n",
       "  }\n",
       "  if (root.Bokeh !== undefined && root.Bokeh.Panel !== undefined) {\n",
       "    embed_document(root);\n",
       "  } else {\n",
       "    var attempts = 0;\n",
       "    var timer = setInterval(function(root) {\n",
       "      if (root.Bokeh !== undefined && root.Bokeh.Panel !== undefined) {\n",
       "        clearInterval(timer);\n",
       "        embed_document(root);\n",
       "      } else if (document.readyState == \"complete\") {\n",
       "        attempts++;\n",
       "        if (attempts > 100) {\n",
       "          clearInterval(timer);\n",
       "          console.log(\"Bokeh: ERROR: Unable to run BokehJS code because BokehJS library is missing\");\n",
       "        }\n",
       "      }\n",
       "    }, 10, root)\n",
       "  }\n",
       "})(window);</script>"
      ],
      "text/plain": [
       "Row\n",
       "    [0] Column(margin=5, name='PatchedCashFlow', width=300)\n",
       "        [0] StaticText(value='<b>PatchedCashFlow</b>')\n",
       "        [1] FloatInput(name='Present value', start=0, step=1, value=3000000)\n",
       "        [2] FloatInput(name='Annuity', start=0, step=1, value=125000.0)\n",
       "        [3] Checkbox(name='Perpetuity', value=True)\n",
       "        [4] IntSlider(end=100, name='N', value=36)\n",
       "    [1] ParamMethod(method)"
      ]
     },
     "execution_count": 32,
     "metadata": {
      "application/vnd.holoviews_exec.v0+json": {
       "id": "46615"
      }
     },
     "output_type": "execute_result"
    }
   ],
   "source": [
    "cash_flow = PatchedCashFlow(interest_rate=prime, present_value=3000000, annuity=1.5e6 / 12, perpetuity=True, N=36)\n",
    "pn.Row(cash_flow, cash_flow.view)"
   ]
  },
  {
   "cell_type": "code",
   "execution_count": 8,
   "id": "c4eb779b-6cd1-4f57-be17-97500302948a",
   "metadata": {},
   "outputs": [
    {
     "data": {
      "text/plain": [
       "125000.0"
      ]
     },
     "execution_count": 8,
     "metadata": {},
     "output_type": "execute_result"
    }
   ],
   "source": [
    "1.5e6 / 12"
   ]
  },
  {
   "cell_type": "markdown",
   "id": "24805731-1fa6-48a0-b2ad-ba98abf554c7",
   "metadata": {},
   "source": [
    "I have a question. If you have 1.4321 return rate over three years, what is the APY?"
   ]
  },
  {
   "cell_type": "code",
   "execution_count": 18,
   "id": "f7a26ca2-70b0-4f58-87c9-9a2428aaca30",
   "metadata": {},
   "outputs": [],
   "source": [
    "c2 = CashFlow(prime)\n",
    "view = lambda cashflow: pn.Row(cashflow, cashflow.view)"
   ]
  },
  {
   "cell_type": "code",
   "execution_count": 19,
   "id": "8ead891b-28fb-4e0b-aeb2-68667d9f1b82",
   "metadata": {},
   "outputs": [
    {
     "data": {},
     "metadata": {},
     "output_type": "display_data"
    },
    {
     "data": {},
     "metadata": {},
     "output_type": "display_data"
    },
    {
     "data": {
      "application/vnd.holoviews_exec.v0+json": "",
      "text/html": [
       "<div id='22544'>\n",
       "\n",
       "\n",
       "\n",
       "\n",
       "\n",
       "  <div class=\"bk-root\" id=\"f45cfe24-79b9-4131-998b-8926ccef923f\" data-root-id=\"22544\"></div>\n",
       "</div>\n",
       "<script type=\"application/javascript\">(function(root) {\n",
       "  function embed_document(root) {\n",
       "    var docs_json = {\"83f8da1d-17b7-4735-b47a-ef95f37781b6\":{\"defs\":[],\"roots\":{\"references\":[{\"attributes\":{\"line_color\":\"#6d904f\",\"line_width\":2,\"x\":{\"field\":\"Time Period\"},\"y\":{\"field\":\"value\"}},\"id\":\"22745\",\"type\":\"Line\"},{\"attributes\":{},\"id\":\"22635\",\"type\":\"PanTool\"},{\"attributes\":{\"bottom_units\":\"screen\",\"fill_alpha\":0.5,\"fill_color\":\"lightgrey\",\"left_units\":\"screen\",\"level\":\"overlay\",\"line_alpha\":1.0,\"line_color\":\"black\",\"line_dash\":[4,4],\"line_width\":2,\"right_units\":\"screen\",\"syncable\":false,\"top_units\":\"screen\"},\"id\":\"22639\",\"type\":\"BoxAnnotation\"},{\"attributes\":{\"source\":{\"id\":\"22696\"}},\"id\":\"22703\",\"type\":\"CDSView\"},{\"attributes\":{},\"id\":\"22634\",\"type\":\"SaveTool\"},{\"attributes\":{},\"id\":\"22649\",\"type\":\"AllLabels\"},{\"attributes\":{},\"id\":\"22691\",\"type\":\"UnionRenderers\"},{\"attributes\":{\"line_alpha\":0.2,\"line_color\":\"#30a2da\",\"line_width\":2,\"x\":{\"field\":\"Time Period\"},\"y\":{\"field\":\"value\"}},\"id\":\"22658\",\"type\":\"Line\"},{\"attributes\":{},\"id\":\"22627\",\"type\":\"BasicTicker\"},{\"attributes\":{\"data\":{\"Annuity_Value\":{\"__ndarray__\":\"AAAAAAAAAAAAAAAAAAAkQA==\",\"dtype\":\"float64\",\"order\":\"little\",\"shape\":[2]},\"Cash_Flow\":{\"__ndarray__\":\"AAAAAAAAAAA0MzMzM7M4QA==\",\"dtype\":\"float64\",\"order\":\"little\",\"shape\":[2]},\"Lump_Value\":{\"__ndarray__\":\"AAAAAAAAPkCamZmZmVlGQA==\",\"dtype\":\"float64\",\"order\":\"little\",\"shape\":[2]},\"Time_Period\":[0,1],\"Total_Value\":{\"__ndarray__\":\"AAAAAAAAPkCamZmZmVlLQA==\",\"dtype\":\"float64\",\"order\":\"little\",\"shape\":[2]}},\"selected\":{\"id\":\"22577\"},\"selection_policy\":{\"id\":\"22606\"}},\"id\":\"22576\",\"type\":\"ColumnDataSource\"},{\"attributes\":{\"low\":0,\"margin\":[5,10,5,10],\"placeholder\":\"0\",\"title\":\"Annuity\",\"value\":10,\"value_throttled\":10},\"id\":\"22548\",\"type\":\"Spinner\"},{\"attributes\":{\"margin\":[5,5,5,5],\"name\":\"Str186933\",\"text\":\"&lt;pre&gt;36.12626394184416&lt;/pre&gt;\"},\"id\":\"22573\",\"type\":\"panel.models.markup.HTML\"},{\"attributes\":{\"css_classes\":[\"markdown\"],\"margin\":[5,5,5,5],\"name\":\"Markdown186915\",\"text\":\"&lt;p&gt;Present Annuity Value:&lt;/p&gt;\"},\"id\":\"22565\",\"type\":\"panel.models.markup.HTML\"},{\"attributes\":{\"label\":{\"value\":\"Annuity Value\"},\"renderers\":[{\"id\":\"22680\"}]},\"id\":\"22694\",\"type\":\"LegendItem\"},{\"attributes\":{\"margin\":[5,5,5,5],\"name\":\"Str186898\",\"text\":\"&lt;pre&gt;0.6126263941844161&lt;/pre&gt;\"},\"id\":\"22558\",\"type\":\"panel.models.markup.HTML\"},{\"attributes\":{\"active_multi\":null,\"tools\":[{\"id\":\"22613\"},{\"id\":\"22634\"},{\"id\":\"22635\"},{\"id\":\"22636\"},{\"id\":\"22637\"},{\"id\":\"22638\"}]},\"id\":\"22640\",\"type\":\"Toolbar\"},{\"attributes\":{},\"id\":\"22721\",\"type\":\"Selection\"},{\"attributes\":{\"format\":\"0,0.0[00000]\"},\"id\":\"22588\",\"type\":\"NumberFormatter\"},{\"attributes\":{},\"id\":\"22631\",\"type\":\"BasicTicker\"},{\"attributes\":{\"end\":60.17,\"reset_end\":60.17,\"reset_start\":-5.470000000000001,\"start\":-5.470000000000001,\"tags\":[[[\"value\",\"value\",null]]]},\"id\":\"22612\",\"type\":\"Range1d\"},{\"attributes\":{\"data\":{\"Time Period\":[0,1],\"Time_Period\":[0,1],\"Variable\":[\"Annuity Value\",\"Annuity Value\"],\"value\":{\"__ndarray__\":\"AAAAAAAAAAAAAAAAAAAkQA==\",\"dtype\":\"float64\",\"order\":\"little\",\"shape\":[2]}},\"selected\":{\"id\":\"22675\"},\"selection_policy\":{\"id\":\"22691\"}},\"id\":\"22674\",\"type\":\"ColumnDataSource\"},{\"attributes\":{},\"id\":\"22648\",\"type\":\"BasicTickFormatter\"},{\"attributes\":{},\"id\":\"22577\",\"type\":\"Selection\"},{\"attributes\":{\"children\":[{\"id\":\"22553\"},{\"id\":\"22574\"}],\"margin\":[0,0,0,0],\"name\":\"Row187163\"},\"id\":\"22552\",\"type\":\"Row\"},{\"attributes\":{\"margin\":[5,10,5,10],\"name\":\"\",\"text\":\"<b>ContinuousCompoundingCashFlow</b>\"},\"id\":\"22546\",\"type\":\"Div\"},{\"attributes\":{\"children\":[{\"id\":\"22554\"},{\"id\":\"22555\"},{\"id\":\"22556\"},{\"id\":\"22557\"},{\"id\":\"22559\"},{\"id\":\"22560\"},{\"id\":\"22562\"},{\"id\":\"22563\"},{\"id\":\"22565\"},{\"id\":\"22566\"},{\"id\":\"22568\"},{\"id\":\"22569\"},{\"id\":\"22571\"},{\"id\":\"22572\"}],\"margin\":[0,0,0,0],\"name\":\"Column186936\"},\"id\":\"22553\",\"type\":\"Column\"},{\"attributes\":{\"data_source\":{\"id\":\"22653\"},\"glyph\":{\"id\":\"22656\"},\"hover_glyph\":null,\"muted_glyph\":{\"id\":\"22658\"},\"nonselection_glyph\":{\"id\":\"22657\"},\"selection_glyph\":{\"id\":\"22673\"},\"view\":{\"id\":\"22660\"}},\"id\":\"22659\",\"type\":\"GlyphRenderer\"},{\"attributes\":{},\"id\":\"22636\",\"type\":\"WheelZoomTool\"},{\"attributes\":{\"label\":{\"value\":\"Lump Value\"},\"renderers\":[{\"id\":\"22659\"}]},\"id\":\"22672\",\"type\":\"LegendItem\"},{\"attributes\":{\"data\":{\"Time Period\":[0,1],\"Time_Period\":[0,1],\"Variable\":[\"Total Value\",\"Total Value\"],\"value\":{\"__ndarray__\":\"AAAAAAAAPkCamZmZmVlLQA==\",\"dtype\":\"float64\",\"order\":\"little\",\"shape\":[2]}},\"selected\":{\"id\":\"22697\"},\"selection_policy\":{\"id\":\"22715\"}},\"id\":\"22696\",\"type\":\"ColumnDataSource\"},{\"attributes\":{\"children\":[{\"id\":\"22546\"},{\"id\":\"22547\"},{\"id\":\"22548\"},{\"id\":\"22549\"},{\"id\":\"22550\"}],\"margin\":[5,5,5,5],\"min_width\":300,\"name\":\"ContinuousCompoundingCashFlow\",\"width\":300},\"id\":\"22545\",\"type\":\"Column\"},{\"attributes\":{\"margin\":[5,5,5,5],\"name\":\"Str186892\",\"text\":\"&lt;pre&gt;0.6323162199553789&lt;/pre&gt;\"},\"id\":\"22555\",\"type\":\"panel.models.markup.HTML\"},{\"attributes\":{},\"id\":\"22578\",\"type\":\"NumberFormatter\"},{\"attributes\":{\"css_classes\":[\"markdown\"],\"margin\":[5,5,5,5],\"name\":\"Markdown186894\",\"text\":\"&lt;p&gt;Present Value Factor:&lt;/p&gt;\"},\"id\":\"22556\",\"type\":\"panel.models.markup.HTML\"},{\"attributes\":{},\"id\":\"22606\",\"type\":\"UnionRenderers\"},{\"attributes\":{\"children\":[{\"id\":\"22575\"},{\"id\":\"22610\"}],\"margin\":[0,0,0,0],\"name\":\"Column187162\"},\"id\":\"22574\",\"type\":\"Column\"},{\"attributes\":{\"data_source\":{\"id\":\"22674\"},\"glyph\":{\"id\":\"22677\"},\"hover_glyph\":null,\"muted_glyph\":{\"id\":\"22679\"},\"nonselection_glyph\":{\"id\":\"22678\"},\"selection_glyph\":{\"id\":\"22695\"},\"view\":{\"id\":\"22681\"}},\"id\":\"22680\",\"type\":\"GlyphRenderer\"},{\"attributes\":{\"css_classes\":[\"markdown\"],\"margin\":[5,5,5,5],\"name\":\"Markdown186901\",\"text\":\"&lt;p&gt;Future Lump Value:&lt;/p&gt;\"},\"id\":\"22559\",\"type\":\"panel.models.markup.HTML\"},{\"attributes\":{\"margin\":[5,5,5,5],\"name\":\"Str186912\",\"text\":\"&lt;pre&gt;10.0&lt;/pre&gt;\"},\"id\":\"22564\",\"type\":\"panel.models.markup.HTML\"},{\"attributes\":{\"css_classes\":[\"markdown\"],\"margin\":[5,5,5,5],\"name\":\"Markdown186908\",\"text\":\"&lt;p&gt;Future Annuity Value:&lt;/p&gt;\"},\"id\":\"22562\",\"type\":\"panel.models.markup.HTML\"},{\"attributes\":{\"line_color\":\"#e5ae38\",\"line_width\":2,\"x\":{\"field\":\"Time Period\"},\"y\":{\"field\":\"value\"}},\"id\":\"22719\",\"type\":\"Line\"},{\"attributes\":{\"editor\":{\"id\":\"22579\"},\"field\":\"Time_Period\",\"formatter\":{\"id\":\"22578\"},\"title\":\"Time Period\"},\"id\":\"22580\",\"type\":\"TableColumn\"},{\"attributes\":{\"line_color\":\"#6d904f\",\"line_width\":2,\"x\":{\"field\":\"Time Period\"},\"y\":{\"field\":\"value\"}},\"id\":\"22723\",\"type\":\"Line\"},{\"attributes\":{\"axis_label\":\"Time Period\",\"formatter\":{\"id\":\"22648\"},\"major_label_policy\":{\"id\":\"22649\"},\"ticker\":{\"id\":\"22627\"}},\"id\":\"22626\",\"type\":\"LinearAxis\"},{\"attributes\":{},\"id\":\"22594\",\"type\":\"NumberEditor\"},{\"attributes\":{\"source\":{\"id\":\"22720\"}},\"id\":\"22727\",\"type\":\"CDSView\"},{\"attributes\":{\"margin\":[5,5,5,5],\"name\":\"Str186905\",\"text\":\"&lt;pre&gt;48.96948659866137&lt;/pre&gt;\"},\"id\":\"22561\",\"type\":\"panel.models.markup.HTML\"},{\"attributes\":{\"data_source\":{\"id\":\"22696\"},\"glyph\":{\"id\":\"22699\"},\"hover_glyph\":null,\"muted_glyph\":{\"id\":\"22701\"},\"nonselection_glyph\":{\"id\":\"22700\"},\"selection_glyph\":{\"id\":\"22719\"},\"view\":{\"id\":\"22703\"}},\"id\":\"22702\",\"type\":\"GlyphRenderer\"},{\"attributes\":{\"children\":[{\"id\":\"22561\"}],\"margin\":[0,0,0,0],\"name\":\"Row186907\"},\"id\":\"22560\",\"type\":\"Row\"},{\"attributes\":{\"children\":[{\"id\":\"22573\"}],\"margin\":[0,0,0,0],\"name\":\"Row186935\"},\"id\":\"22572\",\"type\":\"Row\"},{\"attributes\":{},\"id\":\"22651\",\"type\":\"BasicTickFormatter\"},{\"attributes\":{\"low\":0,\"margin\":[5,10,5,10],\"placeholder\":\"0\",\"title\":\"Present value\",\"value\":30,\"value_throttled\":30},\"id\":\"22547\",\"type\":\"Spinner\"},{\"attributes\":{\"click_policy\":\"mute\",\"items\":[{\"id\":\"22672\"},{\"id\":\"22694\"},{\"id\":\"22718\"},{\"id\":\"22744\"}],\"location\":[0,0],\"title\":\"Variable\"},\"id\":\"22671\",\"type\":\"Legend\"},{\"attributes\":{\"client_comm_id\":\"0600339722714349bd169f60affbc88f\",\"comm_id\":\"c31f129c74ef4b7d936276a118bf0136\",\"plot_id\":\"22544\"},\"id\":\"22944\",\"type\":\"panel.models.comm_manager.CommManager\"},{\"attributes\":{\"css_classes\":[\"markdown\"],\"margin\":[5,5,5,5],\"name\":\"Markdown186922\",\"text\":\"&lt;p&gt;Total Future Value:&lt;/p&gt;\"},\"id\":\"22568\",\"type\":\"panel.models.markup.HTML\"},{\"attributes\":{\"line_color\":\"#fc4f30\",\"line_width\":2,\"x\":{\"field\":\"Time Period\"},\"y\":{\"field\":\"value\"}},\"id\":\"22695\",\"type\":\"Line\"},{\"attributes\":{\"format\":\"0,0.0[00000]\"},\"id\":\"22583\",\"type\":\"NumberFormatter\"},{\"attributes\":{},\"id\":\"22654\",\"type\":\"Selection\"},{\"attributes\":{\"data_source\":{\"id\":\"22720\"},\"glyph\":{\"id\":\"22723\"},\"hover_glyph\":null,\"muted_glyph\":{\"id\":\"22725\"},\"nonselection_glyph\":{\"id\":\"22724\"},\"selection_glyph\":{\"id\":\"22745\"},\"view\":{\"id\":\"22727\"}},\"id\":\"22726\",\"type\":\"GlyphRenderer\"},{\"attributes\":{\"format\":\"0,0.0[00000]\"},\"id\":\"22598\",\"type\":\"NumberFormatter\"},{\"attributes\":{\"reset_end\":1.0,\"reset_start\":0.0,\"tags\":[[[\"Time Period\",\"Time Period\",null]]]},\"id\":\"22611\",\"type\":\"Range1d\"},{\"attributes\":{\"editor\":{\"id\":\"22584\"},\"field\":\"Lump_Value\",\"formatter\":{\"id\":\"22583\"},\"title\":\"Lump Value\"},\"id\":\"22585\",\"type\":\"TableColumn\"},{\"attributes\":{\"callback\":null,\"renderers\":[{\"id\":\"22659\"},{\"id\":\"22680\"},{\"id\":\"22702\"},{\"id\":\"22726\"}],\"tags\":[\"hv_created\"],\"tooltips\":[[\"Variable\",\"@{Variable}\"],[\"Time Period\",\"@{Time_Period}\"],[\"value\",\"@{value}\"]]},\"id\":\"22613\",\"type\":\"HoverTool\"},{\"attributes\":{\"source\":{\"id\":\"22653\"}},\"id\":\"22660\",\"type\":\"CDSView\"},{\"attributes\":{\"children\":[{\"id\":\"22617\"}],\"margin\":[0,0,0,0],\"name\":\"Row187011\"},\"id\":\"22610\",\"type\":\"Row\"},{\"attributes\":{\"source\":{\"id\":\"22674\"}},\"id\":\"22681\",\"type\":\"CDSView\"},{\"attributes\":{\"data\":{\"Time Period\":[0,1],\"Time_Period\":[0,1],\"Variable\":[\"Lump Value\",\"Lump Value\"],\"value\":{\"__ndarray__\":\"AAAAAAAAPkCamZmZmVlGQA==\",\"dtype\":\"float64\",\"order\":\"little\",\"shape\":[2]}},\"selected\":{\"id\":\"22654\"},\"selection_policy\":{\"id\":\"22668\"}},\"id\":\"22653\",\"type\":\"ColumnDataSource\"},{\"attributes\":{\"children\":[{\"id\":\"22552\"}],\"margin\":[0,0,0,0],\"name\":\"Row186889\"},\"id\":\"22551\",\"type\":\"Row\"},{\"attributes\":{\"children\":[{\"id\":\"22558\"}],\"margin\":[0,0,0,0],\"name\":\"Row186900\"},\"id\":\"22557\",\"type\":\"Row\"},{\"attributes\":{},\"id\":\"22624\",\"type\":\"LinearScale\"},{\"attributes\":{\"line_color\":\"#30a2da\",\"line_width\":2,\"x\":{\"field\":\"Time Period\"},\"y\":{\"field\":\"value\"}},\"id\":\"22673\",\"type\":\"Line\"},{\"attributes\":{\"css_classes\":[\"markdown\"],\"margin\":[5,5,5,5],\"name\":\"Markdown186929\",\"text\":\"&lt;p&gt;Total Present Value:&lt;/p&gt;\"},\"id\":\"22571\",\"type\":\"panel.models.markup.HTML\"},{\"attributes\":{\"margin\":[5,5,5,5],\"name\":\"Str186926\",\"text\":\"&lt;pre&gt;54.7&lt;/pre&gt;\"},\"id\":\"22570\",\"type\":\"panel.models.markup.HTML\"},{\"attributes\":{\"line_color\":\"#e5ae38\",\"line_width\":2,\"x\":{\"field\":\"Time Period\"},\"y\":{\"field\":\"value\"}},\"id\":\"22699\",\"type\":\"Line\"},{\"attributes\":{},\"id\":\"22599\",\"type\":\"NumberEditor\"},{\"attributes\":{\"children\":[{\"id\":\"22545\"},{\"id\":\"22551\"}],\"margin\":[0,0,0,0],\"name\":\"Row187165\"},\"id\":\"22544\",\"type\":\"Row\"},{\"attributes\":{\"children\":[{\"id\":\"22603\"}],\"margin\":[0,0,0,0],\"name\":\"Row186941\"},\"id\":\"22575\",\"type\":\"Row\"},{\"attributes\":{\"columns\":[{\"id\":\"22580\"},{\"id\":\"22585\"},{\"id\":\"22590\"},{\"id\":\"22595\"},{\"id\":\"22600\"}],\"height\":300,\"reorderable\":false,\"source\":{\"id\":\"22576\"},\"view\":{\"id\":\"22605\"},\"width\":700},\"id\":\"22603\",\"type\":\"DataTable\"},{\"attributes\":{\"children\":[{\"id\":\"22564\"}],\"margin\":[0,0,0,0],\"name\":\"Row186914\"},\"id\":\"22563\",\"type\":\"Row\"},{\"attributes\":{\"label\":{\"value\":\"Total Value\"},\"renderers\":[{\"id\":\"22702\"}]},\"id\":\"22718\",\"type\":\"LegendItem\"},{\"attributes\":{\"end\":100,\"margin\":[5,10,5,10],\"start\":0,\"title\":\"N\",\"value\":1},\"id\":\"22550\",\"type\":\"Slider\"},{\"attributes\":{},\"id\":\"22638\",\"type\":\"ResetTool\"},{\"attributes\":{\"children\":[{\"id\":\"22567\"}],\"margin\":[0,0,0,0],\"name\":\"Row186921\"},\"id\":\"22566\",\"type\":\"Row\"},{\"attributes\":{\"axis_label\":\"\",\"formatter\":{\"id\":\"22651\"},\"major_label_policy\":{\"id\":\"22652\"},\"ticker\":{\"id\":\"22631\"}},\"id\":\"22630\",\"type\":\"LinearAxis\"},{\"attributes\":{\"line_alpha\":0.1,\"line_color\":\"#30a2da\",\"line_width\":2,\"x\":{\"field\":\"Time Period\"},\"y\":{\"field\":\"value\"}},\"id\":\"22657\",\"type\":\"Line\"},{\"attributes\":{},\"id\":\"22652\",\"type\":\"AllLabels\"},{\"attributes\":{\"line_alpha\":0.1,\"line_color\":\"#6d904f\",\"line_width\":2,\"x\":{\"field\":\"Time Period\"},\"y\":{\"field\":\"value\"}},\"id\":\"22724\",\"type\":\"Line\"},{\"attributes\":{\"below\":[{\"id\":\"22626\"}],\"center\":[{\"id\":\"22629\"},{\"id\":\"22633\"}],\"height\":300,\"left\":[{\"id\":\"22630\"}],\"margin\":[5,5,5,5],\"min_border_bottom\":10,\"min_border_left\":10,\"min_border_right\":10,\"min_border_top\":10,\"renderers\":[{\"id\":\"22659\"},{\"id\":\"22680\"},{\"id\":\"22702\"},{\"id\":\"22726\"}],\"right\":[{\"id\":\"22671\"}],\"sizing_mode\":\"fixed\",\"title\":{\"id\":\"22618\"},\"toolbar\":{\"id\":\"22640\"},\"width\":700,\"x_range\":{\"id\":\"22611\"},\"x_scale\":{\"id\":\"22622\"},\"y_range\":{\"id\":\"22612\"},\"y_scale\":{\"id\":\"22624\"}},\"id\":\"22617\",\"subtype\":\"Figure\",\"type\":\"Plot\"},{\"attributes\":{\"editor\":{\"id\":\"22599\"},\"field\":\"Cash_Flow\",\"formatter\":{\"id\":\"22598\"},\"title\":\"Cash Flow\"},\"id\":\"22600\",\"type\":\"TableColumn\"},{\"attributes\":{\"editor\":{\"id\":\"22589\"},\"field\":\"Annuity_Value\",\"formatter\":{\"id\":\"22588\"},\"title\":\"Annuity Value\"},\"id\":\"22590\",\"type\":\"TableColumn\"},{\"attributes\":{},\"id\":\"22715\",\"type\":\"UnionRenderers\"},{\"attributes\":{\"line_alpha\":0.1,\"line_color\":\"#fc4f30\",\"line_width\":2,\"x\":{\"field\":\"Time Period\"},\"y\":{\"field\":\"value\"}},\"id\":\"22678\",\"type\":\"Line\"},{\"attributes\":{},\"id\":\"22668\",\"type\":\"UnionRenderers\"},{\"attributes\":{\"labels\":[\"Perpetuity\"],\"margin\":[5,10,5,10]},\"id\":\"22549\",\"type\":\"CheckboxGroup\"},{\"attributes\":{\"line_alpha\":0.2,\"line_color\":\"#6d904f\",\"line_width\":2,\"x\":{\"field\":\"Time Period\"},\"y\":{\"field\":\"value\"}},\"id\":\"22725\",\"type\":\"Line\"},{\"attributes\":{\"line_alpha\":0.2,\"line_color\":\"#e5ae38\",\"line_width\":2,\"x\":{\"field\":\"Time Period\"},\"y\":{\"field\":\"value\"}},\"id\":\"22701\",\"type\":\"Line\"},{\"attributes\":{\"axis\":{\"id\":\"22630\"},\"dimension\":1,\"grid_line_color\":null,\"ticker\":null},\"id\":\"22633\",\"type\":\"Grid\"},{\"attributes\":{\"label\":{\"value\":\"Cash Flow\"},\"renderers\":[{\"id\":\"22726\"}]},\"id\":\"22744\",\"type\":\"LegendItem\"},{\"attributes\":{\"format\":\"0,0.0[00000]\"},\"id\":\"22593\",\"type\":\"NumberFormatter\"},{\"attributes\":{\"line_alpha\":0.1,\"line_color\":\"#e5ae38\",\"line_width\":2,\"x\":{\"field\":\"Time Period\"},\"y\":{\"field\":\"value\"}},\"id\":\"22700\",\"type\":\"Line\"},{\"attributes\":{},\"id\":\"22584\",\"type\":\"NumberEditor\"},{\"attributes\":{\"data\":{\"Time Period\":[0,1],\"Time_Period\":[0,1],\"Variable\":[\"Cash Flow\",\"Cash Flow\"],\"value\":{\"__ndarray__\":\"AAAAAAAAAAA0MzMzM7M4QA==\",\"dtype\":\"float64\",\"order\":\"little\",\"shape\":[2]}},\"selected\":{\"id\":\"22721\"},\"selection_policy\":{\"id\":\"22741\"}},\"id\":\"22720\",\"type\":\"ColumnDataSource\"},{\"attributes\":{\"css_classes\":[\"markdown\"],\"margin\":[5,5,5,5],\"name\":\"Markdown186890\",\"text\":\"&lt;p&gt;Effective Rate&lt;/p&gt;\"},\"id\":\"22554\",\"type\":\"panel.models.markup.HTML\"},{\"attributes\":{\"line_color\":\"#30a2da\",\"line_width\":2,\"x\":{\"field\":\"Time Period\"},\"y\":{\"field\":\"value\"}},\"id\":\"22656\",\"type\":\"Line\"},{\"attributes\":{\"editor\":{\"id\":\"22594\"},\"field\":\"Total_Value\",\"formatter\":{\"id\":\"22593\"},\"title\":\"Total Value\"},\"id\":\"22595\",\"type\":\"TableColumn\"},{\"attributes\":{\"text\":\"Cash Flow\",\"text_color\":\"black\",\"text_font_size\":\"12pt\"},\"id\":\"22618\",\"type\":\"Title\"},{\"attributes\":{\"children\":[{\"id\":\"22570\"}],\"margin\":[0,0,0,0],\"name\":\"Row186928\"},\"id\":\"22569\",\"type\":\"Row\"},{\"attributes\":{},\"id\":\"22622\",\"type\":\"LinearScale\"},{\"attributes\":{\"line_color\":\"#fc4f30\",\"line_width\":2,\"x\":{\"field\":\"Time Period\"},\"y\":{\"field\":\"value\"}},\"id\":\"22677\",\"type\":\"Line\"},{\"attributes\":{\"axis\":{\"id\":\"22626\"},\"grid_line_color\":null,\"ticker\":null},\"id\":\"22629\",\"type\":\"Grid\"},{\"attributes\":{},\"id\":\"22697\",\"type\":\"Selection\"},{\"attributes\":{\"overlay\":{\"id\":\"22639\"}},\"id\":\"22637\",\"type\":\"BoxZoomTool\"},{\"attributes\":{},\"id\":\"22579\",\"type\":\"IntEditor\"},{\"attributes\":{\"margin\":[5,5,5,5],\"name\":\"Str186919\",\"text\":\"&lt;pre&gt;6.126263941844162&lt;/pre&gt;\"},\"id\":\"22567\",\"type\":\"panel.models.markup.HTML\"},{\"attributes\":{\"line_alpha\":0.2,\"line_color\":\"#fc4f30\",\"line_width\":2,\"x\":{\"field\":\"Time Period\"},\"y\":{\"field\":\"value\"}},\"id\":\"22679\",\"type\":\"Line\"},{\"attributes\":{},\"id\":\"22589\",\"type\":\"NumberEditor\"},{\"attributes\":{},\"id\":\"22675\",\"type\":\"Selection\"},{\"attributes\":{},\"id\":\"22741\",\"type\":\"UnionRenderers\"},{\"attributes\":{\"source\":{\"id\":\"22576\"}},\"id\":\"22605\",\"type\":\"CDSView\"}],\"root_ids\":[\"22544\",\"22944\"]},\"title\":\"Bokeh Application\",\"version\":\"2.3.2\"}};\n",
       "    var render_items = [{\"docid\":\"83f8da1d-17b7-4735-b47a-ef95f37781b6\",\"root_ids\":[\"22544\"],\"roots\":{\"22544\":\"f45cfe24-79b9-4131-998b-8926ccef923f\"}}];\n",
       "    root.Bokeh.embed.embed_items_notebook(docs_json, render_items);\n",
       "  }\n",
       "  if (root.Bokeh !== undefined && root.Bokeh.Panel !== undefined) {\n",
       "    embed_document(root);\n",
       "  } else {\n",
       "    var attempts = 0;\n",
       "    var timer = setInterval(function(root) {\n",
       "      if (root.Bokeh !== undefined && root.Bokeh.Panel !== undefined) {\n",
       "        clearInterval(timer);\n",
       "        embed_document(root);\n",
       "      } else if (document.readyState == \"complete\") {\n",
       "        attempts++;\n",
       "        if (attempts > 100) {\n",
       "          clearInterval(timer);\n",
       "          console.log(\"Bokeh: ERROR: Unable to run BokehJS code because BokehJS library is missing\");\n",
       "        }\n",
       "      }\n",
       "    }, 10, root)\n",
       "  }\n",
       "})(window);</script>"
      ],
      "text/plain": [
       "Row\n",
       "    [0] Column(margin=5, name='ContinuousCompoundingCash..., width=300)\n",
       "        [0] StaticText(value='<b>ContinuousCompoundingC...)\n",
       "        [1] FloatInput(name='Present value', start=0, step=1, value=30)\n",
       "        [2] FloatInput(name='Annuity', start=0, step=1, value=10)\n",
       "        [3] Checkbox(name='Perpetuity')\n",
       "        [4] IntSlider(end=100, name='N', value=1)\n",
       "    [1] ParamMethod(method)"
      ]
     },
     "execution_count": 19,
     "metadata": {
      "application/vnd.holoviews_exec.v0+json": {
       "id": "22544"
      }
     },
     "output_type": "execute_result"
    }
   ],
   "source": [
    "view(c2)"
   ]
  },
  {
   "cell_type": "code",
   "execution_count": 20,
   "id": "deb7cec8-533d-4df9-b637-a39c250696fc",
   "metadata": {},
   "outputs": [
    {
     "data": {
      "text/plain": [
       "ContinuousCompoundingCashFlow(N=1, annuity=10, name='ContinuousCompoundingCashFlow186872', perpetuity=False, present_value=30)"
      ]
     },
     "execution_count": 20,
     "metadata": {},
     "output_type": "execute_result"
    }
   ],
   "source": [
    "c2"
   ]
  },
  {
   "cell_type": "code",
   "execution_count": 33,
   "id": "c809dcf9-0a61-4aa3-ba84-2cc8dbe0b074",
   "metadata": {},
   "outputs": [
    {
     "data": {
      "text/plain": [
       "14.403333333333334"
      ]
     },
     "execution_count": 33,
     "metadata": {},
     "output_type": "execute_result"
    }
   ],
   "source": [
    "43.21 / 3"
   ]
  },
  {
   "cell_type": "code",
   "execution_count": 34,
   "id": "67147c9f-6a56-49d3-bcf7-27112039ca7e",
   "metadata": {},
   "outputs": [
    {
     "data": {
      "text/plain": [
       "9.6"
      ]
     },
     "execution_count": 34,
     "metadata": {},
     "output_type": "execute_result"
    }
   ],
   "source": [
    "19.2/2"
   ]
  },
  {
   "cell_type": "code",
   "execution_count": null,
   "id": "43bb7fcb-8eaf-49e1-b799-80f3a90d781e",
   "metadata": {},
   "outputs": [],
   "source": []
  }
 ],
 "metadata": {
  "kernelspec": {
   "display_name": "Python 3",
   "language": "python",
   "name": "python3"
  },
  "language_info": {
   "codemirror_mode": {
    "name": "ipython",
    "version": 3
   },
   "file_extension": ".py",
   "mimetype": "text/x-python",
   "name": "python",
   "nbconvert_exporter": "python",
   "pygments_lexer": "ipython3",
   "version": "3.8.8"
  }
 },
 "nbformat": 4,
 "nbformat_minor": 5
}
