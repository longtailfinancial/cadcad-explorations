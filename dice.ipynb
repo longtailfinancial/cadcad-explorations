{
 "cells": [
  {
   "cell_type": "code",
   "execution_count": 1,
   "id": "5fc55cb4-0451-4801-b1cb-90047e18d5a3",
   "metadata": {},
   "outputs": [],
   "source": [
    "import random"
   ]
  },
  {
   "cell_type": "code",
   "execution_count": 2,
   "id": "812910e5-6540-4c32-a772-bd7f3fd690d3",
   "metadata": {},
   "outputs": [
    {
     "data": {
      "text/plain": [
       "1"
      ]
     },
     "execution_count": 2,
     "metadata": {},
     "output_type": "execute_result"
    }
   ],
   "source": [
    "random.randint(1, 5)"
   ]
  },
  {
   "cell_type": "code",
   "execution_count": 10,
   "id": "8db075f2-252b-4172-8b36-bf4a46f84cd6",
   "metadata": {},
   "outputs": [],
   "source": [
    "def simulate(n, m, s=1000):\n",
    "    values = []\n",
    "    for i in range(s):\n",
    "        dice = []\n",
    "        for j in range(n):\n",
    "            roll = random.randint(1,m)\n",
    "            dice.append(roll)\n",
    "        values.append(sum(dice))\n",
    "    return values"
   ]
  },
  {
   "cell_type": "code",
   "execution_count": 11,
   "id": "dfb064f9-f5d7-4861-80f3-347d944d483b",
   "metadata": {},
   "outputs": [],
   "source": [
    "import hvplot.pandas\n",
    "import pandas as pd\n",
    "import panel as pn\n",
    "import holoviews as hv"
   ]
  },
  {
   "cell_type": "code",
   "execution_count": 12,
   "id": "ac11439d-954a-4d8d-8717-295da1f43e90",
   "metadata": {},
   "outputs": [],
   "source": [
    "df = pd.DataFrame(simulate(2, 6))"
   ]
  },
  {
   "cell_type": "code",
   "execution_count": 13,
   "id": "4b4d8626-d509-4df1-bb80-4b1c2fdeb318",
   "metadata": {},
   "outputs": [
    {
     "data": {},
     "metadata": {},
     "output_type": "display_data"
    },
    {
     "data": {},
     "metadata": {},
     "output_type": "display_data"
    },
    {
     "data": {
      "application/vnd.holoviews_exec.v0+json": "",
      "text/html": [
       "<div id='1239'>\n",
       "\n",
       "\n",
       "\n",
       "\n",
       "\n",
       "  <div class=\"bk-root\" id=\"b1ae52eb-b283-4114-8ea3-76585c8c299f\" data-root-id=\"1239\"></div>\n",
       "</div>\n",
       "<script type=\"application/javascript\">(function(root) {\n",
       "  function embed_document(root) {\n",
       "    var docs_json = {\"b8bb2351-f7e7-44be-98ef-62776bef44d3\":{\"defs\":[],\"roots\":{\"references\":[{\"attributes\":{\"axis\":{\"id\":\"1252\"},\"grid_line_color\":null,\"ticker\":null},\"id\":\"1255\",\"type\":\"Grid\"},{\"attributes\":{\"client_comm_id\":\"e7421b95c201427783c5e955dcfd5e93\",\"comm_id\":\"131f558f780a4dc49fa0181772d537a1\",\"plot_id\":\"1239\"},\"id\":\"1414\",\"type\":\"panel.models.comm_manager.CommManager\"},{\"attributes\":{\"axis_label\":\"Density\",\"formatter\":{\"id\":\"1278\"},\"major_label_policy\":{\"id\":\"1277\"},\"ticker\":{\"id\":\"1257\"}},\"id\":\"1256\",\"type\":\"LinearAxis\"},{\"attributes\":{\"axis\":{\"id\":\"1256\"},\"dimension\":1,\"grid_line_color\":null,\"ticker\":null},\"id\":\"1259\",\"type\":\"Grid\"},{\"attributes\":{},\"id\":\"1261\",\"type\":\"PanTool\"},{\"attributes\":{\"reload\":false},\"id\":\"1445\",\"type\":\"panel.models.location.Location\"},{\"attributes\":{},\"id\":\"1274\",\"type\":\"AllLabels\"},{\"attributes\":{},\"id\":\"1257\",\"type\":\"BasicTicker\"},{\"attributes\":{},\"id\":\"1262\",\"type\":\"WheelZoomTool\"},{\"attributes\":{\"active_multi\":null,\"tools\":[{\"id\":\"1242\"},{\"id\":\"1260\"},{\"id\":\"1261\"},{\"id\":\"1262\"},{\"id\":\"1263\"},{\"id\":\"1264\"}]},\"id\":\"1266\",\"type\":\"Toolbar\"},{\"attributes\":{},\"id\":\"1260\",\"type\":\"SaveTool\"},{\"attributes\":{\"children\":[{\"id\":\"1243\"},{\"id\":\"1381\"}],\"margin\":[0,0,0,0],\"name\":\"Row02137\"},\"id\":\"1239\",\"type\":\"Row\"},{\"attributes\":{\"overlay\":{\"id\":\"1265\"}},\"id\":\"1263\",\"type\":\"BoxZoomTool\"},{\"attributes\":{},\"id\":\"1264\",\"type\":\"ResetTool\"},{\"attributes\":{},\"id\":\"1275\",\"type\":\"BasicTickFormatter\"},{\"attributes\":{},\"id\":\"1280\",\"type\":\"Selection\"},{\"attributes\":{},\"id\":\"1299\",\"type\":\"UnionRenderers\"},{\"attributes\":{\"children\":[{\"id\":\"1382\"},{\"id\":\"1383\"}],\"margin\":[0,0,0,0],\"name\":\"Column02131\"},\"id\":\"1381\",\"type\":\"Column\"},{\"attributes\":{\"fill_alpha\":0.5,\"fill_color\":\"#30a2da\",\"x\":{\"field\":\"x\"},\"y\":{\"field\":\"y\"}},\"id\":\"1287\",\"type\":\"Patch\"},{\"attributes\":{},\"id\":\"1277\",\"type\":\"AllLabels\"},{\"attributes\":{\"fill_alpha\":0.5,\"fill_color\":\"#30a2da\",\"line_alpha\":1,\"x\":{\"field\":\"x\"},\"y\":{\"field\":\"y\"}},\"id\":\"1283\",\"type\":\"Patch\"},{\"attributes\":{\"margin\":[5,5,5,5],\"name\":\"Str02129\",\"text\":\"&lt;pre&gt;6.895&lt;/pre&gt;\"},\"id\":\"1383\",\"type\":\"panel.models.markup.HTML\"},{\"attributes\":{\"fill_alpha\":0.5,\"fill_color\":\"#30a2da\",\"x\":{\"field\":\"x\"},\"y\":{\"field\":\"y\"}},\"id\":\"1282\",\"type\":\"Patch\"},{\"attributes\":{\"callback\":null,\"renderers\":[{\"id\":\"1285\"}],\"tags\":[\"hv_created\"],\"tooltips\":[[\"0\",\"@{A_0}\"],[\"Density\",\"@{A_0_density}\"]]},\"id\":\"1242\",\"type\":\"HoverTool\"},{\"attributes\":{\"bottom_units\":\"screen\",\"fill_alpha\":0.5,\"fill_color\":\"lightgrey\",\"left_units\":\"screen\",\"level\":\"overlay\",\"line_alpha\":1.0,\"line_color\":\"black\",\"line_dash\":[4,4],\"line_width\":2,\"right_units\":\"screen\",\"syncable\":false,\"top_units\":\"screen\"},\"id\":\"1265\",\"type\":\"BoxAnnotation\"},{\"attributes\":{},\"id\":\"1248\",\"type\":\"LinearScale\"},{\"attributes\":{},\"id\":\"1278\",\"type\":\"BasicTickFormatter\"},{\"attributes\":{\"data_source\":{\"id\":\"1279\"},\"glyph\":{\"id\":\"1282\"},\"hover_glyph\":null,\"muted_glyph\":{\"id\":\"1284\"},\"nonselection_glyph\":{\"id\":\"1283\"},\"selection_glyph\":{\"id\":\"1287\"},\"view\":{\"id\":\"1286\"}},\"id\":\"1285\",\"type\":\"GlyphRenderer\"},{\"attributes\":{\"below\":[{\"id\":\"1252\"}],\"center\":[{\"id\":\"1255\"},{\"id\":\"1259\"}],\"height\":300,\"left\":[{\"id\":\"1256\"}],\"margin\":[5,5,5,5],\"min_border_bottom\":10,\"min_border_left\":10,\"min_border_right\":10,\"min_border_top\":10,\"renderers\":[{\"id\":\"1285\"},{\"id\":\"1290\"}],\"sizing_mode\":\"fixed\",\"title\":{\"id\":\"1244\"},\"toolbar\":{\"id\":\"1266\"},\"width\":700,\"x_range\":{\"id\":\"1240\"},\"x_scale\":{\"id\":\"1248\"},\"y_range\":{\"id\":\"1241\"},\"y_scale\":{\"id\":\"1250\"}},\"id\":\"1243\",\"subtype\":\"Figure\",\"type\":\"Plot\"},{\"attributes\":{\"axis_label\":\"0\",\"formatter\":{\"id\":\"1275\"},\"major_label_policy\":{\"id\":\"1274\"},\"ticker\":{\"id\":\"1253\"}},\"id\":\"1252\",\"type\":\"LinearAxis\"},{\"attributes\":{\"source\":{\"id\":\"1279\"}},\"id\":\"1286\",\"type\":\"CDSView\"},{\"attributes\":{\"end\":13.830696399055551,\"reset_end\":13.830696399055551,\"reset_start\":0.16930360094444863,\"start\":0.16930360094444863,\"tags\":[[[\"0\",\"0\",null]]]},\"id\":\"1240\",\"type\":\"Range1d\"},{\"attributes\":{\"fill_alpha\":0.2,\"fill_color\":\"#30a2da\",\"line_alpha\":0.2,\"x\":{\"field\":\"x\"},\"y\":{\"field\":\"y\"}},\"id\":\"1284\",\"type\":\"Patch\"},{\"attributes\":{\"text_color\":\"black\",\"text_font_size\":\"12pt\"},\"id\":\"1244\",\"type\":\"Title\"},{\"attributes\":{\"end\":0.17755678097319344,\"reset_end\":0.17755678097319344,\"reset_start\":0.0,\"tags\":[[[\"0_density\",\"Density\",null]]]},\"id\":\"1241\",\"type\":\"Range1d\"},{\"attributes\":{\"data\":{\"x\":{\"__ndarray__\":\"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\",\"dtype\":\"float64\",\"order\":\"little\",\"shape\":[200]},\"y\":{\"__ndarray__\":\"AAAAAAAAAAAAAAAAAAAAAAAAAAAAAAAAAAAAAAAAAAAAAAAAAAAAAAAAAAAAAAAAAAAAAAAAAAAAAAAAAAAAAAAAAAAAAAAAAAAAAAAAAAAAAAAAAAAAAAAAAAAAAAAAAAAAAAAAAAAAAAAAAAAAAAAAAAAAAAAAAAAAAAAAAAAAAAAAAAAAAAAAAAAAAAAAAAAAAAAAAAAAAAAAAAAAAAAAAAAAAAAAAAAAAAAAAAAAAAAAAAAAAAAAAAAAAAAAAAAAAAAAAAAAAAAAAAAAAAAAAAAAAAAAAAAAAAAAAAAAAAAAAAAAAAAAAAAAAAAAAAAAAAAAAAAAAAAAAAAAAAAAAAAAAAAAAAAAAAAAAAAAAAAAAAAAAAAAAAAAAAAAAAAAAAAAAAAAAAAAAAAAAAAAAAAAAAAAAAAAAAAAAAAAAAAAAAAAAAAAAAAAAAAAAAAAAAAAAAAAAAAAAAAAAAAAAAAAAAAAAAAAAAAAAAAAAAAAAAAAAAAAAAAAAAAAAAAAAAAAAAAAAAAAAAAAAAAAAAAAAAAAAAAAAAAAAAAAAAAAAAAAAAAAAAAAAAAAAAAAAAAAAAAAAAAAAAAAAAAAAAAAAAAAAAAAAAAAAAAAAAAAAAAAAAAAAAAAAAAAAAAAAAAAAAAAAAAAAAAAAAAAAAAAAAAAAAAAAAAAAAAAAAAAAAAAAAAAAAAAAAAAAAAAAAAAAAAAAAAAAAAAAAAAAAAAAAAAAAAAAAAAAAAAAAAAAAAAAAAAAAAAAAAAAAAAAAAAAAAAAAAAAAAAAAAAAAAAAAAAAAAAAAAAAAAAAAAAAAAAAAAAAAAAAAAAAAAAAAAAAAAAAAAAAAAAAAAAAAAAAAAAAAAAAAAAAAAAAAAAAAAAAAAAAAAAAAAAAAAAAAAAAAAAAAAAAAAAAAAAAAAAAAAAAAAAAAAAAAAAAAAAAAAAAAAAAAAAAAAAAAAAAAAAAAAAAAAAAAAAAAAAAAAAAAAAAAAAAAAAAAAAAAAAAAAAAAAAAAAAAAAAAAAAAAAAAAAAAAAAAAAAAAAAAAAAAAAAAAAAAAAAAAB1A1V989soP7GDHo6M7Dc/LeeC7z3lRT97bWnXZhBTP7B9tpSdmV8/Ly5Lku/yaD9ty2L2D8lyP0/vXgU1BXs/W9o256uZgj+9q2MdlZSIP1jx90D9So8/bko2j3ZGkz9MrC5mpBiXP9H/yr1REJs/uvrYvzMrnz/drbh5orWhP0tVlVMV56M/6a8GfvAipj9lgwFQtVuoP47QmQ2mgKo/WRkomYWDrD95OoNwul2uP+pf2F/fCLA/WER4QuXTsD/Eqv9expOxP2fdvzBiSbI/YvLPUxvysj9RZGsu9ImzPwlCtp0aD7Q/1ZLOl8KEtD8NeLctnPO0P5FS6r20Z7U/7aTKjSnttT/ypcDRpY22P5aDabDUT7c/+wP3PVY4uD8+URWzmEq5P5/kQU0iiLo/v+jTSUzuuz9hAyGoGXS9P86+uR9cCr8/ZtUu/JBPwD+iH1PPjRHBP0kCZ/3vxsE/Q8rPkxBvwj/nuJMMmArDP9QYZEQjmMM/TvTrUPERxD/3v3wDVW7EPyyZV3YMo8Q/JuUy8NGpxD8MgJbunYPEP6nadJzAOMQ/MXkyFcrVwz8CgX+NB2fDP0wGBxYG9cI/bD8q8bKDwj9H5KGk8xPCPymbiJcYpsE/Dqd0IUk7wT8XU3P5CtXAPythAOaIc8A/7MqrCywUwD/xA9litWO/P/5Wd6f0jb4/tJ/5FRWgvT/TvQDybpq8P4ZGK7jSg7s/nTlt9ERluj/V1WjsE0W5P/6ZHkRFJLg/BRjQp6//tj8+Uz8PsdO1P45v9L7qn7Q/tNYmWahosz8DZ8KhRzWyP6D6e5LjDLE/mCttUt/mrz9ruORmwdGtP4jL+Vz/1Ks/CWxqwEvqqT8K8Hp/hw2oP1/19IymPKY/KjgBQiV1pD/zKFp8gLGiP80MWosN6aA/i3o4gMslnj98hzcAGlWaP7sgliqtZ5Y/Ba/N2853kj/mTF7b0lqNP4ciYeU1aIY/n0u5591ggD95NyI0d+B2P/cH7+r0em4/vpXyFrRYYz+UUIXxQ2FXP9HPr4+84Uo/dr+FuQdlPT9rBoz9TI8uPw==\",\"dtype\":\"float64\",\"order\":\"little\",\"shape\":[200]}},\"selected\":{\"id\":\"1280\"},\"selection_policy\":{\"id\":\"1299\"}},\"id\":\"1279\",\"type\":\"ColumnDataSource\"},{\"attributes\":{},\"id\":\"1250\",\"type\":\"LinearScale\"},{\"attributes\":{\"dimension\":\"height\",\"level\":\"glyph\",\"line_color\":\"#30a2da\",\"line_width\":3,\"location\":6.895},\"id\":\"1290\",\"type\":\"Span\"},{\"attributes\":{},\"id\":\"1253\",\"type\":\"BasicTicker\"},{\"attributes\":{\"css_classes\":[\"markdown\"],\"margin\":[5,5,5,5],\"name\":\"Markdown02127\",\"text\":\"&lt;p&gt;Mean: &lt;/p&gt;\"},\"id\":\"1382\",\"type\":\"panel.models.markup.HTML\"}],\"root_ids\":[\"1239\",\"1414\",\"1445\"]},\"title\":\"Bokeh Application\",\"version\":\"2.3.2\"}};\n",
       "    var render_items = [{\"docid\":\"b8bb2351-f7e7-44be-98ef-62776bef44d3\",\"root_ids\":[\"1239\"],\"roots\":{\"1239\":\"b1ae52eb-b283-4114-8ea3-76585c8c299f\"}}];\n",
       "    root.Bokeh.embed.embed_items_notebook(docs_json, render_items);\n",
       "  }\n",
       "  if (root.Bokeh !== undefined && root.Bokeh.Panel !== undefined) {\n",
       "    embed_document(root);\n",
       "  } else {\n",
       "    var attempts = 0;\n",
       "    var timer = setInterval(function(root) {\n",
       "      if (root.Bokeh !== undefined && root.Bokeh.Panel !== undefined) {\n",
       "        clearInterval(timer);\n",
       "        embed_document(root);\n",
       "      } else if (document.readyState == \"complete\") {\n",
       "        attempts++;\n",
       "        if (attempts > 100) {\n",
       "          clearInterval(timer);\n",
       "          console.log(\"Bokeh: ERROR: Unable to run BokehJS code because BokehJS library is missing\");\n",
       "        }\n",
       "      }\n",
       "    }, 10, root)\n",
       "  }\n",
       "})(window);</script>"
      ],
      "text/plain": [
       "Row\n",
       "    [0] HoloViews(Overlay)\n",
       "    [1] Column\n",
       "        [0] Markdown(str)\n",
       "        [1] Str(float64)"
      ]
     },
     "execution_count": 13,
     "metadata": {
      "application/vnd.holoviews_exec.v0+json": {
       "id": "1239"
      }
     },
     "output_type": "execute_result"
    }
   ],
   "source": [
    "pn.Row(df.hvplot.kde() * hv.VLine(df.mean()[0]), pn.Column(\"Mean: \", df.mean()[0]))"
   ]
  },
  {
   "cell_type": "code",
   "execution_count": 15,
   "id": "cf588eeb-60f9-4d09-b94f-ca7bd7e479e6",
   "metadata": {},
   "outputs": [
    {
     "data": {},
     "metadata": {},
     "output_type": "display_data"
    },
    {
     "data": {},
     "metadata": {},
     "output_type": "display_data"
    },
    {
     "data": {
      "application/vnd.holoviews_exec.v0+json": "",
      "text/html": [
       "<div id='2772'>\n",
       "\n",
       "\n",
       "\n",
       "\n",
       "\n",
       "  <div class=\"bk-root\" id=\"50fbd45b-a595-440c-8761-5943221a0c64\" data-root-id=\"2772\"></div>\n",
       "</div>\n",
       "<script type=\"application/javascript\">(function(root) {\n",
       "  function embed_document(root) {\n",
       "    var docs_json = {\"6bba3cc9-94f6-4a16-a551-db55fce633e0\":{\"defs\":[],\"roots\":{\"references\":[{\"attributes\":{\"margin\":[5,5,5,5],\"name\":\"Str06032\",\"text\":\"&lt;pre&gt;6.991&lt;/pre&gt;\"},\"id\":\"2922\",\"type\":\"panel.models.markup.HTML\"},{\"attributes\":{\"children\":[{\"id\":\"2774\"},{\"id\":\"2775\"},{\"id\":\"2776\"}],\"margin\":[5,5,5,5],\"min_width\":300,\"name\":\"DiceRolls\",\"width\":300},\"id\":\"2773\",\"type\":\"Column\"},{\"attributes\":{\"axis\":{\"id\":\"2791\"},\"grid_line_color\":null,\"ticker\":null},\"id\":\"2794\",\"type\":\"Grid\"},{\"attributes\":{},\"id\":\"2819\",\"type\":\"Selection\"},{\"attributes\":{\"children\":[{\"id\":\"2778\"}],\"margin\":[0,0,0,0],\"name\":\"Row05935\"},\"id\":\"2777\",\"type\":\"Row\"},{\"attributes\":{\"end\":20,\"margin\":[5,10,5,10],\"start\":1,\"title\":\"N\",\"value\":2},\"id\":\"2775\",\"type\":\"Slider\"},{\"attributes\":{\"client_comm_id\":\"311734c4be1f4463bbc1810a801926a8\",\"comm_id\":\"f92e1476bd034e85b7adbfd3f1e02399\",\"plot_id\":\"2772\"},\"id\":\"2953\",\"type\":\"panel.models.comm_manager.CommManager\"},{\"attributes\":{\"data_source\":{\"id\":\"2818\"},\"glyph\":{\"id\":\"2821\"},\"hover_glyph\":null,\"muted_glyph\":{\"id\":\"2823\"},\"nonselection_glyph\":{\"id\":\"2822\"},\"selection_glyph\":{\"id\":\"2826\"},\"view\":{\"id\":\"2825\"}},\"id\":\"2824\",\"type\":\"GlyphRenderer\"},{\"attributes\":{},\"id\":\"2796\",\"type\":\"BasicTicker\"},{\"attributes\":{\"axis_label\":\"0\",\"formatter\":{\"id\":\"2813\"},\"major_label_policy\":{\"id\":\"2812\"},\"ticker\":{\"id\":\"2792\"}},\"id\":\"2791\",\"type\":\"LinearAxis\"},{\"attributes\":{},\"id\":\"2800\",\"type\":\"PanTool\"},{\"attributes\":{},\"id\":\"2789\",\"type\":\"LinearScale\"},{\"attributes\":{},\"id\":\"2801\",\"type\":\"WheelZoomTool\"},{\"attributes\":{\"axis_label\":\"Density\",\"formatter\":{\"id\":\"2816\"},\"major_label_policy\":{\"id\":\"2815\"},\"ticker\":{\"id\":\"2796\"}},\"id\":\"2795\",\"type\":\"LinearAxis\"},{\"attributes\":{\"axis\":{\"id\":\"2795\"},\"dimension\":1,\"grid_line_color\":null,\"ticker\":null},\"id\":\"2798\",\"type\":\"Grid\"},{\"attributes\":{\"css_classes\":[\"markdown\"],\"margin\":[5,5,5,5],\"name\":\"Markdown06030\",\"text\":\"&lt;p&gt;Mean: &lt;/p&gt;\"},\"id\":\"2921\",\"type\":\"panel.models.markup.HTML\"},{\"attributes\":{},\"id\":\"2799\",\"type\":\"SaveTool\"},{\"attributes\":{},\"id\":\"2813\",\"type\":\"BasicTickFormatter\"},{\"attributes\":{\"dimension\":\"height\",\"level\":\"glyph\",\"line_color\":\"#30a2da\",\"line_width\":3,\"location\":6.991},\"id\":\"2829\",\"type\":\"Span\"},{\"attributes\":{\"overlay\":{\"id\":\"2804\"}},\"id\":\"2802\",\"type\":\"BoxZoomTool\"},{\"attributes\":{},\"id\":\"2812\",\"type\":\"AllLabels\"},{\"attributes\":{},\"id\":\"2803\",\"type\":\"ResetTool\"},{\"attributes\":{\"active_multi\":null,\"tools\":[{\"id\":\"2781\"},{\"id\":\"2799\"},{\"id\":\"2800\"},{\"id\":\"2801\"},{\"id\":\"2802\"},{\"id\":\"2803\"}]},\"id\":\"2805\",\"type\":\"Toolbar\"},{\"attributes\":{\"end\":20,\"margin\":[5,10,5,10],\"start\":1,\"title\":\"M\",\"value\":6},\"id\":\"2776\",\"type\":\"Slider\"},{\"attributes\":{\"children\":[{\"id\":\"2782\"},{\"id\":\"2920\"}],\"margin\":[0,0,0,0],\"name\":\"Row06040\"},\"id\":\"2778\",\"type\":\"Row\"},{\"attributes\":{},\"id\":\"2815\",\"type\":\"AllLabels\"},{\"attributes\":{},\"id\":\"2816\",\"type\":\"BasicTickFormatter\"},{\"attributes\":{\"callback\":null,\"renderers\":[{\"id\":\"2824\"}],\"tags\":[\"hv_created\"],\"tooltips\":[[\"0\",\"@{A_0}\"],[\"Density\",\"@{A_0_density}\"]]},\"id\":\"2781\",\"type\":\"HoverTool\"},{\"attributes\":{\"source\":{\"id\":\"2818\"}},\"id\":\"2825\",\"type\":\"CDSView\"},{\"attributes\":{},\"id\":\"2787\",\"type\":\"LinearScale\"},{\"attributes\":{\"fill_alpha\":0.2,\"fill_color\":\"#30a2da\",\"line_alpha\":0.2,\"x\":{\"field\":\"x\"},\"y\":{\"field\":\"y\"}},\"id\":\"2823\",\"type\":\"Patch\"},{\"attributes\":{\"below\":[{\"id\":\"2791\"}],\"center\":[{\"id\":\"2794\"},{\"id\":\"2798\"}],\"height\":300,\"left\":[{\"id\":\"2795\"}],\"margin\":[5,5,5,5],\"min_border_bottom\":10,\"min_border_left\":10,\"min_border_right\":10,\"min_border_top\":10,\"renderers\":[{\"id\":\"2824\"},{\"id\":\"2829\"}],\"sizing_mode\":\"fixed\",\"title\":{\"id\":\"2783\"},\"toolbar\":{\"id\":\"2805\"},\"width\":700,\"x_range\":{\"id\":\"2779\"},\"x_scale\":{\"id\":\"2787\"},\"y_range\":{\"id\":\"2780\"},\"y_scale\":{\"id\":\"2789\"}},\"id\":\"2782\",\"subtype\":\"Figure\",\"type\":\"Plot\"},{\"attributes\":{\"fill_alpha\":0.5,\"fill_color\":\"#30a2da\",\"x\":{\"field\":\"x\"},\"y\":{\"field\":\"y\"}},\"id\":\"2821\",\"type\":\"Patch\"},{\"attributes\":{},\"id\":\"2792\",\"type\":\"BasicTicker\"},{\"attributes\":{\"data\":{\"x\":{\"__ndarray__\":\"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\",\"dtype\":\"float64\",\"order\":\"little\",\"shape\":[200]},\"y\":{\"__ndarray__\":\"AAAAAAAAAAAAAAAAAAAAAAAAAAAAAAAAAAAAAAAAAAAAAAAAAAAAAAAAAAAAAAAAAAAAAAAAAAAAAAAAAAAAAAAAAAAAAAAAAAAAAAAAAAAAAAAAAAAAAAAAAAAAAAAAAAAAAAAAAAAAAAAAAAAAAAAAAAAAAAAAAAAAAAAAAAAAAAAAAAAAAAAAAAAAAAAAAAAAAAAAAAAAAAAAAAAAAAAAAAAAAAAAAAAAAAAAAAAAAAAAAAAAAAAAAAAAAAAAAAAAAAAAAAAAAAAAAAAAAAAAAAAAAAAAAAAAAAAAAAAAAAAAAAAAAAAAAAAAAAAAAAAAAAAAAAAAAAAAAAAAAAAAAAAAAAAAAAAAAAAAAAAAAAAAAAAAAAAAAAAAAAAAAAAAAAAAAAAAAAAAAAAAAAAAAAAAAAAAAAAAAAAAAAAAAAAAAAAAAAAAAAAAAAAAAAAAAAAAAAAAAAAAAAAAAAAAAAAAAAAAAAAAAAAAAAAAAAAAAAAAAAAAAAAAAAAAAAAAAAAAAAAAAAAAAAAAAAAAAAAAAAAAAAAAAAAAAAAAAAAAAAAAAAAAAAAAAAAAAAAAAAAAAAAAAAAAAAAAAAAAAAAAAAAAAAAAAAAAAAAAAAAAAAAAAAAAAAAAAAAAAAAAAAAAAAAAAAAAAAAAAAAAAAAAAAAAAAAAAAAAAAAAAAAAAAAAAAAAAAAAAAAAAAAAAAAAAAAAAAAAAAAAAAAAAAAAAAAAAAAAAAAAAAAAAAAAAAAAAAAAAAAAAAAAAAAAAAAAAAAAAAAAAAAAAAAAAAAAAAAAAAAAAAAAAAAAAAAAAAAAAAAAAAAAAAAAAAAAAAAAAAAAAAAAAAAAAAAAAAAAAAAAAAAAAAAAAAAAAAAAAAAAAAAAAAAAAAAAAAAAAAAAAAAAAAAAAAAAAAAAAAAAAAAAAAAAAAAAAAAAAAAAAAAAAAAAAAAAAAAAAAAAAAAAAAAAAAAAAAAAAAAAAAAAAAAAAAAAAAAAAAAAAAAAAAAAAAAAAAAAAAAAAAAAAAAAAAAAAAAAAAAAAAAAAAAAAAAAAAAAAAAAAAATyncLqDgtP9goZSEXXjw/kE2BYj0jSj+rPO7V89xWP+cY/4z7/WI/5OOxF8P6bT9/hSd8aX92P6gj7KelEYA/8QNqwxzhhT+w/z91KXSMP2gBvdCyuJE/FqgZiEU5lT+kv1g08I6YP4dSMkHonps/mCEnI89mnj84RD+Gm32gPy8w7AvFv6E/V2P4SNINoz8DCGxzCHqkPxpAWCiwE6Y/r8e2gYbnpz8+rg8Bu/+pP1ukVU2UYaw/BynzSuoIrz9cwFygEvKwPy8/Zzo7arI/sMSBTTDasz+6G7CBgDG1PxGPfx+LZ7Y/78bRzft9tz8pS0/mxX64P/u+QXmtdrk/9q1vVHlvuj/X5jrsEm27P+3pws/hbrw/0ycEAdBzvT9Dc/ssjH2+Px91JFkokL8/JVwMlvBWwD+bI0CQ8ejAP0UrRXoOd8E/3wPnEEj3wT+q0lMHgWDCP9CRRLZlrsI/nC5lzP/iwj8uQ15W5gTDP0MIM0wUG8M/5heRL/Aowz8mZE138SzDP/XfRiWgIsM/+D6iHIIGwz+LQVmoVdnCP/bxA0uCoMI/zcyfmY1jwj/9OSt/VyjCP4DWSK+Y8ME/N1cZRia6wT8ZUJgpjIHBPwb6tsT+RME/xYVU3YIFwT9WAUDmg8XAP00CmTfuhcA/EUb0zfZDwD+rTuzOlPK/P39+SQ14Pb8/cJeH0q5fvj9hWfYzOVq9P/9B2xAHN7w/igzM60EDuz/qgkttdMi5P5czcn6uiLg/87VU6rA/tz+z+s3E+Oe1P6n62UlGgLQ/SQLyyUIOsz+udi3v+JyxP6S8osxuOLA/h04udmHSrT85ulQbc2SrP/OVqOK9I6k/IO1gDxMJpz+MIUdpYw6lP0hL/GlgMKM/K4UA8qlsoT+akRO1m32fPy/g2JfOPZw/zHPe55UGmT+56alOCMmVP6sA8ezKgpI/W9irOZuDjj/t6MJDNUOIP/pBCe8Fh4I/rWXnDKEUez/BMUuhXuRyP8fsW51QHWk/vK3rkIDEXz+xLAy8dxlTPxMwLAFn0UU/M4eydK2qNz8I5Ig/wF4oPw==\",\"dtype\":\"float64\",\"order\":\"little\",\"shape\":[200]}},\"selected\":{\"id\":\"2819\"},\"selection_policy\":{\"id\":\"2839\"}},\"id\":\"2818\",\"type\":\"ColumnDataSource\"},{\"attributes\":{\"end\":13.7931990112242,\"reset_end\":13.7931990112242,\"reset_start\":0.20680098877579933,\"start\":0.20680098877579933,\"tags\":[[[\"0\",\"0\",null]]]},\"id\":\"2779\",\"type\":\"Range1d\"},{\"attributes\":{\"fill_alpha\":0.5,\"fill_color\":\"#30a2da\",\"x\":{\"field\":\"x\"},\"y\":{\"field\":\"y\"}},\"id\":\"2826\",\"type\":\"Patch\"},{\"attributes\":{\"bottom_units\":\"screen\",\"fill_alpha\":0.5,\"fill_color\":\"lightgrey\",\"left_units\":\"screen\",\"level\":\"overlay\",\"line_alpha\":1.0,\"line_color\":\"black\",\"line_dash\":[4,4],\"line_width\":2,\"right_units\":\"screen\",\"syncable\":false,\"top_units\":\"screen\"},\"id\":\"2804\",\"type\":\"BoxAnnotation\"},{\"attributes\":{\"text_color\":\"black\",\"text_font_size\":\"12pt\"},\"id\":\"2783\",\"type\":\"Title\"},{\"attributes\":{\"margin\":[5,10,5,10],\"name\":\"\",\"text\":\"<b>DiceRolls</b>\"},\"id\":\"2774\",\"type\":\"Div\"},{\"attributes\":{\"fill_alpha\":0.5,\"fill_color\":\"#30a2da\",\"line_alpha\":1,\"x\":{\"field\":\"x\"},\"y\":{\"field\":\"y\"}},\"id\":\"2822\",\"type\":\"Patch\"},{\"attributes\":{\"children\":[{\"id\":\"2773\"},{\"id\":\"2777\"}],\"margin\":[0,0,0,0],\"name\":\"Row06042\"},\"id\":\"2772\",\"type\":\"Row\"},{\"attributes\":{},\"id\":\"2839\",\"type\":\"UnionRenderers\"},{\"attributes\":{\"end\":0.16477137134705472,\"reset_end\":0.16477137134705472,\"reset_start\":0.0,\"tags\":[[[\"0_density\",\"Density\",null]]]},\"id\":\"2780\",\"type\":\"Range1d\"},{\"attributes\":{\"children\":[{\"id\":\"2921\"},{\"id\":\"2922\"}],\"margin\":[0,0,0,0],\"name\":\"Column06034\"},\"id\":\"2920\",\"type\":\"Column\"}],\"root_ids\":[\"2772\",\"2953\"]},\"title\":\"Bokeh Application\",\"version\":\"2.3.2\"}};\n",
       "    var render_items = [{\"docid\":\"6bba3cc9-94f6-4a16-a551-db55fce633e0\",\"root_ids\":[\"2772\"],\"roots\":{\"2772\":\"50fbd45b-a595-440c-8761-5943221a0c64\"}}];\n",
       "    root.Bokeh.embed.embed_items_notebook(docs_json, render_items);\n",
       "  }\n",
       "  if (root.Bokeh !== undefined && root.Bokeh.Panel !== undefined) {\n",
       "    embed_document(root);\n",
       "  } else {\n",
       "    var attempts = 0;\n",
       "    var timer = setInterval(function(root) {\n",
       "      if (root.Bokeh !== undefined && root.Bokeh.Panel !== undefined) {\n",
       "        clearInterval(timer);\n",
       "        embed_document(root);\n",
       "      } else if (document.readyState == \"complete\") {\n",
       "        attempts++;\n",
       "        if (attempts > 100) {\n",
       "          clearInterval(timer);\n",
       "          console.log(\"Bokeh: ERROR: Unable to run BokehJS code because BokehJS library is missing\");\n",
       "        }\n",
       "      }\n",
       "    }, 10, root)\n",
       "  }\n",
       "})(window);</script>"
      ],
      "text/plain": [
       "Row\n",
       "    [0] Column(margin=5, name='DiceRolls', width=300)\n",
       "        [0] StaticText(value='<b>DiceRolls</b>')\n",
       "        [1] FloatSlider(end=20, name='N', start=1, step=1, value=2)\n",
       "        [2] FloatSlider(end=20, name='M', start=1, step=1, value=6)\n",
       "    [1] ParamMethod(method)"
      ]
     },
     "execution_count": 15,
     "metadata": {
      "application/vnd.holoviews_exec.v0+json": {
       "id": "2772"
      }
     },
     "output_type": "execute_result"
    }
   ],
   "source": [
    "import param as pm\n",
    "import hvplot.pandas\n",
    "import pandas as pd\n",
    "import panel as pn\n",
    "import holoviews as hv\n",
    "import random\n",
    "\n",
    "class DiceRolls(pm.Parameterized):\n",
    "    n = pm.Number(2, bounds=(1,20), step=1)\n",
    "    m = pm.Number(6, bounds=(1,20), step=1)\n",
    "    \n",
    "    def simulate(self, s=1000):\n",
    "        n = self.n\n",
    "        m = self.m\n",
    "        values = []\n",
    "        for i in range(s):\n",
    "            dice = []\n",
    "            for j in range(n):\n",
    "                roll = random.randint(1,m)\n",
    "                dice.append(roll)\n",
    "            values.append(sum(dice))\n",
    "        return values\n",
    "    \n",
    "    def view(self):\n",
    "        df = pd.DataFrame(self.simulate())\n",
    "        return pn.Row(df.hvplot.kde() * hv.VLine(df.mean()[0]), pn.Column(\"Mean: \", df.mean()[0]))\n",
    "\n",
    "dr = DiceRolls()\n",
    "pn.Row(dr, dr.view)"
   ]
  },
  {
   "cell_type": "code",
   "execution_count": 13,
   "id": "ccce0466-fa5a-4614-b190-491cd61fd4a6",
   "metadata": {},
   "outputs": [
    {
     "data": {
      "text/plain": [
       "0    9.077\n",
       "dtype: float64"
      ]
     },
     "execution_count": 13,
     "metadata": {},
     "output_type": "execute_result"
    }
   ],
   "source": [
    "df.mean()"
   ]
  },
  {
   "cell_type": "code",
   "execution_count": 38,
   "id": "f1b9f4f9-0c3b-4f56-8649-366998e85dc7",
   "metadata": {},
   "outputs": [],
   "source": [
    "results = []\n",
    "for n in range(2,40):\n",
    "    for m in range(2,40):\n",
    "        sim_vals = simulate(n,m)\n",
    "        mean = sum(sim_vals) / len(sim_vals)\n",
    "        results.append([n,m,mean])"
   ]
  },
  {
   "cell_type": "code",
   "execution_count": 41,
   "id": "24088313-68de-4b67-865b-3d742f512c55",
   "metadata": {},
   "outputs": [],
   "source": [
    "results = pd.DataFrame(results, columns=[\"n\", \"m\", \"Mean\"])"
   ]
  },
  {
   "cell_type": "code",
   "execution_count": 42,
   "id": "90ad59f2-115e-450b-8c20-d537abc59932",
   "metadata": {},
   "outputs": [
    {
     "data": {
      "text/html": [
       "<div>\n",
       "<style scoped>\n",
       "    .dataframe tbody tr th:only-of-type {\n",
       "        vertical-align: middle;\n",
       "    }\n",
       "\n",
       "    .dataframe tbody tr th {\n",
       "        vertical-align: top;\n",
       "    }\n",
       "\n",
       "    .dataframe thead th {\n",
       "        text-align: right;\n",
       "    }\n",
       "</style>\n",
       "<table border=\"1\" class=\"dataframe\">\n",
       "  <thead>\n",
       "    <tr style=\"text-align: right;\">\n",
       "      <th></th>\n",
       "      <th>n</th>\n",
       "      <th>m</th>\n",
       "      <th>Mean</th>\n",
       "    </tr>\n",
       "  </thead>\n",
       "  <tbody>\n",
       "    <tr>\n",
       "      <th>0</th>\n",
       "      <td>2</td>\n",
       "      <td>2</td>\n",
       "      <td>3.032</td>\n",
       "    </tr>\n",
       "    <tr>\n",
       "      <th>1</th>\n",
       "      <td>2</td>\n",
       "      <td>3</td>\n",
       "      <td>4.022</td>\n",
       "    </tr>\n",
       "    <tr>\n",
       "      <th>2</th>\n",
       "      <td>2</td>\n",
       "      <td>4</td>\n",
       "      <td>4.982</td>\n",
       "    </tr>\n",
       "    <tr>\n",
       "      <th>3</th>\n",
       "      <td>2</td>\n",
       "      <td>5</td>\n",
       "      <td>6.003</td>\n",
       "    </tr>\n",
       "    <tr>\n",
       "      <th>4</th>\n",
       "      <td>2</td>\n",
       "      <td>6</td>\n",
       "      <td>6.966</td>\n",
       "    </tr>\n",
       "    <tr>\n",
       "      <th>...</th>\n",
       "      <td>...</td>\n",
       "      <td>...</td>\n",
       "      <td>...</td>\n",
       "    </tr>\n",
       "    <tr>\n",
       "      <th>1439</th>\n",
       "      <td>39</td>\n",
       "      <td>35</td>\n",
       "      <td>702.764</td>\n",
       "    </tr>\n",
       "    <tr>\n",
       "      <th>1440</th>\n",
       "      <td>39</td>\n",
       "      <td>36</td>\n",
       "      <td>721.237</td>\n",
       "    </tr>\n",
       "    <tr>\n",
       "      <th>1441</th>\n",
       "      <td>39</td>\n",
       "      <td>37</td>\n",
       "      <td>739.181</td>\n",
       "    </tr>\n",
       "    <tr>\n",
       "      <th>1442</th>\n",
       "      <td>39</td>\n",
       "      <td>38</td>\n",
       "      <td>761.794</td>\n",
       "    </tr>\n",
       "    <tr>\n",
       "      <th>1443</th>\n",
       "      <td>39</td>\n",
       "      <td>39</td>\n",
       "      <td>778.558</td>\n",
       "    </tr>\n",
       "  </tbody>\n",
       "</table>\n",
       "<p>1444 rows × 3 columns</p>\n",
       "</div>"
      ],
      "text/plain": [
       "       n   m     Mean\n",
       "0      2   2    3.032\n",
       "1      2   3    4.022\n",
       "2      2   4    4.982\n",
       "3      2   5    6.003\n",
       "4      2   6    6.966\n",
       "...   ..  ..      ...\n",
       "1439  39  35  702.764\n",
       "1440  39  36  721.237\n",
       "1441  39  37  739.181\n",
       "1442  39  38  761.794\n",
       "1443  39  39  778.558\n",
       "\n",
       "[1444 rows x 3 columns]"
      ]
     },
     "execution_count": 42,
     "metadata": {},
     "output_type": "execute_result"
    }
   ],
   "source": [
    "results"
   ]
  },
  {
   "cell_type": "code",
   "execution_count": null,
   "id": "48c3ac38-2aaf-41fd-bada-388e826e614c",
   "metadata": {},
   "outputs": [],
   "source": [
    "@np.vectorize\n",
    "def simulate(n, m, s=1000):\n",
    "    values = []\n",
    "    for i in range(s):\n",
    "        dice = []\n",
    "        for j in range(n):\n",
    "            roll = random.randint(1,m)\n",
    "            dice.append(roll)\n",
    "        values.append(sum(dice))\n",
    "    return sum(values) / len(values)"
   ]
  },
  {
   "cell_type": "code",
   "execution_count": 54,
   "id": "5739ff51-6e7b-43e6-9af6-2c037b53493a",
   "metadata": {},
   "outputs": [],
   "source": [
    "n_range = range(2,10)"
   ]
  },
  {
   "cell_type": "code",
   "execution_count": 55,
   "id": "f59a5660-7a33-4606-ade1-ae1b43f53fda",
   "metadata": {},
   "outputs": [],
   "source": [
    "m_range = range(2,10)"
   ]
  },
  {
   "cell_type": "code",
   "execution_count": 56,
   "id": "fecf2b8e-f518-4850-8d18-ef48535c7631",
   "metadata": {},
   "outputs": [],
   "source": [
    "import numpy as np"
   ]
  },
  {
   "cell_type": "code",
   "execution_count": 57,
   "id": "91448067-c5b0-46b0-8345-07989228026f",
   "metadata": {},
   "outputs": [],
   "source": [
    "phase_space = np.meshgrid(n_range, m_range)"
   ]
  },
  {
   "cell_type": "code",
   "execution_count": 58,
   "id": "64173052-c9fe-4150-bbae-61d313edf1e7",
   "metadata": {},
   "outputs": [
    {
     "data": {
      "text/plain": [
       "array([[2, 3, 4, 5, 6, 7, 8, 9],\n",
       "       [2, 3, 4, 5, 6, 7, 8, 9],\n",
       "       [2, 3, 4, 5, 6, 7, 8, 9],\n",
       "       [2, 3, 4, 5, 6, 7, 8, 9],\n",
       "       [2, 3, 4, 5, 6, 7, 8, 9],\n",
       "       [2, 3, 4, 5, 6, 7, 8, 9],\n",
       "       [2, 3, 4, 5, 6, 7, 8, 9],\n",
       "       [2, 3, 4, 5, 6, 7, 8, 9]])"
      ]
     },
     "execution_count": 58,
     "metadata": {},
     "output_type": "execute_result"
    }
   ],
   "source": [
    "phase_space[0]"
   ]
  },
  {
   "cell_type": "code",
   "execution_count": 59,
   "id": "3e8f26ba-a08a-47c7-b5ef-b76040547538",
   "metadata": {},
   "outputs": [
    {
     "data": {
      "text/plain": [
       "array([[2, 2, 2, 2, 2, 2, 2, 2],\n",
       "       [3, 3, 3, 3, 3, 3, 3, 3],\n",
       "       [4, 4, 4, 4, 4, 4, 4, 4],\n",
       "       [5, 5, 5, 5, 5, 5, 5, 5],\n",
       "       [6, 6, 6, 6, 6, 6, 6, 6],\n",
       "       [7, 7, 7, 7, 7, 7, 7, 7],\n",
       "       [8, 8, 8, 8, 8, 8, 8, 8],\n",
       "       [9, 9, 9, 9, 9, 9, 9, 9]])"
      ]
     },
     "execution_count": 59,
     "metadata": {},
     "output_type": "execute_result"
    }
   ],
   "source": [
    "phase_space[1]"
   ]
  },
  {
   "cell_type": "code",
   "execution_count": 61,
   "id": "8a008335-25db-4089-9c2d-16cd10679e3b",
   "metadata": {},
   "outputs": [],
   "source": [
    "value = simulate(*phase_space)"
   ]
  },
  {
   "cell_type": "code",
   "execution_count": null,
   "id": "5799ddb4-e7b7-458e-997d-cdf35c97e6e9",
   "metadata": {},
   "outputs": [],
   "source": []
  },
  {
   "cell_type": "code",
   "execution_count": null,
   "id": "2b7a7124-bedc-42a9-8bf0-5beea0d6768d",
   "metadata": {},
   "outputs": [],
   "source": [
    "        fee_range = np.linspace(*s.param['seller_fee_percentage'].bounds, num=120)\n",
    "        cost_range = np.linspace(*s.param['average_cost_of_returns'].bounds, num=120)\n",
    "        phase_space = np.meshgrid(fee_range, cost_range)\n",
    "        collected_fees = self.get_collected_fees(phase_space[0])\n",
    "        return_costs = self.get_return_costs(phase_space[1])\n",
    "        value_delta = collected_fees - return_costs\n",
    "        return fee_range, cost_range, value_delta "
   ]
  },
  {
   "cell_type": "code",
   "execution_count": 63,
   "id": "c142f112-b624-4056-ab80-8eace534bca4",
   "metadata": {},
   "outputs": [],
   "source": [
    "df = hv.Dataset((n_range, m_range, value), [\"n\", \"m\"], \"mean\").dframe()"
   ]
  },
  {
   "cell_type": "code",
   "execution_count": 66,
   "id": "cab2025d-c0a7-4da3-9c68-94e34ae23fe8",
   "metadata": {},
   "outputs": [
    {
     "data": {},
     "metadata": {},
     "output_type": "display_data"
    },
    {
     "data": {
      "application/vnd.holoviews_exec.v0+json": "",
      "text/html": [
       "<div id='3438'>\n",
       "\n",
       "\n",
       "\n",
       "\n",
       "\n",
       "  <div class=\"bk-root\" id=\"51bd7514-fe33-4b0e-afa9-8f9db4fe5e68\" data-root-id=\"3438\"></div>\n",
       "</div>\n",
       "<script type=\"application/javascript\">(function(root) {\n",
       "  function embed_document(root) {\n",
       "    var docs_json = {\"e7b42908-a217-4d82-8639-f0ddd1c0f44e\":{\"defs\":[],\"roots\":{\"references\":[{\"attributes\":{\"source\":{\"id\":\"3472\"}},\"id\":\"3479\",\"type\":\"CDSView\"},{\"attributes\":{\"end\":9.5,\"reset_end\":9.5,\"reset_start\":1.5,\"start\":1.5,\"tags\":[[[\"m\",\"m\",null]]]},\"id\":\"3441\",\"type\":\"Range1d\"},{\"attributes\":{\"fill_color\":{\"field\":\"zvalues\",\"transform\":{\"id\":\"3471\"}},\"height\":{\"field\":\"height\"},\"line_alpha\":{\"value\":0},\"line_color\":{\"value\":\"#1f77b4\"},\"width\":{\"field\":\"width\"},\"x\":{\"field\":\"n\"},\"y\":{\"field\":\"m\"}},\"id\":\"3475\",\"type\":\"Rect\"},{\"attributes\":{},\"id\":\"3480\",\"type\":\"AllLabels\"},{\"attributes\":{\"text_color\":\"black\",\"text_font_size\":\"12pt\"},\"id\":\"3443\",\"type\":\"Title\"},{\"attributes\":{\"data\":{\"height\":{\"__ndarray__\":\"AAAAAAAA8D8AAAAAAADwPwAAAAAAAPA/AAAAAAAA8D8AAAAAAADwPwAAAAAAAPA/AAAAAAAA8D8AAAAAAADwPwAAAAAAAPA/AAAAAAAA8D8AAAAAAADwPwAAAAAAAPA/AAAAAAAA8D8AAAAAAADwPwAAAAAAAPA/AAAAAAAA8D8AAAAAAADwPwAAAAAAAPA/AAAAAAAA8D8AAAAAAADwPwAAAAAAAPA/AAAAAAAA8D8AAAAAAADwPwAAAAAAAPA/AAAAAAAA8D8AAAAAAADwPwAAAAAAAPA/AAAAAAAA8D8AAAAAAADwPwAAAAAAAPA/AAAAAAAA8D8AAAAAAADwPwAAAAAAAPA/AAAAAAAA8D8AAAAAAADwPwAAAAAAAPA/AAAAAAAA8D8AAAAAAADwPwAAAAAAAPA/AAAAAAAA8D8AAAAAAADwPwAAAAAAAPA/AAAAAAAA8D8AAAAAAADwPwAAAAAAAPA/AAAAAAAA8D8AAAAAAADwPwAAAAAAAPA/AAAAAAAA8D8AAAAAAADwPwAAAAAAAPA/AAAAAAAA8D8AAAAAAADwPwAAAAAAAPA/AAAAAAAA8D8AAAAAAADwPwAAAAAAAPA/AAAAAAAA8D8AAAAAAADwPwAAAAAAAPA/AAAAAAAA8D8AAAAAAADwPwAAAAAAAPA/AAAAAAAA8D8=\",\"dtype\":\"float64\",\"order\":\"little\",\"shape\":[64]},\"m\":[2,3,4,5,6,7,8,9,2,3,4,5,6,7,8,9,2,3,4,5,6,7,8,9,2,3,4,5,6,7,8,9,2,3,4,5,6,7,8,9,2,3,4,5,6,7,8,9,2,3,4,5,6,7,8,9,2,3,4,5,6,7,8,9],\"n\":[2,2,2,2,2,2,2,2,3,3,3,3,3,3,3,3,4,4,4,4,4,4,4,4,5,5,5,5,5,5,5,5,6,6,6,6,6,6,6,6,7,7,7,7,7,7,7,7,8,8,8,8,8,8,8,8,9,9,9,9,9,9,9,9],\"width\":{\"__ndarray__\":\"AAAAAAAA8D8AAAAAAADwPwAAAAAAAPA/AAAAAAAA8D8AAAAAAADwPwAAAAAAAPA/AAAAAAAA8D8AAAAAAADwPwAAAAAAAPA/AAAAAAAA8D8AAAAAAADwPwAAAAAAAPA/AAAAAAAA8D8AAAAAAADwPwAAAAAAAPA/AAAAAAAA8D8AAAAAAADwPwAAAAAAAPA/AAAAAAAA8D8AAAAAAADwPwAAAAAAAPA/AAAAAAAA8D8AAAAAAADwPwAAAAAAAPA/AAAAAAAA8D8AAAAAAADwPwAAAAAAAPA/AAAAAAAA8D8AAAAAAADwPwAAAAAAAPA/AAAAAAAA8D8AAAAAAADwPwAAAAAAAPA/AAAAAAAA8D8AAAAAAADwPwAAAAAAAPA/AAAAAAAA8D8AAAAAAADwPwAAAAAAAPA/AAAAAAAA8D8AAAAAAADwPwAAAAAAAPA/AAAAAAAA8D8AAAAAAADwPwAAAAAAAPA/AAAAAAAA8D8AAAAAAADwPwAAAAAAAPA/AAAAAAAA8D8AAAAAAADwPwAAAAAAAPA/AAAAAAAA8D8AAAAAAADwPwAAAAAAAPA/AAAAAAAA8D8AAAAAAADwPwAAAAAAAPA/AAAAAAAA8D8AAAAAAADwPwAAAAAAAPA/AAAAAAAA8D8AAAAAAADwPwAAAAAAAPA/AAAAAAAA8D8=\",\"dtype\":\"float64\",\"order\":\"little\",\"shape\":[64]},\"zvalues\":{\"__ndarray__\":\"f2q8dJMYCEC28/3UeOkPQJ7vp8ZLNxRAwcqhRbbzF0AMAiuHFtkcQLbz/dR4KSBAuB6F61F4IUAfhetRuN4jQHE9Ctej8BFAppvEILDyF0B/arx0kxgeQPCnxks3ySFAZDvfT43XJECuR+F6FK4nQGDl0CLbOStAEFg5tMi2LUBYObTIdr4XQPhT46WbBCBAXI/C9SgcJEBcj8L1KBwoQGZmZmZm5itAbxKDwMrhL0A730+Nlw4yQCuHFtnOtzNA7nw/NV46HkC28/3UeOkjQIcW2c73UylA+n5qvHRTLkCF61G4HmUxQMl2vp8aDzRATDeJQWCFNkDjpZvEIPA4QBsv3SQGASJAO99PjZfuJ0AK16NwPQouQAisHFpk2zFAx0s3iUEgNUB7FK5H4do3QGZmZmZmBjtAkxgEVg4tPkB56SYxCOwkQESLbOf76StACKwcWmSbMUC6SQwCKwc1QKAaL90kZjhAF9nO91NDPEDjpZvEIJA/QPyp8dJNkkFASgwCK4cWKECPwvUoXM8vQM3MzMzMzDNAcT0K16PQN0CDwMqhRdY7QIPAyqFFJkBA0SLb+X4aQkBQjZduEgNEQKrx0k1i0CpAlkOLbOf7MUA/NV66SWw2QLbz/dR4KTtAUI2XbhJjP0Dn+6nx0v1BQHsUrkfhOkRAqMZLN4lxRkA=\",\"dtype\":\"float64\",\"order\":\"little\",\"shape\":[64]}},\"selected\":{\"id\":\"3473\"},\"selection_policy\":{\"id\":\"3494\"}},\"id\":\"3472\",\"type\":\"ColumnDataSource\"},{\"attributes\":{\"fill_alpha\":{\"value\":0.1},\"fill_color\":{\"field\":\"zvalues\",\"transform\":{\"id\":\"3471\"}},\"height\":{\"field\":\"height\"},\"line_alpha\":{\"value\":0},\"line_color\":{\"value\":\"#1f77b4\"},\"width\":{\"field\":\"width\"},\"x\":{\"field\":\"n\"},\"y\":{\"field\":\"m\"}},\"id\":\"3476\",\"type\":\"Rect\"},{\"attributes\":{\"bottom_units\":\"screen\",\"fill_alpha\":0.5,\"fill_color\":\"lightgrey\",\"left_units\":\"screen\",\"level\":\"overlay\",\"line_alpha\":1.0,\"line_color\":\"black\",\"line_dash\":[4,4],\"line_width\":2,\"right_units\":\"screen\",\"syncable\":false,\"top_units\":\"screen\"},\"id\":\"3464\",\"type\":\"BoxAnnotation\"},{\"attributes\":{\"below\":[{\"id\":\"3451\"}],\"center\":[{\"id\":\"3454\"},{\"id\":\"3458\"}],\"height\":300,\"left\":[{\"id\":\"3455\"}],\"margin\":[5,5,5,5],\"min_border_bottom\":10,\"min_border_left\":10,\"min_border_right\":10,\"min_border_top\":10,\"renderers\":[{\"id\":\"3478\"}],\"sizing_mode\":\"fixed\",\"title\":{\"id\":\"3443\"},\"toolbar\":{\"id\":\"3465\"},\"width\":300,\"x_range\":{\"id\":\"3440\"},\"x_scale\":{\"id\":\"3447\"},\"y_range\":{\"id\":\"3441\"},\"y_scale\":{\"id\":\"3449\"}},\"id\":\"3442\",\"subtype\":\"Figure\",\"type\":\"Plot\"},{\"attributes\":{\"data_source\":{\"id\":\"3472\"},\"glyph\":{\"id\":\"3475\"},\"hover_glyph\":null,\"muted_glyph\":null,\"nonselection_glyph\":{\"id\":\"3476\"},\"selection_glyph\":{\"id\":\"3477\"},\"view\":{\"id\":\"3479\"}},\"id\":\"3478\",\"type\":\"GlyphRenderer\"},{\"attributes\":{},\"id\":\"3481\",\"type\":\"BasicTickFormatter\"},{\"attributes\":{\"fill_color\":{\"field\":\"zvalues\",\"transform\":{\"id\":\"3471\"}},\"height\":{\"field\":\"height\"},\"line_alpha\":{\"value\":0},\"line_color\":{\"value\":\"#1f77b4\"},\"width\":{\"field\":\"width\"},\"x\":{\"field\":\"n\"},\"y\":{\"field\":\"m\"}},\"id\":\"3477\",\"type\":\"Rect\"},{\"attributes\":{\"children\":[{\"id\":\"3439\"},{\"id\":\"3442\"},{\"id\":\"3506\"}],\"margin\":[0,0,0,0],\"name\":\"Row06802\",\"tags\":[\"embedded\"]},\"id\":\"3438\",\"type\":\"Row\"},{\"attributes\":{\"axis_label\":\"n\",\"formatter\":{\"id\":\"3481\"},\"major_label_policy\":{\"id\":\"3480\"},\"ticker\":{\"id\":\"3452\"}},\"id\":\"3451\",\"type\":\"LinearAxis\"},{\"attributes\":{\"end\":9.5,\"reset_end\":9.5,\"reset_start\":1.5,\"start\":1.5,\"tags\":[[[\"n\",\"n\",null]]]},\"id\":\"3440\",\"type\":\"Range1d\"},{\"attributes\":{},\"id\":\"3449\",\"type\":\"LinearScale\"},{\"attributes\":{},\"id\":\"3483\",\"type\":\"AllLabels\"},{\"attributes\":{},\"id\":\"3447\",\"type\":\"LinearScale\"},{\"attributes\":{},\"id\":\"3484\",\"type\":\"BasicTickFormatter\"},{\"attributes\":{\"margin\":[5,5,5,5],\"name\":\"HSpacer06806\",\"sizing_mode\":\"stretch_width\"},\"id\":\"3439\",\"type\":\"Spacer\"},{\"attributes\":{\"axis_label\":\"m\",\"formatter\":{\"id\":\"3484\"},\"major_label_policy\":{\"id\":\"3483\"},\"ticker\":{\"id\":\"3456\"}},\"id\":\"3455\",\"type\":\"LinearAxis\"},{\"attributes\":{\"active_multi\":null,\"tools\":[{\"id\":\"3459\"},{\"id\":\"3460\"},{\"id\":\"3461\"},{\"id\":\"3462\"},{\"id\":\"3463\"}]},\"id\":\"3465\",\"type\":\"Toolbar\"},{\"attributes\":{\"overlay\":{\"id\":\"3464\"}},\"id\":\"3462\",\"type\":\"BoxZoomTool\"},{\"attributes\":{\"axis\":{\"id\":\"3455\"},\"dimension\":1,\"grid_line_color\":null,\"ticker\":null},\"id\":\"3458\",\"type\":\"Grid\"},{\"attributes\":{},\"id\":\"3456\",\"type\":\"BasicTicker\"},{\"attributes\":{},\"id\":\"3460\",\"type\":\"PanTool\"},{\"attributes\":{},\"id\":\"3494\",\"type\":\"UnionRenderers\"},{\"attributes\":{},\"id\":\"3452\",\"type\":\"BasicTicker\"},{\"attributes\":{\"margin\":[5,5,5,5],\"name\":\"HSpacer06807\",\"sizing_mode\":\"stretch_width\"},\"id\":\"3506\",\"type\":\"Spacer\"},{\"attributes\":{},\"id\":\"3459\",\"type\":\"SaveTool\"},{\"attributes\":{},\"id\":\"3473\",\"type\":\"Selection\"},{\"attributes\":{\"high\":44.887,\"low\":3.012,\"nan_color\":\"white\",\"palette\":[\"#b3fef5\",\"#b0fef5\",\"#adfdf5\",\"#a9fcf5\",\"#a6fbf6\",\"#a3faf6\",\"#a0faf6\",\"#9df9f6\",\"#9af8f6\",\"#97f7f6\",\"#93f7f6\",\"#90f6f6\",\"#8df5f6\",\"#8af4f7\",\"#87f3f7\",\"#83f2f7\",\"#80f2f7\",\"#7df1f7\",\"#79f0f7\",\"#76eff7\",\"#73eef7\",\"#6fedf8\",\"#6cecf8\",\"#68ecf8\",\"#65ebf8\",\"#61eaf8\",\"#5ee9f8\",\"#5ae8f8\",\"#57e7f8\",\"#53e6f8\",\"#50e5f9\",\"#4ce4f9\",\"#49e3f9\",\"#45e2f9\",\"#42e1f9\",\"#3ee0f9\",\"#3bdff9\",\"#38def9\",\"#35ddf9\",\"#32dcf9\",\"#30dbfa\",\"#2ed9fa\",\"#2dd8fa\",\"#2cd7fa\",\"#2bd6fa\",\"#2bd5fa\",\"#2ad3fa\",\"#2ad2fa\",\"#29d1fa\",\"#29d0fb\",\"#29cffb\",\"#28cdfb\",\"#28ccfb\",\"#28cbfb\",\"#28cafb\",\"#28c8fb\",\"#28c7fb\",\"#29c6fb\",\"#29c5fb\",\"#29c4fb\",\"#29c2fb\",\"#2ac1fb\",\"#2ac0fb\",\"#2bbffb\",\"#2bbdfc\",\"#2cbcfc\",\"#2dbbfc\",\"#2db9fc\",\"#2eb8fc\",\"#2fb7fc\",\"#2fb6fc\",\"#30b4fc\",\"#31b3fc\",\"#32b2fc\",\"#32b0fc\",\"#33affc\",\"#33aefc\",\"#34adfc\",\"#34abfc\",\"#34aafc\",\"#35a9fc\",\"#35a8fc\",\"#35a6fc\",\"#35a5fc\",\"#35a4fc\",\"#35a3fc\",\"#35a1fc\",\"#35a0fc\",\"#359ffc\",\"#359dfc\",\"#359cfc\",\"#359bfc\",\"#349afd\",\"#3498fd\",\"#3497fd\",\"#3396fd\",\"#3395fd\",\"#3293fd\",\"#3292fd\",\"#3191fd\",\"#3090fd\",\"#308ffd\",\"#2f8dfd\",\"#2f8cfd\",\"#2e8bfd\",\"#2e8afd\",\"#2d88fd\",\"#2d87fd\",\"#2c86fd\",\"#2c84fd\",\"#2c83fd\",\"#2c82fd\",\"#2b81fd\",\"#2b7ffd\",\"#2b7efd\",\"#2b7dfd\",\"#2b7bfd\",\"#2b7afd\",\"#2b79fd\",\"#2b77fd\",\"#2b76fd\",\"#2b75fd\",\"#2b73fd\",\"#2c72fd\",\"#2c71fd\",\"#2c6ffd\",\"#2c6efd\",\"#2d6cfd\",\"#2d6bfd\",\"#2d6afc\",\"#2e68fc\",\"#2e67fc\",\"#2e65fc\",\"#2e64fc\",\"#2f62fc\",\"#2f61fc\",\"#2f5ffc\",\"#2f5efc\",\"#2f5dfc\",\"#2f5bfc\",\"#2f5afc\",\"#2f58fb\",\"#2f57fb\",\"#2f55fb\",\"#2f53fb\",\"#2f52fb\",\"#2f50fb\",\"#2f4ffb\",\"#2f4dfb\",\"#2e4cfb\",\"#2e4afb\",\"#2e48fb\",\"#2e47fa\",\"#2d45fa\",\"#2d43fa\",\"#2d42fa\",\"#2d40fa\",\"#2c3efa\",\"#2c3dfa\",\"#2b3bf9\",\"#2b39f9\",\"#2a37f9\",\"#2a36f8\",\"#2934f8\",\"#2832f7\",\"#2831f7\",\"#272ff6\",\"#262ef5\",\"#252cf5\",\"#252af4\",\"#2429f3\",\"#2327f2\",\"#2226f1\",\"#2124f0\",\"#2023ef\",\"#1f22ee\",\"#1e20ed\",\"#1d1feb\",\"#1c1eea\",\"#1b1ce9\",\"#1a1be7\",\"#181ae6\",\"#1719e5\",\"#1618e3\",\"#1417e1\",\"#1316e0\",\"#1215de\",\"#1014dc\",\"#0f13db\",\"#0e12d9\",\"#0d11d7\",\"#0c10d5\",\"#0b0fd3\",\"#0a0ed1\",\"#090dd0\",\"#080dce\",\"#080ccc\",\"#070bca\",\"#070ac8\",\"#0709c6\",\"#0708c4\",\"#0707c2\",\"#0707bf\",\"#0806bd\",\"#0806bb\",\"#0905b9\",\"#0904b7\",\"#0a04b5\",\"#0a04b2\",\"#0b03b0\",\"#0c03ae\",\"#0d02ab\",\"#0e02a9\",\"#0e02a7\",\"#0f02a4\",\"#0f01a2\",\"#1001a0\",\"#10019d\",\"#10019b\",\"#100199\",\"#100197\",\"#100194\",\"#0f0192\",\"#0f0190\",\"#0f018e\",\"#0e018b\",\"#0e0189\",\"#0d0187\",\"#0d0185\",\"#0c0183\",\"#0b0181\",\"#0b017e\",\"#0a017c\",\"#09017a\",\"#090178\",\"#080276\",\"#070274\",\"#060272\",\"#060270\",\"#05026e\",\"#04026c\",\"#030269\",\"#030267\",\"#020265\",\"#010263\",\"#010261\",\"#00025f\",\"#00025d\",\"#00025b\",\"#000259\",\"#000257\",\"#000255\",\"#000154\",\"#000152\",\"#000150\",\"#00004e\"]},\"id\":\"3471\",\"type\":\"LinearColorMapper\"},{\"attributes\":{},\"id\":\"3463\",\"type\":\"ResetTool\"},{\"attributes\":{},\"id\":\"3461\",\"type\":\"WheelZoomTool\"},{\"attributes\":{\"axis\":{\"id\":\"3451\"},\"grid_line_color\":null,\"ticker\":null},\"id\":\"3454\",\"type\":\"Grid\"}],\"root_ids\":[\"3438\"]},\"title\":\"Bokeh Application\",\"version\":\"2.3.2\"}};\n",
       "    var render_items = [{\"docid\":\"e7b42908-a217-4d82-8639-f0ddd1c0f44e\",\"root_ids\":[\"3438\"],\"roots\":{\"3438\":\"51bd7514-fe33-4b0e-afa9-8f9db4fe5e68\"}}];\n",
       "    root.Bokeh.embed.embed_items_notebook(docs_json, render_items);\n",
       "  }\n",
       "  if (root.Bokeh !== undefined && root.Bokeh.Panel !== undefined) {\n",
       "    embed_document(root);\n",
       "  } else {\n",
       "    var attempts = 0;\n",
       "    var timer = setInterval(function(root) {\n",
       "      if (root.Bokeh !== undefined && root.Bokeh.Panel !== undefined) {\n",
       "        clearInterval(timer);\n",
       "        embed_document(root);\n",
       "      } else if (document.readyState == \"complete\") {\n",
       "        attempts++;\n",
       "        if (attempts > 100) {\n",
       "          clearInterval(timer);\n",
       "          console.log(\"Bokeh: ERROR: Unable to run BokehJS code because BokehJS library is missing\");\n",
       "        }\n",
       "      }\n",
       "    }, 10, root)\n",
       "  }\n",
       "})(window);</script>"
      ],
      "text/plain": [
       ":HeatMap   [n,m]   (mean)"
      ]
     },
     "execution_count": 66,
     "metadata": {
      "application/vnd.holoviews_exec.v0+json": {
       "id": "3438"
      }
     },
     "output_type": "execute_result"
    }
   ],
   "source": [
    "hv.HeatMap(df)"
   ]
  },
  {
   "cell_type": "code",
   "execution_count": 64,
   "id": "925f9fbd-f023-4638-9a94-ab84c5270673",
   "metadata": {},
   "outputs": [
    {
     "ename": "DataError",
     "evalue": "Image type expects gridded data, PandasInterface is columnar. To display columnar data as gridded use the HeatMap element or aggregate the data (e.g. using rasterize or np.histogram2d).",
     "output_type": "error",
     "traceback": [
      "\u001b[0;31m---------------------------------------------------------------------------\u001b[0m",
      "\u001b[0;31mDataError\u001b[0m                                 Traceback (most recent call last)",
      "\u001b[0;32m<ipython-input-64-237358c3c0f6>\u001b[0m in \u001b[0;36m<module>\u001b[0;34m\u001b[0m\n\u001b[0;32m----> 1\u001b[0;31m hv.Image(df).opts(\n\u001b[0m\u001b[1;32m      2\u001b[0m             \u001b[0mtitle\u001b[0m\u001b[0;34m=\u001b[0m\u001b[0;34m\"Cost of Returns and Seller Fee ODE\"\u001b[0m\u001b[0;34m,\u001b[0m\u001b[0;34m\u001b[0m\u001b[0;34m\u001b[0m\u001b[0m\n\u001b[1;32m      3\u001b[0m             \u001b[0mheight\u001b[0m\u001b[0;34m=\u001b[0m\u001b[0;36m500\u001b[0m\u001b[0;34m,\u001b[0m \u001b[0mwidth\u001b[0m\u001b[0;34m=\u001b[0m\u001b[0;36m650\u001b[0m\u001b[0;34m,\u001b[0m\u001b[0;34m\u001b[0m\u001b[0;34m\u001b[0m\u001b[0m\n\u001b[1;32m      4\u001b[0m             \u001b[0mcolorbar\u001b[0m\u001b[0;34m=\u001b[0m\u001b[0;32mTrue\u001b[0m\u001b[0;34m,\u001b[0m \u001b[0mclabel\u001b[0m\u001b[0;34m=\u001b[0m\u001b[0;34m'Delta Network Vale Per Timestep'\u001b[0m\u001b[0;34m,\u001b[0m \u001b[0mcmap\u001b[0m\u001b[0;34m=\u001b[0m\u001b[0mself\u001b[0m\u001b[0;34m.\u001b[0m\u001b[0mcolormap\u001b[0m\u001b[0;34m,\u001b[0m \u001b[0mcolor_levels\u001b[0m\u001b[0;34m=\u001b[0m\u001b[0mcolor_levels\u001b[0m\u001b[0;34m,\u001b[0m\u001b[0;34m\u001b[0m\u001b[0;34m\u001b[0m\u001b[0m\n\u001b[1;32m      5\u001b[0m             \u001b[0mtools\u001b[0m\u001b[0;34m=\u001b[0m\u001b[0;34m[\u001b[0m\u001b[0;34m'hover'\u001b[0m\u001b[0;34m]\u001b[0m\u001b[0;34m\u001b[0m\u001b[0;34m\u001b[0m\u001b[0m\n",
      "\u001b[0;32m~/.local/share/anaconda3/lib/python3.8/site-packages/holoviews/element/raster.py\u001b[0m in \u001b[0;36m__init__\u001b[0;34m(self, data, kdims, vdims, bounds, extents, xdensity, ydensity, rtol, **params)\u001b[0m\n\u001b[1;32m    292\u001b[0m         \u001b[0mDataset\u001b[0m\u001b[0;34m.\u001b[0m\u001b[0m__init__\u001b[0m\u001b[0;34m(\u001b[0m\u001b[0mself\u001b[0m\u001b[0;34m,\u001b[0m \u001b[0mdata\u001b[0m\u001b[0;34m,\u001b[0m \u001b[0mkdims\u001b[0m\u001b[0;34m=\u001b[0m\u001b[0mkdims\u001b[0m\u001b[0;34m,\u001b[0m \u001b[0mvdims\u001b[0m\u001b[0;34m=\u001b[0m\u001b[0mvdims\u001b[0m\u001b[0;34m,\u001b[0m \u001b[0mextents\u001b[0m\u001b[0;34m=\u001b[0m\u001b[0mextents\u001b[0m\u001b[0;34m,\u001b[0m \u001b[0;34m**\u001b[0m\u001b[0mparams\u001b[0m\u001b[0;34m)\u001b[0m\u001b[0;34m\u001b[0m\u001b[0;34m\u001b[0m\u001b[0m\n\u001b[1;32m    293\u001b[0m         \u001b[0;32mif\u001b[0m \u001b[0;32mnot\u001b[0m \u001b[0mself\u001b[0m\u001b[0;34m.\u001b[0m\u001b[0minterface\u001b[0m\u001b[0;34m.\u001b[0m\u001b[0mgridded\u001b[0m\u001b[0;34m:\u001b[0m\u001b[0;34m\u001b[0m\u001b[0;34m\u001b[0m\u001b[0m\n\u001b[0;32m--> 294\u001b[0;31m             raise DataError(\"%s type expects gridded data, %s is columnar. \"\n\u001b[0m\u001b[1;32m    295\u001b[0m                             \u001b[0;34m\"To display columnar data as gridded use the HeatMap \"\u001b[0m\u001b[0;34m\u001b[0m\u001b[0;34m\u001b[0m\u001b[0m\n\u001b[1;32m    296\u001b[0m                             \u001b[0;34m\"element or aggregate the data (e.g. using rasterize \"\u001b[0m\u001b[0;34m\u001b[0m\u001b[0;34m\u001b[0m\u001b[0m\n",
      "\u001b[0;31mDataError\u001b[0m: Image type expects gridded data, PandasInterface is columnar. To display columnar data as gridded use the HeatMap element or aggregate the data (e.g. using rasterize or np.histogram2d)."
     ]
    }
   ],
   "source": [
    "hv.Image(df).opts(\n",
    "            title=\"Cost of Returns and Seller Fee ODE\",\n",
    "            height=500, width=650,\n",
    "            colorbar=True, clabel='Delta Network Vale Per Timestep', cmap=self.colormap, color_levels=color_levels,\n",
    "            tools=['hover']\n",
    "        )"
   ]
  },
  {
   "cell_type": "code",
   "execution_count": null,
   "id": "d9228581-625b-4c1a-aae0-fff9e5d3d3e5",
   "metadata": {},
   "outputs": [],
   "source": [
    "    def get_view_components(self):\n",
    "        fee_range, cost_range, value_delta  = s.get_value_delta_phase()\n",
    "        dataset = hv.Dataset((fee_range, cost_range, value_delta), ['Protocol Fee', 'Cost of a return'], 'Delta Network Rewards')\n",
    "        df = dataset.dframe()\n",
    "        boundary = df[abs(df['Delta Network Rewards']) < np.diff(value_delta).mean()]\n",
    "        color_bound = max(abs(df['Delta Network Rewards']))\n",
    "        return dataset, boundary, color_bound\n",
    "    \n",
    "    def view_value_delta_phase(self):\n",
    "        dataset, boundary, color_bound = self.get_view_components()\n",
    "        color_levels = list(np.linspace(-color_bound, color_bound, 120))\n",
    "        value_delta_phase_view = hv.Image(dataset).opts(\n",
    "            title=\"Cost of Returns and Seller Fee ODE\",\n",
    "            height=500, width=650,\n",
    "            colorbar=True, clabel='Delta Network Vale Per Timestep', cmap=self.colormap, color_levels=color_levels,\n",
    "            tools=['hover']\n",
    "        )\n",
    "        boundary_view = boundary.hvplot.line(x='Protocol Fee', y='Cost of a return', color='white', line_width=16, alpha=0.5)\n",
    "        point_view = pd.DataFrame([s.seller_fee_percentage, s.average_cost_of_returns]).T.hvplot.scatter(x='0', y='1')\n",
    "        return value_delta_phase_view * boundary_view * point_view"
   ]
  }
 ],
 "metadata": {
  "kernelspec": {
   "display_name": "Python 3",
   "language": "python",
   "name": "python3"
  },
  "language_info": {
   "codemirror_mode": {
    "name": "ipython",
    "version": 3
   },
   "file_extension": ".py",
   "mimetype": "text/x-python",
   "name": "python",
   "nbconvert_exporter": "python",
   "pygments_lexer": "ipython3",
   "version": "3.8.8"
  }
 },
 "nbformat": 4,
 "nbformat_minor": 5
}
